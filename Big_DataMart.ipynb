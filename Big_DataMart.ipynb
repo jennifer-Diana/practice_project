{
 "cells": [
  {
   "cell_type": "code",
   "execution_count": 468,
   "id": "a76034a5",
   "metadata": {},
   "outputs": [],
   "source": [
    "import pandas as pd\n",
    "import numpy as np\n",
    "import seaborn as sns\n",
    "from scipy import stats\n",
    "import warnings \n",
    "warnings.filterwarnings('ignore')\n",
    "from matplotlib import pyplot as plt\n",
    "##from statsmodel.graphics.gofplots import qqplot\n",
    "from scipy.stats import zscore"
   ]
  },
  {
   "cell_type": "code",
   "execution_count": 469,
   "id": "6880a302",
   "metadata": {},
   "outputs": [
    {
     "data": {
      "text/html": [
       "<div>\n",
       "<style scoped>\n",
       "    .dataframe tbody tr th:only-of-type {\n",
       "        vertical-align: middle;\n",
       "    }\n",
       "\n",
       "    .dataframe tbody tr th {\n",
       "        vertical-align: top;\n",
       "    }\n",
       "\n",
       "    .dataframe thead th {\n",
       "        text-align: right;\n",
       "    }\n",
       "</style>\n",
       "<table border=\"1\" class=\"dataframe\">\n",
       "  <thead>\n",
       "    <tr style=\"text-align: right;\">\n",
       "      <th></th>\n",
       "      <th>Item_Identifier</th>\n",
       "      <th>Item_Weight</th>\n",
       "      <th>Item_Fat_Content</th>\n",
       "      <th>Item_Visibility</th>\n",
       "      <th>Item_Type</th>\n",
       "      <th>Item_MRP</th>\n",
       "      <th>Outlet_Identifier</th>\n",
       "      <th>Outlet_Establishment_Year</th>\n",
       "      <th>Outlet_Size</th>\n",
       "      <th>Outlet_Location_Type</th>\n",
       "      <th>Outlet_Type</th>\n",
       "      <th>Item_Outlet_Sales</th>\n",
       "    </tr>\n",
       "  </thead>\n",
       "  <tbody>\n",
       "    <tr>\n",
       "      <th>0</th>\n",
       "      <td>FDA15</td>\n",
       "      <td>9.30</td>\n",
       "      <td>Low Fat</td>\n",
       "      <td>0.016047</td>\n",
       "      <td>Dairy</td>\n",
       "      <td>249.8092</td>\n",
       "      <td>OUT049</td>\n",
       "      <td>1999</td>\n",
       "      <td>Medium</td>\n",
       "      <td>Tier 1</td>\n",
       "      <td>Supermarket Type1</td>\n",
       "      <td>3735.1380</td>\n",
       "    </tr>\n",
       "    <tr>\n",
       "      <th>1</th>\n",
       "      <td>DRC01</td>\n",
       "      <td>5.92</td>\n",
       "      <td>Regular</td>\n",
       "      <td>0.019278</td>\n",
       "      <td>Soft Drinks</td>\n",
       "      <td>48.2692</td>\n",
       "      <td>OUT018</td>\n",
       "      <td>2009</td>\n",
       "      <td>Medium</td>\n",
       "      <td>Tier 3</td>\n",
       "      <td>Supermarket Type2</td>\n",
       "      <td>443.4228</td>\n",
       "    </tr>\n",
       "    <tr>\n",
       "      <th>2</th>\n",
       "      <td>FDN15</td>\n",
       "      <td>17.50</td>\n",
       "      <td>Low Fat</td>\n",
       "      <td>0.016760</td>\n",
       "      <td>Meat</td>\n",
       "      <td>141.6180</td>\n",
       "      <td>OUT049</td>\n",
       "      <td>1999</td>\n",
       "      <td>Medium</td>\n",
       "      <td>Tier 1</td>\n",
       "      <td>Supermarket Type1</td>\n",
       "      <td>2097.2700</td>\n",
       "    </tr>\n",
       "    <tr>\n",
       "      <th>3</th>\n",
       "      <td>FDX07</td>\n",
       "      <td>19.20</td>\n",
       "      <td>Regular</td>\n",
       "      <td>0.000000</td>\n",
       "      <td>Fruits and Vegetables</td>\n",
       "      <td>182.0950</td>\n",
       "      <td>OUT010</td>\n",
       "      <td>1998</td>\n",
       "      <td>NaN</td>\n",
       "      <td>Tier 3</td>\n",
       "      <td>Grocery Store</td>\n",
       "      <td>732.3800</td>\n",
       "    </tr>\n",
       "    <tr>\n",
       "      <th>4</th>\n",
       "      <td>NCD19</td>\n",
       "      <td>8.93</td>\n",
       "      <td>Low Fat</td>\n",
       "      <td>0.000000</td>\n",
       "      <td>Household</td>\n",
       "      <td>53.8614</td>\n",
       "      <td>OUT013</td>\n",
       "      <td>1987</td>\n",
       "      <td>High</td>\n",
       "      <td>Tier 3</td>\n",
       "      <td>Supermarket Type1</td>\n",
       "      <td>994.7052</td>\n",
       "    </tr>\n",
       "  </tbody>\n",
       "</table>\n",
       "</div>"
      ],
      "text/plain": [
       "  Item_Identifier  Item_Weight Item_Fat_Content  Item_Visibility  \\\n",
       "0           FDA15         9.30          Low Fat         0.016047   \n",
       "1           DRC01         5.92          Regular         0.019278   \n",
       "2           FDN15        17.50          Low Fat         0.016760   \n",
       "3           FDX07        19.20          Regular         0.000000   \n",
       "4           NCD19         8.93          Low Fat         0.000000   \n",
       "\n",
       "               Item_Type  Item_MRP Outlet_Identifier  \\\n",
       "0                  Dairy  249.8092            OUT049   \n",
       "1            Soft Drinks   48.2692            OUT018   \n",
       "2                   Meat  141.6180            OUT049   \n",
       "3  Fruits and Vegetables  182.0950            OUT010   \n",
       "4              Household   53.8614            OUT013   \n",
       "\n",
       "   Outlet_Establishment_Year Outlet_Size Outlet_Location_Type  \\\n",
       "0                       1999      Medium               Tier 1   \n",
       "1                       2009      Medium               Tier 3   \n",
       "2                       1999      Medium               Tier 1   \n",
       "3                       1998         NaN               Tier 3   \n",
       "4                       1987        High               Tier 3   \n",
       "\n",
       "         Outlet_Type  Item_Outlet_Sales  \n",
       "0  Supermarket Type1          3735.1380  \n",
       "1  Supermarket Type2           443.4228  \n",
       "2  Supermarket Type1          2097.2700  \n",
       "3      Grocery Store           732.3800  \n",
       "4  Supermarket Type1           994.7052  "
      ]
     },
     "execution_count": 469,
     "metadata": {},
     "output_type": "execute_result"
    }
   ],
   "source": [
    "df_train=pd.read_csv(\"E:\\\\bigdatamart_Train.csv\")\n",
    "df_train.head(5)\n",
    "\n"
   ]
  },
  {
   "cell_type": "markdown",
   "id": "b58a1d9b",
   "metadata": {},
   "source": [
    "training data set loaded"
   ]
  },
  {
   "cell_type": "code",
   "execution_count": 470,
   "id": "0c283451",
   "metadata": {},
   "outputs": [
    {
     "data": {
      "text/html": [
       "<div>\n",
       "<style scoped>\n",
       "    .dataframe tbody tr th:only-of-type {\n",
       "        vertical-align: middle;\n",
       "    }\n",
       "\n",
       "    .dataframe tbody tr th {\n",
       "        vertical-align: top;\n",
       "    }\n",
       "\n",
       "    .dataframe thead th {\n",
       "        text-align: right;\n",
       "    }\n",
       "</style>\n",
       "<table border=\"1\" class=\"dataframe\">\n",
       "  <thead>\n",
       "    <tr style=\"text-align: right;\">\n",
       "      <th></th>\n",
       "      <th>Item_Identifier</th>\n",
       "      <th>Item_Weight</th>\n",
       "      <th>Item_Fat_Content</th>\n",
       "      <th>Item_Visibility</th>\n",
       "      <th>Item_Type</th>\n",
       "      <th>Item_MRP</th>\n",
       "      <th>Outlet_Identifier</th>\n",
       "      <th>Outlet_Establishment_Year</th>\n",
       "      <th>Outlet_Size</th>\n",
       "      <th>Outlet_Location_Type</th>\n",
       "      <th>Outlet_Type</th>\n",
       "    </tr>\n",
       "  </thead>\n",
       "  <tbody>\n",
       "    <tr>\n",
       "      <th>0</th>\n",
       "      <td>FDW58</td>\n",
       "      <td>20.750</td>\n",
       "      <td>Low Fat</td>\n",
       "      <td>0.007565</td>\n",
       "      <td>Snack Foods</td>\n",
       "      <td>107.8622</td>\n",
       "      <td>OUT049</td>\n",
       "      <td>1999</td>\n",
       "      <td>Medium</td>\n",
       "      <td>Tier 1</td>\n",
       "      <td>Supermarket Type1</td>\n",
       "    </tr>\n",
       "    <tr>\n",
       "      <th>1</th>\n",
       "      <td>FDW14</td>\n",
       "      <td>8.300</td>\n",
       "      <td>reg</td>\n",
       "      <td>0.038428</td>\n",
       "      <td>Dairy</td>\n",
       "      <td>87.3198</td>\n",
       "      <td>OUT017</td>\n",
       "      <td>2007</td>\n",
       "      <td>NaN</td>\n",
       "      <td>Tier 2</td>\n",
       "      <td>Supermarket Type1</td>\n",
       "    </tr>\n",
       "    <tr>\n",
       "      <th>2</th>\n",
       "      <td>NCN55</td>\n",
       "      <td>14.600</td>\n",
       "      <td>Low Fat</td>\n",
       "      <td>0.099575</td>\n",
       "      <td>Others</td>\n",
       "      <td>241.7538</td>\n",
       "      <td>OUT010</td>\n",
       "      <td>1998</td>\n",
       "      <td>NaN</td>\n",
       "      <td>Tier 3</td>\n",
       "      <td>Grocery Store</td>\n",
       "    </tr>\n",
       "    <tr>\n",
       "      <th>3</th>\n",
       "      <td>FDQ58</td>\n",
       "      <td>7.315</td>\n",
       "      <td>Low Fat</td>\n",
       "      <td>0.015388</td>\n",
       "      <td>Snack Foods</td>\n",
       "      <td>155.0340</td>\n",
       "      <td>OUT017</td>\n",
       "      <td>2007</td>\n",
       "      <td>NaN</td>\n",
       "      <td>Tier 2</td>\n",
       "      <td>Supermarket Type1</td>\n",
       "    </tr>\n",
       "    <tr>\n",
       "      <th>4</th>\n",
       "      <td>FDY38</td>\n",
       "      <td>NaN</td>\n",
       "      <td>Regular</td>\n",
       "      <td>0.118599</td>\n",
       "      <td>Dairy</td>\n",
       "      <td>234.2300</td>\n",
       "      <td>OUT027</td>\n",
       "      <td>1985</td>\n",
       "      <td>Medium</td>\n",
       "      <td>Tier 3</td>\n",
       "      <td>Supermarket Type3</td>\n",
       "    </tr>\n",
       "  </tbody>\n",
       "</table>\n",
       "</div>"
      ],
      "text/plain": [
       "  Item_Identifier  Item_Weight Item_Fat_Content  Item_Visibility    Item_Type  \\\n",
       "0           FDW58       20.750          Low Fat         0.007565  Snack Foods   \n",
       "1           FDW14        8.300              reg         0.038428        Dairy   \n",
       "2           NCN55       14.600          Low Fat         0.099575       Others   \n",
       "3           FDQ58        7.315          Low Fat         0.015388  Snack Foods   \n",
       "4           FDY38          NaN          Regular         0.118599        Dairy   \n",
       "\n",
       "   Item_MRP Outlet_Identifier  Outlet_Establishment_Year Outlet_Size  \\\n",
       "0  107.8622            OUT049                       1999      Medium   \n",
       "1   87.3198            OUT017                       2007         NaN   \n",
       "2  241.7538            OUT010                       1998         NaN   \n",
       "3  155.0340            OUT017                       2007         NaN   \n",
       "4  234.2300            OUT027                       1985      Medium   \n",
       "\n",
       "  Outlet_Location_Type        Outlet_Type  \n",
       "0               Tier 1  Supermarket Type1  \n",
       "1               Tier 2  Supermarket Type1  \n",
       "2               Tier 3      Grocery Store  \n",
       "3               Tier 2  Supermarket Type1  \n",
       "4               Tier 3  Supermarket Type3  "
      ]
     },
     "execution_count": 470,
     "metadata": {},
     "output_type": "execute_result"
    }
   ],
   "source": [
    "df_test=pd.read_csv(\"E:\\\\bigdatamart_Test.csv\")\n",
    "df_test.head(5)"
   ]
  },
  {
   "cell_type": "markdown",
   "id": "96ec65f9",
   "metadata": {},
   "source": [
    "loading test dataset"
   ]
  },
  {
   "cell_type": "code",
   "execution_count": 471,
   "id": "3968b661",
   "metadata": {},
   "outputs": [
    {
     "data": {
      "text/plain": [
       "Index(['Item_Identifier', 'Item_Weight', 'Item_Fat_Content', 'Item_Visibility',\n",
       "       'Item_Type', 'Item_MRP', 'Outlet_Identifier',\n",
       "       'Outlet_Establishment_Year', 'Outlet_Size', 'Outlet_Location_Type',\n",
       "       'Outlet_Type', 'Item_Outlet_Sales'],\n",
       "      dtype='object')"
      ]
     },
     "execution_count": 471,
     "metadata": {},
     "output_type": "execute_result"
    }
   ],
   "source": [
    "df_train.columns"
   ]
  },
  {
   "cell_type": "code",
   "execution_count": 472,
   "id": "5319a1e5",
   "metadata": {},
   "outputs": [
    {
     "data": {
      "text/plain": [
       "(5681, 11)"
      ]
     },
     "execution_count": 472,
     "metadata": {},
     "output_type": "execute_result"
    }
   ],
   "source": [
    "df_test.shape"
   ]
  },
  {
   "cell_type": "code",
   "execution_count": 473,
   "id": "a35226a7",
   "metadata": {},
   "outputs": [
    {
     "data": {
      "text/plain": [
       "(8523, 12)"
      ]
     },
     "execution_count": 473,
     "metadata": {},
     "output_type": "execute_result"
    }
   ],
   "source": [
    "df_test.shape\n",
    "df_train.shape"
   ]
  },
  {
   "cell_type": "markdown",
   "id": "e4d801e4",
   "metadata": {},
   "source": [
    "In this data set both test and train data set has 8523 rows and 12 coloumns"
   ]
  },
  {
   "cell_type": "code",
   "execution_count": 474,
   "id": "4adecb82",
   "metadata": {},
   "outputs": [
    {
     "data": {
      "text/plain": [
       "Item_Identifier               object\n",
       "Item_Weight                  float64\n",
       "Item_Fat_Content              object\n",
       "Item_Visibility              float64\n",
       "Item_Type                     object\n",
       "Item_MRP                     float64\n",
       "Outlet_Identifier             object\n",
       "Outlet_Establishment_Year      int64\n",
       "Outlet_Size                   object\n",
       "Outlet_Location_Type          object\n",
       "Outlet_Type                   object\n",
       "dtype: object"
      ]
     },
     "execution_count": 474,
     "metadata": {},
     "output_type": "execute_result"
    }
   ],
   "source": [
    "df_train.dtypes\n",
    "df_test.dtypes"
   ]
  },
  {
   "cell_type": "markdown",
   "id": "0e445b76",
   "metadata": {},
   "source": [
    "In this dataset it 12 features,\n",
    "\n",
    "*Outlet_Establishment_Year is integer type\n",
    "\n",
    "*item_weight,item _mrp,item_visibility are float type\n",
    "\n",
    "*remaining all are object type\n"
   ]
  },
  {
   "cell_type": "markdown",
   "id": "5a41e883",
   "metadata": {},
   "source": [
    "__Handling missing values in train dataset"
   ]
  },
  {
   "cell_type": "markdown",
   "id": "85b8b2c7",
   "metadata": {},
   "source": [
    "Training a model with a data set that has a lot of missing values can drastically impact the quality of machine learning model so i'm finding null values in the dataset"
   ]
  },
  {
   "cell_type": "code",
   "execution_count": 475,
   "id": "f990b716",
   "metadata": {},
   "outputs": [
    {
     "data": {
      "text/plain": [
       "Item_Identifier                 0\n",
       "Item_Weight                  1463\n",
       "Item_Fat_Content                0\n",
       "Item_Visibility                 0\n",
       "Item_Type                       0\n",
       "Item_MRP                        0\n",
       "Outlet_Identifier               0\n",
       "Outlet_Establishment_Year       0\n",
       "Outlet_Size                  2410\n",
       "Outlet_Location_Type            0\n",
       "Outlet_Type                     0\n",
       "Item_Outlet_Sales               0\n",
       "dtype: int64"
      ]
     },
     "execution_count": 475,
     "metadata": {},
     "output_type": "execute_result"
    }
   ],
   "source": [
    "df_train.isnull().sum()"
   ]
  },
  {
   "cell_type": "markdown",
   "id": "f4e3daac",
   "metadata": {},
   "source": [
    "The feature item_weight  has 1463 null values and outlet feature has 2410 null values"
   ]
  },
  {
   "cell_type": "code",
   "execution_count": 476,
   "id": "aeebad25",
   "metadata": {},
   "outputs": [
    {
     "data": {
      "text/plain": [
       "<AxesSubplot:xlabel='Item_Weight', ylabel='Density'>"
      ]
     },
     "execution_count": 476,
     "metadata": {},
     "output_type": "execute_result"
    },
    {
     "data": {
      "image/png": "[encoded data removed]",
      "text/plain": [
       "<Figure size 360x360 with 1 Axes>"
      ]
     },
     "metadata": {
      "needs_background": "light"
     },
     "output_type": "display_data"
    }
   ],
   "source": [
    "plt.figure(figsize=(5,5))\n",
    "sns.distplot(df_train.Item_Weight,color=\"red\",kde=True)"
   ]
  },
  {
   "cell_type": "markdown",
   "id": "9fb54d25",
   "metadata": {},
   "source": [
    "The feature Item_weight is not having normal curve so i'm using median to fill the null values of item weight"
   ]
  },
  {
   "cell_type": "code",
   "execution_count": 477,
   "id": "08c4f72f",
   "metadata": {},
   "outputs": [],
   "source": [
    "data_mod=df_train"
   ]
  },
  {
   "cell_type": "code",
   "execution_count": 478,
   "id": "3b57f454",
   "metadata": {},
   "outputs": [],
   "source": [
    "data_mod['Item_Weight'].fillna((data_mod['Item_Weight'].mean()), inplace=True)"
   ]
  },
  {
   "cell_type": "code",
   "execution_count": 479,
   "id": "4f283125",
   "metadata": {},
   "outputs": [
    {
     "data": {
      "text/plain": [
       "Item_Identifier                 0\n",
       "Item_Weight                     0\n",
       "Item_Fat_Content                0\n",
       "Item_Visibility                 0\n",
       "Item_Type                       0\n",
       "Item_MRP                        0\n",
       "Outlet_Identifier               0\n",
       "Outlet_Establishment_Year       0\n",
       "Outlet_Size                  2410\n",
       "Outlet_Location_Type            0\n",
       "Outlet_Type                     0\n",
       "Item_Outlet_Sales               0\n",
       "dtype: int64"
      ]
     },
     "execution_count": 479,
     "metadata": {},
     "output_type": "execute_result"
    }
   ],
   "source": [
    "data_mod.isnull().sum()"
   ]
  },
  {
   "cell_type": "code",
   "execution_count": 480,
   "id": "2fb088af",
   "metadata": {},
   "outputs": [
    {
     "data": {
      "text/plain": [
       "array(['Medium', nan, 'High', 'Small'], dtype=object)"
      ]
     },
     "execution_count": 480,
     "metadata": {},
     "output_type": "execute_result"
    }
   ],
   "source": [
    "df_train['Outlet_Size'].unique()"
   ]
  },
  {
   "cell_type": "markdown",
   "id": "4d8bebb6",
   "metadata": {},
   "source": [
    "___Outlet_size feature is a categorical data so I'm using mode to fill the null values"
   ]
  },
  {
   "cell_type": "code",
   "execution_count": 481,
   "id": "92390272",
   "metadata": {},
   "outputs": [],
   "source": [
    "data_mod['Outlet_Size']=data_mod['Outlet_Size'].fillna(data_mod['Outlet_Size'].mode().iloc[0])"
   ]
  },
  {
   "cell_type": "code",
   "execution_count": 482,
   "id": "d69c141f",
   "metadata": {},
   "outputs": [
    {
     "data": {
      "text/plain": [
       "array(['Medium', 'High', 'Small'], dtype=object)"
      ]
     },
     "execution_count": 482,
     "metadata": {},
     "output_type": "execute_result"
    }
   ],
   "source": [
    "df_train['Outlet_Size'].unique()"
   ]
  },
  {
   "cell_type": "markdown",
   "id": "4faa11d3",
   "metadata": {},
   "source": [
    "all null values are removed"
   ]
  },
  {
   "cell_type": "markdown",
   "id": "d33ca74d",
   "metadata": {},
   "source": [
    "##Univariate Analysis"
   ]
  },
  {
   "cell_type": "code",
   "execution_count": 483,
   "id": "b64c6b0e",
   "metadata": {},
   "outputs": [
    {
     "data": {
      "text/plain": [
       "array(['Supermarket Type1', 'Supermarket Type2', 'Grocery Store',\n",
       "       'Supermarket Type3'], dtype=object)"
      ]
     },
     "execution_count": 483,
     "metadata": {},
     "output_type": "execute_result"
    }
   ],
   "source": [
    "df_train['Outlet_Type'].unique()"
   ]
  },
  {
   "cell_type": "code",
   "execution_count": 484,
   "id": "57c6d84a",
   "metadata": {},
   "outputs": [
    {
     "data": {
      "text/plain": [
       "array(['Dairy', 'Soft Drinks', 'Meat', 'Fruits and Vegetables',\n",
       "       'Household', 'Baking Goods', 'Snack Foods', 'Frozen Foods',\n",
       "       'Breakfast', 'Health and Hygiene', 'Hard Drinks', 'Canned',\n",
       "       'Breads', 'Starchy Foods', 'Others', 'Seafood'], dtype=object)"
      ]
     },
     "execution_count": 484,
     "metadata": {},
     "output_type": "execute_result"
    }
   ],
   "source": [
    "df_train['Item_Type'].unique()"
   ]
  },
  {
   "cell_type": "code",
   "execution_count": 485,
   "id": "2f5dc984",
   "metadata": {},
   "outputs": [
    {
     "data": {
      "image/png": "[encoded data removed]",
      "text/plain": [
       "<Figure size 1440x1440 with 6 Axes>"
      ]
     },
     "metadata": {
      "needs_background": "light"
     },
     "output_type": "display_data"
    }
   ],
   "source": [
    "data=['Item_Fat_Content','Outlet_Size','Outlet_Location_Type','Outlet_Type','Outlet_Identifier','Outlet_Establishment_Year']\n",
    "ncol=2\n",
    "nrows=5\n",
    "plt.figure(figsize=(20,20))\n",
    "for i in range(0,6):\n",
    "    plt.subplot(nrows,ncol,i+1)\n",
    "    sns.countplot(x=data[i],data=data_mod,palette=\"Set2\")"
   ]
  },
  {
   "cell_type": "markdown",
   "id": "9bfb51a4",
   "metadata": {},
   "source": [
    "    from the above count plots its apparent that the majority product is low fats products\n",
    "    \n",
    "    maximum sales in the year1985\n",
    "    \n",
    "    supermarket Type1 has more sales\n",
    "    "
   ]
  },
  {
   "cell_type": "code",
   "execution_count": 486,
   "id": "666a1e1f",
   "metadata": {},
   "outputs": [],
   "source": [
    "data1=['Item_Fat_Content','Outlet_Size','Outlet_Location_Type','Outlet_Type','Outlet_Identifier','Item_Type' ]"
   ]
  },
  {
   "cell_type": "code",
   "execution_count": 487,
   "id": "5a7d578f",
   "metadata": {},
   "outputs": [
    {
     "name": "stdout",
     "output_type": "stream",
     "text": [
      "Item_Fat_Content\n",
      "Low Fat    5089\n",
      "Regular    2889\n",
      "LF          316\n",
      "reg         117\n",
      "low fat     112\n",
      "Name: Item_Fat_Content, dtype: int64\n",
      "\n",
      "Outlet_Size\n",
      "Medium    5203\n",
      "Small     2388\n",
      "High       932\n",
      "Name: Outlet_Size, dtype: int64\n",
      "\n",
      "Outlet_Location_Type\n",
      "Tier 3    3350\n",
      "Tier 2    2785\n",
      "Tier 1    2388\n",
      "Name: Outlet_Location_Type, dtype: int64\n",
      "\n",
      "Outlet_Type\n",
      "Supermarket Type1    5577\n",
      "Grocery Store        1083\n",
      "Supermarket Type3     935\n",
      "Supermarket Type2     928\n",
      "Name: Outlet_Type, dtype: int64\n",
      "\n",
      "Outlet_Identifier\n",
      "OUT027    935\n",
      "OUT013    932\n",
      "OUT046    930\n",
      "OUT035    930\n",
      "OUT049    930\n",
      "OUT045    929\n",
      "OUT018    928\n",
      "OUT017    926\n",
      "OUT010    555\n",
      "OUT019    528\n",
      "Name: Outlet_Identifier, dtype: int64\n",
      "\n",
      "Item_Type\n",
      "Fruits and Vegetables    1232\n",
      "Snack Foods              1200\n",
      "Household                 910\n",
      "Frozen Foods              856\n",
      "Dairy                     682\n",
      "Canned                    649\n",
      "Baking Goods              648\n",
      "Health and Hygiene        520\n",
      "Soft Drinks               445\n",
      "Meat                      425\n",
      "Breads                    251\n",
      "Hard Drinks               214\n",
      "Others                    169\n",
      "Starchy Foods             148\n",
      "Breakfast                 110\n",
      "Seafood                    64\n",
      "Name: Item_Type, dtype: int64\n",
      "\n"
     ]
    }
   ],
   "source": [
    "for col in data1:\n",
    "    print(col)\n",
    "    print(data_mod[col].value_counts())\n",
    "    print()"
   ]
  },
  {
   "cell_type": "code",
   "execution_count": 488,
   "id": "40a9ea14",
   "metadata": {},
   "outputs": [
    {
     "data": {
      "text/plain": [
       "['Dairy',\n",
       " 'Soft Drinks',\n",
       " 'Meat',\n",
       " 'Fruits and Vegetables',\n",
       " 'Household',\n",
       " 'Baking Goods',\n",
       " 'Snack Foods',\n",
       " 'Frozen Foods',\n",
       " 'Breakfast',\n",
       " 'Health and Hygiene',\n",
       " 'Hard Drinks',\n",
       " 'Canned',\n",
       " 'Breads',\n",
       " 'Starchy Foods',\n",
       " 'Others',\n",
       " 'Seafood']"
      ]
     },
     "execution_count": 488,
     "metadata": {},
     "output_type": "execute_result"
    },
    {
     "data": {
      "image/png": "[encoded data removed]",
      "text/plain": [
       "<Figure size 432x288 with 1 Axes>"
      ]
     },
     "metadata": {
      "needs_background": "light"
     },
     "output_type": "display_data"
    }
   ],
   "source": [
    "l = list(data_mod['Item_Type'].unique())\n",
    "chart = sns.countplot(data_mod[\"Item_Type\"],palette=\"Set3\")\n",
    "chart.set_xticklabels(labels=l, rotation=90)\n",
    "l"
   ]
  },
  {
   "cell_type": "code",
   "execution_count": 489,
   "id": "5f4f0788",
   "metadata": {},
   "outputs": [
    {
     "data": {
      "text/plain": [
       "<AxesSubplot:xlabel='Item_Weight'>"
      ]
     },
     "execution_count": 489,
     "metadata": {},
     "output_type": "execute_result"
    },
    {
     "data": {
      "image/png": "[encoded data removed]",
      "text/plain": [
       "<Figure size 432x288 with 1 Axes>"
      ]
     },
     "metadata": {
      "needs_background": "light"
     },
     "output_type": "display_data"
    }
   ],
   "source": [
    "sns.boxplot(data_mod['Item_Weight'],color=\"purple\")"
   ]
  },
  {
   "cell_type": "code",
   "execution_count": 490,
   "id": "02955f7b",
   "metadata": {},
   "outputs": [
    {
     "data": {
      "text/plain": [
       "<AxesSubplot:xlabel='Item_Visibility'>"
      ]
     },
     "execution_count": 490,
     "metadata": {},
     "output_type": "execute_result"
    },
    {
     "data": {
      "image/png": "[encoded data removed]",
      "text/plain": [
       "<Figure size 432x288 with 1 Axes>"
      ]
     },
     "metadata": {
      "needs_background": "light"
     },
     "output_type": "display_data"
    }
   ],
   "source": [
    "sns.boxplot(data_mod['Item_Visibility'],color=\"salmon\")"
   ]
  },
  {
   "cell_type": "code",
   "execution_count": 491,
   "id": "26e85fd3",
   "metadata": {},
   "outputs": [
    {
     "data": {
      "text/plain": [
       "<AxesSubplot:xlabel='Item_MRP'>"
      ]
     },
     "execution_count": 491,
     "metadata": {},
     "output_type": "execute_result"
    },
    {
     "data": {
      "image/png": "[encoded data removed]",
      "text/plain": [
       "<Figure size 432x288 with 1 Axes>"
      ]
     },
     "metadata": {
      "needs_background": "light"
     },
     "output_type": "display_data"
    }
   ],
   "source": [
    "sns.boxplot(data_mod['Item_MRP'],color=(1,1,0))"
   ]
  },
  {
   "cell_type": "code",
   "execution_count": 492,
   "id": "1e5329cf",
   "metadata": {},
   "outputs": [
    {
     "data": {
      "text/plain": [
       "<AxesSubplot:xlabel='Outlet_Establishment_Year'>"
      ]
     },
     "execution_count": 492,
     "metadata": {},
     "output_type": "execute_result"
    },
    {
     "data": {
      "image/png": "[encoded data removed]",
      "text/plain": [
       "<Figure size 432x288 with 1 Axes>"
      ]
     },
     "metadata": {
      "needs_background": "light"
     },
     "output_type": "display_data"
    }
   ],
   "source": [
    "sns.boxplot(data_mod['Outlet_Establishment_Year'],color=(1,0,1))"
   ]
  },
  {
   "cell_type": "code",
   "execution_count": 493,
   "id": "2d287caf",
   "metadata": {},
   "outputs": [
    {
     "ename": "SyntaxError",
     "evalue": "invalid syntax (<ipython-input-493-a34f2634511f>, line 1)",
     "output_type": "error",
     "traceback": [
      "\u001b[1;36m  File \u001b[1;32m\"<ipython-input-493-a34f2634511f>\"\u001b[1;36m, line \u001b[1;32m1\u001b[0m\n\u001b[1;33m    In all float type features the Item visibility feature  has outlier\u001b[0m\n\u001b[1;37m       ^\u001b[0m\n\u001b[1;31mSyntaxError\u001b[0m\u001b[1;31m:\u001b[0m invalid syntax\n"
     ]
    }
   ],
   "source": [
    "In all float type features the Item visibility feature  has outlier"
   ]
  },
  {
   "cell_type": "code",
   "execution_count": 494,
   "id": "5cb39ffb",
   "metadata": {},
   "outputs": [
    {
     "data": {
      "text/plain": [
       "<AxesSubplot:xlabel='Outlet_Establishment_Year', ylabel='Item_Outlet_Sales'>"
      ]
     },
     "execution_count": 494,
     "metadata": {},
     "output_type": "execute_result"
    },
    {
     "data": {
      "image/png": "[encoded data removed]",
      "text/plain": [
       "<Figure size 360x504 with 1 Axes>"
      ]
     },
     "metadata": {
      "needs_background": "light"
     },
     "output_type": "display_data"
    }
   ],
   "source": [
    "plt.figure(figsize=(5,7))\n",
    "sns.scatterplot(x='Outlet_Establishment_Year',y='Item_Outlet_Sales',hue='Outlet_Type',data=data_mod,palette=\"Set1\")"
   ]
  },
  {
   "cell_type": "markdown",
   "id": "ed24ad5f",
   "metadata": {},
   "source": [
    "The information from the above plot are\n",
    "\n",
    "In 1985 the majority of sale from supermarket type3\n",
    "In 1986 to 2008 the major sales from supermarket type1\n",
    "In 2009 to 2010 the major sales from supermarket type2\n",
    " "
   ]
  },
  {
   "cell_type": "code",
   "execution_count": 495,
   "id": "dfccdbfd",
   "metadata": {},
   "outputs": [
    {
     "data": {
      "text/plain": [
       "<AxesSubplot:xlabel='Outlet_Establishment_Year', ylabel='Item_Outlet_Sales'>"
      ]
     },
     "execution_count": 495,
     "metadata": {},
     "output_type": "execute_result"
    },
    {
     "data": {
      "image/png": "[encoded data removed]",
      "text/plain": [
       "<Figure size 360x504 with 1 Axes>"
      ]
     },
     "metadata": {
      "needs_background": "light"
     },
     "output_type": "display_data"
    }
   ],
   "source": [
    "plt.figure(figsize=(5,7))\n",
    "sns.barplot(x='Outlet_Establishment_Year',y='Item_Outlet_Sales',hue='Outlet_Size',data=data_mod,palette=\"Set1\")"
   ]
  },
  {
   "cell_type": "markdown",
   "id": "87578eae",
   "metadata": {},
   "source": [
    "outlet sales is higher in outlet_size medium and small"
   ]
  },
  {
   "cell_type": "code",
   "execution_count": 561,
   "id": "995ebdd5",
   "metadata": {},
   "outputs": [
    {
     "name": "stdout",
     "output_type": "stream",
     "text": [
      "Requirement already satisfied: plotly in c:\\users\\my pc\\anaconda3\\lib\\site-packages (5.1.0)\n",
      "Requirement already satisfied: tenacity>=6.2.0 in c:\\users\\my pc\\anaconda3\\lib\\site-packages (from plotly) (8.0.1)\n",
      "Requirement already satisfied: six in c:\\users\\my pc\\anaconda3\\lib\\site-packages (from plotly) (1.15.0)\n"
     ]
    }
   ],
   "source": [
    "!pip install plotly\n",
    "\n"
   ]
  },
  {
   "cell_type": "code",
   "execution_count": 496,
   "id": "f2945970",
   "metadata": {},
   "outputs": [
    {
     "data": {
      "application/vnd.plotly.v1+json": {
       "config": {
        "plotlyServerURL": "https://plot.ly"
       },
       "data": [
        {
         "branchvalues": "total",
         "domain": {
          "x": [
           0,
           1
          ],
          "y": [
           0,
           1
          ]
         },
         "hovertemplate": "labels=%{label}<br>Item_Outlet_Sales=%{value}<br>parent=%{parent}<br>id=%{id}<extra></extra>",
         "ids": [
          "Grocery Store/Baking Goods",
          "Supermarket Type1/Baking Goods",
          "Supermarket Type2/Baking Goods",
          "Supermarket Type3/Baking Goods",
          "Grocery Store/Breads",
          "Supermarket Type1/Breads",
          "Supermarket Type2/Breads",
          "Supermarket Type3/Breads",
          "Grocery Store/Breakfast",
          "Supermarket Type1/Breakfast",
          "Supermarket Type2/Breakfast",
          "Supermarket Type3/Breakfast",
          "Grocery Store/Canned",
          "Supermarket Type1/Canned",
          "Supermarket Type2/Canned",
          "Supermarket Type3/Canned",
          "Grocery Store/Dairy",
          "Supermarket Type1/Dairy",
          "Supermarket Type2/Dairy",
          "Supermarket Type3/Dairy",
          "Grocery Store/Frozen Foods",
          "Supermarket Type1/Frozen Foods",
          "Supermarket Type2/Frozen Foods",
          "Supermarket Type3/Frozen Foods",
          "Grocery Store/Fruits and Vegetables",
          "Supermarket Type1/Fruits and Vegetables",
          "Supermarket Type2/Fruits and Vegetables",
          "Supermarket Type3/Fruits and Vegetables",
          "Grocery Store/Hard Drinks",
          "Supermarket Type1/Hard Drinks",
          "Supermarket Type2/Hard Drinks",
          "Supermarket Type3/Hard Drinks",
          "Grocery Store/Health and Hygiene",
          "Supermarket Type1/Health and Hygiene",
          "Supermarket Type2/Health and Hygiene",
          "Supermarket Type3/Health and Hygiene",
          "Grocery Store/Household",
          "Supermarket Type1/Household",
          "Supermarket Type2/Household",
          "Supermarket Type3/Household",
          "Grocery Store/Meat",
          "Supermarket Type1/Meat",
          "Supermarket Type2/Meat",
          "Supermarket Type3/Meat",
          "Grocery Store/Others",
          "Supermarket Type1/Others",
          "Supermarket Type2/Others",
          "Supermarket Type3/Others",
          "Grocery Store/Seafood",
          "Supermarket Type1/Seafood",
          "Supermarket Type2/Seafood",
          "Supermarket Type3/Seafood",
          "Grocery Store/Snack Foods",
          "Supermarket Type1/Snack Foods",
          "Supermarket Type2/Snack Foods",
          "Supermarket Type3/Snack Foods",
          "Grocery Store/Soft Drinks",
          "Supermarket Type1/Soft Drinks",
          "Supermarket Type2/Soft Drinks",
          "Supermarket Type3/Soft Drinks",
          "Grocery Store/Starchy Foods",
          "Supermarket Type1/Starchy Foods",
          "Supermarket Type2/Starchy Foods",
          "Supermarket Type3/Starchy Foods",
          "Grocery Store",
          "Supermarket Type1",
          "Supermarket Type2",
          "Supermarket Type3"
         ],
         "labels": [
          "Baking Goods",
          "Baking Goods",
          "Baking Goods",
          "Baking Goods",
          "Breads",
          "Breads",
          "Breads",
          "Breads",
          "Breakfast",
          "Breakfast",
          "Breakfast",
          "Breakfast",
          "Canned",
          "Canned",
          "Canned",
          "Canned",
          "Dairy",
          "Dairy",
          "Dairy",
          "Dairy",
          "Frozen Foods",
          "Frozen Foods",
          "Frozen Foods",
          "Frozen Foods",
          "Fruits and Vegetables",
          "Fruits and Vegetables",
          "Fruits and Vegetables",
          "Fruits and Vegetables",
          "Hard Drinks",
          "Hard Drinks",
          "Hard Drinks",
          "Hard Drinks",
          "Health and Hygiene",
          "Health and Hygiene",
          "Health and Hygiene",
          "Health and Hygiene",
          "Household",
          "Household",
          "Household",
          "Household",
          "Meat",
          "Meat",
          "Meat",
          "Meat",
          "Others",
          "Others",
          "Others",
          "Others",
          "Seafood",
          "Seafood",
          "Seafood",
          "Seafood",
          "Snack Foods",
          "Snack Foods",
          "Snack Foods",
          "Snack Foods",
          "Soft Drinks",
          "Soft Drinks",
          "Soft Drinks",
          "Soft Drinks",
          "Starchy Foods",
          "Starchy Foods",
          "Starchy Foods",
          "Starchy Foods",
          "Grocery Store",
          "Supermarket Type1",
          "Supermarket Type2",
          "Supermarket Type3"
         ],
         "name": "",
         "parents": [
          "Grocery Store",
          "Supermarket Type1",
          "Supermarket Type2",
          "Supermarket Type3",
          "Grocery Store",
          "Supermarket Type1",
          "Supermarket Type2",
          "Supermarket Type3",
          "Grocery Store",
          "Supermarket Type1",
          "Supermarket Type2",
          "Supermarket Type3",
          "Grocery Store",
          "Supermarket Type1",
          "Supermarket Type2",
          "Supermarket Type3",
          "Grocery Store",
          "Supermarket Type1",
          "Supermarket Type2",
          "Supermarket Type3",
          "Grocery Store",
          "Supermarket Type1",
          "Supermarket Type2",
          "Supermarket Type3",
          "Grocery Store",
          "Supermarket Type1",
          "Supermarket Type2",
          "Supermarket Type3",
          "Grocery Store",
          "Supermarket Type1",
          "Supermarket Type2",
          "Supermarket Type3",
          "Grocery Store",
          "Supermarket Type1",
          "Supermarket Type2",
          "Supermarket Type3",
          "Grocery Store",
          "Supermarket Type1",
          "Supermarket Type2",
          "Supermarket Type3",
          "Grocery Store",
          "Supermarket Type1",
          "Supermarket Type2",
          "Supermarket Type3",
          "Grocery Store",
          "Supermarket Type1",
          "Supermarket Type2",
          "Supermarket Type3",
          "Grocery Store",
          "Supermarket Type1",
          "Supermarket Type2",
          "Supermarket Type3",
          "Grocery Store",
          "Supermarket Type1",
          "Supermarket Type2",
          "Supermarket Type3",
          "Grocery Store",
          "Supermarket Type1",
          "Supermarket Type2",
          "Supermarket Type3",
          "Grocery Store",
          "Supermarket Type1",
          "Supermarket Type2",
          "Supermarket Type3",
          "",
          "",
          "",
          ""
         ],
         "type": "sunburst",
         "values": [
          24827.0162,
          895461.0519999998,
          121065.07719999997,
          224172.19680000003,
          12604.925599999997,
          375508.5368,
          54604.9212,
          110518.80519999997,
          7843.7898000000005,
          151526.75879999998,
          22496.0504,
          50432.3526,
          25759.136199999997,
          1000560.2451999997,
          145681.70059999995,
          272150.41059999994,
          31451.7262,
          1076694.4752000002,
          152130.63940000004,
          262317.2104,
          33195.456399999995,
          1292668.0107999989,
          183599.01059999998,
          316272.31080000004,
          48602.068400000004,
          1931957.8521999991,
          263471.70759999997,
          576028.1886000003,
          5835.737,
          323554.1653999999,
          49445.636999999995,
          78957.8878,
          24515.4218,
          712754.879200001,
          108845.64980000003,
          199084.18699999998,
          43707.106799999994,
          1437219.8487999996,
          196267.18719999996,
          378299.5704000001,
          25576.707000000006,
          581044.9915999997,
          94655.45439999999,
          216288.45900000003,
          7778.541400000002,
          240152.72840000005,
          37072.409799999994,
          40513.92999999999,
          2284.3598,
          105607.8644,
          22166.4794,
          18809.515799999997,
          51596.171,
          1889387.265999998,
          278714.53280000004,
          513088.1171999999,
          18554.514400000004,
          638025.4871999997,
          88495.47280000003,
          147822.2476,
          3901.5880000000006,
          265218.10099999997,
          33110.8998,
          49170.66160000001,
          368034.266,
          12917342.262999993,
          1851822.8300000012,
          3453926.0514
         ]
        }
       ],
       "layout": {
        "legend": {
         "tracegroupgap": 0
        },
        "margin": {
         "t": 60
        },
        "template": {
         "data": {
          "bar": [
           {
            "error_x": {
             "color": "#2a3f5f"
            },
            "error_y": {
             "color": "#2a3f5f"
            },
            "marker": {
             "line": {
              "color": "#E5ECF6",
              "width": 0.5
             },
             "pattern": {
              "fillmode": "overlay",
              "size": 10,
              "solidity": 0.2
             }
            },
            "type": "bar"
           }
          ],
          "barpolar": [
           {
            "marker": {
             "line": {
              "color": "#E5ECF6",
              "width": 0.5
             },
             "pattern": {
              "fillmode": "overlay",
              "size": 10,
              "solidity": 0.2
             }
            },
            "type": "barpolar"
           }
          ],
          "carpet": [
           {
            "aaxis": {
             "endlinecolor": "#2a3f5f",
             "gridcolor": "white",
             "linecolor": "white",
             "minorgridcolor": "white",
             "startlinecolor": "#2a3f5f"
            },
            "baxis": {
             "endlinecolor": "#2a3f5f",
             "gridcolor": "white",
             "linecolor": "white",
             "minorgridcolor": "white",
             "startlinecolor": "#2a3f5f"
            },
            "type": "carpet"
           }
          ],
          "choropleth": [
           {
            "colorbar": {
             "outlinewidth": 0,
             "ticks": ""
            },
            "type": "choropleth"
           }
          ],
          "contour": [
           {
            "colorbar": {
             "outlinewidth": 0,
             "ticks": ""
            },
            "colorscale": [
             [
              0,
              "#0d0887"
             ],
             [
              0.1111111111111111,
              "#46039f"
             ],
             [
              0.2222222222222222,
              "#7201a8"
             ],
             [
              0.3333333333333333,
              "#9c179e"
             ],
             [
              0.4444444444444444,
              "#bd3786"
             ],
             [
              0.5555555555555556,
              "#d8576b"
             ],
             [
              0.6666666666666666,
              "#ed7953"
             ],
             [
              0.7777777777777778,
              "#fb9f3a"
             ],
             [
              0.8888888888888888,
              "#fdca26"
             ],
             [
              1,
              "#f0f921"
             ]
            ],
            "type": "contour"
           }
          ],
          "contourcarpet": [
           {
            "colorbar": {
             "outlinewidth": 0,
             "ticks": ""
            },
            "type": "contourcarpet"
           }
          ],
          "heatmap": [
           {
            "colorbar": {
             "outlinewidth": 0,
             "ticks": ""
            },
            "colorscale": [
             [
              0,
              "#0d0887"
             ],
             [
              0.1111111111111111,
              "#46039f"
             ],
             [
              0.2222222222222222,
              "#7201a8"
             ],
             [
              0.3333333333333333,
              "#9c179e"
             ],
             [
              0.4444444444444444,
              "#bd3786"
             ],
             [
              0.5555555555555556,
              "#d8576b"
             ],
             [
              0.6666666666666666,
              "#ed7953"
             ],
             [
              0.7777777777777778,
              "#fb9f3a"
             ],
             [
              0.8888888888888888,
              "#fdca26"
             ],
             [
              1,
              "#f0f921"
             ]
            ],
            "type": "heatmap"
           }
          ],
          "heatmapgl": [
           {
            "colorbar": {
             "outlinewidth": 0,
             "ticks": ""
            },
            "colorscale": [
             [
              0,
              "#0d0887"
             ],
             [
              0.1111111111111111,
              "#46039f"
             ],
             [
              0.2222222222222222,
              "#7201a8"
             ],
             [
              0.3333333333333333,
              "#9c179e"
             ],
             [
              0.4444444444444444,
              "#bd3786"
             ],
             [
              0.5555555555555556,
              "#d8576b"
             ],
             [
              0.6666666666666666,
              "#ed7953"
             ],
             [
              0.7777777777777778,
              "#fb9f3a"
             ],
             [
              0.8888888888888888,
              "#fdca26"
             ],
             [
              1,
              "#f0f921"
             ]
            ],
            "type": "heatmapgl"
           }
          ],
          "histogram": [
           {
            "marker": {
             "pattern": {
              "fillmode": "overlay",
              "size": 10,
              "solidity": 0.2
             }
            },
            "type": "histogram"
           }
          ],
          "histogram2d": [
           {
            "colorbar": {
             "outlinewidth": 0,
             "ticks": ""
            },
            "colorscale": [
             [
              0,
              "#0d0887"
             ],
             [
              0.1111111111111111,
              "#46039f"
             ],
             [
              0.2222222222222222,
              "#7201a8"
             ],
             [
              0.3333333333333333,
              "#9c179e"
             ],
             [
              0.4444444444444444,
              "#bd3786"
             ],
             [
              0.5555555555555556,
              "#d8576b"
             ],
             [
              0.6666666666666666,
              "#ed7953"
             ],
             [
              0.7777777777777778,
              "#fb9f3a"
             ],
             [
              0.8888888888888888,
              "#fdca26"
             ],
             [
              1,
              "#f0f921"
             ]
            ],
            "type": "histogram2d"
           }
          ],
          "histogram2dcontour": [
           {
            "colorbar": {
             "outlinewidth": 0,
             "ticks": ""
            },
            "colorscale": [
             [
              0,
              "#0d0887"
             ],
             [
              0.1111111111111111,
              "#46039f"
             ],
             [
              0.2222222222222222,
              "#7201a8"
             ],
             [
              0.3333333333333333,
              "#9c179e"
             ],
             [
              0.4444444444444444,
              "#bd3786"
             ],
             [
              0.5555555555555556,
              "#d8576b"
             ],
             [
              0.6666666666666666,
              "#ed7953"
             ],
             [
              0.7777777777777778,
              "#fb9f3a"
             ],
             [
              0.8888888888888888,
              "#fdca26"
             ],
             [
              1,
              "#f0f921"
             ]
            ],
            "type": "histogram2dcontour"
           }
          ],
          "mesh3d": [
           {
            "colorbar": {
             "outlinewidth": 0,
             "ticks": ""
            },
            "type": "mesh3d"
           }
          ],
          "parcoords": [
           {
            "line": {
             "colorbar": {
              "outlinewidth": 0,
              "ticks": ""
             }
            },
            "type": "parcoords"
           }
          ],
          "pie": [
           {
            "automargin": true,
            "type": "pie"
           }
          ],
          "scatter": [
           {
            "marker": {
             "colorbar": {
              "outlinewidth": 0,
              "ticks": ""
             }
            },
            "type": "scatter"
           }
          ],
          "scatter3d": [
           {
            "line": {
             "colorbar": {
              "outlinewidth": 0,
              "ticks": ""
             }
            },
            "marker": {
             "colorbar": {
              "outlinewidth": 0,
              "ticks": ""
             }
            },
            "type": "scatter3d"
           }
          ],
          "scattercarpet": [
           {
            "marker": {
             "colorbar": {
              "outlinewidth": 0,
              "ticks": ""
             }
            },
            "type": "scattercarpet"
           }
          ],
          "scattergeo": [
           {
            "marker": {
             "colorbar": {
              "outlinewidth": 0,
              "ticks": ""
             }
            },
            "type": "scattergeo"
           }
          ],
          "scattergl": [
           {
            "marker": {
             "colorbar": {
              "outlinewidth": 0,
              "ticks": ""
             }
            },
            "type": "scattergl"
           }
          ],
          "scattermapbox": [
           {
            "marker": {
             "colorbar": {
              "outlinewidth": 0,
              "ticks": ""
             }
            },
            "type": "scattermapbox"
           }
          ],
          "scatterpolar": [
           {
            "marker": {
             "colorbar": {
              "outlinewidth": 0,
              "ticks": ""
             }
            },
            "type": "scatterpolar"
           }
          ],
          "scatterpolargl": [
           {
            "marker": {
             "colorbar": {
              "outlinewidth": 0,
              "ticks": ""
             }
            },
            "type": "scatterpolargl"
           }
          ],
          "scatterternary": [
           {
            "marker": {
             "colorbar": {
              "outlinewidth": 0,
              "ticks": ""
             }
            },
            "type": "scatterternary"
           }
          ],
          "surface": [
           {
            "colorbar": {
             "outlinewidth": 0,
             "ticks": ""
            },
            "colorscale": [
             [
              0,
              "#0d0887"
             ],
             [
              0.1111111111111111,
              "#46039f"
             ],
             [
              0.2222222222222222,
              "#7201a8"
             ],
             [
              0.3333333333333333,
              "#9c179e"
             ],
             [
              0.4444444444444444,
              "#bd3786"
             ],
             [
              0.5555555555555556,
              "#d8576b"
             ],
             [
              0.6666666666666666,
              "#ed7953"
             ],
             [
              0.7777777777777778,
              "#fb9f3a"
             ],
             [
              0.8888888888888888,
              "#fdca26"
             ],
             [
              1,
              "#f0f921"
             ]
            ],
            "type": "surface"
           }
          ],
          "table": [
           {
            "cells": {
             "fill": {
              "color": "#EBF0F8"
             },
             "line": {
              "color": "white"
             }
            },
            "header": {
             "fill": {
              "color": "#C8D4E3"
             },
             "line": {
              "color": "white"
             }
            },
            "type": "table"
           }
          ]
         },
         "layout": {
          "annotationdefaults": {
           "arrowcolor": "#2a3f5f",
           "arrowhead": 0,
           "arrowwidth": 1
          },
          "autotypenumbers": "strict",
          "coloraxis": {
           "colorbar": {
            "outlinewidth": 0,
            "ticks": ""
           }
          },
          "colorscale": {
           "diverging": [
            [
             0,
             "#8e0152"
            ],
            [
             0.1,
             "#c51b7d"
            ],
            [
             0.2,
             "#de77ae"
            ],
            [
             0.3,
             "#f1b6da"
            ],
            [
             0.4,
             "#fde0ef"
            ],
            [
             0.5,
             "#f7f7f7"
            ],
            [
             0.6,
             "#e6f5d0"
            ],
            [
             0.7,
             "#b8e186"
            ],
            [
             0.8,
             "#7fbc41"
            ],
            [
             0.9,
             "#4d9221"
            ],
            [
             1,
             "#276419"
            ]
           ],
           "sequential": [
            [
             0,
             "#0d0887"
            ],
            [
             0.1111111111111111,
             "#46039f"
            ],
            [
             0.2222222222222222,
             "#7201a8"
            ],
            [
             0.3333333333333333,
             "#9c179e"
            ],
            [
             0.4444444444444444,
             "#bd3786"
            ],
            [
             0.5555555555555556,
             "#d8576b"
            ],
            [
             0.6666666666666666,
             "#ed7953"
            ],
            [
             0.7777777777777778,
             "#fb9f3a"
            ],
            [
             0.8888888888888888,
             "#fdca26"
            ],
            [
             1,
             "#f0f921"
            ]
           ],
           "sequentialminus": [
            [
             0,
             "#0d0887"
            ],
            [
             0.1111111111111111,
             "#46039f"
            ],
            [
             0.2222222222222222,
             "#7201a8"
            ],
            [
             0.3333333333333333,
             "#9c179e"
            ],
            [
             0.4444444444444444,
             "#bd3786"
            ],
            [
             0.5555555555555556,
             "#d8576b"
            ],
            [
             0.6666666666666666,
             "#ed7953"
            ],
            [
             0.7777777777777778,
             "#fb9f3a"
            ],
            [
             0.8888888888888888,
             "#fdca26"
            ],
            [
             1,
             "#f0f921"
            ]
           ]
          },
          "colorway": [
           "#636efa",
           "#EF553B",
           "#00cc96",
           "#ab63fa",
           "#FFA15A",
           "#19d3f3",
           "#FF6692",
           "#B6E880",
           "#FF97FF",
           "#FECB52"
          ],
          "font": {
           "color": "#2a3f5f"
          },
          "geo": {
           "bgcolor": "white",
           "lakecolor": "white",
           "landcolor": "#E5ECF6",
           "showlakes": true,
           "showland": true,
           "subunitcolor": "white"
          },
          "hoverlabel": {
           "align": "left"
          },
          "hovermode": "closest",
          "mapbox": {
           "style": "light"
          },
          "paper_bgcolor": "white",
          "plot_bgcolor": "#E5ECF6",
          "polar": {
           "angularaxis": {
            "gridcolor": "white",
            "linecolor": "white",
            "ticks": ""
           },
           "bgcolor": "#E5ECF6",
           "radialaxis": {
            "gridcolor": "white",
            "linecolor": "white",
            "ticks": ""
           }
          },
          "scene": {
           "xaxis": {
            "backgroundcolor": "#E5ECF6",
            "gridcolor": "white",
            "gridwidth": 2,
            "linecolor": "white",
            "showbackground": true,
            "ticks": "",
            "zerolinecolor": "white"
           },
           "yaxis": {
            "backgroundcolor": "#E5ECF6",
            "gridcolor": "white",
            "gridwidth": 2,
            "linecolor": "white",
            "showbackground": true,
            "ticks": "",
            "zerolinecolor": "white"
           },
           "zaxis": {
            "backgroundcolor": "#E5ECF6",
            "gridcolor": "white",
            "gridwidth": 2,
            "linecolor": "white",
            "showbackground": true,
            "ticks": "",
            "zerolinecolor": "white"
           }
          },
          "shapedefaults": {
           "line": {
            "color": "#2a3f5f"
           }
          },
          "ternary": {
           "aaxis": {
            "gridcolor": "white",
            "linecolor": "white",
            "ticks": ""
           },
           "baxis": {
            "gridcolor": "white",
            "linecolor": "white",
            "ticks": ""
           },
           "bgcolor": "#E5ECF6",
           "caxis": {
            "gridcolor": "white",
            "linecolor": "white",
            "ticks": ""
           }
          },
          "title": {
           "x": 0.05
          },
          "xaxis": {
           "automargin": true,
           "gridcolor": "white",
           "linecolor": "white",
           "ticks": "",
           "title": {
            "standoff": 15
           },
           "zerolinecolor": "white",
           "zerolinewidth": 2
          },
          "yaxis": {
           "automargin": true,
           "gridcolor": "white",
           "linecolor": "white",
           "ticks": "",
           "title": {
            "standoff": 15
           },
           "zerolinecolor": "white",
           "zerolinewidth": 2
          }
         }
        }
       }
      },
      "text/html": [
       "<div>                            <div id=\"da87499d-30f9-4f13-910b-c562946fd357\" class=\"plotly-graph-div\" style=\"height:525px; width:100%;\"></div>            <script type=\"text/javascript\">                require([\"plotly\"], function(Plotly) {                    window.PLOTLYENV=window.PLOTLYENV || {};                                    if (document.getElementById(\"da87499d-30f9-4f13-910b-c562946fd357\")) {                    Plotly.newPlot(                        \"da87499d-30f9-4f13-910b-c562946fd357\",                        [{\"branchvalues\":\"total\",\"domain\":{\"x\":[0.0,1.0],\"y\":[0.0,1.0]},\"hovertemplate\":\"labels=%{label}<br>Item_Outlet_Sales=%{value}<br>parent=%{parent}<br>id=%{id}<extra></extra>\",\"ids\":[\"Grocery Store/Baking Goods\",\"Supermarket Type1/Baking Goods\",\"Supermarket Type2/Baking Goods\",\"Supermarket Type3/Baking Goods\",\"Grocery Store/Breads\",\"Supermarket Type1/Breads\",\"Supermarket Type2/Breads\",\"Supermarket Type3/Breads\",\"Grocery Store/Breakfast\",\"Supermarket Type1/Breakfast\",\"Supermarket Type2/Breakfast\",\"Supermarket Type3/Breakfast\",\"Grocery Store/Canned\",\"Supermarket Type1/Canned\",\"Supermarket Type2/Canned\",\"Supermarket Type3/Canned\",\"Grocery Store/Dairy\",\"Supermarket Type1/Dairy\",\"Supermarket Type2/Dairy\",\"Supermarket Type3/Dairy\",\"Grocery Store/Frozen Foods\",\"Supermarket Type1/Frozen Foods\",\"Supermarket Type2/Frozen Foods\",\"Supermarket Type3/Frozen Foods\",\"Grocery Store/Fruits and Vegetables\",\"Supermarket Type1/Fruits and Vegetables\",\"Supermarket Type2/Fruits and Vegetables\",\"Supermarket Type3/Fruits and Vegetables\",\"Grocery Store/Hard Drinks\",\"Supermarket Type1/Hard Drinks\",\"Supermarket Type2/Hard Drinks\",\"Supermarket Type3/Hard Drinks\",\"Grocery Store/Health and Hygiene\",\"Supermarket Type1/Health and Hygiene\",\"Supermarket Type2/Health and Hygiene\",\"Supermarket Type3/Health and Hygiene\",\"Grocery Store/Household\",\"Supermarket Type1/Household\",\"Supermarket Type2/Household\",\"Supermarket Type3/Household\",\"Grocery Store/Meat\",\"Supermarket Type1/Meat\",\"Supermarket Type2/Meat\",\"Supermarket Type3/Meat\",\"Grocery Store/Others\",\"Supermarket Type1/Others\",\"Supermarket Type2/Others\",\"Supermarket Type3/Others\",\"Grocery Store/Seafood\",\"Supermarket Type1/Seafood\",\"Supermarket Type2/Seafood\",\"Supermarket Type3/Seafood\",\"Grocery Store/Snack Foods\",\"Supermarket Type1/Snack Foods\",\"Supermarket Type2/Snack Foods\",\"Supermarket Type3/Snack Foods\",\"Grocery Store/Soft Drinks\",\"Supermarket Type1/Soft Drinks\",\"Supermarket Type2/Soft Drinks\",\"Supermarket Type3/Soft Drinks\",\"Grocery Store/Starchy Foods\",\"Supermarket Type1/Starchy Foods\",\"Supermarket Type2/Starchy Foods\",\"Supermarket Type3/Starchy Foods\",\"Grocery Store\",\"Supermarket Type1\",\"Supermarket Type2\",\"Supermarket Type3\"],\"labels\":[\"Baking Goods\",\"Baking Goods\",\"Baking Goods\",\"Baking Goods\",\"Breads\",\"Breads\",\"Breads\",\"Breads\",\"Breakfast\",\"Breakfast\",\"Breakfast\",\"Breakfast\",\"Canned\",\"Canned\",\"Canned\",\"Canned\",\"Dairy\",\"Dairy\",\"Dairy\",\"Dairy\",\"Frozen Foods\",\"Frozen Foods\",\"Frozen Foods\",\"Frozen Foods\",\"Fruits and Vegetables\",\"Fruits and Vegetables\",\"Fruits and Vegetables\",\"Fruits and Vegetables\",\"Hard Drinks\",\"Hard Drinks\",\"Hard Drinks\",\"Hard Drinks\",\"Health and Hygiene\",\"Health and Hygiene\",\"Health and Hygiene\",\"Health and Hygiene\",\"Household\",\"Household\",\"Household\",\"Household\",\"Meat\",\"Meat\",\"Meat\",\"Meat\",\"Others\",\"Others\",\"Others\",\"Others\",\"Seafood\",\"Seafood\",\"Seafood\",\"Seafood\",\"Snack Foods\",\"Snack Foods\",\"Snack Foods\",\"Snack Foods\",\"Soft Drinks\",\"Soft Drinks\",\"Soft Drinks\",\"Soft Drinks\",\"Starchy Foods\",\"Starchy Foods\",\"Starchy Foods\",\"Starchy Foods\",\"Grocery Store\",\"Supermarket Type1\",\"Supermarket Type2\",\"Supermarket Type3\"],\"name\":\"\",\"parents\":[\"Grocery Store\",\"Supermarket Type1\",\"Supermarket Type2\",\"Supermarket Type3\",\"Grocery Store\",\"Supermarket Type1\",\"Supermarket Type2\",\"Supermarket Type3\",\"Grocery Store\",\"Supermarket Type1\",\"Supermarket Type2\",\"Supermarket Type3\",\"Grocery Store\",\"Supermarket Type1\",\"Supermarket Type2\",\"Supermarket Type3\",\"Grocery Store\",\"Supermarket Type1\",\"Supermarket Type2\",\"Supermarket Type3\",\"Grocery Store\",\"Supermarket Type1\",\"Supermarket Type2\",\"Supermarket Type3\",\"Grocery Store\",\"Supermarket Type1\",\"Supermarket Type2\",\"Supermarket Type3\",\"Grocery Store\",\"Supermarket Type1\",\"Supermarket Type2\",\"Supermarket Type3\",\"Grocery Store\",\"Supermarket Type1\",\"Supermarket Type2\",\"Supermarket Type3\",\"Grocery Store\",\"Supermarket Type1\",\"Supermarket Type2\",\"Supermarket Type3\",\"Grocery Store\",\"Supermarket Type1\",\"Supermarket Type2\",\"Supermarket Type3\",\"Grocery Store\",\"Supermarket Type1\",\"Supermarket Type2\",\"Supermarket Type3\",\"Grocery Store\",\"Supermarket Type1\",\"Supermarket Type2\",\"Supermarket Type3\",\"Grocery Store\",\"Supermarket Type1\",\"Supermarket Type2\",\"Supermarket Type3\",\"Grocery Store\",\"Supermarket Type1\",\"Supermarket Type2\",\"Supermarket Type3\",\"Grocery Store\",\"Supermarket Type1\",\"Supermarket Type2\",\"Supermarket Type3\",\"\",\"\",\"\",\"\"],\"type\":\"sunburst\",\"values\":[24827.0162,895461.0519999998,121065.07719999997,224172.19680000003,12604.925599999997,375508.5368,54604.9212,110518.80519999997,7843.7898000000005,151526.75879999998,22496.0504,50432.3526,25759.136199999997,1000560.2451999997,145681.70059999995,272150.41059999994,31451.7262,1076694.4752000002,152130.63940000004,262317.2104,33195.456399999995,1292668.0107999989,183599.01059999998,316272.31080000004,48602.068400000004,1931957.8521999991,263471.70759999997,576028.1886000003,5835.737,323554.1653999999,49445.636999999995,78957.8878,24515.4218,712754.879200001,108845.64980000003,199084.18699999998,43707.106799999994,1437219.8487999996,196267.18719999996,378299.5704000001,25576.707000000006,581044.9915999997,94655.45439999999,216288.45900000003,7778.541400000002,240152.72840000005,37072.409799999994,40513.92999999999,2284.3598,105607.8644,22166.4794,18809.515799999997,51596.171,1889387.265999998,278714.53280000004,513088.1171999999,18554.514400000004,638025.4871999997,88495.47280000003,147822.2476,3901.5880000000006,265218.10099999997,33110.8998,49170.66160000001,368034.266,12917342.262999993,1851822.8300000012,3453926.0514]}],                        {\"legend\":{\"tracegroupgap\":0},\"margin\":{\"t\":60},\"template\":{\"data\":{\"bar\":[{\"error_x\":{\"color\":\"#2a3f5f\"},\"error_y\":{\"color\":\"#2a3f5f\"},\"marker\":{\"line\":{\"color\":\"#E5ECF6\",\"width\":0.5},\"pattern\":{\"fillmode\":\"overlay\",\"size\":10,\"solidity\":0.2}},\"type\":\"bar\"}],\"barpolar\":[{\"marker\":{\"line\":{\"color\":\"#E5ECF6\",\"width\":0.5},\"pattern\":{\"fillmode\":\"overlay\",\"size\":10,\"solidity\":0.2}},\"type\":\"barpolar\"}],\"carpet\":[{\"aaxis\":{\"endlinecolor\":\"#2a3f5f\",\"gridcolor\":\"white\",\"linecolor\":\"white\",\"minorgridcolor\":\"white\",\"startlinecolor\":\"#2a3f5f\"},\"baxis\":{\"endlinecolor\":\"#2a3f5f\",\"gridcolor\":\"white\",\"linecolor\":\"white\",\"minorgridcolor\":\"white\",\"startlinecolor\":\"#2a3f5f\"},\"type\":\"carpet\"}],\"choropleth\":[{\"colorbar\":{\"outlinewidth\":0,\"ticks\":\"\"},\"type\":\"choropleth\"}],\"contour\":[{\"colorbar\":{\"outlinewidth\":0,\"ticks\":\"\"},\"colorscale\":[[0.0,\"#0d0887\"],[0.1111111111111111,\"#46039f\"],[0.2222222222222222,\"#7201a8\"],[0.3333333333333333,\"#9c179e\"],[0.4444444444444444,\"#bd3786\"],[0.5555555555555556,\"#d8576b\"],[0.6666666666666666,\"#ed7953\"],[0.7777777777777778,\"#fb9f3a\"],[0.8888888888888888,\"#fdca26\"],[1.0,\"#f0f921\"]],\"type\":\"contour\"}],\"contourcarpet\":[{\"colorbar\":{\"outlinewidth\":0,\"ticks\":\"\"},\"type\":\"contourcarpet\"}],\"heatmap\":[{\"colorbar\":{\"outlinewidth\":0,\"ticks\":\"\"},\"colorscale\":[[0.0,\"#0d0887\"],[0.1111111111111111,\"#46039f\"],[0.2222222222222222,\"#7201a8\"],[0.3333333333333333,\"#9c179e\"],[0.4444444444444444,\"#bd3786\"],[0.5555555555555556,\"#d8576b\"],[0.6666666666666666,\"#ed7953\"],[0.7777777777777778,\"#fb9f3a\"],[0.8888888888888888,\"#fdca26\"],[1.0,\"#f0f921\"]],\"type\":\"heatmap\"}],\"heatmapgl\":[{\"colorbar\":{\"outlinewidth\":0,\"ticks\":\"\"},\"colorscale\":[[0.0,\"#0d0887\"],[0.1111111111111111,\"#46039f\"],[0.2222222222222222,\"#7201a8\"],[0.3333333333333333,\"#9c179e\"],[0.4444444444444444,\"#bd3786\"],[0.5555555555555556,\"#d8576b\"],[0.6666666666666666,\"#ed7953\"],[0.7777777777777778,\"#fb9f3a\"],[0.8888888888888888,\"#fdca26\"],[1.0,\"#f0f921\"]],\"type\":\"heatmapgl\"}],\"histogram\":[{\"marker\":{\"pattern\":{\"fillmode\":\"overlay\",\"size\":10,\"solidity\":0.2}},\"type\":\"histogram\"}],\"histogram2d\":[{\"colorbar\":{\"outlinewidth\":0,\"ticks\":\"\"},\"colorscale\":[[0.0,\"#0d0887\"],[0.1111111111111111,\"#46039f\"],[0.2222222222222222,\"#7201a8\"],[0.3333333333333333,\"#9c179e\"],[0.4444444444444444,\"#bd3786\"],[0.5555555555555556,\"#d8576b\"],[0.6666666666666666,\"#ed7953\"],[0.7777777777777778,\"#fb9f3a\"],[0.8888888888888888,\"#fdca26\"],[1.0,\"#f0f921\"]],\"type\":\"histogram2d\"}],\"histogram2dcontour\":[{\"colorbar\":{\"outlinewidth\":0,\"ticks\":\"\"},\"colorscale\":[[0.0,\"#0d0887\"],[0.1111111111111111,\"#46039f\"],[0.2222222222222222,\"#7201a8\"],[0.3333333333333333,\"#9c179e\"],[0.4444444444444444,\"#bd3786\"],[0.5555555555555556,\"#d8576b\"],[0.6666666666666666,\"#ed7953\"],[0.7777777777777778,\"#fb9f3a\"],[0.8888888888888888,\"#fdca26\"],[1.0,\"#f0f921\"]],\"type\":\"histogram2dcontour\"}],\"mesh3d\":[{\"colorbar\":{\"outlinewidth\":0,\"ticks\":\"\"},\"type\":\"mesh3d\"}],\"parcoords\":[{\"line\":{\"colorbar\":{\"outlinewidth\":0,\"ticks\":\"\"}},\"type\":\"parcoords\"}],\"pie\":[{\"automargin\":true,\"type\":\"pie\"}],\"scatter\":[{\"marker\":{\"colorbar\":{\"outlinewidth\":0,\"ticks\":\"\"}},\"type\":\"scatter\"}],\"scatter3d\":[{\"line\":{\"colorbar\":{\"outlinewidth\":0,\"ticks\":\"\"}},\"marker\":{\"colorbar\":{\"outlinewidth\":0,\"ticks\":\"\"}},\"type\":\"scatter3d\"}],\"scattercarpet\":[{\"marker\":{\"colorbar\":{\"outlinewidth\":0,\"ticks\":\"\"}},\"type\":\"scattercarpet\"}],\"scattergeo\":[{\"marker\":{\"colorbar\":{\"outlinewidth\":0,\"ticks\":\"\"}},\"type\":\"scattergeo\"}],\"scattergl\":[{\"marker\":{\"colorbar\":{\"outlinewidth\":0,\"ticks\":\"\"}},\"type\":\"scattergl\"}],\"scattermapbox\":[{\"marker\":{\"colorbar\":{\"outlinewidth\":0,\"ticks\":\"\"}},\"type\":\"scattermapbox\"}],\"scatterpolar\":[{\"marker\":{\"colorbar\":{\"outlinewidth\":0,\"ticks\":\"\"}},\"type\":\"scatterpolar\"}],\"scatterpolargl\":[{\"marker\":{\"colorbar\":{\"outlinewidth\":0,\"ticks\":\"\"}},\"type\":\"scatterpolargl\"}],\"scatterternary\":[{\"marker\":{\"colorbar\":{\"outlinewidth\":0,\"ticks\":\"\"}},\"type\":\"scatterternary\"}],\"surface\":[{\"colorbar\":{\"outlinewidth\":0,\"ticks\":\"\"},\"colorscale\":[[0.0,\"#0d0887\"],[0.1111111111111111,\"#46039f\"],[0.2222222222222222,\"#7201a8\"],[0.3333333333333333,\"#9c179e\"],[0.4444444444444444,\"#bd3786\"],[0.5555555555555556,\"#d8576b\"],[0.6666666666666666,\"#ed7953\"],[0.7777777777777778,\"#fb9f3a\"],[0.8888888888888888,\"#fdca26\"],[1.0,\"#f0f921\"]],\"type\":\"surface\"}],\"table\":[{\"cells\":{\"fill\":{\"color\":\"#EBF0F8\"},\"line\":{\"color\":\"white\"}},\"header\":{\"fill\":{\"color\":\"#C8D4E3\"},\"line\":{\"color\":\"white\"}},\"type\":\"table\"}]},\"layout\":{\"annotationdefaults\":{\"arrowcolor\":\"#2a3f5f\",\"arrowhead\":0,\"arrowwidth\":1},\"autotypenumbers\":\"strict\",\"coloraxis\":{\"colorbar\":{\"outlinewidth\":0,\"ticks\":\"\"}},\"colorscale\":{\"diverging\":[[0,\"#8e0152\"],[0.1,\"#c51b7d\"],[0.2,\"#de77ae\"],[0.3,\"#f1b6da\"],[0.4,\"#fde0ef\"],[0.5,\"#f7f7f7\"],[0.6,\"#e6f5d0\"],[0.7,\"#b8e186\"],[0.8,\"#7fbc41\"],[0.9,\"#4d9221\"],[1,\"#276419\"]],\"sequential\":[[0.0,\"#0d0887\"],[0.1111111111111111,\"#46039f\"],[0.2222222222222222,\"#7201a8\"],[0.3333333333333333,\"#9c179e\"],[0.4444444444444444,\"#bd3786\"],[0.5555555555555556,\"#d8576b\"],[0.6666666666666666,\"#ed7953\"],[0.7777777777777778,\"#fb9f3a\"],[0.8888888888888888,\"#fdca26\"],[1.0,\"#f0f921\"]],\"sequentialminus\":[[0.0,\"#0d0887\"],[0.1111111111111111,\"#46039f\"],[0.2222222222222222,\"#7201a8\"],[0.3333333333333333,\"#9c179e\"],[0.4444444444444444,\"#bd3786\"],[0.5555555555555556,\"#d8576b\"],[0.6666666666666666,\"#ed7953\"],[0.7777777777777778,\"#fb9f3a\"],[0.8888888888888888,\"#fdca26\"],[1.0,\"#f0f921\"]]},\"colorway\":[\"#636efa\",\"#EF553B\",\"#00cc96\",\"#ab63fa\",\"#FFA15A\",\"#19d3f3\",\"#FF6692\",\"#B6E880\",\"#FF97FF\",\"#FECB52\"],\"font\":{\"color\":\"#2a3f5f\"},\"geo\":{\"bgcolor\":\"white\",\"lakecolor\":\"white\",\"landcolor\":\"#E5ECF6\",\"showlakes\":true,\"showland\":true,\"subunitcolor\":\"white\"},\"hoverlabel\":{\"align\":\"left\"},\"hovermode\":\"closest\",\"mapbox\":{\"style\":\"light\"},\"paper_bgcolor\":\"white\",\"plot_bgcolor\":\"#E5ECF6\",\"polar\":{\"angularaxis\":{\"gridcolor\":\"white\",\"linecolor\":\"white\",\"ticks\":\"\"},\"bgcolor\":\"#E5ECF6\",\"radialaxis\":{\"gridcolor\":\"white\",\"linecolor\":\"white\",\"ticks\":\"\"}},\"scene\":{\"xaxis\":{\"backgroundcolor\":\"#E5ECF6\",\"gridcolor\":\"white\",\"gridwidth\":2,\"linecolor\":\"white\",\"showbackground\":true,\"ticks\":\"\",\"zerolinecolor\":\"white\"},\"yaxis\":{\"backgroundcolor\":\"#E5ECF6\",\"gridcolor\":\"white\",\"gridwidth\":2,\"linecolor\":\"white\",\"showbackground\":true,\"ticks\":\"\",\"zerolinecolor\":\"white\"},\"zaxis\":{\"backgroundcolor\":\"#E5ECF6\",\"gridcolor\":\"white\",\"gridwidth\":2,\"linecolor\":\"white\",\"showbackground\":true,\"ticks\":\"\",\"zerolinecolor\":\"white\"}},\"shapedefaults\":{\"line\":{\"color\":\"#2a3f5f\"}},\"ternary\":{\"aaxis\":{\"gridcolor\":\"white\",\"linecolor\":\"white\",\"ticks\":\"\"},\"baxis\":{\"gridcolor\":\"white\",\"linecolor\":\"white\",\"ticks\":\"\"},\"bgcolor\":\"#E5ECF6\",\"caxis\":{\"gridcolor\":\"white\",\"linecolor\":\"white\",\"ticks\":\"\"}},\"title\":{\"x\":0.05},\"xaxis\":{\"automargin\":true,\"gridcolor\":\"white\",\"linecolor\":\"white\",\"ticks\":\"\",\"title\":{\"standoff\":15},\"zerolinecolor\":\"white\",\"zerolinewidth\":2},\"yaxis\":{\"automargin\":true,\"gridcolor\":\"white\",\"linecolor\":\"white\",\"ticks\":\"\",\"title\":{\"standoff\":15},\"zerolinecolor\":\"white\",\"zerolinewidth\":2}}}},                        {\"responsive\": true}                    ).then(function(){\n",
       "                            \n",
       "var gd = document.getElementById('da87499d-30f9-4f13-910b-c562946fd357');\n",
       "var x = new MutationObserver(function (mutations, observer) {{\n",
       "        var display = window.getComputedStyle(gd).display;\n",
       "        if (!display || display === 'none') {{\n",
       "            console.log([gd, 'removed!']);\n",
       "            Plotly.purge(gd);\n",
       "            observer.disconnect();\n",
       "        }}\n",
       "}});\n",
       "\n",
       "// Listen for the removal of the full notebook cells\n",
       "var notebookContainer = gd.closest('#notebook-container');\n",
       "if (notebookContainer) {{\n",
       "    x.observe(notebookContainer, {childList: true});\n",
       "}}\n",
       "\n",
       "// Listen for the clearing of the current output cell\n",
       "var outputEl = gd.closest('.output');\n",
       "if (outputEl) {{\n",
       "    x.observe(outputEl, {childList: true});\n",
       "}}\n",
       "\n",
       "                        })                };                });            </script>        </div>"
      ]
     },
     "metadata": {},
     "output_type": "display_data"
    }
   ],
   "source": [
    "import plotly.express as px\n",
    "fig=px.sunburst(data_mod,path=['Outlet_Type','Item_Type'],values='Item_Outlet_Sales')\n",
    "fig.show()"
   ]
  },
  {
   "cell_type": "markdown",
   "id": "92bc50d4",
   "metadata": {},
   "source": [
    "most of the items get selled from type1 supermarket and the most saled item is fruits and vegetables.seafood and breakfast items are least selling items"
   ]
  },
  {
   "cell_type": "code",
   "execution_count": null,
   "id": "68c8231e",
   "metadata": {},
   "outputs": [],
   "source": [
    "___Multivariate"
   ]
  },
  {
   "cell_type": "code",
   "execution_count": 403,
   "id": "8e2f99a8",
   "metadata": {},
   "outputs": [
    {
     "data": {
      "image/png": "[encoded data removed]",
      "text/plain": [
       "<Figure size 432x288 with 2 Axes>"
      ]
     },
     "metadata": {
      "needs_background": "light"
     },
     "output_type": "display_data"
    }
   ],
   "source": [
    "sns.heatmap(data_mod.corr(),annot=True)\n",
    "plt.show()"
   ]
  },
  {
   "cell_type": "code",
   "execution_count": 419,
   "id": "4f587235",
   "metadata": {},
   "outputs": [
    {
     "data": {
      "text/plain": [
       "<AxesSubplot:>"
      ]
     },
     "execution_count": 419,
     "metadata": {},
     "output_type": "execute_result"
    },
    {
     "data": {
      "image/png": "[encoded data removed]",
      "text/plain": [
       "<Figure size 720x432 with 2 Axes>"
      ]
     },
     "metadata": {
      "needs_background": "light"
     },
     "output_type": "display_data"
    }
   ],
   "source": [
    "correlation=data_t.corr(method='pearson')\n",
    "plt.figure(figsize=(10,6))\n",
    "sns.heatmap(correlation,annot=True)"
   ]
  },
  {
   "cell_type": "markdown",
   "id": "b2677299",
   "metadata": {},
   "source": [
    "the feature outlet type is highly correlated with sales feature\n",
    "outlet size is negatively correlated with outlet type"
   ]
  },
  {
   "cell_type": "markdown",
   "id": "bfa47f31",
   "metadata": {},
   "source": [
    "___Identifing and removing outliers using zscore"
   ]
  },
  {
   "cell_type": "markdown",
   "id": "e2c7e9b0",
   "metadata": {},
   "source": [
    "The features 'Item_Weight', 'Item_Fat_Content',\n",
    "       'Item_Type', 'Outlet_Identifier',Outlet_Establishment_Year', 'Outlet_Size', 'Outlet_Location_Type',\n",
    "       'Outlet_Type' all are categorical coloumns.Even if i has outliers it wont affect target value"
   ]
  },
  {
   "cell_type": "code",
   "execution_count": 497,
   "id": "a7e71ede",
   "metadata": {},
   "outputs": [
    {
     "name": "stdout",
     "output_type": "stream",
     "text": [
      "(array([  49,   83,  108,  174,  434,  502,  521,  532,  854, 1159, 1272,\n",
      "       1291, 1311, 1324, 1434, 1496, 1501, 1560, 1575, 1644, 1651, 1805,\n",
      "       1827, 1841, 2088, 2122, 2251, 2324, 2439, 2445, 2586, 2613, 2728,\n",
      "       2855, 2895, 3017, 3206, 3399, 3458, 3474, 3488, 3497, 3540, 3750,\n",
      "       3767, 3884, 3993, 4006, 4219, 4382, 4408, 4530, 4656, 4674, 4789,\n",
      "       4941, 5031, 5150, 5287, 5374, 5732, 5734, 5795, 5837, 5880, 5891,\n",
      "       5946, 6008, 6012, 6179, 6536, 6576, 6622, 6674, 6786, 6903, 7005,\n",
      "       7088, 7107, 7121, 7215, 7250, 7278, 7388, 7499, 7558, 7603, 7744,\n",
      "       7866, 7949, 8194, 8215, 8273, 8345, 8432], dtype=int64),)\n"
     ]
    }
   ],
   "source": [
    "z = np.abs(zscore(data_mod['Item_Visibility']))\n",
    "print(np.where(z > 3))"
   ]
  },
  {
   "cell_type": "code",
   "execution_count": 498,
   "id": "b2d0aa1c",
   "metadata": {},
   "outputs": [],
   "source": [
    "upper_limit = df_train['Item_Visibility'].mean() + 3*df_train['Item_Visibility'].std()\n",
    "lower_limit = df_train['Item_Visibility'].mean() - 3*df_train['Item_Visibility'].std()"
   ]
  },
  {
   "cell_type": "code",
   "execution_count": 499,
   "id": "531e9161",
   "metadata": {},
   "outputs": [],
   "source": [
    "data_clean=data_mod"
   ]
  },
  {
   "cell_type": "markdown",
   "id": "7e9218ab",
   "metadata": {},
   "source": []
  },
  {
   "cell_type": "code",
   "execution_count": 500,
   "id": "72a769dd",
   "metadata": {},
   "outputs": [],
   "source": [
    "data_clean['Item_Visibility'] = np.where(\n",
    "    data_mod['Item_Visibility']>upper_limit,\n",
    "    upper_limit,\n",
    "    np.where(\n",
    "        data_mod['Item_Visibility']<lower_limit,\n",
    "        lower_limit,\n",
    "        data_mod['Item_Visibility']\n",
    "    )\n",
    ")"
   ]
  },
  {
   "cell_type": "code",
   "execution_count": 501,
   "id": "6dfce044",
   "metadata": {},
   "outputs": [
    {
     "data": {
      "text/plain": [
       "(8523, 12)"
      ]
     },
     "execution_count": 501,
     "metadata": {},
     "output_type": "execute_result"
    }
   ],
   "source": [
    "data_clean.shape"
   ]
  },
  {
   "cell_type": "code",
   "execution_count": 502,
   "id": "4c5e060c",
   "metadata": {},
   "outputs": [
    {
     "data": {
      "text/plain": [
       "<AxesSubplot:xlabel='Item_Visibility'>"
      ]
     },
     "execution_count": 502,
     "metadata": {},
     "output_type": "execute_result"
    },
    {
     "data": {
      "image/png": "[encoded data removed]",
      "text/plain": [
       "<Figure size 432x288 with 1 Axes>"
      ]
     },
     "metadata": {
      "needs_background": "light"
     },
     "output_type": "display_data"
    }
   ],
   "source": [
    "sns.boxplot(data_clean['Item_Visibility'],color=\"salmon\")"
   ]
  },
  {
   "cell_type": "markdown",
   "id": "6805504e",
   "metadata": {},
   "source": [
    "__Handling skewness"
   ]
  },
  {
   "cell_type": "code",
   "execution_count": 503,
   "id": "01ea2479",
   "metadata": {},
   "outputs": [
    {
     "data": {
      "image/png": "[encoded data removed]",
      "text/plain": [
       "<Figure size 360x360 with 1 Axes>"
      ]
     },
     "metadata": {
      "needs_background": "light"
     },
     "output_type": "display_data"
    }
   ],
   "source": [
    "plt.figure(figsize=(5,5))\n",
    "sns.distplot(data_clean['Item_Visibility'],color='green',kde=True)\n",
    "plt.grid()\n",
    "    ##plt.legend(loc='upper right')\n",
    "plt.tight_layout()"
   ]
  },
  {
   "cell_type": "code",
   "execution_count": 504,
   "id": "8fdadfdd",
   "metadata": {},
   "outputs": [
    {
     "data": {
      "text/plain": [
       "0.9159386853302449"
      ]
     },
     "execution_count": 504,
     "metadata": {},
     "output_type": "execute_result"
    }
   ],
   "source": [
    "data_mod['Item_Visibility'].skew()"
   ]
  },
  {
   "cell_type": "code",
   "execution_count": 505,
   "id": "3d3405e3",
   "metadata": {},
   "outputs": [],
   "source": [
    "data_s=data_clean"
   ]
  },
  {
   "cell_type": "code",
   "execution_count": 506,
   "id": "ea768760",
   "metadata": {},
   "outputs": [],
   "source": [
    "data_s['Item_Visibility']=np.log1p(data_clean['Item_Visibility'])"
   ]
  },
  {
   "cell_type": "code",
   "execution_count": 507,
   "id": "4949d1f1",
   "metadata": {},
   "outputs": [
    {
     "data": {
      "text/plain": [
       "0.8175445529551456"
      ]
     },
     "execution_count": 507,
     "metadata": {},
     "output_type": "execute_result"
    }
   ],
   "source": [
    "data_s['Item_Visibility'].skew()"
   ]
  },
  {
   "cell_type": "code",
   "execution_count": 508,
   "id": "836b8a8e",
   "metadata": {},
   "outputs": [
    {
     "data": {
      "text/html": [
       "<div>\n",
       "<style scoped>\n",
       "    .dataframe tbody tr th:only-of-type {\n",
       "        vertical-align: middle;\n",
       "    }\n",
       "\n",
       "    .dataframe tbody tr th {\n",
       "        vertical-align: top;\n",
       "    }\n",
       "\n",
       "    .dataframe thead th {\n",
       "        text-align: right;\n",
       "    }\n",
       "</style>\n",
       "<table border=\"1\" class=\"dataframe\">\n",
       "  <thead>\n",
       "    <tr style=\"text-align: right;\">\n",
       "      <th></th>\n",
       "      <th>Item_Identifier</th>\n",
       "      <th>Item_Weight</th>\n",
       "      <th>Item_Fat_Content</th>\n",
       "      <th>Item_Visibility</th>\n",
       "      <th>Item_Type</th>\n",
       "      <th>Item_MRP</th>\n",
       "      <th>Outlet_Identifier</th>\n",
       "      <th>Outlet_Establishment_Year</th>\n",
       "      <th>Outlet_Size</th>\n",
       "      <th>Outlet_Location_Type</th>\n",
       "      <th>Outlet_Type</th>\n",
       "      <th>Item_Outlet_Sales</th>\n",
       "    </tr>\n",
       "  </thead>\n",
       "  <tbody>\n",
       "    <tr>\n",
       "      <th>0</th>\n",
       "      <td>FDA15</td>\n",
       "      <td>9.30</td>\n",
       "      <td>Low Fat</td>\n",
       "      <td>0.015920</td>\n",
       "      <td>Dairy</td>\n",
       "      <td>249.8092</td>\n",
       "      <td>OUT049</td>\n",
       "      <td>1999</td>\n",
       "      <td>Medium</td>\n",
       "      <td>Tier 1</td>\n",
       "      <td>Supermarket Type1</td>\n",
       "      <td>3735.1380</td>\n",
       "    </tr>\n",
       "    <tr>\n",
       "      <th>1</th>\n",
       "      <td>DRC01</td>\n",
       "      <td>5.92</td>\n",
       "      <td>Regular</td>\n",
       "      <td>0.019095</td>\n",
       "      <td>Soft Drinks</td>\n",
       "      <td>48.2692</td>\n",
       "      <td>OUT018</td>\n",
       "      <td>2009</td>\n",
       "      <td>Medium</td>\n",
       "      <td>Tier 3</td>\n",
       "      <td>Supermarket Type2</td>\n",
       "      <td>443.4228</td>\n",
       "    </tr>\n",
       "    <tr>\n",
       "      <th>2</th>\n",
       "      <td>FDN15</td>\n",
       "      <td>17.50</td>\n",
       "      <td>Low Fat</td>\n",
       "      <td>0.016621</td>\n",
       "      <td>Meat</td>\n",
       "      <td>141.6180</td>\n",
       "      <td>OUT049</td>\n",
       "      <td>1999</td>\n",
       "      <td>Medium</td>\n",
       "      <td>Tier 1</td>\n",
       "      <td>Supermarket Type1</td>\n",
       "      <td>2097.2700</td>\n",
       "    </tr>\n",
       "    <tr>\n",
       "      <th>3</th>\n",
       "      <td>FDX07</td>\n",
       "      <td>19.20</td>\n",
       "      <td>Regular</td>\n",
       "      <td>0.000000</td>\n",
       "      <td>Fruits and Vegetables</td>\n",
       "      <td>182.0950</td>\n",
       "      <td>OUT010</td>\n",
       "      <td>1998</td>\n",
       "      <td>Medium</td>\n",
       "      <td>Tier 3</td>\n",
       "      <td>Grocery Store</td>\n",
       "      <td>732.3800</td>\n",
       "    </tr>\n",
       "    <tr>\n",
       "      <th>4</th>\n",
       "      <td>NCD19</td>\n",
       "      <td>8.93</td>\n",
       "      <td>Low Fat</td>\n",
       "      <td>0.000000</td>\n",
       "      <td>Household</td>\n",
       "      <td>53.8614</td>\n",
       "      <td>OUT013</td>\n",
       "      <td>1987</td>\n",
       "      <td>High</td>\n",
       "      <td>Tier 3</td>\n",
       "      <td>Supermarket Type1</td>\n",
       "      <td>994.7052</td>\n",
       "    </tr>\n",
       "  </tbody>\n",
       "</table>\n",
       "</div>"
      ],
      "text/plain": [
       "  Item_Identifier  Item_Weight Item_Fat_Content  Item_Visibility  \\\n",
       "0           FDA15         9.30          Low Fat         0.015920   \n",
       "1           DRC01         5.92          Regular         0.019095   \n",
       "2           FDN15        17.50          Low Fat         0.016621   \n",
       "3           FDX07        19.20          Regular         0.000000   \n",
       "4           NCD19         8.93          Low Fat         0.000000   \n",
       "\n",
       "               Item_Type  Item_MRP Outlet_Identifier  \\\n",
       "0                  Dairy  249.8092            OUT049   \n",
       "1            Soft Drinks   48.2692            OUT018   \n",
       "2                   Meat  141.6180            OUT049   \n",
       "3  Fruits and Vegetables  182.0950            OUT010   \n",
       "4              Household   53.8614            OUT013   \n",
       "\n",
       "   Outlet_Establishment_Year Outlet_Size Outlet_Location_Type  \\\n",
       "0                       1999      Medium               Tier 1   \n",
       "1                       2009      Medium               Tier 3   \n",
       "2                       1999      Medium               Tier 1   \n",
       "3                       1998      Medium               Tier 3   \n",
       "4                       1987        High               Tier 3   \n",
       "\n",
       "         Outlet_Type  Item_Outlet_Sales  \n",
       "0  Supermarket Type1          3735.1380  \n",
       "1  Supermarket Type2           443.4228  \n",
       "2  Supermarket Type1          2097.2700  \n",
       "3      Grocery Store           732.3800  \n",
       "4  Supermarket Type1           994.7052  "
      ]
     },
     "execution_count": 508,
     "metadata": {},
     "output_type": "execute_result"
    }
   ],
   "source": [
    "data_s.head(5)"
   ]
  },
  {
   "cell_type": "markdown",
   "id": "6580591c",
   "metadata": {},
   "source": [
    "__converting categorical columns to numerical coloumn by label encoding technique"
   ]
  },
  {
   "cell_type": "code",
   "execution_count": 509,
   "id": "b27f2607",
   "metadata": {},
   "outputs": [],
   "source": [
    "data_t=data_s"
   ]
  },
  {
   "cell_type": "code",
   "execution_count": 510,
   "id": "6b3cfcb5",
   "metadata": {},
   "outputs": [
    {
     "name": "stdout",
     "output_type": "stream",
     "text": [
      "Item_Fat_Content [1 2 3 0 4]\n",
      "Outlet_Size [1 0 2]\n",
      "Outlet_Location_Type [0 2 1]\n",
      "Outlet_Type [1 2 0 3]\n",
      "Outlet_Identifier [9 3 0 1 5 7 2 8 6 4]\n",
      "Item_Type [ 4 14 10  6  9  0 13  5  2  8  7  3  1 15 11 12]\n",
      "Outlet_Establishment_Year [4 8 3 1 0 5 7 2 6]\n"
     ]
    }
   ],
   "source": [
    "from sklearn import preprocessing \n",
    "label = preprocessing.LabelEncoder()\n",
    "##df = pd.get_dummies(data_t, columns=['Item_Fat_Content', 'Outlet_Size', 'Outlet_Location_Type', 'Outlet_Type', 'Outlet_Identifier','Item_Type','New_Item_Type','Outlet_Identifier'])\n",
    "col_l=['Item_Fat_Content','Outlet_Size','Outlet_Location_Type','Outlet_Type','Outlet_Identifier','Item_Type','Outlet_Establishment_Year']\n",
    "for i in col_l:\n",
    "    data_t[i]= label.fit_transform(data_t[i]) \n",
    "    print(i,data_t[i].unique())"
   ]
  },
  {
   "cell_type": "code",
   "execution_count": 511,
   "id": "7fd5ea99",
   "metadata": {
    "scrolled": true
   },
   "outputs": [
    {
     "data": {
      "text/html": [
       "<div>\n",
       "<style scoped>\n",
       "    .dataframe tbody tr th:only-of-type {\n",
       "        vertical-align: middle;\n",
       "    }\n",
       "\n",
       "    .dataframe tbody tr th {\n",
       "        vertical-align: top;\n",
       "    }\n",
       "\n",
       "    .dataframe thead th {\n",
       "        text-align: right;\n",
       "    }\n",
       "</style>\n",
       "<table border=\"1\" class=\"dataframe\">\n",
       "  <thead>\n",
       "    <tr style=\"text-align: right;\">\n",
       "      <th></th>\n",
       "      <th>Item_Identifier</th>\n",
       "      <th>Item_Weight</th>\n",
       "      <th>Item_Fat_Content</th>\n",
       "      <th>Item_Visibility</th>\n",
       "      <th>Item_Type</th>\n",
       "      <th>Item_MRP</th>\n",
       "      <th>Outlet_Identifier</th>\n",
       "      <th>Outlet_Establishment_Year</th>\n",
       "      <th>Outlet_Size</th>\n",
       "      <th>Outlet_Location_Type</th>\n",
       "      <th>Outlet_Type</th>\n",
       "      <th>Item_Outlet_Sales</th>\n",
       "    </tr>\n",
       "  </thead>\n",
       "  <tbody>\n",
       "    <tr>\n",
       "      <th>0</th>\n",
       "      <td>156</td>\n",
       "      <td>9.30</td>\n",
       "      <td>1</td>\n",
       "      <td>0.015920</td>\n",
       "      <td>4</td>\n",
       "      <td>249.8092</td>\n",
       "      <td>9</td>\n",
       "      <td>4</td>\n",
       "      <td>1</td>\n",
       "      <td>0</td>\n",
       "      <td>1</td>\n",
       "      <td>3735.1380</td>\n",
       "    </tr>\n",
       "    <tr>\n",
       "      <th>1</th>\n",
       "      <td>8</td>\n",
       "      <td>5.92</td>\n",
       "      <td>2</td>\n",
       "      <td>0.019095</td>\n",
       "      <td>14</td>\n",
       "      <td>48.2692</td>\n",
       "      <td>3</td>\n",
       "      <td>8</td>\n",
       "      <td>1</td>\n",
       "      <td>2</td>\n",
       "      <td>2</td>\n",
       "      <td>443.4228</td>\n",
       "    </tr>\n",
       "    <tr>\n",
       "      <th>2</th>\n",
       "      <td>662</td>\n",
       "      <td>17.50</td>\n",
       "      <td>1</td>\n",
       "      <td>0.016621</td>\n",
       "      <td>10</td>\n",
       "      <td>141.6180</td>\n",
       "      <td>9</td>\n",
       "      <td>4</td>\n",
       "      <td>1</td>\n",
       "      <td>0</td>\n",
       "      <td>1</td>\n",
       "      <td>2097.2700</td>\n",
       "    </tr>\n",
       "    <tr>\n",
       "      <th>3</th>\n",
       "      <td>1121</td>\n",
       "      <td>19.20</td>\n",
       "      <td>2</td>\n",
       "      <td>0.000000</td>\n",
       "      <td>6</td>\n",
       "      <td>182.0950</td>\n",
       "      <td>0</td>\n",
       "      <td>3</td>\n",
       "      <td>1</td>\n",
       "      <td>2</td>\n",
       "      <td>0</td>\n",
       "      <td>732.3800</td>\n",
       "    </tr>\n",
       "    <tr>\n",
       "      <th>4</th>\n",
       "      <td>1297</td>\n",
       "      <td>8.93</td>\n",
       "      <td>1</td>\n",
       "      <td>0.000000</td>\n",
       "      <td>9</td>\n",
       "      <td>53.8614</td>\n",
       "      <td>1</td>\n",
       "      <td>1</td>\n",
       "      <td>0</td>\n",
       "      <td>2</td>\n",
       "      <td>1</td>\n",
       "      <td>994.7052</td>\n",
       "    </tr>\n",
       "  </tbody>\n",
       "</table>\n",
       "</div>"
      ],
      "text/plain": [
       "   Item_Identifier  Item_Weight  Item_Fat_Content  Item_Visibility  Item_Type  \\\n",
       "0              156         9.30                 1         0.015920          4   \n",
       "1                8         5.92                 2         0.019095         14   \n",
       "2              662        17.50                 1         0.016621         10   \n",
       "3             1121        19.20                 2         0.000000          6   \n",
       "4             1297         8.93                 1         0.000000          9   \n",
       "\n",
       "   Item_MRP  Outlet_Identifier  Outlet_Establishment_Year  Outlet_Size  \\\n",
       "0  249.8092                  9                          4            1   \n",
       "1   48.2692                  3                          8            1   \n",
       "2  141.6180                  9                          4            1   \n",
       "3  182.0950                  0                          3            1   \n",
       "4   53.8614                  1                          1            0   \n",
       "\n",
       "   Outlet_Location_Type  Outlet_Type  Item_Outlet_Sales  \n",
       "0                     0            1          3735.1380  \n",
       "1                     2            2           443.4228  \n",
       "2                     0            1          2097.2700  \n",
       "3                     2            0           732.3800  \n",
       "4                     2            1           994.7052  "
      ]
     },
     "execution_count": 511,
     "metadata": {},
     "output_type": "execute_result"
    }
   ],
   "source": [
    "data_t['Item_Identifier']= label.fit_transform(data_t['Item_Identifier']) \n",
    "data_t.head(5)"
   ]
  },
  {
   "cell_type": "markdown",
   "id": "e16e036f",
   "metadata": {},
   "source": [
    "__Modelling"
   ]
  },
  {
   "cell_type": "code",
   "execution_count": 512,
   "id": "d28db24f",
   "metadata": {},
   "outputs": [],
   "source": [
    "from sklearn.neighbors import KNeighborsRegressor\n",
    "from sklearn.svm import SVR\n",
    "from sklearn.tree import DecisionTreeRegressor\n",
    "from sklearn.linear_model import LinearRegression\n",
    "from sklearn.linear_model import Ridge\n",
    "from sklearn.linear_model import Lasso\n",
    "from sklearn.ensemble import RandomForestRegressor\n",
    "import xgboost as xgb\n",
    "from sklearn.model_selection import train_test_split"
   ]
  },
  {
   "cell_type": "code",
   "execution_count": 513,
   "id": "213d0f12",
   "metadata": {},
   "outputs": [],
   "source": [
    "x1=data_t.drop('Item_Outlet_Sales',axis=1)\n",
    "y1=df_train['Item_Outlet_Sales']"
   ]
  },
  {
   "cell_type": "markdown",
   "id": "6629ccea",
   "metadata": {},
   "source": [
    "_To scale the unscaled data ,I have used minmax scalar transmormation because min max scalar does not lose any data.if I use any other scalar like zscore it will lose some data which inturn decrease the accuracy"
   ]
  },
  {
   "cell_type": "code",
   "execution_count": 514,
   "id": "4b88a352",
   "metadata": {},
   "outputs": [],
   "source": [
    "from sklearn import preprocessing \n",
    "unscaled=x1\n",
    "scaled = preprocessing.MinMaxScaler().fit_transform(unscaled)"
   ]
  },
  {
   "cell_type": "code",
   "execution_count": 515,
   "id": "e915e8ac",
   "metadata": {},
   "outputs": [],
   "source": [
    "x=scaled\n",
    "y=y1"
   ]
  },
  {
   "cell_type": "code",
   "execution_count": 516,
   "id": "93fe3425",
   "metadata": {},
   "outputs": [],
   "source": [
    "xtrain,xtest,ytrain,ytest=train_test_split(x,y,test_size=0.33,random_state=1)\n",
    "from sklearn.metrics import mean_absolute_error,mean_squared_error,r2_score\n",
    "models=[KNeighborsRegressor(),SVR(),DecisionTreeRegressor(),LinearRegression(),Ridge(),Lasso(),\n",
    "        RandomForestRegressor(), xgb.XGBRegressor(objective=\"reg:squarederror\")]\n",
    "maelist=[]\n",
    "mselist=[]\n",
    "rmselist=[]\n",
    "r2list=[]"
   ]
  },
  {
   "cell_type": "code",
   "execution_count": 517,
   "id": "69b401cf",
   "metadata": {},
   "outputs": [
    {
     "name": "stdout",
     "output_type": "stream",
     "text": [
      "KNeighborsRegressor()\n",
      "accuracy score 0.5179380849104658\n",
      "Mean absolute error 838.548046697476\n",
      "Mean squared error 1433522.3221206996\n",
      "Root Mean squared error 1197.2979253806045\n",
      "R2 Score 0.5179380849104658\n",
      "---------------------------------------------------------------------------------------------------------\n",
      "SVR()\n",
      "accuracy score 0.03985265139555538\n",
      "Mean absolute error 1267.6211611841081\n",
      "Mean squared error 2855219.658856137\n",
      "Root Mean squared error 1689.7395239669743\n",
      "R2 Score 0.03985265139555538\n",
      "---------------------------------------------------------------------------------------------------------\n",
      "DecisionTreeRegressor()\n",
      "accuracy score 0.24267371438317065\n",
      "Mean absolute error 1042.7090723071456\n",
      "Mean squared error 2252084.4347532466\n",
      "Root Mean squared error 1500.6946507378664\n",
      "R2 Score 0.24267371438317065\n",
      "---------------------------------------------------------------------------------------------------------\n",
      "LinearRegression()\n",
      "accuracy score 0.5055308623417071\n",
      "Mean absolute error 914.977686303883\n",
      "Mean squared error 1470418.0609274704\n",
      "Root Mean squared error 1212.6079584628621\n",
      "R2 Score 0.5055308623417071\n",
      "---------------------------------------------------------------------------------------------------------\n",
      "Ridge()\n",
      "accuracy score 0.5055425505672171\n",
      "Mean absolute error 914.8299716306136\n",
      "Mean squared error 1470383.3032922992\n",
      "Root Mean squared error 1212.5936266088072\n",
      "R2 Score 0.5055425505672171\n",
      "---------------------------------------------------------------------------------------------------------\n",
      "Lasso()\n",
      "accuracy score 0.5058894870798456\n",
      "Mean absolute error 914.3352297997974\n",
      "Mean squared error 1469351.6075294858\n",
      "Root Mean squared error 1212.1681432579746\n",
      "R2 Score 0.5058894870798456\n",
      "---------------------------------------------------------------------------------------------------------\n",
      "RandomForestRegressor()\n",
      "accuracy score 0.5574202910870695\n",
      "Mean absolute error 796.6786728681124\n",
      "Mean squared error 1316112.8730248897\n",
      "Root Mean squared error 1147.2196271965058\n",
      "R2 Score 0.5574202910870695\n",
      "---------------------------------------------------------------------------------------------------------\n",
      "XGBRegressor(base_score=0.5, booster='gbtree', colsample_bylevel=1,\n",
      "             colsample_bynode=1, colsample_bytree=1, gamma=0, gpu_id=-1,\n",
      "             importance_type='gain', interaction_constraints='',\n",
      "             learning_rate=0.300000012, max_delta_step=0, max_depth=6,\n",
      "             min_child_weight=1, missing=nan, monotone_constraints='()',\n",
      "             n_estimators=100, n_jobs=4, num_parallel_tree=1, random_state=0,\n",
      "             reg_alpha=0, reg_lambda=1, scale_pos_weight=1, subsample=1,\n",
      "             tree_method='exact', validate_parameters=1, verbosity=None)\n",
      "accuracy score 0.5257780415151408\n",
      "Mean absolute error 836.7689410977644\n",
      "Mean squared error 1410208.4023824602\n",
      "Root Mean squared error 1187.521958694853\n",
      "R2 Score 0.5257780415151408\n",
      "---------------------------------------------------------------------------------------------------------\n"
     ]
    }
   ],
   "source": [
    "def create_model(model):\n",
    "    m=model\n",
    "    m.fit(xtrain,ytrain)\n",
    "    p=m.predict(xtest)\n",
    "    acc=m.score(xtest,ytest)\n",
    "    mae=mean_absolute_error(p,ytest)\n",
    "    mse=mean_squared_error(p,ytest)\n",
    "    rmse=np.sqrt(mean_squared_error(p,ytest))\n",
    "    r2=r2_score(ytest,p)\n",
    "    \n",
    "    maelist.append(mae)\n",
    "    mselist.append(mse)\n",
    "    rmselist.append(rmse)\n",
    "    r2list.append(r2)\n",
    "    \n",
    "    print(m)\n",
    "    print(\"accuracy score\",acc)\n",
    "    print('Mean absolute error',mae)\n",
    "    print('Mean squared error',mse)\n",
    "    print('Root Mean squared error',rmse)\n",
    "    print('R2 Score',r2)\n",
    "    print('---------------------------------------------------------------------------------------------------------')\n",
    "for i in models:\n",
    "    create_model(i)"
   ]
  },
  {
   "cell_type": "code",
   "execution_count": 518,
   "id": "dc82dbd4",
   "metadata": {},
   "outputs": [
    {
     "name": "stdout",
     "output_type": "stream",
     "text": [
      "Minimum Mean Absolute error is shown by  RandomForestRegressor() 796.6786728681124\n",
      "Minimum Mean squared error is shown by  RandomForestRegressor() 1316112.8730248897\n",
      "Minimum Root Mean squared error is shown by  RandomForestRegressor() 1147.2196271965058\n",
      "Maximun R2 Score is shown by  RandomForestRegressor() 0.5574202910870695\n"
     ]
    }
   ],
   "source": [
    "print('Minimum Mean Absolute error is shown by ',models[maelist.index(min(maelist))],min(maelist))\n",
    "print('Minimum Mean squared error is shown by ',models[mselist.index(min(mselist))],min(mselist))\n",
    "print('Minimum Root Mean squared error is shown by ',models[rmselist.index(min(rmselist))],min(rmselist))\n",
    "print('Maximun R2 Score is shown by ',models[r2list.index(max(r2list))],max(r2list))"
   ]
  },
  {
   "cell_type": "markdown",
   "id": "b6e52a27",
   "metadata": {},
   "source": [
    "I have used 6 models (linear regressor,lasso,ridge,Kneighbours classifier,random forest classifier and xgb classifier.In which random forest has high accuracy  0.5570214435060694"
   ]
  },
  {
   "cell_type": "markdown",
   "id": "0a2054fa",
   "metadata": {},
   "source": [
    "__cross validation"
   ]
  },
  {
   "cell_type": "code",
   "execution_count": 519,
   "id": "4e6042a8",
   "metadata": {},
   "outputs": [
    {
     "data": {
      "text/plain": [
       "array([0.500304  , 0.51059728, 0.54275518, 0.50928302, 0.49682464])"
      ]
     },
     "execution_count": 519,
     "metadata": {},
     "output_type": "execute_result"
    }
   ],
   "source": [
    "from sklearn.model_selection import cross_val_score\n",
    "knr=KNeighborsRegressor()\n",
    "scores=cross_val_score(knr,xtrain,ytrain,scoring='r2',cv=5)\n",
    "scores"
   ]
  },
  {
   "cell_type": "code",
   "execution_count": 520,
   "id": "c55c6798",
   "metadata": {},
   "outputs": [
    {
     "data": {
      "text/plain": [
       "array([0.50137447, 0.50286639, 0.52789409, 0.51985641, 0.49624128])"
      ]
     },
     "execution_count": 520,
     "metadata": {},
     "output_type": "execute_result"
    }
   ],
   "source": [
    "from sklearn.model_selection import cross_val_score\n",
    "rid=Ridge()\n",
    "scores=cross_val_score(rid,xtrain,ytrain,scoring='r2',cv=5)\n",
    "scores"
   ]
  },
  {
   "cell_type": "code",
   "execution_count": 521,
   "id": "4ac94ae8",
   "metadata": {},
   "outputs": [
    {
     "data": {
      "text/plain": [
       "array([0.50129857, 0.50283137, 0.52787437, 0.51989783, 0.49631162])"
      ]
     },
     "execution_count": 521,
     "metadata": {},
     "output_type": "execute_result"
    }
   ],
   "source": [
    "from sklearn.model_selection import cross_val_score\n",
    "lr=LinearRegression()\n",
    "scores=cross_val_score(lr,xtrain,ytrain,scoring='r2',cv=5)\n",
    "scores"
   ]
  },
  {
   "cell_type": "code",
   "execution_count": 522,
   "id": "b012cd09",
   "metadata": {},
   "outputs": [
    {
     "data": {
      "text/plain": [
       "array([0.50118721, 0.50325067, 0.5283126 , 0.51995805, 0.49593806])"
      ]
     },
     "execution_count": 522,
     "metadata": {},
     "output_type": "execute_result"
    }
   ],
   "source": [
    "from sklearn.model_selection import cross_val_score\n",
    "l=Lasso()\n",
    "scores=cross_val_score(l,xtrain,ytrain,scoring='r2',cv=5)\n",
    "scores"
   ]
  },
  {
   "cell_type": "code",
   "execution_count": 523,
   "id": "107ed823",
   "metadata": {},
   "outputs": [
    {
     "data": {
      "text/plain": [
       "array([0.54263077, 0.56383156, 0.57885913, 0.56742854, 0.55325146])"
      ]
     },
     "execution_count": 523,
     "metadata": {},
     "output_type": "execute_result"
    }
   ],
   "source": [
    "from sklearn.model_selection import cross_val_score\n",
    "rf=RandomForestRegressor()\n",
    "scores=cross_val_score(rf,xtrain,ytrain,scoring='r2',cv=5)\n",
    "scores"
   ]
  },
  {
   "cell_type": "code",
   "execution_count": 524,
   "id": "b1746f01",
   "metadata": {},
   "outputs": [
    {
     "data": {
      "text/plain": [
       "array([0.49595757, 0.49987646, 0.53187967, 0.54108629, 0.51118582])"
      ]
     },
     "execution_count": 524,
     "metadata": {},
     "output_type": "execute_result"
    }
   ],
   "source": [
    "from sklearn.model_selection import cross_val_score\n",
    "x=xgb.XGBRegressor()\n",
    "scores=cross_val_score(x,xtrain,ytrain,scoring='r2',cv=5)\n",
    "scores"
   ]
  },
  {
   "cell_type": "markdown",
   "id": "ef841961",
   "metadata": {},
   "source": [
    "__hyper Tuning"
   ]
  },
  {
   "cell_type": "code",
   "execution_count": 531,
   "id": "1148d099",
   "metadata": {},
   "outputs": [
    {
     "name": "stdout",
     "output_type": "stream",
     "text": [
      "Best param: {'bootstrap': True, 'criterion': 'mse', 'max_features': 'log2', 'min_samples_leaf': 10, 'n_estimators': 300}\n"
     ]
    }
   ],
   "source": [
    "from sklearn.model_selection import GridSearchCV,KFold\n",
    "params = {\"max_features\": ['auto', 'sqrt','log2'],\n",
    "                \"min_samples_leaf\":[1,3,10],\n",
    "                \"bootstrap\":[True],\n",
    "                \"n_estimators\":[100,300,10],\n",
    "                 'criterion': ['mse', 'mae']}\n",
    "\n",
    "\n",
    "gs2 = GridSearchCV(RandomForestRegressor(), params, cv=KFold(n_splits=3), scoring='r2')\n",
    "gs2.fit(xtrain, ytrain)\n",
    "print('Best param:', gs2.best_params_)"
   ]
  },
  {
   "cell_type": "markdown",
   "id": "26012f9c",
   "metadata": {},
   "source": [
    "__modelling using best parameters"
   ]
  },
  {
   "cell_type": "code",
   "execution_count": 532,
   "id": "e0a23831",
   "metadata": {},
   "outputs": [],
   "source": [
    "x=scaled\n",
    "y=y1"
   ]
  },
  {
   "cell_type": "code",
   "execution_count": 558,
   "id": "0aa58967",
   "metadata": {},
   "outputs": [
    {
     "name": "stdout",
     "output_type": "stream",
     "text": [
      "Accuracy 0.5950306189455429\n",
      "Mean absolute error 767.2015231082896\n",
      "Mean squared error 1172764.208542881\n",
      "Root Mean squared error 1082.94238468299\n",
      "r2 score 0.5950306189455429\n"
     ]
    }
   ],
   "source": [
    "xtrain,xtest,ytrain,ytest=train_test_split(x,y,test_size=0.25,random_state=1)\n",
    "from sklearn.metrics import mean_absolute_error,mean_squared_error,r2_score,accuracy_score\n",
    "model=RandomForestRegressor(bootstrap=True, criterion='mse', max_features='log2', min_samples_leaf=10, n_estimators=300)\n",
    "model.fit(xtrain,ytrain)\n",
    "p=model.predict(xtest)\n",
    "acc=model.score(xtest,ytest)\n",
    "mae=mean_absolute_error(p,ytest)\n",
    "mse=mean_squared_error(p,ytest)\n",
    "rmse=np.sqrt(mean_squared_error(p,ytest))\n",
    "r2=r2_score(ytest,p)\n",
    "print('Accuracy',acc)\n",
    "print('Mean absolute error',mae)\n",
    "print('Mean squared error',mse)\n",
    "print('Root Mean squared error',rmse)\n",
    "print('r2 score',r2)"
   ]
  },
  {
   "cell_type": "code",
   "execution_count": null,
   "id": "6e3b055f",
   "metadata": {},
   "outputs": [],
   "source": [
    "_Before hyper tuning: \n",
    "\n",
    "r2 score of Randomforest Regressor model is 0.5574202910870695\n",
    "\n",
    "__After hyper tuning \n",
    "r2 score of Randomforest Regressor model is 0.5950306189455429\n"
   ]
  },
  {
   "cell_type": "code",
   "execution_count": null,
   "id": "5530f2f9",
   "metadata": {},
   "outputs": [],
   "source": [
    "It is apparent that  after hyper tuning the accuracy is increased.\n",
    "\n",
    "\n",
    "Best model:Random forest Regressor\n",
    "Best parameters:{'bootstrap': True, 'criterion': 'mse', 'max_features': 'log2', 'min_samples_leaf': 10, 'n_estimators': 300}"
   ]
  },
  {
   "cell_type": "markdown",
   "id": "b354f72d",
   "metadata": {},
   "source": [
    "__save the model"
   ]
  },
  {
   "cell_type": "code",
   "execution_count": 559,
   "id": "ec0f5e99",
   "metadata": {},
   "outputs": [
    {
     "data": {
      "text/plain": [
       "['model_bigmart.joblib']"
      ]
     },
     "execution_count": 559,
     "metadata": {},
     "output_type": "execute_result"
    }
   ],
   "source": [
    "from joblib import dump\n",
    "dump(model, 'model_bigmart.joblib')"
   ]
  },
  {
   "cell_type": "code",
   "execution_count": 560,
   "id": "112aa92e",
   "metadata": {},
   "outputs": [],
   "source": [
    "from joblib import load\n",
    "loaded = load('model_bigmart.joblib')"
   ]
  },
  {
   "cell_type": "code",
   "execution_count": null,
   "id": "9b77db30",
   "metadata": {},
   "outputs": [],
   "source": []
  }
 ],
 "metadata": {
  "kernelspec": {
   "display_name": "Python 3",
   "language": "python",
   "name": "python3"
  },
  "language_info": {
   "codemirror_mode": {
    "name": "ipython",
    "version": 3
   },
   "file_extension": ".py",
   "mimetype": "text/x-python",
   "name": "python",
   "nbconvert_exporter": "python",
   "pygments_lexer": "ipython3",
   "version": "3.8.8"
  }
 },
 "nbformat": 4,
 "nbformat_minor": 5
}
