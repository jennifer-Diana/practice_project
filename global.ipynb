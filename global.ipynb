{
 "cells": [
  {
   "cell_type": "code",
   "execution_count": 2,
   "id": "818dbaa6",
   "metadata": {},
   "outputs": [],
   "source": [
    "import pandas as pd\n",
    "import numpy as np\n",
    "import seaborn as sns\n",
    "from scipy import stats\n",
    "import warnings \n",
    "warnings.filterwarnings('ignore')\n",
    "from matplotlib import pyplot as plt\n",
    "##from statsmodel.graphics.gofplots import qqplot\n",
    "from scipy.stats import zscore"
   ]
  },
  {
   "cell_type": "code",
   "execution_count": 3,
   "id": "97c8f5fe",
   "metadata": {},
   "outputs": [
    {
     "data": {
      "text/html": [
       "<div>\n",
       "<style scoped>\n",
       "    .dataframe tbody tr th:only-of-type {\n",
       "        vertical-align: middle;\n",
       "    }\n",
       "\n",
       "    .dataframe tbody tr th {\n",
       "        vertical-align: top;\n",
       "    }\n",
       "\n",
       "    .dataframe thead th {\n",
       "        text-align: right;\n",
       "    }\n",
       "</style>\n",
       "<table border=\"1\" class=\"dataframe\">\n",
       "  <thead>\n",
       "    <tr style=\"text-align: right;\">\n",
       "      <th></th>\n",
       "      <th>country</th>\n",
       "      <th>country_long</th>\n",
       "      <th>name</th>\n",
       "      <th>gppd_idnr</th>\n",
       "      <th>capacity_mw</th>\n",
       "      <th>latitude</th>\n",
       "      <th>longitude</th>\n",
       "      <th>primary_fuel</th>\n",
       "      <th>other_fuel1</th>\n",
       "      <th>other_fuel2</th>\n",
       "      <th>...</th>\n",
       "      <th>geolocation_source</th>\n",
       "      <th>wepp_id</th>\n",
       "      <th>year_of_capacity_data</th>\n",
       "      <th>generation_gwh_2013</th>\n",
       "      <th>generation_gwh_2014</th>\n",
       "      <th>generation_gwh_2015</th>\n",
       "      <th>generation_gwh_2016</th>\n",
       "      <th>generation_gwh_2017</th>\n",
       "      <th>generation_data_source</th>\n",
       "      <th>estimated_generation_gwh</th>\n",
       "    </tr>\n",
       "  </thead>\n",
       "  <tbody>\n",
       "    <tr>\n",
       "      <th>0</th>\n",
       "      <td>IND</td>\n",
       "      <td>India</td>\n",
       "      <td>ACME Solar Tower</td>\n",
       "      <td>WRI1020239</td>\n",
       "      <td>2.5</td>\n",
       "      <td>28.1839</td>\n",
       "      <td>73.2407</td>\n",
       "      <td>Solar</td>\n",
       "      <td>NaN</td>\n",
       "      <td>NaN</td>\n",
       "      <td>...</td>\n",
       "      <td>National Renewable Energy Laboratory</td>\n",
       "      <td>NaN</td>\n",
       "      <td>NaN</td>\n",
       "      <td>NaN</td>\n",
       "      <td>NaN</td>\n",
       "      <td>NaN</td>\n",
       "      <td>NaN</td>\n",
       "      <td>NaN</td>\n",
       "      <td>NaN</td>\n",
       "      <td>NaN</td>\n",
       "    </tr>\n",
       "    <tr>\n",
       "      <th>1</th>\n",
       "      <td>IND</td>\n",
       "      <td>India</td>\n",
       "      <td>ADITYA CEMENT WORKS</td>\n",
       "      <td>WRI1019881</td>\n",
       "      <td>98.0</td>\n",
       "      <td>24.7663</td>\n",
       "      <td>74.6090</td>\n",
       "      <td>Coal</td>\n",
       "      <td>NaN</td>\n",
       "      <td>NaN</td>\n",
       "      <td>...</td>\n",
       "      <td>WRI</td>\n",
       "      <td>NaN</td>\n",
       "      <td>NaN</td>\n",
       "      <td>NaN</td>\n",
       "      <td>NaN</td>\n",
       "      <td>NaN</td>\n",
       "      <td>NaN</td>\n",
       "      <td>NaN</td>\n",
       "      <td>NaN</td>\n",
       "      <td>NaN</td>\n",
       "    </tr>\n",
       "    <tr>\n",
       "      <th>2</th>\n",
       "      <td>IND</td>\n",
       "      <td>India</td>\n",
       "      <td>AES Saurashtra Windfarms</td>\n",
       "      <td>WRI1026669</td>\n",
       "      <td>39.2</td>\n",
       "      <td>21.9038</td>\n",
       "      <td>69.3732</td>\n",
       "      <td>Wind</td>\n",
       "      <td>NaN</td>\n",
       "      <td>NaN</td>\n",
       "      <td>...</td>\n",
       "      <td>WRI</td>\n",
       "      <td>NaN</td>\n",
       "      <td>NaN</td>\n",
       "      <td>NaN</td>\n",
       "      <td>NaN</td>\n",
       "      <td>NaN</td>\n",
       "      <td>NaN</td>\n",
       "      <td>NaN</td>\n",
       "      <td>NaN</td>\n",
       "      <td>NaN</td>\n",
       "    </tr>\n",
       "    <tr>\n",
       "      <th>3</th>\n",
       "      <td>IND</td>\n",
       "      <td>India</td>\n",
       "      <td>AGARTALA GT</td>\n",
       "      <td>IND0000001</td>\n",
       "      <td>135.0</td>\n",
       "      <td>23.8712</td>\n",
       "      <td>91.3602</td>\n",
       "      <td>Gas</td>\n",
       "      <td>NaN</td>\n",
       "      <td>NaN</td>\n",
       "      <td>...</td>\n",
       "      <td>WRI</td>\n",
       "      <td>NaN</td>\n",
       "      <td>2018.0</td>\n",
       "      <td>631.777928</td>\n",
       "      <td>617.789264</td>\n",
       "      <td>843.747</td>\n",
       "      <td>886.004428</td>\n",
       "      <td>663.774500</td>\n",
       "      <td>Central Electricity Authority</td>\n",
       "      <td>NaN</td>\n",
       "    </tr>\n",
       "    <tr>\n",
       "      <th>4</th>\n",
       "      <td>IND</td>\n",
       "      <td>India</td>\n",
       "      <td>AKALTARA TPP</td>\n",
       "      <td>IND0000002</td>\n",
       "      <td>1800.0</td>\n",
       "      <td>21.9603</td>\n",
       "      <td>82.4091</td>\n",
       "      <td>Coal</td>\n",
       "      <td>Oil</td>\n",
       "      <td>NaN</td>\n",
       "      <td>...</td>\n",
       "      <td>WRI</td>\n",
       "      <td>NaN</td>\n",
       "      <td>2018.0</td>\n",
       "      <td>1668.290000</td>\n",
       "      <td>3035.550000</td>\n",
       "      <td>5916.370</td>\n",
       "      <td>6243.000000</td>\n",
       "      <td>5385.579736</td>\n",
       "      <td>Central Electricity Authority</td>\n",
       "      <td>NaN</td>\n",
       "    </tr>\n",
       "  </tbody>\n",
       "</table>\n",
       "<p>5 rows × 25 columns</p>\n",
       "</div>"
      ],
      "text/plain": [
       "  country country_long                      name   gppd_idnr  capacity_mw  \\\n",
       "0     IND        India          ACME Solar Tower  WRI1020239          2.5   \n",
       "1     IND        India       ADITYA CEMENT WORKS  WRI1019881         98.0   \n",
       "2     IND        India  AES Saurashtra Windfarms  WRI1026669         39.2   \n",
       "3     IND        India               AGARTALA GT  IND0000001        135.0   \n",
       "4     IND        India              AKALTARA TPP  IND0000002       1800.0   \n",
       "\n",
       "   latitude  longitude primary_fuel other_fuel1 other_fuel2  ...  \\\n",
       "0   28.1839    73.2407        Solar         NaN         NaN  ...   \n",
       "1   24.7663    74.6090         Coal         NaN         NaN  ...   \n",
       "2   21.9038    69.3732         Wind         NaN         NaN  ...   \n",
       "3   23.8712    91.3602          Gas         NaN         NaN  ...   \n",
       "4   21.9603    82.4091         Coal         Oil         NaN  ...   \n",
       "\n",
       "                     geolocation_source  wepp_id year_of_capacity_data  \\\n",
       "0  National Renewable Energy Laboratory      NaN                   NaN   \n",
       "1                                   WRI      NaN                   NaN   \n",
       "2                                   WRI      NaN                   NaN   \n",
       "3                                   WRI      NaN                2018.0   \n",
       "4                                   WRI      NaN                2018.0   \n",
       "\n",
       "  generation_gwh_2013 generation_gwh_2014 generation_gwh_2015  \\\n",
       "0                 NaN                 NaN                 NaN   \n",
       "1                 NaN                 NaN                 NaN   \n",
       "2                 NaN                 NaN                 NaN   \n",
       "3          631.777928          617.789264             843.747   \n",
       "4         1668.290000         3035.550000            5916.370   \n",
       "\n",
       "   generation_gwh_2016  generation_gwh_2017         generation_data_source  \\\n",
       "0                  NaN                  NaN                            NaN   \n",
       "1                  NaN                  NaN                            NaN   \n",
       "2                  NaN                  NaN                            NaN   \n",
       "3           886.004428           663.774500  Central Electricity Authority   \n",
       "4          6243.000000          5385.579736  Central Electricity Authority   \n",
       "\n",
       "   estimated_generation_gwh  \n",
       "0                       NaN  \n",
       "1                       NaN  \n",
       "2                       NaN  \n",
       "3                       NaN  \n",
       "4                       NaN  \n",
       "\n",
       "[5 rows x 25 columns]"
      ]
     },
     "execution_count": 3,
     "metadata": {},
     "output_type": "execute_result"
    }
   ],
   "source": [
    "df=pd.read_csv(\"E:\\\\database_IND.csv\")\n",
    "df.head(5)"
   ]
  },
  {
   "cell_type": "markdown",
   "id": "f8305188",
   "metadata": {},
   "source": [
    "loading dataset"
   ]
  },
  {
   "cell_type": "code",
   "execution_count": 269,
   "id": "7615f65f",
   "metadata": {},
   "outputs": [
    {
     "data": {
      "text/plain": [
       "(908, 25)"
      ]
     },
     "execution_count": 269,
     "metadata": {},
     "output_type": "execute_result"
    }
   ],
   "source": [
    "df.shape"
   ]
  },
  {
   "cell_type": "code",
   "execution_count": 270,
   "id": "d48a00be",
   "metadata": {},
   "outputs": [
    {
     "data": {
      "text/plain": [
       "country                      object\n",
       "country_long                 object\n",
       "name                         object\n",
       "gppd_idnr                    object\n",
       "capacity_mw                 float64\n",
       "latitude                    float64\n",
       "longitude                   float64\n",
       "primary_fuel                 object\n",
       "other_fuel1                  object\n",
       "other_fuel2                  object\n",
       "other_fuel3                 float64\n",
       "commissioning_year          float64\n",
       "owner                        object\n",
       "source                       object\n",
       "url                          object\n",
       "geolocation_source           object\n",
       "wepp_id                     float64\n",
       "year_of_capacity_data       float64\n",
       "generation_gwh_2013         float64\n",
       "generation_gwh_2014         float64\n",
       "generation_gwh_2015         float64\n",
       "generation_gwh_2016         float64\n",
       "generation_gwh_2017         float64\n",
       "generation_data_source       object\n",
       "estimated_generation_gwh    float64\n",
       "dtype: object"
      ]
     },
     "execution_count": 270,
     "metadata": {},
     "output_type": "execute_result"
    }
   ],
   "source": [
    "df.dtypes"
   ]
  },
  {
   "cell_type": "markdown",
   "id": "30230395",
   "metadata": {},
   "source": [
    "The features 'capacity_mw','latitude','longitude','other_fuel3','commissioning_year','wepp_id','year_of_capacity_data','generation_gwh_2013','generation_gwh_2014','generation_gwh_2015','generation_gwh_2016','estimated_generation_gwh' are float type remaing all are object type        \n",
    "        \n"
   ]
  },
  {
   "cell_type": "code",
   "execution_count": 271,
   "id": "b1418c57",
   "metadata": {},
   "outputs": [
    {
     "data": {
      "text/plain": [
       "Index(['country', 'country_long', 'name', 'gppd_idnr', 'capacity_mw',\n",
       "       'latitude', 'longitude', 'primary_fuel', 'other_fuel1', 'other_fuel2',\n",
       "       'other_fuel3', 'commissioning_year', 'owner', 'source', 'url',\n",
       "       'geolocation_source', 'wepp_id', 'year_of_capacity_data',\n",
       "       'generation_gwh_2013', 'generation_gwh_2014', 'generation_gwh_2015',\n",
       "       'generation_gwh_2016', 'generation_gwh_2017', 'generation_data_source',\n",
       "       'estimated_generation_gwh'],\n",
       "      dtype='object')"
      ]
     },
     "execution_count": 271,
     "metadata": {},
     "output_type": "execute_result"
    }
   ],
   "source": [
    "df.columns"
   ]
  },
  {
   "cell_type": "markdown",
   "id": "9df21293",
   "metadata": {},
   "source": [
    "This dataset has 908 rows and 25 coloumns"
   ]
  },
  {
   "cell_type": "code",
   "execution_count": 272,
   "id": "1eff0ac5",
   "metadata": {},
   "outputs": [
    {
     "data": {
      "text/plain": [
       "array(['IND'], dtype=object)"
      ]
     },
     "execution_count": 272,
     "metadata": {},
     "output_type": "execute_result"
    }
   ],
   "source": [
    "df['country'].unique()"
   ]
  },
  {
   "cell_type": "code",
   "execution_count": 273,
   "id": "fb15ba87",
   "metadata": {},
   "outputs": [
    {
     "data": {
      "text/plain": [
       "array(['India'], dtype=object)"
      ]
     },
     "execution_count": 273,
     "metadata": {},
     "output_type": "execute_result"
    }
   ],
   "source": [
    "df['country_long'].unique()"
   ]
  },
  {
   "cell_type": "markdown",
   "id": "cb938e35",
   "metadata": {},
   "source": [
    "both the features country and country long has single value so I'm going to drop it."
   ]
  },
  {
   "cell_type": "code",
   "execution_count": 274,
   "id": "2aaa5d5e",
   "metadata": {},
   "outputs": [
    {
     "data": {
      "text/plain": [
       "country                       0\n",
       "country_long                  0\n",
       "name                          0\n",
       "gppd_idnr                     0\n",
       "capacity_mw                   0\n",
       "latitude                     46\n",
       "longitude                    46\n",
       "primary_fuel                  0\n",
       "other_fuel1                 709\n",
       "other_fuel2                 907\n",
       "other_fuel3                 908\n",
       "commissioning_year          380\n",
       "owner                       566\n",
       "source                        0\n",
       "url                           0\n",
       "geolocation_source           19\n",
       "wepp_id                     908\n",
       "year_of_capacity_data       388\n",
       "generation_gwh_2013         524\n",
       "generation_gwh_2014         507\n",
       "generation_gwh_2015         483\n",
       "generation_gwh_2016         471\n",
       "generation_gwh_2017         465\n",
       "generation_data_source      458\n",
       "estimated_generation_gwh    908\n",
       "dtype: int64"
      ]
     },
     "execution_count": 274,
     "metadata": {},
     "output_type": "execute_result"
    }
   ],
   "source": [
    "df.isnull().sum()"
   ]
  },
  {
   "cell_type": "markdown",
   "id": "d325fa7d",
   "metadata": {},
   "source": [
    "the features latitude,longitude,other_fuel1,other_fuel2,other_fuel3,commissioning_year,owner,geolocation_source,wepp_id,'year_of_capacity_data','generation_gwh_2013', 'generation_gwh_2014', 'generation_gwh_2015','generation_gwh_2016','generation_gwh_2017','generation_data_source','estimated_generation_gwh' has null values"
   ]
  },
  {
   "cell_type": "code",
   "execution_count": 108,
   "id": "65d9c486",
   "metadata": {},
   "outputs": [
    {
     "data": {
      "text/plain": [
       "<AxesSubplot:ylabel='primary_fuel'>"
      ]
     },
     "execution_count": 108,
     "metadata": {},
     "output_type": "execute_result"
    },
    {
     "data": {
      "image/png": "[encoded data removed]",
      "text/plain": [
       "<Figure size 1080x1080 with 2 Axes>"
      ]
     },
     "metadata": {
      "needs_background": "light"
     },
     "output_type": "display_data"
    }
   ],
   "source": [
    "plt.figure(figsize=(15,15))\n",
    "rows = 3\n",
    "cols = 1\n",
    "i=0\n",
    "i += 1\n",
    "plt.subplot(rows,cols,i)\n",
    "sns.countplot(df.primary_fuel,palette=\"Set1\")\n",
    "\n",
    "i += 1\n",
    "plt.subplot(rows,cols,i)\n",
    "df_new['primary_fuel'].value_counts().plot.pie(autopct='%1.1f%%')"
   ]
  },
  {
   "cell_type": "code",
   "execution_count": 110,
   "id": "c02cfe76",
   "metadata": {},
   "outputs": [
    {
     "data": {
      "text/plain": [
       "<AxesSubplot:xlabel='capacity_mw', ylabel='Density'>"
      ]
     },
     "execution_count": 110,
     "metadata": {},
     "output_type": "execute_result"
    },
    {
     "data": {
      "image/png": "[encoded data removed]",
      "text/plain": [
       "<Figure size 432x288 with 1 Axes>"
      ]
     },
     "metadata": {
      "needs_background": "light"
     },
     "output_type": "display_data"
    }
   ],
   "source": [
    "sns.distplot(df.capacity_mw,color=\"salmon\")"
   ]
  },
  {
   "cell_type": "markdown",
   "id": "5edc128b",
   "metadata": {},
   "source": [
    "__Handling missing values in float data type"
   ]
  },
  {
   "cell_type": "code",
   "execution_count": 4,
   "id": "4c469245",
   "metadata": {},
   "outputs": [],
   "source": [
    "df_new=df"
   ]
  },
  {
   "cell_type": "code",
   "execution_count": 5,
   "id": "93c2b5e4",
   "metadata": {},
   "outputs": [
    {
     "data": {
      "text/plain": [
       "<AxesSubplot:xlabel='latitude', ylabel='Density'>"
      ]
     },
     "execution_count": 5,
     "metadata": {},
     "output_type": "execute_result"
    },
    {
     "data": {
      "image/png": "[encoded data removed]",
      "text/plain": [
       "<Figure size 360x360 with 1 Axes>"
      ]
     },
     "metadata": {
      "needs_background": "light"
     },
     "output_type": "display_data"
    }
   ],
   "source": [
    "plt.figure(figsize=(5,5))\n",
    "sns.distplot(df.latitude,color=\"red\",kde=True)"
   ]
  },
  {
   "cell_type": "markdown",
   "id": "383e3272",
   "metadata": {},
   "source": [
    "latitude feature has no normal curve so I'm applying median to fill the values"
   ]
  },
  {
   "cell_type": "code",
   "execution_count": 6,
   "id": "2fffa470",
   "metadata": {},
   "outputs": [],
   "source": [
    "df_new['latitude'].fillna((df_new['latitude'].median()), inplace=True)"
   ]
  },
  {
   "cell_type": "code",
   "execution_count": 7,
   "id": "357d18be",
   "metadata": {},
   "outputs": [
    {
     "data": {
      "text/plain": [
       "<AxesSubplot:xlabel='longitude', ylabel='Density'>"
      ]
     },
     "execution_count": 7,
     "metadata": {},
     "output_type": "execute_result"
    },
    {
     "data": {
      "image/png": "[encoded data removed]",
      "text/plain": [
       "<Figure size 360x360 with 1 Axes>"
      ]
     },
     "metadata": {
      "needs_background": "light"
     },
     "output_type": "display_data"
    }
   ],
   "source": [
    "plt.figure(figsize=(5,5))\n",
    "sns.distplot(df.longitude,color=\"red\",kde=True)"
   ]
  },
  {
   "cell_type": "markdown",
   "id": "bb3ba31f",
   "metadata": {},
   "source": [
    "longitude feature has  normal curve so I'm applying mean to fill the values"
   ]
  },
  {
   "cell_type": "code",
   "execution_count": 8,
   "id": "e1094c47",
   "metadata": {},
   "outputs": [],
   "source": [
    "df_new['longitude'].fillna((df_new['latitude'].mean()), inplace=True)"
   ]
  },
  {
   "cell_type": "code",
   "execution_count": 9,
   "id": "22841d0a",
   "metadata": {},
   "outputs": [
    {
     "data": {
      "text/plain": [
       "<AxesSubplot:xlabel='other_fuel3'>"
      ]
     },
     "execution_count": 9,
     "metadata": {},
     "output_type": "execute_result"
    },
    {
     "data": {
      "image/png": "[encoded data removed]",
      "text/plain": [
       "<Figure size 360x360 with 1 Axes>"
      ]
     },
     "metadata": {
      "needs_background": "light"
     },
     "output_type": "display_data"
    }
   ],
   "source": [
    "plt.figure(figsize=(5,5))\n",
    "sns.distplot(df.other_fuel3,color=\"red\",kde=True)"
   ]
  },
  {
   "cell_type": "code",
   "execution_count": 10,
   "id": "4a69d117",
   "metadata": {},
   "outputs": [
    {
     "data": {
      "text/plain": [
       "array([nan])"
      ]
     },
     "execution_count": 10,
     "metadata": {},
     "output_type": "execute_result"
    }
   ],
   "source": [
    "df['other_fuel3'].unique()"
   ]
  },
  {
   "cell_type": "markdown",
   "id": "6cd8ead1",
   "metadata": {},
   "source": [
    "the feature other fuel 3 has only nan values so I'm going to drop this"
   ]
  },
  {
   "cell_type": "code",
   "execution_count": 11,
   "id": "8e975145",
   "metadata": {},
   "outputs": [
    {
     "data": {
      "text/plain": [
       "<AxesSubplot:xlabel='commissioning_year', ylabel='Density'>"
      ]
     },
     "execution_count": 11,
     "metadata": {},
     "output_type": "execute_result"
    },
    {
     "data": {
      "image/png": "[encoded data removed]",
      "text/plain": [
       "<Figure size 360x360 with 1 Axes>"
      ]
     },
     "metadata": {
      "needs_background": "light"
     },
     "output_type": "display_data"
    }
   ],
   "source": [
    "plt.figure(figsize=(5,5))\n",
    "sns.distplot(df.commissioning_year,color=\"red\",kde=True)"
   ]
  },
  {
   "cell_type": "markdown",
   "id": "c907266b",
   "metadata": {},
   "source": [
    "commissioning_year is not distributed normally so I'm using median"
   ]
  },
  {
   "cell_type": "code",
   "execution_count": 12,
   "id": "0ad3eb3a",
   "metadata": {},
   "outputs": [],
   "source": [
    "df_new['commissioning_year'].fillna((df_new['commissioning_year'].median()), inplace=True)"
   ]
  },
  {
   "cell_type": "code",
   "execution_count": 13,
   "id": "88bf8186",
   "metadata": {},
   "outputs": [
    {
     "data": {
      "text/plain": [
       "<AxesSubplot:xlabel='wepp_id'>"
      ]
     },
     "execution_count": 13,
     "metadata": {},
     "output_type": "execute_result"
    },
    {
     "data": {
      "image/png": "[encoded data removed]",
      "text/plain": [
       "<Figure size 360x360 with 1 Axes>"
      ]
     },
     "metadata": {
      "needs_background": "light"
     },
     "output_type": "display_data"
    }
   ],
   "source": [
    "plt.figure(figsize=(5,5))\n",
    "sns.distplot(df.wepp_id,color=\"red\",kde=True)"
   ]
  },
  {
   "cell_type": "code",
   "execution_count": 14,
   "id": "7c23c979",
   "metadata": {},
   "outputs": [
    {
     "data": {
      "text/plain": [
       "array([nan])"
      ]
     },
     "execution_count": 14,
     "metadata": {},
     "output_type": "execute_result"
    }
   ],
   "source": [
    "df['wepp_id'].unique()"
   ]
  },
  {
   "cell_type": "markdown",
   "id": "cc11e8bb",
   "metadata": {},
   "source": [
    "the feature wepp_id has only nan values so I'm going to drop this "
   ]
  },
  {
   "cell_type": "code",
   "execution_count": 15,
   "id": "c20afb75",
   "metadata": {},
   "outputs": [
    {
     "data": {
      "text/plain": [
       "<AxesSubplot:xlabel='year_of_capacity_data', ylabel='Density'>"
      ]
     },
     "execution_count": 15,
     "metadata": {},
     "output_type": "execute_result"
    },
    {
     "data": {
      "image/png": "[encoded data removed]",
      "text/plain": [
       "<Figure size 360x360 with 1 Axes>"
      ]
     },
     "metadata": {
      "needs_background": "light"
     },
     "output_type": "display_data"
    }
   ],
   "source": [
    "plt.figure(figsize=(5,5))\n",
    "sns.distplot(df.year_of_capacity_data,color=\"red\",kde=True)"
   ]
  },
  {
   "cell_type": "code",
   "execution_count": 16,
   "id": "67cc3f34",
   "metadata": {},
   "outputs": [
    {
     "data": {
      "text/plain": [
       "array([  nan, 2018.])"
      ]
     },
     "execution_count": 16,
     "metadata": {},
     "output_type": "execute_result"
    }
   ],
   "source": [
    "df['year_of_capacity_data'].unique()"
   ]
  },
  {
   "cell_type": "markdown",
   "id": "f177229b",
   "metadata": {},
   "source": [
    "the year_of_capacity_data feature has only one value so we are not able to predict the target value by this feature so I,m going to drop it"
   ]
  },
  {
   "cell_type": "code",
   "execution_count": 17,
   "id": "e53da5f0",
   "metadata": {},
   "outputs": [
    {
     "data": {
      "text/plain": [
       "<AxesSubplot:xlabel='generation_gwh_2013', ylabel='Density'>"
      ]
     },
     "execution_count": 17,
     "metadata": {},
     "output_type": "execute_result"
    },
    {
     "data": {
      "image/png": "[encoded data removed]",
      "text/plain": [
       "<Figure size 360x360 with 1 Axes>"
      ]
     },
     "metadata": {
      "needs_background": "light"
     },
     "output_type": "display_data"
    }
   ],
   "source": [
    "plt.figure(figsize=(5,5))\n",
    "sns.distplot(df.generation_gwh_2013,color=\"red\",kde=True)"
   ]
  },
  {
   "cell_type": "markdown",
   "id": "56eeb821",
   "metadata": {},
   "source": [
    "the feature generation_gwh_2013 is not forming normal curve so I'm using median"
   ]
  },
  {
   "cell_type": "code",
   "execution_count": 18,
   "id": "c91d1665",
   "metadata": {},
   "outputs": [],
   "source": [
    "df_new['generation_gwh_2013'].fillna((df_new['generation_gwh_2013'].median()), inplace=True)"
   ]
  },
  {
   "cell_type": "code",
   "execution_count": 19,
   "id": "0a1100b9",
   "metadata": {},
   "outputs": [
    {
     "data": {
      "text/plain": [
       "<AxesSubplot:xlabel='generation_gwh_2014', ylabel='Density'>"
      ]
     },
     "execution_count": 19,
     "metadata": {},
     "output_type": "execute_result"
    },
    {
     "data": {
      "image/png": "[encoded data removed]",
      "text/plain": [
       "<Figure size 360x360 with 1 Axes>"
      ]
     },
     "metadata": {
      "needs_background": "light"
     },
     "output_type": "display_data"
    }
   ],
   "source": [
    "plt.figure(figsize=(5,5))\n",
    "sns.distplot(df.generation_gwh_2014,color=\"red\",kde=True)"
   ]
  },
  {
   "cell_type": "markdown",
   "id": "cb27a85a",
   "metadata": {},
   "source": [
    "the feature generation_gwh_2014 is not forming normal curve and it has negative values so I'm using median "
   ]
  },
  {
   "cell_type": "code",
   "execution_count": 20,
   "id": "2e17ee1c",
   "metadata": {},
   "outputs": [],
   "source": [
    "df_new['generation_gwh_2014'].fillna((df_new['generation_gwh_2014'].median()), inplace=True)"
   ]
  },
  {
   "cell_type": "code",
   "execution_count": 21,
   "id": "6544f915",
   "metadata": {},
   "outputs": [
    {
     "data": {
      "text/plain": [
       "<AxesSubplot:xlabel='generation_gwh_2015', ylabel='Density'>"
      ]
     },
     "execution_count": 21,
     "metadata": {},
     "output_type": "execute_result"
    },
    {
     "data": {
      "image/png": "[encoded data removed]",
      "text/plain": [
       "<Figure size 360x360 with 1 Axes>"
      ]
     },
     "metadata": {
      "needs_background": "light"
     },
     "output_type": "display_data"
    }
   ],
   "source": [
    "plt.figure(figsize=(5,5))\n",
    "sns.distplot(df.generation_gwh_2015,color=\"red\",kde=True)"
   ]
  },
  {
   "cell_type": "markdown",
   "id": "c65e65be",
   "metadata": {},
   "source": [
    "the feature generation_gwh_2015 is not forming normal curve and it has negative values so I'm using median "
   ]
  },
  {
   "cell_type": "code",
   "execution_count": 22,
   "id": "7b84bdd7",
   "metadata": {},
   "outputs": [],
   "source": [
    "df_new['generation_gwh_2015'].fillna((df_new['generation_gwh_2015'].median()), inplace=True)"
   ]
  },
  {
   "cell_type": "code",
   "execution_count": 23,
   "id": "3c45fb1d",
   "metadata": {},
   "outputs": [
    {
     "data": {
      "text/plain": [
       "<AxesSubplot:xlabel='generation_gwh_2016', ylabel='Density'>"
      ]
     },
     "execution_count": 23,
     "metadata": {},
     "output_type": "execute_result"
    },
    {
     "data": {
      "image/png": "[encoded data removed]",
      "text/plain": [
       "<Figure size 360x360 with 1 Axes>"
      ]
     },
     "metadata": {
      "needs_background": "light"
     },
     "output_type": "display_data"
    }
   ],
   "source": [
    "plt.figure(figsize=(5,5))\n",
    "sns.distplot(df.generation_gwh_2016,color=\"red\",kde=True)"
   ]
  },
  {
   "cell_type": "markdown",
   "id": "73809351",
   "metadata": {},
   "source": [
    "the feature generation_gwh_2016 is not forming normal curve and it has negative values so I'm using median "
   ]
  },
  {
   "cell_type": "code",
   "execution_count": 24,
   "id": "429929c8",
   "metadata": {},
   "outputs": [],
   "source": [
    "df_new['generation_gwh_2016'].fillna((df_new['generation_gwh_2016'].median()), inplace=True)"
   ]
  },
  {
   "cell_type": "code",
   "execution_count": 25,
   "id": "5e00da2b",
   "metadata": {},
   "outputs": [
    {
     "data": {
      "text/plain": [
       "<AxesSubplot:xlabel='generation_gwh_2017', ylabel='Density'>"
      ]
     },
     "execution_count": 25,
     "metadata": {},
     "output_type": "execute_result"
    },
    {
     "data": {
      "image/png": "[encoded data removed]",
      "text/plain": [
       "<Figure size 360x360 with 1 Axes>"
      ]
     },
     "metadata": {
      "needs_background": "light"
     },
     "output_type": "display_data"
    }
   ],
   "source": [
    "plt.figure(figsize=(5,5))\n",
    "sns.distplot(df.generation_gwh_2017,color=\"red\",kde=True)"
   ]
  },
  {
   "cell_type": "markdown",
   "id": "83fdf696",
   "metadata": {},
   "source": [
    "the feature generation_gwh_2017 is not forming normal curve and it has negative values so I'm using median "
   ]
  },
  {
   "cell_type": "code",
   "execution_count": 26,
   "id": "3694b69e",
   "metadata": {},
   "outputs": [],
   "source": [
    "df_new['generation_gwh_2017'].fillna((df_new['generation_gwh_2017'].median()), inplace=True)"
   ]
  },
  {
   "cell_type": "code",
   "execution_count": 27,
   "id": "a61d94bd",
   "metadata": {},
   "outputs": [
    {
     "data": {
      "text/plain": [
       "<AxesSubplot:xlabel='estimated_generation_gwh'>"
      ]
     },
     "execution_count": 27,
     "metadata": {},
     "output_type": "execute_result"
    },
    {
     "data": {
      "image/png": "[encoded data removed]",
      "text/plain": [
       "<Figure size 360x360 with 1 Axes>"
      ]
     },
     "metadata": {
      "needs_background": "light"
     },
     "output_type": "display_data"
    }
   ],
   "source": [
    "plt.figure(figsize=(5,5))\n",
    "sns.distplot(df.estimated_generation_gwh,color=\"red\",kde=True)"
   ]
  },
  {
   "cell_type": "code",
   "execution_count": 28,
   "id": "772c4024",
   "metadata": {},
   "outputs": [
    {
     "data": {
      "text/plain": [
       "array([nan])"
      ]
     },
     "execution_count": 28,
     "metadata": {},
     "output_type": "execute_result"
    }
   ],
   "source": [
    "df['estimated_generation_gwh'].unique()"
   ]
  },
  {
   "cell_type": "markdown",
   "id": "0daf1c98",
   "metadata": {},
   "source": [
    "estimated_generation_gwh has only nan values so I'm going to drop it"
   ]
  },
  {
   "cell_type": "markdown",
   "id": "cc6e33de",
   "metadata": {},
   "source": [
    "the feature has only one value other_fuel3,wepp_id,year_of_capacity_data,estimated_generation_gwh"
   ]
  },
  {
   "cell_type": "markdown",
   "id": "22ce2da9",
   "metadata": {},
   "source": [
    "Handling missing values in string data"
   ]
  },
  {
   "cell_type": "code",
   "execution_count": 29,
   "id": "d146b4a5",
   "metadata": {},
   "outputs": [
    {
     "name": "stdout",
     "output_type": "stream",
     "text": [
      "[nan 'Oil' 'Cogeneration' 'Gas']\n",
      "[nan 'Oil']\n",
      "['Solar Paces' 'Ultratech Cement ltd' 'AES' nan 'Hindustan Pvt lt'\n",
      " 'Dr Ssk ltd' 'Ashok Ssk ltd' 'Shree Sugars ltd'\n",
      " 'Ener-t International Ltd.' 'Nav Bharat Buildcon Private Limited'\n",
      " 'MEIL Green Power Limited' 'Madras Cement Limited'\n",
      " 'DDE Renewable Energy Private Limited (DREPL)'\n",
      " 'Electromech Maritech Private Limited'\n",
      " 'Finehope Allied Engineering Private Limited'\n",
      " 'Khaya Solar Projects Private Limited' 'Newton Solar Private Limited'\n",
      " 'Saidham Overseas Private Limited' 'Vasavi Solar Power Private Limited'\n",
      " 'Indian Power ltd' 'Ballarpur Industries ltd' 'Jk Cement ltd'\n",
      " 'India Ltd icl)' 'Bharat Petroleum Corporation Limited'\n",
      " 'Bhilwara Energy Limited' 'Ideal Projects ltd' 'Ugar Works ltd'\n",
      " 'Vishwanath Sugars ltd' 'Hothur Pvt ltd' 'Janki Corp ltd'\n",
      " 'Mysore Mills ltd' 'Sunflag Co ltd' 'Varam Pvt ltd' 'Sangam Spinners ltd'\n",
      " 'Bharat Refinery ltd' 'Binani Industries ltd' 'Indo Synthetics ltd'\n",
      " 'Dr Babasaheb Ambedkar SSK Limited' 'AEW Infratech Private Limited'\n",
      " 'Enercon India Ltd.' 'Green Infra Solar Farms Private Limited (GIS)'\n",
      " 'OPG Energy Private Limited' 'Punj Lloyd Solar Private Limited'\n",
      " 'Hiraco Renewable Energy Private Limited (HREPL)'\n",
      " 'Moser Baer Energy & Development Limited (MBEDL)' 'Giriraj Enterprises'\n",
      " 'LEPL Projects Limited' 'Lanco Solar Energy Private Limited'\n",
      " 'Abellon CleanEnergy Limited' 'Adani Power Limited'\n",
      " 'Madhav Solar Private Limited' 'Rays Power Private Limited' 'Acc Acc ltd'\n",
      " 'Birla Corp ltd' 'Hindustan Zinc ltd' 'Gupta Ltd gepl)'\n",
      " 'Manikghar Cement co' 'Core Fuels ltd'\n",
      " 'Maharashtra State Power Generation Co Ltd (MAHAGENCO)'\n",
      " 'Charanka Solar Park' 'India Oil Corporation Limited'\n",
      " 'Alex Green Energy Private Limited' 'Reliance Power ltd' 'Bmm Pvt ltd'\n",
      " 'Daund Sugar ltd' 'Davangere Co ltd' 'Mukand Mukand ltd' 'Shri Ssk ltd'\n",
      " 'Jsw Steel ltd' 'Shamanur Sugars ltd' 'Jai Industries ltd'\n",
      " 'Government of India' 'West Coast Paper Mills Ltd.' 'Sanjeev Prakashan'\n",
      " 'Ujaas Energy Limited' 'Sand Land Real Estates Pvt Ltd'\n",
      " 'Aravali Infrapower Private Limited (AIPL)' 'Reliance Power'\n",
      " 'Lanco Infratech' 'Sovox Renewables Private Limited' 'EMCO Limited'\n",
      " 'Frost International Limited' 'Gujurat Alkalies and Chemicals Limited'\n",
      " 'Chambal & chem' 'GFL' 'Lloyds Industries ltd'\n",
      " 'Bangalore Electricity Supply Company Limited' 'Grace Industries ltd'\n",
      " 'Orient Cement ltd' 'SunBorne Energy Gujarat'\n",
      " 'Pandit Deendayal Petrolium University (PDPU)'\n",
      " 'National Thermal Power Corporation (NTPC) Limited'\n",
      " 'Godwari Green Energy Limited'\n",
      " 'Zamil New Delhi Infrastructure Private Limited'\n",
      " 'Shree Saibaba Green Power Private Limited' 'Solaer' 'Cargo Solar Power'\n",
      " 'Amrit Energy Private Limited' 'Solar Energy Centre' 'Jawahar Ssk ltd'\n",
      " 'Purna Ssk ltd' 'Rk Pvt ltd' 'Hindustan Zinc Ltd.' 'HZL'\n",
      " 'Essel MP Energy Limited' 'IL&FS Wind Power Limited'\n",
      " 'Fortune Five Hydel Projects Limited' 'Harsha Engineers Limited'\n",
      " 'Karnataka Power Corporation Limited' 'Godawari Energy ltd'\n",
      " 'Jaypee Ltd jccl)' 'Sunkon Energy Private Limited'\n",
      " 'West Bengal Energy Development Corporation Limited (WBEDCL)'\n",
      " 'Energy Infratech Private Limited' 'K. N. Ram' 'Chettinad Corp ltd'\n",
      " 'Kjs Ahluwalia group' 'Ym Ssk ltd' 'Maral Overseas ltd' 'Gm Energy ltd'\n",
      " 'Uttam Steels ltd' 'Sri Sugars ltd' 'Hemarus Technologies ltd'\n",
      " 'Shri Vedganga ssk' 'Kumbhi Ssk ltd' 'Bannari Sugars ltd'\n",
      " 'Nsl Sugars ltd' 'Hare Pvt ltd' 'Dcm & chem' 'KS Oils' 'Gem Sugars ltd'\n",
      " 'KVK Energy Ventures Ltd' 'Bindu Vau Urja Private Limited'\n",
      " 'SunBorne Energy Gujarat One Pvt' 'Karur Textile Park limited'\n",
      " 'Azure Power (Rajasthan) Private Limited' 'Citra Real Estate Limited'\n",
      " 'Sepset Construction Limited' 'Gujarat Urja Vikas Nigam Limited'\n",
      " 'Firestone Trading Private Limited'\n",
      " 'Northern Solaire Prakash Private Limited'\n",
      " 'Suryauday Solaire Prakash Private Limited' 'ACME Solar Energy'\n",
      " 'Unity Power Limited' 'Welspun Urja India Limited'\n",
      " 'Conflux Infratech Private Limited' 'REI Agro Limited'\n",
      " 'Kohinoor Planet Construction Pvt. Ltd'\n",
      " 'Tata Power Solar Systems Limited (TPREL)' 'Loyal Textile Mills Limited'\n",
      " 'LNJ Power Ventures Limited' 'Tata Co ltd' 'Lokmangal Lokmangal group'\n",
      " 'Atma Powers Private Limited' 'Essel Clean Energy Limited'\n",
      " 'IK Energy Private Limited' 'Serum Institute of India Limited'\n",
      " 'Lanco Solar Power Limited' 'Liberty Oil Mills Limited'\n",
      " 'Mahatma Power ltd' 'Bharat Corp ltd' 'Maihar Cement ltd'\n",
      " 'Mangalore & petrochem' 'Manglam Cement ltd' 'Manikgarh Manikgarh cement'\n",
      " 'Ambuja Cements ltd' 'Rswm Rswm ltd'\n",
      " 'Jodhpur Vidyut Vitran Nigam Limited' 'MSPL' 'Greta Energy ltd'\n",
      " 'Ongc Gas corp' 'Technocraft Technocraft group'\n",
      " 'Megha Engineering and Infrastructure' 'Alianz Eco Power Private Limited'\n",
      " 'Nexgen Solux Private Limited'\n",
      " 'Solairedirect Projects India Private Limited' 'Grasim Industries ltd'\n",
      " 'Reliance Reliance petrochemicals' 'Gmt Pvt ltd' 'Purti Sugar ltd'\n",
      " 'Topworth Metals ltd' 'Orient Power ltd' 'Rattanindia Power ltd'\n",
      " 'National And paper' 'Nitin Spinners ltd' 'NMDC'\n",
      " 'Nuziveedu Seeds limited' 'EMC Limited' 'Tadas Wind Energy'\n",
      " 'Bhoruka Power' 'Godawari Green Energy Limited (GGEL)'\n",
      " 'Precision Technik Private Limited'\n",
      " 'Alex Spectrum Radiations Private Limited' 'NuPower'\n",
      " 'Gangakhed Energy ltd' 'Reliance Ltd ril)' 'Sinarmas Paper ltd'\n",
      " 'Gujarat Mineral Development Corporation Limited (GMDC)'\n",
      " 'Tratnagiri Wind Power Projects Private Limited'\n",
      " 'Patnaik Minerals Pvt. Ltd' 'Vivek Pharmachem (India) Limited'\n",
      " 'Rajasthan Renewable Energy Corporation Limited (RREC)'\n",
      " 'Reliance Power Limited' 'Powerica Limited'\n",
      " 'Integrated Coal Mining (ICML)' 'Precious Energy Services Pvt Ltd'\n",
      " 'Azure Urja Private Limited' 'Surana Industries ltd' 'Grasim Cement ltd'\n",
      " 'Spr Pvt ltd' 'Natural Alliend indust' 'Shree Cement ltd'\n",
      " 'Rajasthan State Mines and Minerals Limited'\n",
      " 'National Thermal Power Corporation (NTPC)'\n",
      " 'Astonfield Management Limited' 'Welspun Solar Punjab Private Limited'\n",
      " 'Taxus Infrastructure and Power Projects Pvt Ltd'\n",
      " 'Ganges Enterprises Private Limited' 'Ratedi Wind Power Private Limited'\n",
      " 'Indian Oil Corporation (IOC)' 'Northwest Energy Private Limited (NWEPL)'\n",
      " 'SEI Solar Energy Private Limited' 'Welspun Solar AP Private Limited'\n",
      " 'Relaxo Footwears Limited' \"Roaring 40's Wind Farms Private Limited\"\n",
      " 'Rucha Soya Industries Limited' 'Sahakar Shiromani vasantrao'\n",
      " 'Godavari Mills ltd' 'Kranti Ssk ltd' 'Sinewave Pvt ltd'\n",
      " 'Vasantdada Ssk ltd' 'Shri Hiranyakeshi ssk'\n",
      " 'Sahakarmaharshi Bhausaheb thor' 'Datta Ssk ltd' 'Shri Malaprabha ssk'\n",
      " 'Dcm Industries ltd' 'Mula Ssk ltd' 'SWPPL'\n",
      " 'Aftaab Solar Private Limited (ASPL)'\n",
      " 'Raajratna Energy Holdings Private Limited (REHPL)' 'Sai Sulphonates'\n",
      " 'Omega Solar Projects Private Limited' 'Mono Steel (India) Ltd'\n",
      " 'Jain Solar' 'Backbone Enterprises Limited'\n",
      " 'S J Green Park Energy Private Limited' 'Konark Gujarat Private Limited'\n",
      " 'Shree Naman Developers Ltd.' 'Moser Baer Clean Energy Limited (MBCEL)'\n",
      " 'Green Infra Wind Power Projects Limited' 'Solitaire Energies Pvt Ltd'\n",
      " 'Centaur Mercantile Pvt. Ltd.' 'Sterling Agro Industries ltd.'\n",
      " 'Sumilon Industries Limited' 'Clover Solar Private Limited (CSPL)'\n",
      " 'Dhariwal Pvt ltd' 'Mukesh Gupta group' 'Rashtriya & fert'\n",
      " 'Nocil Nocil rubber' 'TVS Energy limited' 'TVS Energy Limited'\n",
      " 'Tadas Wind Energy Private Limited' 'Tata BP Solar India Limited'\n",
      " 'Tata Power' 'Rayala Wind Power Company Private Limited'\n",
      " 'Moser Baer Solar Limited (MBSL)' 'Torrent Power Limited' 'UPL'\n",
      " 'Vardham Vardham group' 'Kesoram Industries ltd' 'National Ltd nfl)'\n",
      " 'Vikram Vikram cement' 'Vaayu Renew'\n",
      " 'Gujarat Industries Power Company Limited (GIPCL)'\n",
      " 'ACME Cleantech Solutions Private Limited' 'Videocon Industries Limited'\n",
      " 'Weizzmann Forex Limited' 'Riddhi Siddhi Gluco Biols Limited'\n",
      " 'Mytrah Energy (India) Limited' 'Yashwantrao Krishna ssk'\n",
      " 'iEnergy Wind Farms']\n",
      "['National Renewable Energy Laboratory' 'WRI' nan 'Industry About']\n",
      "[nan 'Central Electricity Authority']\n"
     ]
    }
   ],
   "source": [
    "data=['other_fuel1','other_fuel2','owner','geolocation_source','generation_data_source']\n",
    "for i in data:\n",
    "    print( df_new[i].unique())\n"
   ]
  },
  {
   "cell_type": "code",
   "execution_count": 30,
   "id": "2d5b05aa",
   "metadata": {},
   "outputs": [
    {
     "data": {
      "text/plain": [
       "array([nan, 'Oil'], dtype=object)"
      ]
     },
     "execution_count": 30,
     "metadata": {},
     "output_type": "execute_result"
    }
   ],
   "source": [
    "df['other_fuel2'].unique()"
   ]
  },
  {
   "cell_type": "markdown",
   "id": "2572c712",
   "metadata": {},
   "source": [
    "the other fuel 2 has only one value so I'm going to drop this feature"
   ]
  },
  {
   "cell_type": "code",
   "execution_count": 31,
   "id": "104175d9",
   "metadata": {},
   "outputs": [
    {
     "data": {
      "text/plain": [
       "country                       0\n",
       "country_long                  0\n",
       "name                          0\n",
       "gppd_idnr                     0\n",
       "capacity_mw                   0\n",
       "latitude                      0\n",
       "longitude                     0\n",
       "primary_fuel                  0\n",
       "other_fuel1                 709\n",
       "other_fuel2                 907\n",
       "other_fuel3                 908\n",
       "commissioning_year            0\n",
       "owner                       566\n",
       "source                        0\n",
       "url                           0\n",
       "geolocation_source           19\n",
       "wepp_id                     908\n",
       "year_of_capacity_data       388\n",
       "generation_gwh_2013           0\n",
       "generation_gwh_2014           0\n",
       "generation_gwh_2015           0\n",
       "generation_gwh_2016           0\n",
       "generation_gwh_2017           0\n",
       "generation_data_source      458\n",
       "estimated_generation_gwh    908\n",
       "dtype: int64"
      ]
     },
     "execution_count": 31,
     "metadata": {},
     "output_type": "execute_result"
    }
   ],
   "source": [
    "df_new.isnull().sum()"
   ]
  },
  {
   "cell_type": "code",
   "execution_count": 32,
   "id": "3493b6d1",
   "metadata": {},
   "outputs": [],
   "source": [
    "data1=['other_fuel1','owner','geolocation_source','generation_data_source']"
   ]
  },
  {
   "cell_type": "code",
   "execution_count": 33,
   "id": "c91e2fd1",
   "metadata": {},
   "outputs": [
    {
     "data": {
      "text/html": [
       "<div>\n",
       "<style scoped>\n",
       "    .dataframe tbody tr th:only-of-type {\n",
       "        vertical-align: middle;\n",
       "    }\n",
       "\n",
       "    .dataframe tbody tr th {\n",
       "        vertical-align: top;\n",
       "    }\n",
       "\n",
       "    .dataframe thead th {\n",
       "        text-align: right;\n",
       "    }\n",
       "</style>\n",
       "<table border=\"1\" class=\"dataframe\">\n",
       "  <thead>\n",
       "    <tr style=\"text-align: right;\">\n",
       "      <th></th>\n",
       "      <th>other_fuel1</th>\n",
       "      <th>owner</th>\n",
       "      <th>geolocation_source</th>\n",
       "      <th>generation_data_source</th>\n",
       "    </tr>\n",
       "  </thead>\n",
       "  <tbody>\n",
       "    <tr>\n",
       "      <th>0</th>\n",
       "      <td>NaN</td>\n",
       "      <td>Solar Paces</td>\n",
       "      <td>National Renewable Energy Laboratory</td>\n",
       "      <td>NaN</td>\n",
       "    </tr>\n",
       "    <tr>\n",
       "      <th>1</th>\n",
       "      <td>NaN</td>\n",
       "      <td>Ultratech Cement ltd</td>\n",
       "      <td>WRI</td>\n",
       "      <td>NaN</td>\n",
       "    </tr>\n",
       "    <tr>\n",
       "      <th>2</th>\n",
       "      <td>NaN</td>\n",
       "      <td>AES</td>\n",
       "      <td>WRI</td>\n",
       "      <td>NaN</td>\n",
       "    </tr>\n",
       "    <tr>\n",
       "      <th>3</th>\n",
       "      <td>NaN</td>\n",
       "      <td>NaN</td>\n",
       "      <td>WRI</td>\n",
       "      <td>Central Electricity Authority</td>\n",
       "    </tr>\n",
       "    <tr>\n",
       "      <th>4</th>\n",
       "      <td>Oil</td>\n",
       "      <td>NaN</td>\n",
       "      <td>WRI</td>\n",
       "      <td>Central Electricity Authority</td>\n",
       "    </tr>\n",
       "    <tr>\n",
       "      <th>...</th>\n",
       "      <td>...</td>\n",
       "      <td>...</td>\n",
       "      <td>...</td>\n",
       "      <td>...</td>\n",
       "    </tr>\n",
       "    <tr>\n",
       "      <th>903</th>\n",
       "      <td>Oil</td>\n",
       "      <td>NaN</td>\n",
       "      <td>WRI</td>\n",
       "      <td>Central Electricity Authority</td>\n",
       "    </tr>\n",
       "    <tr>\n",
       "      <th>904</th>\n",
       "      <td>NaN</td>\n",
       "      <td>Karnataka Power Corporation Limited</td>\n",
       "      <td>Industry About</td>\n",
       "      <td>NaN</td>\n",
       "    </tr>\n",
       "    <tr>\n",
       "      <th>905</th>\n",
       "      <td>NaN</td>\n",
       "      <td>NaN</td>\n",
       "      <td>WRI</td>\n",
       "      <td>NaN</td>\n",
       "    </tr>\n",
       "    <tr>\n",
       "      <th>906</th>\n",
       "      <td>NaN</td>\n",
       "      <td>Hindustan Zinc ltd</td>\n",
       "      <td>WRI</td>\n",
       "      <td>NaN</td>\n",
       "    </tr>\n",
       "    <tr>\n",
       "      <th>907</th>\n",
       "      <td>NaN</td>\n",
       "      <td>iEnergy Wind Farms</td>\n",
       "      <td>WRI</td>\n",
       "      <td>NaN</td>\n",
       "    </tr>\n",
       "  </tbody>\n",
       "</table>\n",
       "<p>908 rows × 4 columns</p>\n",
       "</div>"
      ],
      "text/plain": [
       "    other_fuel1                                owner  \\\n",
       "0           NaN                          Solar Paces   \n",
       "1           NaN                 Ultratech Cement ltd   \n",
       "2           NaN                                  AES   \n",
       "3           NaN                                  NaN   \n",
       "4           Oil                                  NaN   \n",
       "..          ...                                  ...   \n",
       "903         Oil                                  NaN   \n",
       "904         NaN  Karnataka Power Corporation Limited   \n",
       "905         NaN                                  NaN   \n",
       "906         NaN                   Hindustan Zinc ltd   \n",
       "907         NaN                   iEnergy Wind Farms   \n",
       "\n",
       "                       geolocation_source         generation_data_source  \n",
       "0    National Renewable Energy Laboratory                            NaN  \n",
       "1                                     WRI                            NaN  \n",
       "2                                     WRI                            NaN  \n",
       "3                                     WRI  Central Electricity Authority  \n",
       "4                                     WRI  Central Electricity Authority  \n",
       "..                                    ...                            ...  \n",
       "903                                   WRI  Central Electricity Authority  \n",
       "904                        Industry About                            NaN  \n",
       "905                                   WRI                            NaN  \n",
       "906                                   WRI                            NaN  \n",
       "907                                   WRI                            NaN  \n",
       "\n",
       "[908 rows x 4 columns]"
      ]
     },
     "execution_count": 33,
     "metadata": {},
     "output_type": "execute_result"
    }
   ],
   "source": [
    "df[data1]"
   ]
  },
  {
   "cell_type": "code",
   "execution_count": 34,
   "id": "c0abb112",
   "metadata": {},
   "outputs": [],
   "source": [
    "for i in data1:\n",
    "    df_new[i]=df_new[i].fillna(df_new[i].mode().iloc[0])"
   ]
  },
  {
   "cell_type": "code",
   "execution_count": 35,
   "id": "77960341",
   "metadata": {},
   "outputs": [
    {
     "data": {
      "text/plain": [
       "country                       0\n",
       "country_long                  0\n",
       "name                          0\n",
       "gppd_idnr                     0\n",
       "capacity_mw                   0\n",
       "latitude                      0\n",
       "longitude                     0\n",
       "primary_fuel                  0\n",
       "other_fuel1                   0\n",
       "other_fuel2                 907\n",
       "other_fuel3                 908\n",
       "commissioning_year            0\n",
       "owner                         0\n",
       "source                        0\n",
       "url                           0\n",
       "geolocation_source            0\n",
       "wepp_id                     908\n",
       "year_of_capacity_data       388\n",
       "generation_gwh_2013           0\n",
       "generation_gwh_2014           0\n",
       "generation_gwh_2015           0\n",
       "generation_gwh_2016           0\n",
       "generation_gwh_2017           0\n",
       "generation_data_source        0\n",
       "estimated_generation_gwh    908\n",
       "dtype: int64"
      ]
     },
     "execution_count": 35,
     "metadata": {},
     "output_type": "execute_result"
    }
   ],
   "source": [
    "df_new.isnull().sum()\n"
   ]
  },
  {
   "cell_type": "markdown",
   "id": "70925400",
   "metadata": {},
   "source": [
    "FEATURE ENGINEERING"
   ]
  },
  {
   "cell_type": "code",
   "execution_count": 36,
   "id": "6b950def",
   "metadata": {},
   "outputs": [],
   "source": [
    "DATA_DROP=['country','country_long','other_fuel2','other_fuel3','wepp_id','year_of_capacity_data','estimated_generation_gwh']"
   ]
  },
  {
   "cell_type": "code",
   "execution_count": 37,
   "id": "e8d0fa61",
   "metadata": {},
   "outputs": [],
   "source": [
    "data_mod=df_new"
   ]
  },
  {
   "cell_type": "code",
   "execution_count": 38,
   "id": "e6af965a",
   "metadata": {},
   "outputs": [],
   "source": [
    "data_mod=df_new.drop(DATA_DROP,axis=1)"
   ]
  },
  {
   "cell_type": "code",
   "execution_count": 39,
   "id": "bb29c360",
   "metadata": {},
   "outputs": [
    {
     "data": {
      "text/html": [
       "<div>\n",
       "<style scoped>\n",
       "    .dataframe tbody tr th:only-of-type {\n",
       "        vertical-align: middle;\n",
       "    }\n",
       "\n",
       "    .dataframe tbody tr th {\n",
       "        vertical-align: top;\n",
       "    }\n",
       "\n",
       "    .dataframe thead th {\n",
       "        text-align: right;\n",
       "    }\n",
       "</style>\n",
       "<table border=\"1\" class=\"dataframe\">\n",
       "  <thead>\n",
       "    <tr style=\"text-align: right;\">\n",
       "      <th></th>\n",
       "      <th>name</th>\n",
       "      <th>gppd_idnr</th>\n",
       "      <th>capacity_mw</th>\n",
       "      <th>latitude</th>\n",
       "      <th>longitude</th>\n",
       "      <th>primary_fuel</th>\n",
       "      <th>other_fuel1</th>\n",
       "      <th>commissioning_year</th>\n",
       "      <th>owner</th>\n",
       "      <th>source</th>\n",
       "      <th>url</th>\n",
       "      <th>geolocation_source</th>\n",
       "      <th>generation_gwh_2013</th>\n",
       "      <th>generation_gwh_2014</th>\n",
       "      <th>generation_gwh_2015</th>\n",
       "      <th>generation_gwh_2016</th>\n",
       "      <th>generation_gwh_2017</th>\n",
       "      <th>generation_data_source</th>\n",
       "    </tr>\n",
       "  </thead>\n",
       "  <tbody>\n",
       "    <tr>\n",
       "      <th>0</th>\n",
       "      <td>ACME Solar Tower</td>\n",
       "      <td>WRI1020239</td>\n",
       "      <td>2.5</td>\n",
       "      <td>28.1839</td>\n",
       "      <td>73.2407</td>\n",
       "      <td>Solar</td>\n",
       "      <td>Oil</td>\n",
       "      <td>2011.0</td>\n",
       "      <td>Solar Paces</td>\n",
       "      <td>National Renewable Energy Laboratory</td>\n",
       "      <td>http://www.nrel.gov/csp/solarpaces/project_det...</td>\n",
       "      <td>National Renewable Energy Laboratory</td>\n",
       "      <td>797.063475</td>\n",
       "      <td>805.760000</td>\n",
       "      <td>701.02725</td>\n",
       "      <td>716.728350</td>\n",
       "      <td>807.601700</td>\n",
       "      <td>Central Electricity Authority</td>\n",
       "    </tr>\n",
       "    <tr>\n",
       "      <th>1</th>\n",
       "      <td>ADITYA CEMENT WORKS</td>\n",
       "      <td>WRI1019881</td>\n",
       "      <td>98.0</td>\n",
       "      <td>24.7663</td>\n",
       "      <td>74.6090</td>\n",
       "      <td>Coal</td>\n",
       "      <td>Oil</td>\n",
       "      <td>2000.0</td>\n",
       "      <td>Ultratech Cement ltd</td>\n",
       "      <td>Ultratech Cement ltd</td>\n",
       "      <td>http://www.ultratechcement.com/</td>\n",
       "      <td>WRI</td>\n",
       "      <td>797.063475</td>\n",
       "      <td>805.760000</td>\n",
       "      <td>701.02725</td>\n",
       "      <td>716.728350</td>\n",
       "      <td>807.601700</td>\n",
       "      <td>Central Electricity Authority</td>\n",
       "    </tr>\n",
       "    <tr>\n",
       "      <th>2</th>\n",
       "      <td>AES Saurashtra Windfarms</td>\n",
       "      <td>WRI1026669</td>\n",
       "      <td>39.2</td>\n",
       "      <td>21.9038</td>\n",
       "      <td>69.3732</td>\n",
       "      <td>Wind</td>\n",
       "      <td>Oil</td>\n",
       "      <td>2000.0</td>\n",
       "      <td>AES</td>\n",
       "      <td>CDM</td>\n",
       "      <td>https://cdm.unfccc.int/Projects/DB/DNV-CUK1328...</td>\n",
       "      <td>WRI</td>\n",
       "      <td>797.063475</td>\n",
       "      <td>805.760000</td>\n",
       "      <td>701.02725</td>\n",
       "      <td>716.728350</td>\n",
       "      <td>807.601700</td>\n",
       "      <td>Central Electricity Authority</td>\n",
       "    </tr>\n",
       "    <tr>\n",
       "      <th>3</th>\n",
       "      <td>AGARTALA GT</td>\n",
       "      <td>IND0000001</td>\n",
       "      <td>135.0</td>\n",
       "      <td>23.8712</td>\n",
       "      <td>91.3602</td>\n",
       "      <td>Gas</td>\n",
       "      <td>Oil</td>\n",
       "      <td>2004.0</td>\n",
       "      <td>Acc Acc ltd</td>\n",
       "      <td>Central Electricity Authority</td>\n",
       "      <td>http://www.cea.nic.in/</td>\n",
       "      <td>WRI</td>\n",
       "      <td>631.777928</td>\n",
       "      <td>617.789264</td>\n",
       "      <td>843.74700</td>\n",
       "      <td>886.004428</td>\n",
       "      <td>663.774500</td>\n",
       "      <td>Central Electricity Authority</td>\n",
       "    </tr>\n",
       "    <tr>\n",
       "      <th>4</th>\n",
       "      <td>AKALTARA TPP</td>\n",
       "      <td>IND0000002</td>\n",
       "      <td>1800.0</td>\n",
       "      <td>21.9603</td>\n",
       "      <td>82.4091</td>\n",
       "      <td>Coal</td>\n",
       "      <td>Oil</td>\n",
       "      <td>2015.0</td>\n",
       "      <td>Acc Acc ltd</td>\n",
       "      <td>Central Electricity Authority</td>\n",
       "      <td>http://www.cea.nic.in/</td>\n",
       "      <td>WRI</td>\n",
       "      <td>1668.290000</td>\n",
       "      <td>3035.550000</td>\n",
       "      <td>5916.37000</td>\n",
       "      <td>6243.000000</td>\n",
       "      <td>5385.579736</td>\n",
       "      <td>Central Electricity Authority</td>\n",
       "    </tr>\n",
       "  </tbody>\n",
       "</table>\n",
       "</div>"
      ],
      "text/plain": [
       "                       name   gppd_idnr  capacity_mw  latitude  longitude  \\\n",
       "0          ACME Solar Tower  WRI1020239          2.5   28.1839    73.2407   \n",
       "1       ADITYA CEMENT WORKS  WRI1019881         98.0   24.7663    74.6090   \n",
       "2  AES Saurashtra Windfarms  WRI1026669         39.2   21.9038    69.3732   \n",
       "3               AGARTALA GT  IND0000001        135.0   23.8712    91.3602   \n",
       "4              AKALTARA TPP  IND0000002       1800.0   21.9603    82.4091   \n",
       "\n",
       "  primary_fuel other_fuel1  commissioning_year                 owner  \\\n",
       "0        Solar         Oil              2011.0           Solar Paces   \n",
       "1         Coal         Oil              2000.0  Ultratech Cement ltd   \n",
       "2         Wind         Oil              2000.0                   AES   \n",
       "3          Gas         Oil              2004.0           Acc Acc ltd   \n",
       "4         Coal         Oil              2015.0           Acc Acc ltd   \n",
       "\n",
       "                                 source  \\\n",
       "0  National Renewable Energy Laboratory   \n",
       "1                  Ultratech Cement ltd   \n",
       "2                                   CDM   \n",
       "3         Central Electricity Authority   \n",
       "4         Central Electricity Authority   \n",
       "\n",
       "                                                 url  \\\n",
       "0  http://www.nrel.gov/csp/solarpaces/project_det...   \n",
       "1                    http://www.ultratechcement.com/   \n",
       "2  https://cdm.unfccc.int/Projects/DB/DNV-CUK1328...   \n",
       "3                             http://www.cea.nic.in/   \n",
       "4                             http://www.cea.nic.in/   \n",
       "\n",
       "                     geolocation_source  generation_gwh_2013  \\\n",
       "0  National Renewable Energy Laboratory           797.063475   \n",
       "1                                   WRI           797.063475   \n",
       "2                                   WRI           797.063475   \n",
       "3                                   WRI           631.777928   \n",
       "4                                   WRI          1668.290000   \n",
       "\n",
       "   generation_gwh_2014  generation_gwh_2015  generation_gwh_2016  \\\n",
       "0           805.760000            701.02725           716.728350   \n",
       "1           805.760000            701.02725           716.728350   \n",
       "2           805.760000            701.02725           716.728350   \n",
       "3           617.789264            843.74700           886.004428   \n",
       "4          3035.550000           5916.37000          6243.000000   \n",
       "\n",
       "   generation_gwh_2017         generation_data_source  \n",
       "0           807.601700  Central Electricity Authority  \n",
       "1           807.601700  Central Electricity Authority  \n",
       "2           807.601700  Central Electricity Authority  \n",
       "3           663.774500  Central Electricity Authority  \n",
       "4          5385.579736  Central Electricity Authority  "
      ]
     },
     "execution_count": 39,
     "metadata": {},
     "output_type": "execute_result"
    }
   ],
   "source": [
    "data_mod.head(5)"
   ]
  },
  {
   "cell_type": "code",
   "execution_count": 41,
   "id": "17c70eb5",
   "metadata": {},
   "outputs": [
    {
     "data": {
      "text/plain": [
       "BP Brahmanvel Wind Farm       1\n",
       "PORINGALKUTTU L               1\n",
       "Jafrabad Solar Power Plant    1\n",
       "ALMATTI DAM                   1\n",
       "KORBA-EAST                    1\n",
       "                             ..\n",
       "SIIL Jaibhim Wind Farm        1\n",
       "BAGLIHAR HEP                  1\n",
       "OBRA-A                        1\n",
       "E.G. CANAL                    1\n",
       "TORANGALLU EXT                1\n",
       "Name: name, Length: 908, dtype: int64"
      ]
     },
     "execution_count": 41,
     "metadata": {},
     "output_type": "execute_result"
    }
   ],
   "source": [
    "data_mod['name'].value_counts()"
   ]
  },
  {
   "cell_type": "code",
   "execution_count": 42,
   "id": "901867ad",
   "metadata": {},
   "outputs": [
    {
     "data": {
      "text/plain": [
       "IND0000255    1\n",
       "WRI1026161    1\n",
       "WRI1026348    1\n",
       "IND0000128    1\n",
       "IND0000040    1\n",
       "             ..\n",
       "IND0000404    1\n",
       "IND0000315    1\n",
       "WRI1026676    1\n",
       "IND0000333    1\n",
       "IND0000032    1\n",
       "Name: gppd_idnr, Length: 908, dtype: int64"
      ]
     },
     "execution_count": 42,
     "metadata": {},
     "output_type": "execute_result"
    }
   ],
   "source": [
    "data_mod['gppd_idnr'].value_counts()"
   ]
  },
  {
   "cell_type": "code",
   "execution_count": 43,
   "id": "48313cdf",
   "metadata": {},
   "outputs": [
    {
     "data": {
      "text/plain": [
       "Coal       259\n",
       "Hydro      250\n",
       "Solar      127\n",
       "Wind       123\n",
       "Gas         69\n",
       "Biomass     50\n",
       "Oil         21\n",
       "Nuclear      9\n",
       "Name: primary_fuel, dtype: int64"
      ]
     },
     "execution_count": 43,
     "metadata": {},
     "output_type": "execute_result"
    }
   ],
   "source": [
    "data_mod['primary_fuel'].value_counts()"
   ]
  },
  {
   "cell_type": "code",
   "execution_count": 44,
   "id": "0a04f936",
   "metadata": {},
   "outputs": [
    {
     "data": {
      "text/plain": [
       "Oil             905\n",
       "Gas               2\n",
       "Cogeneration      1\n",
       "Name: other_fuel1, dtype: int64"
      ]
     },
     "execution_count": 44,
     "metadata": {},
     "output_type": "execute_result"
    }
   ],
   "source": [
    "data_mod['other_fuel1'].value_counts()"
   ]
  },
  {
   "cell_type": "code",
   "execution_count": 45,
   "id": "f41d4e23",
   "metadata": {},
   "outputs": [
    {
     "data": {
      "text/plain": [
       "2000.0    396\n",
       "2013.0     28\n",
       "2015.0     26\n",
       "2012.0     23\n",
       "2016.0     21\n",
       "         ... \n",
       "1958.0      1\n",
       "1949.0      1\n",
       "1954.0      1\n",
       "1956.0      1\n",
       "1927.0      1\n",
       "Name: commissioning_year, Length: 73, dtype: int64"
      ]
     },
     "execution_count": 45,
     "metadata": {},
     "output_type": "execute_result"
    }
   ],
   "source": [
    "data_mod['commissioning_year'].value_counts()"
   ]
  },
  {
   "cell_type": "code",
   "execution_count": 46,
   "id": "82bca8a1",
   "metadata": {},
   "outputs": [
    {
     "data": {
      "text/plain": [
       "Acc Acc ltd                                  570\n",
       "Jk Cement ltd                                  4\n",
       "Sterling Agro Industries ltd.                  4\n",
       "Tata Power Solar Systems Limited (TPREL)       3\n",
       "Karnataka Power Corporation Limited            3\n",
       "                                            ... \n",
       "Hindustan Pvt lt                               1\n",
       "Shree Saibaba Green Power Private Limited      1\n",
       "Suryauday Solaire Prakash Private Limited      1\n",
       "Bindu Vau Urja Private Limited                 1\n",
       "Manikghar Cement co                            1\n",
       "Name: owner, Length: 280, dtype: int64"
      ]
     },
     "execution_count": 46,
     "metadata": {},
     "output_type": "execute_result"
    }
   ],
   "source": [
    "data_mod['owner'].value_counts()"
   ]
  },
  {
   "cell_type": "code",
   "execution_count": 47,
   "id": "523b8146",
   "metadata": {},
   "outputs": [
    {
     "data": {
      "text/plain": [
       "Central Electricity Authority                520\n",
       "CDM                                          124\n",
       "Lancosola                                     10\n",
       "National Renewable Energy Laboratory           8\n",
       "National Thermal Power Corporation (NTPC)      6\n",
       "                                            ... \n",
       "West Coast Paper Mills Ltd.                    1\n",
       "Aravali Infrapower Private Limited (AIPL)      1\n",
       "ACME Cleantech Solutions Private Limited       1\n",
       "Dhariwal Pvt ltd                               1\n",
       "EMC Limited                                    1\n",
       "Name: source, Length: 191, dtype: int64"
      ]
     },
     "execution_count": 47,
     "metadata": {},
     "output_type": "execute_result"
    }
   ],
   "source": [
    "data_mod['source'].value_counts()"
   ]
  },
  {
   "cell_type": "code",
   "execution_count": 48,
   "id": "4c82802c",
   "metadata": {},
   "outputs": [
    {
     "data": {
      "text/plain": [
       "http://www.cea.nic.in/                                                              520\n",
       "http://www.lancosolar.com/pdfs/rajasthan-pv-project-details.pdf                       7\n",
       "http://www.ntpc.co.in                                                                 6\n",
       "http://viainfotech.biz/Biomass/theme5/document/green_market/REC-project-list.pdf      5\n",
       "http://www.mahaurja.com/PDF/PG2_GridConnSPPCommissioned.pdf                           4\n",
       "                                                                                   ... \n",
       "https://cdm.unfccc.int/Projects/DB/DNV-CUK1174563974.61/view                          1\n",
       "http://www.mnre.gov.in                                                                1\n",
       "https://cdm.unfccc.int/Projects/DB/RWTUV1288029478.94/view                            1\n",
       "http://www.nrel.gov/csp/solarpaces/project_detail.cfm/projectID=254                   1\n",
       "http://www.abelloncleanenergy.com                                                     1\n",
       "Name: url, Length: 304, dtype: int64"
      ]
     },
     "execution_count": 48,
     "metadata": {},
     "output_type": "execute_result"
    }
   ],
   "source": [
    "data_mod['url'].value_counts()"
   ]
  },
  {
   "cell_type": "code",
   "execution_count": 49,
   "id": "052b8511",
   "metadata": {},
   "outputs": [
    {
     "data": {
      "text/plain": [
       "797.063475     524\n",
       "0.000000        21\n",
       "225.964500       1\n",
       "6492.000000      1\n",
       "42.496450        1\n",
       "              ... \n",
       "265.754550       1\n",
       "7229.330000      1\n",
       "657.217400       1\n",
       "507.897750       1\n",
       "8211.000000      1\n",
       "Name: generation_gwh_2013, Length: 365, dtype: int64"
      ]
     },
     "execution_count": 49,
     "metadata": {},
     "output_type": "execute_result"
    }
   ],
   "source": [
    "data_mod['generation_gwh_2013'].value_counts()"
   ]
  },
  {
   "cell_type": "code",
   "execution_count": 128,
   "id": "eb788950",
   "metadata": {},
   "outputs": [
    {
     "data": {
      "text/plain": [
       "805.76000     508\n",
       "0.00000        28\n",
       "6803.31250      1\n",
       "4735.13000      1\n",
       "145.81400       1\n",
       "             ... \n",
       "6224.00000      1\n",
       "268.48085       1\n",
       "1255.73200      1\n",
       "164.32425       1\n",
       "1153.65300      1\n",
       "Name: generation_gwh_2014, Length: 374, dtype: int64"
      ]
     },
     "execution_count": 128,
     "metadata": {},
     "output_type": "execute_result"
    }
   ],
   "source": [
    "data_mod['generation_gwh_2014'].value_counts()"
   ]
  },
  {
   "cell_type": "code",
   "execution_count": 57,
   "id": "5237ef56",
   "metadata": {},
   "outputs": [
    {
     "data": {
      "text/plain": [
       "701.02725     484\n",
       "0.00000        28\n",
       "462.95360       1\n",
       "174.17475       1\n",
       "1297.97750      1\n",
       "             ... \n",
       "118.34530       1\n",
       "2636.86400      1\n",
       "665.19730       1\n",
       "1516.36010      1\n",
       "7130.50700      1\n",
       "Name: generation_gwh_2015, Length: 398, dtype: int64"
      ]
     },
     "execution_count": 57,
     "metadata": {},
     "output_type": "execute_result"
    }
   ],
   "source": [
    "data_mod['generation_gwh_2015'].value_counts()"
   ]
  },
  {
   "cell_type": "code",
   "execution_count": 58,
   "id": "49c87762",
   "metadata": {},
   "outputs": [
    {
     "data": {
      "text/plain": [
       "716.72835     472\n",
       "0.00000        31\n",
       "8470.57000      2\n",
       "1511.00000      2\n",
       "168.58285       1\n",
       "             ... \n",
       "433.84800       1\n",
       "283.74811       1\n",
       "259.94375       1\n",
       "403.96000       1\n",
       "307.87290       1\n",
       "Name: generation_gwh_2016, Length: 405, dtype: int64"
      ]
     },
     "execution_count": 58,
     "metadata": {},
     "output_type": "execute_result"
    }
   ],
   "source": [
    "data_mod['generation_gwh_2016'].value_counts()"
   ]
  },
  {
   "cell_type": "code",
   "execution_count": 59,
   "id": "d2dcb223",
   "metadata": {},
   "outputs": [
    {
     "data": {
      "text/plain": [
       "807.60170     466\n",
       "0.00000        33\n",
       "170.08530       2\n",
       "2851.19100      1\n",
       "9271.00000      1\n",
       "             ... \n",
       "214.48220       1\n",
       "272.73945       1\n",
       "2887.00000      1\n",
       "12.73600        1\n",
       "158.73235       1\n",
       "Name: generation_gwh_2017, Length: 410, dtype: int64"
      ]
     },
     "execution_count": 59,
     "metadata": {},
     "output_type": "execute_result"
    }
   ],
   "source": [
    "data_mod['generation_gwh_2017'].value_counts()"
   ]
  },
  {
   "cell_type": "code",
   "execution_count": 60,
   "id": "56ddc9dd",
   "metadata": {},
   "outputs": [
    {
     "data": {
      "text/plain": [
       "Central Electricity Authority    908\n",
       "Name: generation_data_source, dtype: int64"
      ]
     },
     "execution_count": 60,
     "metadata": {},
     "output_type": "execute_result"
    }
   ],
   "source": [
    "data_mod['generation_data_source'].value_counts()"
   ]
  },
  {
   "cell_type": "code",
   "execution_count": 50,
   "id": "1d61b275",
   "metadata": {},
   "outputs": [],
   "source": [
    "col=['name','gppd_idnr','generation_data_source']"
   ]
  },
  {
   "cell_type": "code",
   "execution_count": 51,
   "id": "eac8bdcc",
   "metadata": {},
   "outputs": [],
   "source": [
    "data_mod=data_mod.drop(col,axis=1)"
   ]
  },
  {
   "cell_type": "code",
   "execution_count": 52,
   "id": "d5828656",
   "metadata": {},
   "outputs": [
    {
     "data": {
      "text/plain": [
       "(908, 15)"
      ]
     },
     "execution_count": 52,
     "metadata": {},
     "output_type": "execute_result"
    }
   ],
   "source": [
    "data_mod.shape"
   ]
  },
  {
   "cell_type": "markdown",
   "id": "93f0aed8",
   "metadata": {},
   "source": [
    "the columnsz which has unique value  are dropped"
   ]
  },
  {
   "cell_type": "code",
   "execution_count": 352,
   "id": "353e0e41",
   "metadata": {},
   "outputs": [
    {
     "data": {
      "text/plain": [
       "Index(['capacity_mw', 'latitude', 'longitude', 'primary_fuel', 'other_fuel1',\n",
       "       'commissioning_year', 'owner', 'source', 'url', 'geolocation_source',\n",
       "       'generation_gwh_2013', 'generation_gwh_2014', 'generation_gwh_2015',\n",
       "       'generation_gwh_2016', 'generation_gwh_2017'],\n",
       "      dtype='object')"
      ]
     },
     "execution_count": 352,
     "metadata": {},
     "output_type": "execute_result"
    }
   ],
   "source": [
    "data_mod.columns"
   ]
  },
  {
   "cell_type": "code",
   "execution_count": 53,
   "id": "b6d11bc3",
   "metadata": {},
   "outputs": [
    {
     "data": {
      "text/plain": [
       "<Figure size 2160x2160 with 0 Axes>"
      ]
     },
     "metadata": {},
     "output_type": "display_data"
    },
    {
     "data": {
      "image/png": "[encoded data removed]",
      "text/plain": [
       "<Figure size 1440x1440 with 1 Axes>"
      ]
     },
     "metadata": {
      "needs_background": "light"
     },
     "output_type": "display_data"
    },
    {
     "data": {
      "image/png": "[encoded data removed]",
      "text/plain": [
       "<Figure size 1440x1440 with 1 Axes>"
      ]
     },
     "metadata": {
      "needs_background": "light"
     },
     "output_type": "display_data"
    },
    {
     "data": {
      "image/png": "[encoded data removed]",
      "text/plain": [
       "<Figure size 1440x1440 with 1 Axes>"
      ]
     },
     "metadata": {
      "needs_background": "light"
     },
     "output_type": "display_data"
    },
    {
     "data": {
      "image/png": "[encoded data removed]",
      "text/plain": [
       "<Figure size 1440x1440 with 1 Axes>"
      ]
     },
     "metadata": {
      "needs_background": "light"
     },
     "output_type": "display_data"
    },
    {
     "data": {
      "image/png": "[encoded data removed]",
      "text/plain": [
       "<Figure size 1440x1440 with 1 Axes>"
      ]
     },
     "metadata": {
      "needs_background": "light"
     },
     "output_type": "display_data"
    },
    {
     "data": {
      "image/png": "[encoded data removed]",
      "text/plain": [
       "<Figure size 1440x1440 with 1 Axes>"
      ]
     },
     "metadata": {
      "needs_background": "light"
     },
     "output_type": "display_data"
    },
    {
     "data": {
      "image/png": "[encoded data removed]",
      "text/plain": [
       "<Figure size 1440x1440 with 1 Axes>"
      ]
     },
     "metadata": {
      "needs_background": "light"
     },
     "output_type": "display_data"
    },
    {
     "data": {
      "image/png": "[encoded data removed]",
      "text/plain": [
       "<Figure size 1440x1440 with 1 Axes>"
      ]
     },
     "metadata": {
      "needs_background": "light"
     },
     "output_type": "display_data"
    },
    {
     "data": {
      "image/png": "[encoded data removed]",
      "text/plain": [
       "<Figure size 1440x1440 with 1 Axes>"
      ]
     },
     "metadata": {
      "needs_background": "light"
     },
     "output_type": "display_data"
    }
   ],
   "source": [
    "cols=['capacity_mw', 'latitude', 'longitude',\n",
    "       'commissioning_year','generation_gwh_2013', 'generation_gwh_2014', 'generation_gwh_2015',\n",
    "       'generation_gwh_2016', 'generation_gwh_2017']\n",
    "ncol=5\n",
    "nrows=5\n",
    "plt.figure(figsize=(30,30))\n",
    "for i in range(0,9):\n",
    "    plt.figure(figsize=(20,20))\n",
    "    plt.subplot(nrows,ncol,i+1)\n",
    "    sns.boxplot(x=cols[i],data=data_mod,palette=\"Set1\")"
   ]
  },
  {
   "cell_type": "markdown",
   "id": "7981b566",
   "metadata": {},
   "source": [
    "___Handling outliers in float datas"
   ]
  },
  {
   "cell_type": "code",
   "execution_count": 122,
   "id": "b1084964",
   "metadata": {},
   "outputs": [],
   "source": [
    "data_clean=data_mod"
   ]
  },
  {
   "cell_type": "code",
   "execution_count": 123,
   "id": "6b2b3aa5",
   "metadata": {},
   "outputs": [
    {
     "name": "stdout",
     "output_type": "stream",
     "text": [
      "(array([ 15, 144, 210, 309, 365, 494, 495, 649, 658, 696, 722, 725, 727,\n",
      "       787, 809, 881], dtype=int64),)\n"
     ]
    }
   ],
   "source": [
    "for i in cols:\n",
    "    z = np.abs(zscore(data_mod[i]))\n",
    "print(np.where(z > 3))"
   ]
  },
  {
   "cell_type": "code",
   "execution_count": 124,
   "id": "5b566ee3",
   "metadata": {},
   "outputs": [],
   "source": [
    "data_clean = data_mod[(z<3)]"
   ]
  },
  {
   "cell_type": "code",
   "execution_count": 125,
   "id": "6ade001a",
   "metadata": {},
   "outputs": [
    {
     "data": {
      "text/plain": [
       "(892, 15)"
      ]
     },
     "execution_count": 125,
     "metadata": {},
     "output_type": "execute_result"
    }
   ],
   "source": [
    "data_clean.shape"
   ]
  },
  {
   "cell_type": "code",
   "execution_count": 126,
   "id": "f41fc7ae",
   "metadata": {},
   "outputs": [
    {
     "data": {
      "text/plain": [
       "1.762114537444934"
      ]
     },
     "execution_count": 126,
     "metadata": {},
     "output_type": "execute_result"
    }
   ],
   "source": [
    "((908-892)/908)*100"
   ]
  },
  {
   "cell_type": "markdown",
   "id": "d4e8f94f",
   "metadata": {},
   "source": [
    "1.76% data loss so removing outliers using zscore"
   ]
  },
  {
   "cell_type": "code",
   "execution_count": 68,
   "id": "b37965aa",
   "metadata": {},
   "outputs": [],
   "source": [
    "Q1=data_mod.quantile(0.25)\n",
    "Q3=data_mod.quantile(0.75)\n",
    "IQR=Q3-Q1\n",
    "data_clean1=data_mod[~((data_mod<(Q1-1.5*IQR))| (data_mod>(Q1+1.5*IQR))).any(axis=1)]"
   ]
  },
  {
   "cell_type": "code",
   "execution_count": 69,
   "id": "f7692d0a",
   "metadata": {},
   "outputs": [
    {
     "data": {
      "text/plain": [
       "(370, 15)"
      ]
     },
     "execution_count": 69,
     "metadata": {},
     "output_type": "execute_result"
    }
   ],
   "source": [
    "data_clean1.shape"
   ]
  },
  {
   "cell_type": "markdown",
   "id": "2be4ccd9",
   "metadata": {},
   "source": [
    "60%data loss"
   ]
  },
  {
   "cell_type": "markdown",
   "id": "7963df99",
   "metadata": {},
   "source": [
    "Handling_skewness"
   ]
  },
  {
   "cell_type": "code",
   "execution_count": 127,
   "id": "adfc0ac6",
   "metadata": {},
   "outputs": [
    {
     "name": "stdout",
     "output_type": "stream",
     "text": [
      "capacity_mw = 2.1705076772998484\n",
      "latitude = -0.15102858155345364\n",
      "longitude = -3.1728181672340097\n",
      "commissioning_year = -1.6467697184892278\n",
      "generation_gwh_2013 = 3.3772023891298466\n",
      "generation_gwh_2014 = 3.1552445441044608\n",
      "generation_gwh_2015 = 2.867947659039632\n",
      "generation_gwh_2016 = 2.7614224831185297\n",
      "generation_gwh_2017 = 2.620822217219757\n"
     ]
    }
   ],
   "source": [
    "cols=['capacity_mw', 'latitude', 'longitude',\n",
    "       'commissioning_year','generation_gwh_2013', 'generation_gwh_2014', 'generation_gwh_2015',\n",
    "       'generation_gwh_2016', 'generation_gwh_2017']\n",
    "df_clean=data_clean\n",
    "for i in range(0,9):\n",
    "    print(cols[i],\"=\",data_clean[cols[i]].skew())"
   ]
  },
  {
   "cell_type": "code",
   "execution_count": 136,
   "id": "c6611e4d",
   "metadata": {},
   "outputs": [],
   "source": [
    "from sklearn.preprocessing import power_transform\n",
    "cols=['capacity_mw', 'longitude',\n",
    "       'commissioning_year','generation_gwh_2013', 'generation_gwh_2014', 'generation_gwh_2015','generation_gwh_2016', 'generation_gwh_2017']\n",
    "df_clean[cols]=power_transform (data_clean[cols])\n"
   ]
  },
  {
   "cell_type": "code",
   "execution_count": 138,
   "id": "ac6fb5cd",
   "metadata": {},
   "outputs": [
    {
     "name": "stdout",
     "output_type": "stream",
     "text": [
      "capacity_mw = 0.015940673989977668\n",
      "latitude = -0.15102858155345364\n",
      "longitude = -0.013544658855035517\n",
      "commissioning_year = -0.4246382746491607\n",
      "generation_gwh_2013 = 0.28189290323962074\n",
      "generation_gwh_2014 = 0.23752116219579592\n",
      "generation_gwh_2015 = 0.17113864605993268\n",
      "generation_gwh_2016 = 0.1521659426692913\n",
      "generation_gwh_2017 = 0.13114332417994823\n"
     ]
    }
   ],
   "source": [
    "cols=['capacity_mw', 'latitude', 'longitude',\n",
    "       'commissioning_year','generation_gwh_2013', 'generation_gwh_2014', 'generation_gwh_2015',\n",
    "       'generation_gwh_2016', 'generation_gwh_2017']\n",
    "for i in range(0,9):\n",
    "    print(cols[i],\"=\",data_clean[cols[i]].skew())"
   ]
  },
  {
   "cell_type": "markdown",
   "id": "3ad8de42",
   "metadata": {},
   "source": [
    "skewness is removed using power transformation"
   ]
  },
  {
   "cell_type": "code",
   "execution_count": 144,
   "id": "cdc206a6",
   "metadata": {},
   "outputs": [
    {
     "data": {
      "text/plain": [
       "(892, 15)"
      ]
     },
     "execution_count": 144,
     "metadata": {},
     "output_type": "execute_result"
    }
   ],
   "source": [
    "df_clean.shape"
   ]
  },
  {
   "cell_type": "markdown",
   "id": "8511eca9",
   "metadata": {},
   "source": [
    "After removing outliers and skewness the data loss is 1.76%"
   ]
  },
  {
   "cell_type": "code",
   "execution_count": 167,
   "id": "a50c1fec",
   "metadata": {},
   "outputs": [
    {
     "data": {
      "text/plain": [
       "Index(['capacity_mw', 'latitude', 'longitude', 'primary_fuel', 'other_fuel1',\n",
       "       'commissioning_year', 'owner', 'source', 'url', 'geolocation_source',\n",
       "       'generation_gwh_2013', 'generation_gwh_2014', 'generation_gwh_2015',\n",
       "       'generation_gwh_2016', 'generation_gwh_2017'],\n",
       "      dtype='object')"
      ]
     },
     "execution_count": 167,
     "metadata": {},
     "output_type": "execute_result"
    }
   ],
   "source": [
    "df_clean.columns"
   ]
  },
  {
   "cell_type": "code",
   "execution_count": 168,
   "id": "b44aa5b1",
   "metadata": {},
   "outputs": [
    {
     "data": {
      "text/plain": [
       "capacity_mw            float64\n",
       "latitude               float64\n",
       "longitude              float64\n",
       "primary_fuel            object\n",
       "other_fuel1             object\n",
       "commissioning_year     float64\n",
       "owner                   object\n",
       "source                  object\n",
       "url                     object\n",
       "geolocation_source      object\n",
       "generation_gwh_2013    float64\n",
       "generation_gwh_2014    float64\n",
       "generation_gwh_2015    float64\n",
       "generation_gwh_2016    float64\n",
       "generation_gwh_2017    float64\n",
       "dtype: object"
      ]
     },
     "execution_count": 168,
     "metadata": {},
     "output_type": "execute_result"
    }
   ],
   "source": [
    "df_clean.dtypes"
   ]
  },
  {
   "cell_type": "markdown",
   "id": "cc50efdd",
   "metadata": {},
   "source": [
    "LABEL ENCODING:\n",
    "    Encoding all categorical coloumn into numerical column using label encoding technique"
   ]
  },
  {
   "cell_type": "code",
   "execution_count": 404,
   "id": "0ceba7b6",
   "metadata": {},
   "outputs": [],
   "source": [
    "data_new=df_clean\n",
    "col_encod=['primary_fuel', 'other_fuel1','owner', 'source', 'url', 'geolocation_source']"
   ]
  },
  {
   "cell_type": "code",
   "execution_count": 405,
   "id": "09b93771",
   "metadata": {},
   "outputs": [],
   "source": [
    "from sklearn import preprocessing \n",
    "for col in col_encod:\n",
    "    label = preprocessing.LabelEncoder()\n",
    "    data_new[col]= label.fit_transform(df_clean[col])"
   ]
  },
  {
   "cell_type": "code",
   "execution_count": 406,
   "id": "57f650b2",
   "metadata": {},
   "outputs": [
    {
     "data": {
      "text/html": [
       "<div>\n",
       "<style scoped>\n",
       "    .dataframe tbody tr th:only-of-type {\n",
       "        vertical-align: middle;\n",
       "    }\n",
       "\n",
       "    .dataframe tbody tr th {\n",
       "        vertical-align: top;\n",
       "    }\n",
       "\n",
       "    .dataframe thead th {\n",
       "        text-align: right;\n",
       "    }\n",
       "</style>\n",
       "<table border=\"1\" class=\"dataframe\">\n",
       "  <thead>\n",
       "    <tr style=\"text-align: right;\">\n",
       "      <th></th>\n",
       "      <th>capacity_mw</th>\n",
       "      <th>latitude</th>\n",
       "      <th>longitude</th>\n",
       "      <th>primary_fuel</th>\n",
       "      <th>other_fuel1</th>\n",
       "      <th>commissioning_year</th>\n",
       "      <th>owner</th>\n",
       "      <th>source</th>\n",
       "      <th>url</th>\n",
       "      <th>geolocation_source</th>\n",
       "      <th>generation_gwh_2013</th>\n",
       "      <th>generation_gwh_2014</th>\n",
       "      <th>generation_gwh_2015</th>\n",
       "      <th>generation_gwh_2016</th>\n",
       "      <th>generation_gwh_2017</th>\n",
       "    </tr>\n",
       "  </thead>\n",
       "  <tbody>\n",
       "    <tr>\n",
       "      <th>0</th>\n",
       "      <td>-1.690094</td>\n",
       "      <td>28.1839</td>\n",
       "      <td>-0.461213</td>\n",
       "      <td>6</td>\n",
       "      <td>2</td>\n",
       "      <td>1.172896</td>\n",
       "      <td>229</td>\n",
       "      <td>109</td>\n",
       "      <td>128</td>\n",
       "      <td>1</td>\n",
       "      <td>-0.027255</td>\n",
       "      <td>-0.027818</td>\n",
       "      <td>-0.039841</td>\n",
       "      <td>-0.040556</td>\n",
       "      <td>-0.022676</td>\n",
       "    </tr>\n",
       "    <tr>\n",
       "      <th>1</th>\n",
       "      <td>0.225468</td>\n",
       "      <td>24.7663</td>\n",
       "      <td>-0.290015</td>\n",
       "      <td>1</td>\n",
       "      <td>2</td>\n",
       "      <td>0.016119</td>\n",
       "      <td>258</td>\n",
       "      <td>174</td>\n",
       "      <td>173</td>\n",
       "      <td>2</td>\n",
       "      <td>-0.027255</td>\n",
       "      <td>-0.027818</td>\n",
       "      <td>-0.039841</td>\n",
       "      <td>-0.040556</td>\n",
       "      <td>-0.022676</td>\n",
       "    </tr>\n",
       "    <tr>\n",
       "      <th>2</th>\n",
       "      <td>-0.273761</td>\n",
       "      <td>21.9038</td>\n",
       "      <td>-0.898028</td>\n",
       "      <td>7</td>\n",
       "      <td>2</td>\n",
       "      <td>0.016119</td>\n",
       "      <td>2</td>\n",
       "      <td>21</td>\n",
       "      <td>205</td>\n",
       "      <td>2</td>\n",
       "      <td>-0.027255</td>\n",
       "      <td>-0.027818</td>\n",
       "      <td>-0.039841</td>\n",
       "      <td>-0.040556</td>\n",
       "      <td>-0.022676</td>\n",
       "    </tr>\n",
       "    <tr>\n",
       "      <th>3</th>\n",
       "      <td>0.398418</td>\n",
       "      <td>23.8712</td>\n",
       "      <td>2.652554</td>\n",
       "      <td>2</td>\n",
       "      <td>2</td>\n",
       "      <td>0.403485</td>\n",
       "      <td>5</td>\n",
       "      <td>22</td>\n",
       "      <td>58</td>\n",
       "      <td>2</td>\n",
       "      <td>-0.239392</td>\n",
       "      <td>-0.255563</td>\n",
       "      <td>0.113476</td>\n",
       "      <td>0.131996</td>\n",
       "      <td>-0.175167</td>\n",
       "    </tr>\n",
       "    <tr>\n",
       "      <th>4</th>\n",
       "      <td>1.750527</td>\n",
       "      <td>21.9603</td>\n",
       "      <td>0.871374</td>\n",
       "      <td>1</td>\n",
       "      <td>2</td>\n",
       "      <td>1.671044</td>\n",
       "      <td>5</td>\n",
       "      <td>22</td>\n",
       "      <td>58</td>\n",
       "      <td>2</td>\n",
       "      <td>0.745658</td>\n",
       "      <td>1.409318</td>\n",
       "      <td>2.260512</td>\n",
       "      <td>2.250551</td>\n",
       "      <td>1.961041</td>\n",
       "    </tr>\n",
       "  </tbody>\n",
       "</table>\n",
       "</div>"
      ],
      "text/plain": [
       "   capacity_mw  latitude  longitude  primary_fuel  other_fuel1  \\\n",
       "0    -1.690094   28.1839  -0.461213             6            2   \n",
       "1     0.225468   24.7663  -0.290015             1            2   \n",
       "2    -0.273761   21.9038  -0.898028             7            2   \n",
       "3     0.398418   23.8712   2.652554             2            2   \n",
       "4     1.750527   21.9603   0.871374             1            2   \n",
       "\n",
       "   commissioning_year  owner  source  url  geolocation_source  \\\n",
       "0            1.172896    229     109  128                   1   \n",
       "1            0.016119    258     174  173                   2   \n",
       "2            0.016119      2      21  205                   2   \n",
       "3            0.403485      5      22   58                   2   \n",
       "4            1.671044      5      22   58                   2   \n",
       "\n",
       "   generation_gwh_2013  generation_gwh_2014  generation_gwh_2015  \\\n",
       "0            -0.027255            -0.027818            -0.039841   \n",
       "1            -0.027255            -0.027818            -0.039841   \n",
       "2            -0.027255            -0.027818            -0.039841   \n",
       "3            -0.239392            -0.255563             0.113476   \n",
       "4             0.745658             1.409318             2.260512   \n",
       "\n",
       "   generation_gwh_2016  generation_gwh_2017  \n",
       "0            -0.040556            -0.022676  \n",
       "1            -0.040556            -0.022676  \n",
       "2            -0.040556            -0.022676  \n",
       "3             0.131996            -0.175167  \n",
       "4             2.250551             1.961041  "
      ]
     },
     "execution_count": 406,
     "metadata": {},
     "output_type": "execute_result"
    }
   ],
   "source": [
    "data_new.head(5)"
   ]
  },
  {
   "cell_type": "code",
   "execution_count": 371,
   "id": "d555edb2",
   "metadata": {},
   "outputs": [
    {
     "data": {
      "text/plain": [
       "<AxesSubplot:>"
      ]
     },
     "execution_count": 371,
     "metadata": {},
     "output_type": "execute_result"
    },
    {
     "data": {
      "image/png": "[encoded data removed]",
      "text/plain": [
       "<Figure size 720x432 with 2 Axes>"
      ]
     },
     "metadata": {
      "needs_background": "light"
     },
     "output_type": "display_data"
    }
   ],
   "source": [
    "correlation=data_new.corr(method='pearson')\n",
    "plt.figure(figsize=(10,6))\n",
    "sns.heatmap(correlation,annot=True)"
   ]
  },
  {
   "cell_type": "markdown",
   "id": "06bf99e9",
   "metadata": {},
   "source": [
    "the target column primary fuel is highly correlated with url"
   ]
  },
  {
   "cell_type": "markdown",
   "id": "a0e5def8",
   "metadata": {},
   "source": [
    "__MODELLING"
   ]
  },
  {
   "cell_type": "markdown",
   "id": "3c4c6c72",
   "metadata": {},
   "source": [
    "target column=primary_fuel"
   ]
  },
  {
   "cell_type": "code",
   "execution_count": 372,
   "id": "69551ad6",
   "metadata": {},
   "outputs": [],
   "source": [
    "x1=data_new.drop('primary_fuel',axis=1)\n",
    "y1=data_new['primary_fuel']"
   ]
  },
  {
   "cell_type": "markdown",
   "id": "5690dbe9",
   "metadata": {},
   "source": [
    "___Handling class imbalance"
   ]
  },
  {
   "cell_type": "code",
   "execution_count": 354,
   "id": "42d152d4",
   "metadata": {},
   "outputs": [
    {
     "name": "stdout",
     "output_type": "stream",
     "text": [
      "Requirement already satisfied: imbalanced-learn in c:\\users\\my pc\\anaconda3\\lib\\site-packages (0.8.0)\n",
      "Requirement already satisfied: joblib>=0.11 in c:\\users\\my pc\\anaconda3\\lib\\site-packages (from imbalanced-learn) (1.0.1)\n",
      "Requirement already satisfied: scipy>=0.19.1 in c:\\users\\my pc\\anaconda3\\lib\\site-packages (from imbalanced-learn) (1.6.2)\n",
      "Requirement already satisfied: numpy>=1.13.3 in c:\\users\\my pc\\anaconda3\\lib\\site-packages (from imbalanced-learn) (1.20.1)\n",
      "Requirement already satisfied: scikit-learn>=0.24 in c:\\users\\my pc\\anaconda3\\lib\\site-packages (from imbalanced-learn) (0.24.1)\n",
      "Requirement already satisfied: threadpoolctl>=2.0.0 in c:\\users\\my pc\\anaconda3\\lib\\site-packages (from scikit-learn>=0.24->imbalanced-learn) (2.1.0)\n"
     ]
    }
   ],
   "source": [
    "!pip install imbalanced-learn"
   ]
  },
  {
   "cell_type": "code",
   "execution_count": 373,
   "id": "300ff42d",
   "metadata": {},
   "outputs": [],
   "source": [
    "#Over Sampling the data using SMOTE\n",
    "from imblearn.over_sampling import SMOTE\n",
    "os=SMOTE()"
   ]
  },
  {
   "cell_type": "code",
   "execution_count": 374,
   "id": "70212892",
   "metadata": {},
   "outputs": [],
   "source": [
    "x1,y1=os.fit_resample(x1,y1)"
   ]
  },
  {
   "cell_type": "code",
   "execution_count": 375,
   "id": "367bfe17",
   "metadata": {},
   "outputs": [
    {
     "data": {
      "text/plain": [
       "<AxesSubplot:xlabel='primary_fuel', ylabel='count'>"
      ]
     },
     "execution_count": 375,
     "metadata": {},
     "output_type": "execute_result"
    },
    {
     "data": {
      "image/png": "[encoded data removed]",
      "text/plain": [
       "<Figure size 432x288 with 1 Axes>"
      ]
     },
     "metadata": {
      "needs_background": "light"
     },
     "output_type": "display_data"
    }
   ],
   "source": [
    "sns.countplot(y1,palette=\"Set1\")"
   ]
  },
  {
   "cell_type": "markdown",
   "id": "1abb0164",
   "metadata": {},
   "source": [
    "_feature scaling transforming un scaled data into scaled data using min max scalining technique"
   ]
  },
  {
   "cell_type": "code",
   "execution_count": 376,
   "id": "e0b0953a",
   "metadata": {},
   "outputs": [],
   "source": [
    "from sklearn.preprocessing import MinMaxScaler\n",
    "scaler=MinMaxScaler()\n",
    "scaled = scaler.fit_transform(x1)"
   ]
  },
  {
   "cell_type": "code",
   "execution_count": 377,
   "id": "98ae0782",
   "metadata": {},
   "outputs": [],
   "source": [
    "from sklearn.metrics import classification_report, confusion_matrix, accuracy_score\n",
    "from sklearn.linear_model import LogisticRegression\n",
    "from sklearn .ensemble import RandomForestClassifier\n",
    "from sklearn.ensemble import BaggingClassifier\n",
    "from sklearn.model_selection import train_test_split\n",
    "from sklearn.neighbors import KNeighborsClassifier\n",
    "from sklearn.metrics import roc_curve\n",
    "from sklearn.metrics import roc_auc_score\n",
    "from sklearn.model_selection import cross_val_score\n",
    "from matplotlib import pyplot\n",
    "from sklearn.svm import SVC\n",
    "from sklearn.ensemble import GradientBoostingClassifier\n",
    "from sklearn.tree import DecisionTreeClassifier\n",
    "x=scaled\n",
    "y=y1"
   ]
  },
  {
   "cell_type": "code",
   "execution_count": 378,
   "id": "149eeb6a",
   "metadata": {},
   "outputs": [],
   "source": [
    "xtrain,xtest,ytrain,ytest=train_test_split(x,y,test_size=0.25,random_state=1)\n",
    "\n",
    "models=[RandomForestClassifier(),BaggingClassifier(),KNeighborsClassifier(),GradientBoostingClassifier(),DecisionTreeClassifier()]\n",
    "scorelist=[]\n",
    "acclist=[]"
   ]
  },
  {
   "cell_type": "code",
   "execution_count": 379,
   "id": "33bf3617",
   "metadata": {},
   "outputs": [
    {
     "name": "stdout",
     "output_type": "stream",
     "text": [
      "RandomForestClassifier() \n",
      "\n",
      "Accuracy score: 0.942 \n",
      "\n",
      "\"Confusion Matrix:\n",
      "\" [[71  1  0  0  0  0  0  0]\n",
      " [ 0 47  4  4  5  1  0  0]\n",
      " [ 1  0 54  1  1  3  0  0]\n",
      " [ 0  4  1 61  0  0  0  0]\n",
      " [ 0  1  0  0 55  0  0  0]\n",
      " [ 0  1  0  1  0 64  0  0]\n",
      " [ 0  0  0  0  0  0 60  0]\n",
      " [ 0  0  0  0  0  0  0 59]]\n",
      "classification_report\n",
      "               precision    recall  f1-score   support\n",
      "\n",
      "           0       0.99      0.99      0.99        72\n",
      "           1       0.87      0.77      0.82        61\n",
      "           2       0.92      0.90      0.91        60\n",
      "           3       0.91      0.92      0.92        66\n",
      "           4       0.90      0.98      0.94        56\n",
      "           5       0.94      0.97      0.96        66\n",
      "           6       1.00      1.00      1.00        60\n",
      "           7       1.00      1.00      1.00        59\n",
      "\n",
      "    accuracy                           0.94       500\n",
      "   macro avg       0.94      0.94      0.94       500\n",
      "weighted avg       0.94      0.94      0.94       500\n",
      "\n",
      "Average accuracy_score 0.942\n",
      "---------------------------------------------------------------------------------------------------------\n",
      "BaggingClassifier() \n",
      "\n",
      "Accuracy score: 0.89 \n",
      "\n",
      "\"Confusion Matrix:\n",
      "\" [[70  1  0  0  0  1  0  0]\n",
      " [ 3 43  5  6  3  1  0  0]\n",
      " [ 1  4 47  2  0  6  0  0]\n",
      " [ 0  2  9 54  0  1  0  0]\n",
      " [ 0  3  0  0 53  0  0  0]\n",
      " [ 0  2  2  2  0 60  0  0]\n",
      " [ 0  0  1  0  0  0 59  0]\n",
      " [ 0  0  0  0  0  0  0 59]]\n",
      "classification_report\n",
      "               precision    recall  f1-score   support\n",
      "\n",
      "           0       0.95      0.97      0.96        72\n",
      "           1       0.78      0.70      0.74        61\n",
      "           2       0.73      0.78      0.76        60\n",
      "           3       0.84      0.82      0.83        66\n",
      "           4       0.95      0.95      0.95        56\n",
      "           5       0.87      0.91      0.89        66\n",
      "           6       1.00      0.98      0.99        60\n",
      "           7       1.00      1.00      1.00        59\n",
      "\n",
      "    accuracy                           0.89       500\n",
      "   macro avg       0.89      0.89      0.89       500\n",
      "weighted avg       0.89      0.89      0.89       500\n",
      "\n",
      "Average accuracy_score 0.89\n",
      "---------------------------------------------------------------------------------------------------------\n",
      "KNeighborsClassifier() \n",
      "\n",
      "Accuracy score: 0.872 \n",
      "\n",
      "\"Confusion Matrix:\n",
      "\" [[72  0  0  0  0  0  0  0]\n",
      " [ 4 31 11  1 12  1  0  1]\n",
      " [ 2  2 46  0  3  7  0  0]\n",
      " [ 0  5  7 52  1  1  0  0]\n",
      " [ 0  0  0  0 56  0  0  0]\n",
      " [ 1  1  3  0  0 61  0  0]\n",
      " [ 0  0  0  0  0  1 59  0]\n",
      " [ 0  0  0  0  0  0  0 59]]\n",
      "classification_report\n",
      "               precision    recall  f1-score   support\n",
      "\n",
      "           0       0.91      1.00      0.95        72\n",
      "           1       0.79      0.51      0.62        61\n",
      "           2       0.69      0.77      0.72        60\n",
      "           3       0.98      0.79      0.87        66\n",
      "           4       0.78      1.00      0.88        56\n",
      "           5       0.86      0.92      0.89        66\n",
      "           6       1.00      0.98      0.99        60\n",
      "           7       0.98      1.00      0.99        59\n",
      "\n",
      "    accuracy                           0.87       500\n",
      "   macro avg       0.87      0.87      0.87       500\n",
      "weighted avg       0.88      0.87      0.87       500\n",
      "\n",
      "Average accuracy_score 0.872\n",
      "---------------------------------------------------------------------------------------------------------\n",
      "GradientBoostingClassifier() \n",
      "\n",
      "Accuracy score: 0.932 \n",
      "\n",
      "\"Confusion Matrix:\n",
      "\" [[70  2  0  0  0  0  0  0]\n",
      " [ 2 49  3  4  2  1  0  0]\n",
      " [ 1  3 53  1  0  2  0  0]\n",
      " [ 0  3  5 57  1  0  0  0]\n",
      " [ 0  1  1  0 54  0  0  0]\n",
      " [ 0  0  0  2  0 64  0  0]\n",
      " [ 0  0  0  0  0  0 60  0]\n",
      " [ 0  0  0  0  0  0  0 59]]\n",
      "classification_report\n",
      "               precision    recall  f1-score   support\n",
      "\n",
      "           0       0.96      0.97      0.97        72\n",
      "           1       0.84      0.80      0.82        61\n",
      "           2       0.85      0.88      0.87        60\n",
      "           3       0.89      0.86      0.88        66\n",
      "           4       0.95      0.96      0.96        56\n",
      "           5       0.96      0.97      0.96        66\n",
      "           6       1.00      1.00      1.00        60\n",
      "           7       1.00      1.00      1.00        59\n",
      "\n",
      "    accuracy                           0.93       500\n",
      "   macro avg       0.93      0.93      0.93       500\n",
      "weighted avg       0.93      0.93      0.93       500\n",
      "\n",
      "Average accuracy_score 0.932\n",
      "---------------------------------------------------------------------------------------------------------\n",
      "DecisionTreeClassifier() \n",
      "\n",
      "Accuracy score: 0.874 \n",
      "\n",
      "\"Confusion Matrix:\n",
      "\" [[64  6  0  0  0  2  0  0]\n",
      " [ 2 42  4  7  5  1  0  0]\n",
      " [ 1  4 48  4  0  3  0  0]\n",
      " [ 0  2  7 55  2  0  0  0]\n",
      " [ 0  3  1  0 52  0  0  0]\n",
      " [ 0  1  6  2  0 57  0  0]\n",
      " [ 0  0  0  0  0  0 60  0]\n",
      " [ 0  0  0  0  0  0  0 59]]\n",
      "classification_report\n",
      "               precision    recall  f1-score   support\n",
      "\n",
      "           0       0.96      0.89      0.92        72\n",
      "           1       0.72      0.69      0.71        61\n",
      "           2       0.73      0.80      0.76        60\n",
      "           3       0.81      0.83      0.82        66\n",
      "           4       0.88      0.93      0.90        56\n",
      "           5       0.90      0.86      0.88        66\n",
      "           6       1.00      1.00      1.00        60\n",
      "           7       1.00      1.00      1.00        59\n",
      "\n",
      "    accuracy                           0.87       500\n",
      "   macro avg       0.88      0.88      0.87       500\n",
      "weighted avg       0.88      0.87      0.87       500\n",
      "\n",
      "Average accuracy_score 0.874\n",
      "---------------------------------------------------------------------------------------------------------\n",
      "Maximun accuracy Score is shown by RandomForestClassifier() 0.942\n"
     ]
    }
   ],
   "source": [
    "        \n",
    "def create_model(model):\n",
    "    m=model\n",
    "    m.fit(xtrain,ytrain)\n",
    "    p=m.predict(xtest)\n",
    "    score=m.score(xtest,ytest)\n",
    "    result = confusion_matrix(ytest,p)\n",
    "    result1 = classification_report(ytest,p)\n",
    "    result2 = accuracy_score(ytest,p)\n",
    "    scorelist.append(score)\n",
    "    acclist.append(result2)\n",
    "    \n",
    "    \n",
    "    print(m,\"\\n\")\n",
    "    \n",
    "    print('Accuracy score:',score,\"\\n\")\n",
    "    print('\"Confusion Matrix:\\n\"',result)\n",
    "    print('classification_report\\n',result1)\n",
    "    print('Average accuracy_score',result2)\n",
    "    print('---------------------------------------------------------------------------------------------------------')\n",
    "for i in models:\n",
    "    create_model(i)\n",
    "\n",
    "print('Maximun accuracy Score is shown by',models[acclist.index(max(acclist))],max(acclist))"
   ]
  },
  {
   "cell_type": "markdown",
   "id": "3c4bde9b",
   "metadata": {},
   "source": [
    "___CROSS VALIDATION"
   ]
  },
  {
   "cell_type": "code",
   "execution_count": 380,
   "id": "761babc4",
   "metadata": {},
   "outputs": [],
   "source": [
    "scorel=[]"
   ]
  },
  {
   "cell_type": "code",
   "execution_count": 381,
   "id": "9c474b91",
   "metadata": {},
   "outputs": [
    {
     "data": {
      "text/plain": [
       "array([0.91  , 0.925 , 0.93  , 0.9325, 0.9325])"
      ]
     },
     "execution_count": 381,
     "metadata": {},
     "output_type": "execute_result"
    }
   ],
   "source": [
    "rf=RandomForestClassifier()\n",
    "scores=cross_val_score(rf,x,y,cv=5)\n",
    "scorel.append(scores)\n",
    "scores"
   ]
  },
  {
   "cell_type": "code",
   "execution_count": 382,
   "id": "4bc02175",
   "metadata": {},
   "outputs": [
    {
     "data": {
      "text/plain": [
       "array([0.8825, 0.9125, 0.9   , 0.905 , 0.9025])"
      ]
     },
     "execution_count": 382,
     "metadata": {},
     "output_type": "execute_result"
    }
   ],
   "source": [
    "bg=BaggingClassifier()\n",
    "scores=cross_val_score(bg,x,y,cv=5)\n",
    "scorel.append(scores)\n",
    "scores"
   ]
  },
  {
   "cell_type": "code",
   "execution_count": 383,
   "id": "005770dd",
   "metadata": {},
   "outputs": [
    {
     "data": {
      "text/plain": [
       "array([0.8675, 0.8675, 0.9   , 0.905 , 0.8825])"
      ]
     },
     "execution_count": 383,
     "metadata": {},
     "output_type": "execute_result"
    }
   ],
   "source": [
    "kn=KNeighborsClassifier()\n",
    "scores=cross_val_score(kn,x,y,cv=5)\n",
    "scorel.append(scores)\n",
    "scores"
   ]
  },
  {
   "cell_type": "code",
   "execution_count": 384,
   "id": "2a01bcd8",
   "metadata": {},
   "outputs": [
    {
     "data": {
      "text/plain": [
       "array([0.895 , 0.905 , 0.94  , 0.925 , 0.9225])"
      ]
     },
     "execution_count": 384,
     "metadata": {},
     "output_type": "execute_result"
    }
   ],
   "source": [
    "gb=GradientBoostingClassifier()\n",
    "scores=cross_val_score(gb,x,y,cv=5)\n",
    "scorel.append(scores)\n",
    "scores"
   ]
  },
  {
   "cell_type": "code",
   "execution_count": 385,
   "id": "0dedb867",
   "metadata": {},
   "outputs": [
    {
     "data": {
      "text/plain": [
       "array([0.8475, 0.88  , 0.9075, 0.905 , 0.8525])"
      ]
     },
     "execution_count": 385,
     "metadata": {},
     "output_type": "execute_result"
    }
   ],
   "source": [
    "dt=DecisionTreeClassifier()\n",
    "scores=cross_val_score(dt,x,y,cv=5)\n",
    "scorel.append(scores)\n",
    "scores"
   ]
  },
  {
   "cell_type": "markdown",
   "id": "412d7d6c",
   "metadata": {},
   "source": [
    "___Difference of predicted model and crossvalidation score"
   ]
  },
  {
   "cell_type": "code",
   "execution_count": 386,
   "id": "363284a1",
   "metadata": {},
   "outputs": [
    {
     "name": "stdout",
     "output_type": "stream",
     "text": [
      "RandomForestClassifier() difference is [-0.032  -0.017  -0.012  -0.0095 -0.0095]\n",
      "BaggingClassifier() difference is [-0.0075  0.0225  0.01    0.015   0.0125]\n",
      "KNeighborsClassifier() difference is [-0.0045 -0.0045  0.028   0.033   0.0105]\n",
      "GradientBoostingClassifier() difference is [-0.037  -0.027   0.008  -0.007  -0.0095]\n",
      "DecisionTreeClassifier() difference is [-0.0265  0.006   0.0335  0.031  -0.0215]\n"
     ]
    }
   ],
   "source": [
    "models=[RandomForestClassifier(),BaggingClassifier(),KNeighborsClassifier(),GradientBoostingClassifier(),DecisionTreeClassifier()]\n",
    "for i in range(0,5):\n",
    "    print(models[i],\"difference is\",scorel[i]-acclist[i])"
   ]
  },
  {
   "cell_type": "markdown",
   "id": "82291cf6",
   "metadata": {},
   "source": [
    "RandomforestClassifier() has the least difference"
   ]
  },
  {
   "cell_type": "code",
   "execution_count": 394,
   "id": "ca0595eb",
   "metadata": {},
   "outputs": [],
   "source": [
    "x=scaled\n",
    "y=y1\n",
    "xtrain,xtest,ytrain,ytest=train_test_split(x,y,test_size=0.25,random_state=7)"
   ]
  },
  {
   "cell_type": "code",
   "execution_count": 398,
   "id": "214c12ac",
   "metadata": {},
   "outputs": [
    {
     "name": "stdout",
     "output_type": "stream",
     "text": [
      "Fitting 5 folds for each of 72 candidates, totalling 360 fits\n",
      "Best param: {'bootstrap': True, 'max_depth': 45, 'max_features': 'auto', 'min_samples_split': 5, 'n_estimators': 500}\n"
     ]
    }
   ],
   "source": [
    "from sklearn.model_selection import GridSearchCV,KFold\n",
    "params = {\n",
    "    'max_features': ['auto', 'sqrt','log2'],\n",
    "    'n_estimators': [10, 100, 200, 500],\n",
    "    'bootstrap':[True],\n",
    "    'max_depth': [1, 23, 45],\n",
    " 'min_samples_split': [5, 10],\n",
    "}\n",
    "\n",
    "gs2 = GridSearchCV(RandomForestClassifier(), params, verbose = 1)\n",
    "gs2.fit(xtrain, ytrain)\n",
    "print('Best param:', gs2.best_params_)"
   ]
  },
  {
   "cell_type": "code",
   "execution_count": 389,
   "id": "6beccbbd",
   "metadata": {},
   "outputs": [],
   "source": [
    "x=scaled\n",
    "y=y1"
   ]
  },
  {
   "cell_type": "code",
   "execution_count": 399,
   "id": "c8888e20",
   "metadata": {},
   "outputs": [
    {
     "data": {
      "text/plain": [
       "0.924"
      ]
     },
     "execution_count": 399,
     "metadata": {},
     "output_type": "execute_result"
    }
   ],
   "source": [
    "x_train, x_test, y_train, y_test = train_test_split(x, y,test_size=.25,random_state=7)\n",
    "model =RandomForestClassifier(bootstrap=True,max_depth=45,max_features='auto',min_samples_split=5,n_estimators=500)\n",
    "model.fit(x_train,y_train)\n",
    "model.score(x_test,y_test)"
   ]
  },
  {
   "cell_type": "code",
   "execution_count": 400,
   "id": "899f7305",
   "metadata": {},
   "outputs": [],
   "source": [
    "y_pred_1 = model.predict(x_test)"
   ]
  },
  {
   "cell_type": "code",
   "execution_count": 401,
   "id": "ec172d37",
   "metadata": {},
   "outputs": [
    {
     "name": "stdout",
     "output_type": "stream",
     "text": [
      "Confusion Matrix:\n",
      "[[65  1  0  0  0  0  0  0]\n",
      " [ 8 41  7  1  7  1  0  0]\n",
      " [ 1  3 50  0  0  2  0  0]\n",
      " [ 0  1  4 55  0  2  0  0]\n",
      " [ 0  0  0  0 65  0  0  0]\n",
      " [ 0  0  0  0  0 56  0  0]\n",
      " [ 0  0  0  0  0  0 73  0]\n",
      " [ 0  0  0  0  0  0  0 57]]\n",
      "Classification Report:\n",
      "              precision    recall  f1-score   support\n",
      "\n",
      "           0       0.88      0.98      0.93        66\n",
      "           1       0.89      0.63      0.74        65\n",
      "           2       0.82      0.89      0.85        56\n",
      "           3       0.98      0.89      0.93        62\n",
      "           4       0.90      1.00      0.95        65\n",
      "           5       0.92      1.00      0.96        56\n",
      "           6       1.00      1.00      1.00        73\n",
      "           7       1.00      1.00      1.00        57\n",
      "\n",
      "    accuracy                           0.92       500\n",
      "   macro avg       0.92      0.92      0.92       500\n",
      "weighted avg       0.93      0.92      0.92       500\n",
      "\n",
      "Accuracy: 0.924\n"
     ]
    }
   ],
   "source": [
    "result = confusion_matrix(y_test, y_pred_1)\n",
    "print(\"Confusion Matrix:\")\n",
    "print(result)\n",
    "result1 = classification_report(y_test, y_pred_1)\n",
    "print(\"Classification Report:\",)\n",
    "print (result1)\n",
    "result2 = accuracy_score(y_test,y_pred_1)\n",
    "print(\"Accuracy:\",result2)"
   ]
  },
  {
   "cell_type": "code",
   "execution_count": null,
   "id": "32d467be",
   "metadata": {},
   "outputs": [],
   "source": [
    "After hyper tuning\n",
    "the accuracy for predicting primary fuel is  92.4% "
   ]
  },
  {
   "cell_type": "code",
   "execution_count": null,
   "id": "6cea43e9",
   "metadata": {},
   "outputs": [],
   "source": [
    "Modelling\n",
    "target column is capacity_mw"
   ]
  },
  {
   "cell_type": "code",
   "execution_count": 283,
   "id": "29ec6090",
   "metadata": {},
   "outputs": [],
   "source": [
    "x2=data_new.drop('capacity_mw',axis=1)\n",
    "y2=data_new['capacity_mw']"
   ]
  },
  {
   "cell_type": "code",
   "execution_count": 288,
   "id": "68fe4891",
   "metadata": {},
   "outputs": [],
   "source": [
    "from sklearn.preprocessing import MinMaxScaler\n",
    "scaler=MinMaxScaler()\n",
    "scaled1 = scaler.fit_transform(x2)"
   ]
  },
  {
   "cell_type": "code",
   "execution_count": 289,
   "id": "9f59040c",
   "metadata": {},
   "outputs": [],
   "source": [
    "from sklearn.neighbors import KNeighborsRegressor\n",
    "from sklearn.svm import SVR\n",
    "from sklearn.tree import DecisionTreeRegressor\n",
    "from sklearn.linear_model import LinearRegression\n",
    "from sklearn.linear_model import Lasso\n",
    "from sklearn.ensemble import RandomForestRegressor\n",
    "from sklearn.ensemble import GradientBoostingRegressor\n",
    "from sklearn.model_selection import train_test_split"
   ]
  },
  {
   "cell_type": "code",
   "execution_count": 290,
   "id": "caa1d0e9",
   "metadata": {},
   "outputs": [],
   "source": [
    "x=scaled1\n",
    "y=y2"
   ]
  },
  {
   "cell_type": "code",
   "execution_count": 291,
   "id": "62130108",
   "metadata": {},
   "outputs": [],
   "source": [
    "xtrain,xtest,ytrain,ytest=train_test_split(x,y,test_size=0.25,random_state=7)\n",
    "from sklearn.metrics import mean_absolute_error,mean_squared_error,r2_score\n",
    "models=[KNeighborsRegressor(),SVR(),DecisionTreeRegressor(),LinearRegression(),Lasso(),\n",
    "        RandomForestRegressor(),GradientBoostingRegressor()]\n",
    "maelist=[]\n",
    "mselist=[]\n",
    "rmselist=[]\n",
    "r2list=[]"
   ]
  },
  {
   "cell_type": "code",
   "execution_count": 292,
   "id": "716d832b",
   "metadata": {},
   "outputs": [
    {
     "name": "stdout",
     "output_type": "stream",
     "text": [
      "KNeighborsRegressor()\n",
      "Mean absolute error 0.3906578227228139\n",
      "Mean squared error 0.29081293727500973\n",
      "Root Mean squared error 0.539270745799371\n",
      "R2 Score 0.6944445526504748\n",
      "---------------------------------------------------------------------------------------------------------\n",
      "SVR()\n",
      "Mean absolute error 0.43433449670746127\n",
      "Mean squared error 0.3513496654849728\n",
      "Root Mean squared error 0.5927475562876433\n",
      "R2 Score 0.6308389674155245\n",
      "---------------------------------------------------------------------------------------------------------\n",
      "DecisionTreeRegressor()\n",
      "Mean absolute error 0.3577826302654984\n",
      "Mean squared error 0.2877953346313707\n",
      "Root Mean squared error 0.5364655950118057\n",
      "R2 Score 0.6976151300475466\n",
      "---------------------------------------------------------------------------------------------------------\n",
      "LinearRegression()\n",
      "Mean absolute error 0.5665328148711406\n",
      "Mean squared error 0.5251562866230793\n",
      "Root Mean squared error 0.7246766773003526\n",
      "R2 Score 0.4482213700974865\n",
      "---------------------------------------------------------------------------------------------------------\n",
      "Lasso()\n",
      "Mean absolute error 0.8217287995476588\n",
      "Mean squared error 0.9519417404124484\n",
      "Root Mean squared error 0.975675017827375\n",
      "R2 Score -0.00019960276852004633\n",
      "---------------------------------------------------------------------------------------------------------\n",
      "RandomForestRegressor()\n",
      "Mean absolute error 0.3057903593033017\n",
      "Mean squared error 0.18696531921733187\n",
      "Root Mean squared error 0.4323948649294206\n",
      "R2 Score 0.8035566357961758\n",
      "---------------------------------------------------------------------------------------------------------\n",
      "GradientBoostingRegressor()\n",
      "Mean absolute error 0.32558552182536926\n",
      "Mean squared error 0.20372454109286986\n",
      "Root Mean squared error 0.4513585504816208\n",
      "R2 Score 0.785947819677492\n",
      "---------------------------------------------------------------------------------------------------------\n",
      "Minimum Mean Absolute error is shown by  RandomForestRegressor() 0.3057903593033017\n",
      "Minimum Mean squared error is shown by  RandomForestRegressor() 0.18696531921733187\n",
      "Minimum Root Mean squared error is shown by  RandomForestRegressor() 0.4323948649294206\n",
      "Maximun R2 Score is shown by  RandomForestRegressor() 0.8035566357961758\n"
     ]
    }
   ],
   "source": [
    "def create_model(model):\n",
    "    m=model\n",
    "    m.fit(xtrain,ytrain)\n",
    "    p=m.predict(xtest)\n",
    "    \n",
    "    mae=mean_absolute_error(p,ytest)\n",
    "    mse=mean_squared_error(p,ytest)\n",
    "    rmse=np.sqrt(mean_squared_error(p,ytest))\n",
    "    r2=r2_score(ytest,p)\n",
    "    \n",
    "    maelist.append(mae)\n",
    "    mselist.append(mse)\n",
    "    rmselist.append(rmse)\n",
    "    r2list.append(r2)\n",
    "    \n",
    "    print(m)\n",
    "    \n",
    "    print('Mean absolute error',mae)\n",
    "    print('Mean squared error',mse)\n",
    "    print('Root Mean squared error',rmse)\n",
    "    print('R2 Score',r2)\n",
    "    print('---------------------------------------------------------------------------------------------------------')\n",
    "for i in models:\n",
    "    create_model(i)\n",
    "print('Minimum Mean Absolute error is shown by ',models[maelist.index(min(maelist))],min(maelist))\n",
    "print('Minimum Mean squared error is shown by ',models[mselist.index(min(mselist))],min(mselist))\n",
    "print('Minimum Root Mean squared error is shown by ',models[rmselist.index(min(rmselist))],min(rmselist))\n",
    "print('Maximun R2 Score is shown by ',models[r2list.index(max(r2list))],max(r2list))"
   ]
  },
  {
   "cell_type": "markdown",
   "id": "6dba6720",
   "metadata": {},
   "source": [
    "Cross Validation"
   ]
  },
  {
   "cell_type": "code",
   "execution_count": 293,
   "id": "eaf3a46e",
   "metadata": {},
   "outputs": [],
   "source": [
    "scorel=[]"
   ]
  },
  {
   "cell_type": "code",
   "execution_count": 407,
   "id": "5b9ee10b",
   "metadata": {},
   "outputs": [],
   "source": [
    "from sklearn.utils import shuffle\n",
    "x=scaled1\n",
    "y=y2\n"
   ]
  },
  {
   "cell_type": "code",
   "execution_count": 295,
   "id": "a0847b7c",
   "metadata": {},
   "outputs": [
    {
     "data": {
      "text/plain": [
       "array([0.65883587, 0.64956796, 0.69233958, 0.68427117, 0.65190872])"
      ]
     },
     "execution_count": 295,
     "metadata": {},
     "output_type": "execute_result"
    }
   ],
   "source": [
    "from sklearn.model_selection import cross_val_score\n",
    "k=KNeighborsRegressor()\n",
    "scores=cross_val_score(k,x,y,scoring='r2',cv=5)\n",
    "scorel.append(scores)\n",
    "scores"
   ]
  },
  {
   "cell_type": "code",
   "execution_count": 296,
   "id": "42343733",
   "metadata": {},
   "outputs": [
    {
     "data": {
      "text/plain": [
       "array([0.67078805, 0.67828948, 0.69101081, 0.69941473, 0.59641298])"
      ]
     },
     "execution_count": 296,
     "metadata": {},
     "output_type": "execute_result"
    }
   ],
   "source": [
    "from sklearn.model_selection import cross_val_score\n",
    "svr=SVR()\n",
    "scores=cross_val_score(svr,x,y,scoring='r2',cv=5)\n",
    "scorel.append(scores)\n",
    "scores"
   ]
  },
  {
   "cell_type": "code",
   "execution_count": 297,
   "id": "9b63106d",
   "metadata": {},
   "outputs": [
    {
     "data": {
      "text/plain": [
       "array([0.60440933, 0.60233227, 0.61012061, 0.65197778, 0.69254916])"
      ]
     },
     "execution_count": 297,
     "metadata": {},
     "output_type": "execute_result"
    }
   ],
   "source": [
    "from sklearn.model_selection import cross_val_score\n",
    "dt=DecisionTreeRegressor()\n",
    "scores=cross_val_score(dt,x,y,scoring='r2',cv=5)\n",
    "scorel.append(scores)\n",
    "scores"
   ]
  },
  {
   "cell_type": "code",
   "execution_count": 298,
   "id": "1557077c",
   "metadata": {},
   "outputs": [
    {
     "data": {
      "text/plain": [
       "array([0.54343294, 0.5704136 , 0.55191167, 0.53081194, 0.54252536])"
      ]
     },
     "execution_count": 298,
     "metadata": {},
     "output_type": "execute_result"
    }
   ],
   "source": [
    "from sklearn.model_selection import cross_val_score\n",
    "lr=LinearRegression()\n",
    "scores=cross_val_score(lr,x,y,scoring='r2',cv=5)\n",
    "scorel.append(scores)\n",
    "scores"
   ]
  },
  {
   "cell_type": "code",
   "execution_count": 299,
   "id": "734551eb",
   "metadata": {},
   "outputs": [
    {
     "data": {
      "text/plain": [
       "array([-8.08546647e-07, -1.56747415e-04, -3.88947378e-04, -1.39131366e-02,\n",
       "       -1.03272258e-02])"
      ]
     },
     "execution_count": 299,
     "metadata": {},
     "output_type": "execute_result"
    }
   ],
   "source": [
    "from sklearn.model_selection import cross_val_score\n",
    "l=Lasso()\n",
    "scores=cross_val_score(l,x,y,scoring='r2',cv=5)\n",
    "scorel.append(scores)\n",
    "scores"
   ]
  },
  {
   "cell_type": "code",
   "execution_count": 300,
   "id": "ec2f01a6",
   "metadata": {},
   "outputs": [
    {
     "data": {
      "text/plain": [
       "array([0.74143651, 0.77141384, 0.77317409, 0.82424649, 0.7987861 ])"
      ]
     },
     "execution_count": 300,
     "metadata": {},
     "output_type": "execute_result"
    }
   ],
   "source": [
    "from sklearn.model_selection import cross_val_score\n",
    "rf=RandomForestRegressor()\n",
    "scores=cross_val_score(rf,x,y,scoring='r2',cv=5)\n",
    "scorel.append(scores)\n",
    "scores"
   ]
  },
  {
   "cell_type": "code",
   "execution_count": 301,
   "id": "b2d92163",
   "metadata": {},
   "outputs": [
    {
     "data": {
      "text/plain": [
       "array([0.76904589, 0.78282679, 0.78956492, 0.82561934, 0.79809862])"
      ]
     },
     "execution_count": 301,
     "metadata": {},
     "output_type": "execute_result"
    }
   ],
   "source": [
    "from sklearn.model_selection import cross_val_score\n",
    "gb=GradientBoostingRegressor()\n",
    "scores=cross_val_score(gb,x,y,scoring='r2',cv=5)\n",
    "scorel.append(scores)\n",
    "scores"
   ]
  },
  {
   "cell_type": "markdown",
   "id": "895bc945",
   "metadata": {},
   "source": [
    "___Difference of predicted model and crossvalidation score"
   ]
  },
  {
   "cell_type": "code",
   "execution_count": 302,
   "id": "224dac1c",
   "metadata": {},
   "outputs": [
    {
     "name": "stdout",
     "output_type": "stream",
     "text": [
      "KNeighborsRegressor() difference is [-0.03560868 -0.04487659 -0.00210497 -0.01017338 -0.04253584]\n",
      "SVR() difference is [ 0.03994908  0.04745051  0.06017185  0.06857577 -0.03442599]\n",
      "DecisionTreeRegressor() difference is [-0.0932058  -0.09528286 -0.08749452 -0.04563735 -0.00506597]\n",
      "LinearRegression() difference is [0.09521157 0.12219223 0.1036903  0.08259057 0.09430399]\n",
      "Lasso() difference is [ 1.98794222e-04  4.28553538e-05 -1.89344609e-04 -1.37135338e-02\n",
      " -1.01276230e-02]\n",
      "RandomForestRegressor() difference is [-0.06212013 -0.03214279 -0.03038255  0.02068986 -0.00477054]\n",
      "GradientBoostingRegressor() difference is [-0.01690193 -0.00312103  0.0036171   0.03967152  0.01215081]\n"
     ]
    }
   ],
   "source": [
    "models=[KNeighborsRegressor(),SVR(),DecisionTreeRegressor(),LinearRegression(),Lasso(),\n",
    "        RandomForestRegressor(),GradientBoostingRegressor()]\n",
    "for i in range(0,7):\n",
    "    print(models[i],\"difference is\",scorel[i]-r2list[i])"
   ]
  },
  {
   "cell_type": "markdown",
   "id": "6402a0dc",
   "metadata": {},
   "source": [
    "Randomforest regressor has least difference"
   ]
  },
  {
   "cell_type": "code",
   "execution_count": 408,
   "id": "ed311c2b",
   "metadata": {},
   "outputs": [],
   "source": [
    "from sklearn.model_selection import GridSearchCV\n",
    "parameters = {\n",
    "    'max_features': ['auto', 'sqrt','log2'],\n",
    "    'n_estimators': [10, 100, 200, 500],\n",
    "    'bootstrap':[True],'criterion':['mse','mae']\n",
    "}\n",
    "grid = GridSearchCV(RandomForestRegressor(), param_grid = parameters, cv = 5, scoring = \"r2\")\n",
    "\n"
   ]
  },
  {
   "cell_type": "code",
   "execution_count": 409,
   "id": "388d96dd",
   "metadata": {},
   "outputs": [
    {
     "name": "stdout",
     "output_type": "stream",
     "text": [
      "Best_parameters {'bootstrap': True, 'criterion': 'mse', 'max_features': 'log2', 'n_estimators': 500}\n"
     ]
    }
   ],
   "source": [
    "xtrain,xtest,ytrain,ytest=train_test_split(x,y,test_size=0.25,random_state=7)\n",
    "grid.fit(xtrain,ytrain)\n",
    "\n",
    "print(\"Best_parameters\",grid.best_params_)"
   ]
  },
  {
   "cell_type": "markdown",
   "id": "641cc8d5",
   "metadata": {},
   "source": [
    "___MODELING USING BEST PARAMETERS"
   ]
  },
  {
   "cell_type": "code",
   "execution_count": null,
   "id": "e58ac06f",
   "metadata": {},
   "outputs": [],
   "source": [
    "x=scaled1\n",
    "y=y2"
   ]
  },
  {
   "cell_type": "code",
   "execution_count": 314,
   "id": "66865558",
   "metadata": {},
   "outputs": [
    {
     "name": "stdout",
     "output_type": "stream",
     "text": [
      "Accuracy 82.0\n",
      "Mean absolute error 0.29433429711327025\n",
      "Mean squared error 0.1748576943453419\n",
      "Root Mean squared error 0.4181598908854625\n",
      "r2 score 0.82\n"
     ]
    }
   ],
   "source": [
    "xtrain,xtest,ytrain,ytest=train_test_split(x,y,test_size=0.25,random_state=7)\n",
    "from sklearn.metrics import mean_absolute_error,mean_squared_error,r2_score,accuracy_score\n",
    "model1=RandomForestRegressor(n_estimators=100,max_features='sqrt',bootstrap=True,criterion='mse')\n",
    "model1.fit(xtrain,ytrain)\n",
    "p=model1.predict(xtest)\n",
    "acc=model1.score(xtest,ytest)\n",
    "mae=mean_absolute_error(p,ytest)\n",
    "mse=mean_squared_error(p,ytest)\n",
    "rmse=np.sqrt(mean_squared_error(p,ytest))\n",
    "r2=r2_score(ytest,p)\n",
    "print('Accuracy',(round(acc,2))*100)\n",
    "print('Mean absolute error',mae)\n",
    "print('Mean squared error',mse)\n",
    "print('Root Mean squared error',rmse)\n",
    "print('r2 score',round(r2,2))\n",
    "     "
   ]
  },
  {
   "cell_type": "markdown",
   "id": "d5885ca2",
   "metadata": {},
   "source": [
    "Bestmodel:Randomforest regressor\n",
    "\n",
    "Best_parameters {'bootstrap': True, 'criterion': 'mse', 'max_features': 'sqrt', 'n_estimators': 100}\n",
    "\n",
    "Accuracy=82%\n",
    "\n",
    "Mean absolute error 0.2939701302906809\n",
    "Mean squared error 0.1748576943453419\n",
    "Root Mean squared error 0.4181598908854625"
   ]
  },
  {
   "cell_type": "markdown",
   "id": "182e32df",
   "metadata": {},
   "source": [
    "Target=primary_fuel\n",
    "\n",
    "Bestmodel:Randomforest classifier\n",
    "\n",
    "Best_parameters {'bootstrap': True, 'max_depth': 45, 'max_features': 'auto', 'min_samples_split': 5, 'n_estimators': 500}\n",
    "onfusion Matrix:\n",
    "[[65  1  0  0  0  0  0  0]\n",
    " [ 8 41  7  1  7  1  0  0]\n",
    " [ 1  3 50  0  0  2  0  0]\n",
    " [ 0  1  4 55  0  2  0  0]\n",
    " [ 0  0  0  0 65  0  0  0]\n",
    " [ 0  0  0  0  0 56  0  0]\n",
    " [ 0  0  0  0  0  0 73  0]\n",
    " [ 0  0  0  0  0  0  0 57]]\n",
    "Classification Report:\n",
    "              precision    recall  f1-score   support\n",
    "\n",
    "           0       0.88      0.98      0.93        66\n",
    "           1       0.89      0.63      0.74        65\n",
    "           2       0.82      0.89      0.85        56\n",
    "           3       0.98      0.89      0.93        62\n",
    "           4       0.90      1.00      0.95        65\n",
    "           5       0.92      1.00      0.96        56\n",
    "           6       1.00      1.00      1.00        73\n",
    "           7       1.00      1.00      1.00        57\n",
    "\n",
    "    accuracy                           0.92       500\n",
    "   macro avg       0.92      0.92      0.92       500\n",
    "weighted avg       0.93      0.92      0.92       500\n",
    "\n",
    "Accuracy: 0.924"
   ]
  },
  {
   "cell_type": "code",
   "execution_count": 402,
   "id": "0a492255",
   "metadata": {},
   "outputs": [
    {
     "data": {
      "text/plain": [
       "['model_global_power.joblib']"
      ]
     },
     "execution_count": 402,
     "metadata": {},
     "output_type": "execute_result"
    }
   ],
   "source": [
    "from joblib import dump\n",
    "dump(model, 'model_global_power.joblib')\n"
   ]
  },
  {
   "cell_type": "code",
   "execution_count": 403,
   "id": "c9a7974a",
   "metadata": {},
   "outputs": [
    {
     "data": {
      "text/plain": [
       "['model_global_power_plant.joblib']"
      ]
     },
     "execution_count": 403,
     "metadata": {},
     "output_type": "execute_result"
    }
   ],
   "source": [
    "from joblib import dump\n",
    "dump(model1, 'model_global_power_plant.joblib')"
   ]
  },
  {
   "cell_type": "code",
   "execution_count": 1,
   "id": "e0bfa09e",
   "metadata": {},
   "outputs": [],
   "source": [
    "from joblib import load\n",
    "loaded = load('model_global_power.joblib')"
   ]
  },
  {
   "cell_type": "code",
   "execution_count": null,
   "id": "5b61bf73",
   "metadata": {},
   "outputs": [],
   "source": []
  }
 ],
 "metadata": {
  "kernelspec": {
   "display_name": "Python 3",
   "language": "python",
   "name": "python3"
  },
  "language_info": {
   "codemirror_mode": {
    "name": "ipython",
    "version": 3
   },
   "file_extension": ".py",
   "mimetype": "text/x-python",
   "name": "python",
   "nbconvert_exporter": "python",
   "pygments_lexer": "ipython3",
   "version": "3.8.8"
  }
 },
 "nbformat": 4,
 "nbformat_minor": 5
}
