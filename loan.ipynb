{
 "cells": [
  {
   "cell_type": "code",
   "execution_count": 154,
   "id": "77052c43",
   "metadata": {},
   "outputs": [],
   "source": [
    "import pandas as pd\n",
    "import numpy as np\n",
    "import seaborn as sns\n",
    "from scipy import stats\n",
    "import warnings \n",
    "warnings.filterwarnings('ignore')\n",
    "from matplotlib import pyplot as plt\n",
    "from scipy.stats import zscore"
   ]
  },
  {
   "cell_type": "markdown",
   "id": "4152b24b",
   "metadata": {},
   "source": [
    "__Loading datasets"
   ]
  },
  {
   "cell_type": "code",
   "execution_count": 155,
   "id": "71dd6078",
   "metadata": {},
   "outputs": [
    {
     "data": {
      "text/html": [
       "<div>\n",
       "<style scoped>\n",
       "    .dataframe tbody tr th:only-of-type {\n",
       "        vertical-align: middle;\n",
       "    }\n",
       "\n",
       "    .dataframe tbody tr th {\n",
       "        vertical-align: top;\n",
       "    }\n",
       "\n",
       "    .dataframe thead th {\n",
       "        text-align: right;\n",
       "    }\n",
       "</style>\n",
       "<table border=\"1\" class=\"dataframe\">\n",
       "  <thead>\n",
       "    <tr style=\"text-align: right;\">\n",
       "      <th></th>\n",
       "      <th>Loan_ID</th>\n",
       "      <th>Gender</th>\n",
       "      <th>Married</th>\n",
       "      <th>Dependents</th>\n",
       "      <th>Education</th>\n",
       "      <th>Self_Employed</th>\n",
       "      <th>ApplicantIncome</th>\n",
       "      <th>CoapplicantIncome</th>\n",
       "      <th>LoanAmount</th>\n",
       "      <th>Loan_Amount_Term</th>\n",
       "      <th>Credit_History</th>\n",
       "      <th>Property_Area</th>\n",
       "      <th>Loan_Status</th>\n",
       "    </tr>\n",
       "  </thead>\n",
       "  <tbody>\n",
       "    <tr>\n",
       "      <th>0</th>\n",
       "      <td>LP001002</td>\n",
       "      <td>Male</td>\n",
       "      <td>No</td>\n",
       "      <td>0</td>\n",
       "      <td>Graduate</td>\n",
       "      <td>No</td>\n",
       "      <td>5849</td>\n",
       "      <td>0.0</td>\n",
       "      <td>NaN</td>\n",
       "      <td>360.0</td>\n",
       "      <td>1.0</td>\n",
       "      <td>Urban</td>\n",
       "      <td>Y</td>\n",
       "    </tr>\n",
       "    <tr>\n",
       "      <th>1</th>\n",
       "      <td>LP001003</td>\n",
       "      <td>Male</td>\n",
       "      <td>Yes</td>\n",
       "      <td>1</td>\n",
       "      <td>Graduate</td>\n",
       "      <td>No</td>\n",
       "      <td>4583</td>\n",
       "      <td>1508.0</td>\n",
       "      <td>128.0</td>\n",
       "      <td>360.0</td>\n",
       "      <td>1.0</td>\n",
       "      <td>Rural</td>\n",
       "      <td>N</td>\n",
       "    </tr>\n",
       "    <tr>\n",
       "      <th>2</th>\n",
       "      <td>LP001005</td>\n",
       "      <td>Male</td>\n",
       "      <td>Yes</td>\n",
       "      <td>0</td>\n",
       "      <td>Graduate</td>\n",
       "      <td>Yes</td>\n",
       "      <td>3000</td>\n",
       "      <td>0.0</td>\n",
       "      <td>66.0</td>\n",
       "      <td>360.0</td>\n",
       "      <td>1.0</td>\n",
       "      <td>Urban</td>\n",
       "      <td>Y</td>\n",
       "    </tr>\n",
       "    <tr>\n",
       "      <th>3</th>\n",
       "      <td>LP001006</td>\n",
       "      <td>Male</td>\n",
       "      <td>Yes</td>\n",
       "      <td>0</td>\n",
       "      <td>Not Graduate</td>\n",
       "      <td>No</td>\n",
       "      <td>2583</td>\n",
       "      <td>2358.0</td>\n",
       "      <td>120.0</td>\n",
       "      <td>360.0</td>\n",
       "      <td>1.0</td>\n",
       "      <td>Urban</td>\n",
       "      <td>Y</td>\n",
       "    </tr>\n",
       "    <tr>\n",
       "      <th>4</th>\n",
       "      <td>LP001008</td>\n",
       "      <td>Male</td>\n",
       "      <td>No</td>\n",
       "      <td>0</td>\n",
       "      <td>Graduate</td>\n",
       "      <td>No</td>\n",
       "      <td>6000</td>\n",
       "      <td>0.0</td>\n",
       "      <td>141.0</td>\n",
       "      <td>360.0</td>\n",
       "      <td>1.0</td>\n",
       "      <td>Urban</td>\n",
       "      <td>Y</td>\n",
       "    </tr>\n",
       "  </tbody>\n",
       "</table>\n",
       "</div>"
      ],
      "text/plain": [
       "    Loan_ID Gender Married Dependents     Education Self_Employed  \\\n",
       "0  LP001002   Male      No          0      Graduate            No   \n",
       "1  LP001003   Male     Yes          1      Graduate            No   \n",
       "2  LP001005   Male     Yes          0      Graduate           Yes   \n",
       "3  LP001006   Male     Yes          0  Not Graduate            No   \n",
       "4  LP001008   Male      No          0      Graduate            No   \n",
       "\n",
       "   ApplicantIncome  CoapplicantIncome  LoanAmount  Loan_Amount_Term  \\\n",
       "0             5849                0.0         NaN             360.0   \n",
       "1             4583             1508.0       128.0             360.0   \n",
       "2             3000                0.0        66.0             360.0   \n",
       "3             2583             2358.0       120.0             360.0   \n",
       "4             6000                0.0       141.0             360.0   \n",
       "\n",
       "   Credit_History Property_Area Loan_Status  \n",
       "0             1.0         Urban           Y  \n",
       "1             1.0         Rural           N  \n",
       "2             1.0         Urban           Y  \n",
       "3             1.0         Urban           Y  \n",
       "4             1.0         Urban           Y  "
      ]
     },
     "execution_count": 155,
     "metadata": {},
     "output_type": "execute_result"
    }
   ],
   "source": [
    "df=pd.read_csv(\"E:\\\\loan_prediction.csv\")\n",
    "df.head(5)"
   ]
  },
  {
   "cell_type": "code",
   "execution_count": 156,
   "id": "7f89d3e0",
   "metadata": {},
   "outputs": [
    {
     "data": {
      "text/plain": [
       "(614, 13)"
      ]
     },
     "execution_count": 156,
     "metadata": {},
     "output_type": "execute_result"
    }
   ],
   "source": [
    "df.shape"
   ]
  },
  {
   "cell_type": "markdown",
   "id": "7e5f1506",
   "metadata": {},
   "source": [
    "this dataset has 614 rows and 13 columns"
   ]
  },
  {
   "cell_type": "code",
   "execution_count": 157,
   "id": "9097fbfe",
   "metadata": {},
   "outputs": [
    {
     "data": {
      "text/plain": [
       "<bound method NDFrame.describe of       Loan_ID  Gender Married Dependents     Education Self_Employed  \\\n",
       "0    LP001002    Male      No          0      Graduate            No   \n",
       "1    LP001003    Male     Yes          1      Graduate            No   \n",
       "2    LP001005    Male     Yes          0      Graduate           Yes   \n",
       "3    LP001006    Male     Yes          0  Not Graduate            No   \n",
       "4    LP001008    Male      No          0      Graduate            No   \n",
       "..        ...     ...     ...        ...           ...           ...   \n",
       "609  LP002978  Female      No          0      Graduate            No   \n",
       "610  LP002979    Male     Yes         3+      Graduate            No   \n",
       "611  LP002983    Male     Yes          1      Graduate            No   \n",
       "612  LP002984    Male     Yes          2      Graduate            No   \n",
       "613  LP002990  Female      No          0      Graduate           Yes   \n",
       "\n",
       "     ApplicantIncome  CoapplicantIncome  LoanAmount  Loan_Amount_Term  \\\n",
       "0               5849                0.0         NaN             360.0   \n",
       "1               4583             1508.0       128.0             360.0   \n",
       "2               3000                0.0        66.0             360.0   \n",
       "3               2583             2358.0       120.0             360.0   \n",
       "4               6000                0.0       141.0             360.0   \n",
       "..               ...                ...         ...               ...   \n",
       "609             2900                0.0        71.0             360.0   \n",
       "610             4106                0.0        40.0             180.0   \n",
       "611             8072              240.0       253.0             360.0   \n",
       "612             7583                0.0       187.0             360.0   \n",
       "613             4583                0.0       133.0             360.0   \n",
       "\n",
       "     Credit_History Property_Area Loan_Status  \n",
       "0               1.0         Urban           Y  \n",
       "1               1.0         Rural           N  \n",
       "2               1.0         Urban           Y  \n",
       "3               1.0         Urban           Y  \n",
       "4               1.0         Urban           Y  \n",
       "..              ...           ...         ...  \n",
       "609             1.0         Rural           Y  \n",
       "610             1.0         Rural           Y  \n",
       "611             1.0         Urban           Y  \n",
       "612             1.0         Urban           Y  \n",
       "613             0.0     Semiurban           N  \n",
       "\n",
       "[614 rows x 13 columns]>"
      ]
     },
     "execution_count": 157,
     "metadata": {},
     "output_type": "execute_result"
    }
   ],
   "source": [
    "df.describe"
   ]
  },
  {
   "cell_type": "code",
   "execution_count": 158,
   "id": "a2f7089b",
   "metadata": {},
   "outputs": [
    {
     "data": {
      "text/plain": [
       "Loan_ID               object\n",
       "Gender                object\n",
       "Married               object\n",
       "Dependents            object\n",
       "Education             object\n",
       "Self_Employed         object\n",
       "ApplicantIncome        int64\n",
       "CoapplicantIncome    float64\n",
       "LoanAmount           float64\n",
       "Loan_Amount_Term     float64\n",
       "Credit_History       float64\n",
       "Property_Area         object\n",
       "Loan_Status           object\n",
       "dtype: object"
      ]
     },
     "execution_count": 158,
     "metadata": {},
     "output_type": "execute_result"
    }
   ],
   "source": [
    "df.dtypes"
   ]
  },
  {
   "cell_type": "code",
   "execution_count": 159,
   "id": "ad347fc0",
   "metadata": {},
   "outputs": [
    {
     "data": {
      "text/plain": [
       "Index(['Loan_ID', 'Gender', 'Married', 'Dependents', 'Education',\n",
       "       'Self_Employed', 'ApplicantIncome', 'CoapplicantIncome', 'LoanAmount',\n",
       "       'Loan_Amount_Term', 'Credit_History', 'Property_Area', 'Loan_Status'],\n",
       "      dtype='object')"
      ]
     },
     "execution_count": 159,
     "metadata": {},
     "output_type": "execute_result"
    }
   ],
   "source": [
    "df.columns"
   ]
  },
  {
   "cell_type": "markdown",
   "id": "43a42763",
   "metadata": {},
   "source": [
    "The features'Loan_ID', 'Gender', 'Married', 'Dependents', 'Education','Self_Employed,'Property_Area', 'Loan_Status' are object type remaining all are numeric data type"
   ]
  },
  {
   "cell_type": "code",
   "execution_count": 160,
   "id": "61af325b",
   "metadata": {},
   "outputs": [
    {
     "data": {
      "text/plain": [
       "Loan_ID               0\n",
       "Gender               13\n",
       "Married               3\n",
       "Dependents           15\n",
       "Education             0\n",
       "Self_Employed        32\n",
       "ApplicantIncome       0\n",
       "CoapplicantIncome     0\n",
       "LoanAmount           22\n",
       "Loan_Amount_Term     14\n",
       "Credit_History       50\n",
       "Property_Area         0\n",
       "Loan_Status           0\n",
       "dtype: int64"
      ]
     },
     "execution_count": 160,
     "metadata": {},
     "output_type": "execute_result"
    }
   ],
   "source": [
    "df.isnull().sum()"
   ]
  },
  {
   "cell_type": "markdown",
   "id": "5407d022",
   "metadata": {},
   "source": [
    "___Handling null values in categorical column"
   ]
  },
  {
   "cell_type": "markdown",
   "id": "8aadcef8",
   "metadata": {},
   "source": [
    "The features gender,married,dependents,selfemployed,loanamount,loan_amount term,credit_history having null values"
   ]
  },
  {
   "cell_type": "markdown",
   "id": "e7857622",
   "metadata": {},
   "source": [
    "__Handling null values in categorical column"
   ]
  },
  {
   "cell_type": "code",
   "execution_count": 163,
   "id": "34be3033",
   "metadata": {},
   "outputs": [],
   "source": [
    "col_c=['Gender', 'Married', 'Dependents','Self_Employed','Credit_History']\n",
    "df_mod=df"
   ]
  },
  {
   "cell_type": "code",
   "execution_count": 164,
   "id": "d0cecf25",
   "metadata": {},
   "outputs": [],
   "source": [
    "for i in col_c:\n",
    "    df_mod[col_c]=df[col_c].fillna(df[col_c].mode().iloc[0])"
   ]
  },
  {
   "cell_type": "code",
   "execution_count": 165,
   "id": "feb0af40",
   "metadata": {},
   "outputs": [
    {
     "data": {
      "text/plain": [
       "Loan_ID               0\n",
       "Gender                0\n",
       "Married               0\n",
       "Dependents            0\n",
       "Education             0\n",
       "Self_Employed         0\n",
       "ApplicantIncome       0\n",
       "CoapplicantIncome     0\n",
       "LoanAmount           22\n",
       "Loan_Amount_Term     14\n",
       "Credit_History        0\n",
       "Property_Area         0\n",
       "Loan_Status           0\n",
       "dtype: int64"
      ]
     },
     "execution_count": 165,
     "metadata": {},
     "output_type": "execute_result"
    }
   ],
   "source": [
    "df_mod.isnull().sum()"
   ]
  },
  {
   "cell_type": "markdown",
   "id": "453b34e6",
   "metadata": {},
   "source": [
    "null values in categorical column are removed"
   ]
  },
  {
   "cell_type": "code",
   "execution_count": 166,
   "id": "4c837c58",
   "metadata": {},
   "outputs": [
    {
     "data": {
      "text/plain": [
       "<AxesSubplot:ylabel='Density'>"
      ]
     },
     "execution_count": 166,
     "metadata": {},
     "output_type": "execute_result"
    },
    {
     "data": {
      "image/png": "[encoded data removed]",
      "text/plain": [
       "<Figure size 432x288 with 1 Axes>"
      ]
     },
     "metadata": {
      "needs_background": "light"
     },
     "output_type": "display_data"
    }
   ],
   "source": [
    "sns.distplot(x=df['LoanAmount'],kde=True,color='green')"
   ]
  },
  {
   "cell_type": "code",
   "execution_count": 167,
   "id": "1e3d5038",
   "metadata": {},
   "outputs": [
    {
     "data": {
      "text/plain": [
       "<AxesSubplot:ylabel='Density'>"
      ]
     },
     "execution_count": 167,
     "metadata": {},
     "output_type": "execute_result"
    },
    {
     "data": {
      "image/png": "[encoded data removed]",
      "text/plain": [
       "<Figure size 432x288 with 1 Axes>"
      ]
     },
     "metadata": {
      "needs_background": "light"
     },
     "output_type": "display_data"
    }
   ],
   "source": [
    "sns.distplot(x=df['Loan_Amount_Term'],kde=True,color='green')"
   ]
  },
  {
   "cell_type": "markdown",
   "id": "10a6a86c",
   "metadata": {},
   "source": [
    "loan amount and loan term form normal curve so I'm using mean"
   ]
  },
  {
   "cell_type": "code",
   "execution_count": 168,
   "id": "bf87d79c",
   "metadata": {},
   "outputs": [],
   "source": [
    "df_mod['LoanAmount']=df['LoanAmount'].fillna(df['LoanAmount'].mean())"
   ]
  },
  {
   "cell_type": "code",
   "execution_count": 169,
   "id": "d71651d5",
   "metadata": {},
   "outputs": [],
   "source": [
    "df_mod['Loan_Amount_Term']=df['Loan_Amount_Term'].fillna(df['Loan_Amount_Term'].mean())"
   ]
  },
  {
   "cell_type": "code",
   "execution_count": 170,
   "id": "859ad92b",
   "metadata": {},
   "outputs": [
    {
     "data": {
      "text/plain": [
       "Loan_ID              0\n",
       "Gender               0\n",
       "Married              0\n",
       "Dependents           0\n",
       "Education            0\n",
       "Self_Employed        0\n",
       "ApplicantIncome      0\n",
       "CoapplicantIncome    0\n",
       "LoanAmount           0\n",
       "Loan_Amount_Term     0\n",
       "Credit_History       0\n",
       "Property_Area        0\n",
       "Loan_Status          0\n",
       "dtype: int64"
      ]
     },
     "execution_count": 170,
     "metadata": {},
     "output_type": "execute_result"
    }
   ],
   "source": [
    "df_mod.isnull().sum()"
   ]
  },
  {
   "cell_type": "markdown",
   "id": "25c9754a",
   "metadata": {},
   "source": [
    "__Univariate analysis"
   ]
  },
  {
   "cell_type": "code",
   "execution_count": 171,
   "id": "7c1b42fc",
   "metadata": {},
   "outputs": [
    {
     "data": {
      "text/plain": [
       "LP002949    1\n",
       "LP002493    1\n",
       "LP002560    1\n",
       "LP001786    1\n",
       "LP002348    1\n",
       "           ..\n",
       "LP001854    1\n",
       "LP001275    1\n",
       "LP001114    1\n",
       "LP001137    1\n",
       "LP002113    1\n",
       "Name: Loan_ID, Length: 614, dtype: int64"
      ]
     },
     "execution_count": 171,
     "metadata": {},
     "output_type": "execute_result"
    }
   ],
   "source": [
    "df['Loan_ID'].value_counts()"
   ]
  },
  {
   "cell_type": "markdown",
   "id": "174ac1ee",
   "metadata": {},
   "source": [
    "It has unique values which  will not create any impact on target column so we can drop this column"
   ]
  },
  {
   "cell_type": "code",
   "execution_count": 172,
   "id": "f096a198",
   "metadata": {},
   "outputs": [
    {
     "data": {
      "text/plain": [
       "<AxesSubplot:xlabel='Dependents', ylabel='count'>"
      ]
     },
     "execution_count": 172,
     "metadata": {},
     "output_type": "execute_result"
    },
    {
     "data": {
      "image/png": "[encoded data removed]",
      "text/plain": [
       "<Figure size 144x288 with 1 Axes>"
      ]
     },
     "metadata": {
      "needs_background": "light"
     },
     "output_type": "display_data"
    },
    {
     "data": {
      "image/png": "[encoded data removed]",
      "text/plain": [
       "<Figure size 144x288 with 1 Axes>"
      ]
     },
     "metadata": {
      "needs_background": "light"
     },
     "output_type": "display_data"
    },
    {
     "data": {
      "image/png": "[encoded data removed]",
      "text/plain": [
       "<Figure size 144x288 with 1 Axes>"
      ]
     },
     "metadata": {
      "needs_background": "light"
     },
     "output_type": "display_data"
    }
   ],
   "source": [
    "plt.figure(figsize=(2,4))\n",
    "sns.countplot(df.Gender)\n",
    "\n",
    "plt.figure(figsize=(2,4))\n",
    "sns.countplot(df.Married)\n",
    "\n",
    "plt.figure(figsize=(2,4))\n",
    "sns.countplot(df.Dependents)"
   ]
  },
  {
   "cell_type": "markdown",
   "id": "a106ef36",
   "metadata": {},
   "source": [
    "mostly married male who have no dependents have taken loan"
   ]
  },
  {
   "cell_type": "code",
   "execution_count": 173,
   "id": "8fee3dc7",
   "metadata": {},
   "outputs": [
    {
     "ename": "IndentationError",
     "evalue": "unexpected indent (<ipython-input-173-5ac45392f353>, line 2)",
     "output_type": "error",
     "traceback": [
      "\u001b[1;36m  File \u001b[1;32m\"<ipython-input-173-5ac45392f353>\"\u001b[1;36m, line \u001b[1;32m2\u001b[0m\n\u001b[1;33m    'Self_Employed', 'ApplicantIncome', 'CoapplicantIncome'\u001b[0m\n\u001b[1;37m    ^\u001b[0m\n\u001b[1;31mIndentationError\u001b[0m\u001b[1;31m:\u001b[0m unexpected indent\n"
     ]
    }
   ],
   "source": [
    "'Education',\n",
    "       'Self_Employed', 'ApplicantIncome', 'CoapplicantIncome'"
   ]
  },
  {
   "cell_type": "code",
   "execution_count": 174,
   "id": "399051f4",
   "metadata": {},
   "outputs": [
    {
     "data": {
      "text/plain": [
       "<AxesSubplot:xlabel='Credit_History', ylabel='count'>"
      ]
     },
     "execution_count": 174,
     "metadata": {},
     "output_type": "execute_result"
    },
    {
     "data": {
      "image/png": "[encoded data removed]",
      "text/plain": [
       "<Figure size 144x288 with 1 Axes>"
      ]
     },
     "metadata": {
      "needs_background": "light"
     },
     "output_type": "display_data"
    },
    {
     "data": {
      "image/png": "[encoded data removed]",
      "text/plain": [
       "<Figure size 144x288 with 1 Axes>"
      ]
     },
     "metadata": {
      "needs_background": "light"
     },
     "output_type": "display_data"
    },
    {
     "data": {
      "image/png": "[encoded data removed]",
      "text/plain": [
       "<Figure size 144x288 with 1 Axes>"
      ]
     },
     "metadata": {
      "needs_background": "light"
     },
     "output_type": "display_data"
    }
   ],
   "source": [
    "plt.figure(figsize=(2,4))\n",
    "sns.countplot(df.Education,color=\"salmon\")\n",
    "\n",
    "plt.figure(figsize=(2,4))\n",
    "sns.countplot(df.Self_Employed,color=\"salmon\")\n",
    "\n",
    "plt.figure(figsize=(2,4))\n",
    "sns.countplot(df.Credit_History,color=\"salmon\")"
   ]
  },
  {
   "cell_type": "markdown",
   "id": "51566f1f",
   "metadata": {},
   "source": [
    "most of the loan applicants are graduate,not self employed and having credit score 1"
   ]
  },
  {
   "cell_type": "code",
   "execution_count": 175,
   "id": "18eebe2e",
   "metadata": {},
   "outputs": [
    {
     "data": {
      "text/plain": [
       "<AxesSubplot:xlabel='Property_Area', ylabel='count'>"
      ]
     },
     "execution_count": 175,
     "metadata": {},
     "output_type": "execute_result"
    },
    {
     "data": {
      "image/png": "[encoded data removed]",
      "text/plain": [
       "<Figure size 144x288 with 1 Axes>"
      ]
     },
     "metadata": {
      "needs_background": "light"
     },
     "output_type": "display_data"
    }
   ],
   "source": [
    "plt.figure(figsize=(2,4))\n",
    "sns.countplot(df.Property_Area,color=\"brown\")"
   ]
  },
  {
   "cell_type": "code",
   "execution_count": 176,
   "id": "1da93563",
   "metadata": {},
   "outputs": [
    {
     "ename": "SyntaxError",
     "evalue": "invalid syntax (<ipython-input-176-798314dd1714>, line 1)",
     "output_type": "error",
     "traceback": [
      "\u001b[1;36m  File \u001b[1;32m\"<ipython-input-176-798314dd1714>\"\u001b[1;36m, line \u001b[1;32m1\u001b[0m\n\u001b[1;33m    Majority of people from semi urban are applied for loan\u001b[0m\n\u001b[1;37m             ^\u001b[0m\n\u001b[1;31mSyntaxError\u001b[0m\u001b[1;31m:\u001b[0m invalid syntax\n"
     ]
    }
   ],
   "source": [
    "Majority of people from semi urban are applied for loan"
   ]
  },
  {
   "cell_type": "markdown",
   "id": "d96f77f5",
   "metadata": {},
   "source": [
    "BI VARIATE ANALYSIS"
   ]
  },
  {
   "cell_type": "code",
   "execution_count": 177,
   "id": "28a7593e",
   "metadata": {},
   "outputs": [
    {
     "data": {
      "text/plain": [
       "<AxesSubplot:ylabel='Gender'>"
      ]
     },
     "execution_count": 177,
     "metadata": {},
     "output_type": "execute_result"
    },
    {
     "data": {
      "image/png": "[encoded data removed]",
      "text/plain": [
       "<Figure size 504x504 with 2 Axes>"
      ]
     },
     "metadata": {
      "needs_background": "light"
     },
     "output_type": "display_data"
    }
   ],
   "source": [
    "fig=plt.figure(figsize=(7,7))\n",
    "rows = 3\n",
    "cols = 1\n",
    "i=0\n",
    "color_l=['cyan','grey','salmon','red','grey','pink']\n",
    "i+=1\n",
    "plt.subplot(rows,cols,i)\n",
    "l = list(df_mod['Gender'].unique())\n",
    "sns.countplot(df_mod['Gender'],palette=\"Set2\",hue=df_mod.Loan_Status)\n",
    "plt.xticks(rotation=90)\n",
    "i+=1\n",
    "plt.subplot(rows,cols,i)\n",
    "df_mod['Gender'].value_counts().plot.pie(autopct='%1.1f%%',colors=color_l)"
   ]
  },
  {
   "cell_type": "markdown",
   "id": "abaec7bf",
   "metadata": {},
   "source": [
    "the loan applicants of 81.8% are  male who got application sanctioned"
   ]
  },
  {
   "cell_type": "code",
   "execution_count": 178,
   "id": "905741de",
   "metadata": {},
   "outputs": [
    {
     "data": {
      "text/plain": [
       "<AxesSubplot:ylabel='Education'>"
      ]
     },
     "execution_count": 178,
     "metadata": {},
     "output_type": "execute_result"
    },
    {
     "data": {
      "image/png": "[encoded data removed]",
      "text/plain": [
       "<Figure size 504x504 with 2 Axes>"
      ]
     },
     "metadata": {
      "needs_background": "light"
     },
     "output_type": "display_data"
    }
   ],
   "source": [
    "fig=plt.figure(figsize=(7,7))\n",
    "rows = 3\n",
    "cols = 1\n",
    "i=0\n",
    "color_l=['cyan','grey','salmon','red','grey','pink']\n",
    "i+=1\n",
    "plt.subplot(rows,cols,i)\n",
    "l = list(df_mod['Education'].unique())\n",
    "sns.countplot(df_mod['Education'],palette=\"Set2\",hue=df_mod.Loan_Status)\n",
    "plt.xticks(rotation=90)\n",
    "i+=1\n",
    "plt.subplot(rows,cols,i)\n",
    "df_mod['Education'].value_counts().plot.pie(autopct='%1.1f%%',colors=color_l)"
   ]
  },
  {
   "cell_type": "markdown",
   "id": "7e93832a",
   "metadata": {},
   "source": [
    "78.2% of loan applicants are graduate.The more graduate application got sanctiond than not graduate"
   ]
  },
  {
   "cell_type": "code",
   "execution_count": 179,
   "id": "89110290",
   "metadata": {},
   "outputs": [
    {
     "data": {
      "text/plain": [
       "<AxesSubplot:ylabel='Self_Employed'>"
      ]
     },
     "execution_count": 179,
     "metadata": {},
     "output_type": "execute_result"
    },
    {
     "data": {
      "image/png": "[encoded data removed]",
      "text/plain": [
       "<Figure size 504x720 with 2 Axes>"
      ]
     },
     "metadata": {
      "needs_background": "light"
     },
     "output_type": "display_data"
    }
   ],
   "source": [
    "fig=plt.figure(figsize=(7,10))\n",
    "rows = 3\n",
    "cols = 1\n",
    "i=0\n",
    "color_l=['salmon','red','grey','pink']\n",
    "i+=1\n",
    "plt.subplot(rows,cols,i)\n",
    "l = list(df_mod['Self_Employed'].unique())\n",
    "sns.countplot(df_mod['Self_Employed'],palette=\"spring\",hue=df_mod.Loan_Status)\n",
    "plt.xticks(rotation=90)\n",
    "i+=1\n",
    "plt.subplot(rows,cols,i)\n",
    "df_mod['Self_Employed'].value_counts().plot.pie(autopct='%1.1f%%',colors=color_l)"
   ]
  },
  {
   "cell_type": "markdown",
   "id": "c618fb97",
   "metadata": {},
   "source": [
    "86.6% of loan applicants are not self employed.They have less chance of getting loan approval"
   ]
  },
  {
   "cell_type": "code",
   "execution_count": 180,
   "id": "9cef5e2b",
   "metadata": {},
   "outputs": [
    {
     "data": {
      "text/plain": [
       "<AxesSubplot:ylabel='Credit_History'>"
      ]
     },
     "execution_count": 180,
     "metadata": {},
     "output_type": "execute_result"
    },
    {
     "data": {
      "image/png": "[encoded data removed]",
      "text/plain": [
       "<Figure size 504x720 with 2 Axes>"
      ]
     },
     "metadata": {
      "needs_background": "light"
     },
     "output_type": "display_data"
    }
   ],
   "source": [
    "fig=plt.figure(figsize=(7,10))\n",
    "rows = 3\n",
    "cols = 1\n",
    "i=0\n",
    "color_l=['salmon','red','grey','pink']\n",
    "i+=1\n",
    "plt.subplot(rows,cols,i)\n",
    "l = list(df_mod['Credit_History'].unique())\n",
    "sns.countplot(df_mod['Credit_History'],palette=\"spring\",hue=df_mod.Loan_Status)\n",
    "plt.xticks(rotation=90)\n",
    "i+=1\n",
    "plt.subplot(rows,cols,i)\n",
    "df_mod['Credit_History'].value_counts().plot.pie(autopct='%1.1f%%',colors=color_l)"
   ]
  },
  {
   "cell_type": "code",
   "execution_count": 181,
   "id": "633b918f",
   "metadata": {},
   "outputs": [
    {
     "ename": "SyntaxError",
     "evalue": "invalid syntax (<ipython-input-181-8ff2c7dd20ce>, line 1)",
     "output_type": "error",
     "traceback": [
      "\u001b[1;36m  File \u001b[1;32m\"<ipython-input-181-8ff2c7dd20ce>\"\u001b[1;36m, line \u001b[1;32m1\u001b[0m\n\u001b[1;33m    85.5% loan applicant having credit_history 1.mostly who have credit_history 1 got loan approval\u001b[0m\n\u001b[1;37m               ^\u001b[0m\n\u001b[1;31mSyntaxError\u001b[0m\u001b[1;31m:\u001b[0m invalid syntax\n"
     ]
    }
   ],
   "source": [
    "85.5% loan applicant having credit_history 1.mostly who have credit_history 1 got loan approval"
   ]
  },
  {
   "cell_type": "code",
   "execution_count": 182,
   "id": "ccc0d921",
   "metadata": {},
   "outputs": [
    {
     "data": {
      "text/plain": [
       "<AxesSubplot:ylabel='Property_Area'>"
      ]
     },
     "execution_count": 182,
     "metadata": {},
     "output_type": "execute_result"
    },
    {
     "data": {
      "image/png": "[encoded data removed]",
      "text/plain": [
       "<Figure size 504x504 with 2 Axes>"
      ]
     },
     "metadata": {
      "needs_background": "light"
     },
     "output_type": "display_data"
    }
   ],
   "source": [
    "fig=plt.figure(figsize=(7,7))\n",
    "rows = 3\n",
    "cols = 1\n",
    "i=0\n",
    "color_l=['cyan','grey','salmon','red','grey','pink']\n",
    "i+=1\n",
    "plt.subplot(rows,cols,i)\n",
    "l = list(df_mod['Property_Area'].unique())\n",
    "sns.countplot(df_mod['Property_Area'],palette=\"Set2\",hue=df_mod.Loan_Status)\n",
    "plt.xticks(rotation=90)\n",
    "i+=1\n",
    "plt.subplot(rows,cols,i)\n",
    "df_mod['Property_Area'].value_counts().plot.pie(autopct='%1.1f%%',colors=color_l)"
   ]
  },
  {
   "cell_type": "markdown",
   "id": "b9b358c5",
   "metadata": {},
   "source": [
    "37.9% of loan applicants are from semi urban.mostly applicants from semi urban got loan approval"
   ]
  },
  {
   "cell_type": "code",
   "execution_count": 183,
   "id": "d92515cb",
   "metadata": {},
   "outputs": [
    {
     "data": {
      "image/png": "[encoded data removed]",
      "text/plain": [
       "<Figure size 720x432 with 1 Axes>"
      ]
     },
     "metadata": {
      "needs_background": "light"
     },
     "output_type": "display_data"
    }
   ],
   "source": [
    "fig=plt.figure(figsize=(10,6))\n",
    "ax=sns.kdeplot(x=df_mod[\"ApplicantIncome\"],hue=df_mod[\"Loan_Status\"],fill=True)\n",
    "ax.set_facecolor('#f5f6f6')\n",
    "for loc in ['left', 'right', 'top', 'bottom']:\n",
    "    ax.spines[loc].set_visible(False)"
   ]
  },
  {
   "cell_type": "code",
   "execution_count": 184,
   "id": "e871e522",
   "metadata": {},
   "outputs": [
    {
     "ename": "SyntaxError",
     "evalue": "invalid syntax (<ipython-input-184-6a0e7508f595>, line 1)",
     "output_type": "error",
     "traceback": [
      "\u001b[1;36m  File \u001b[1;32m\"<ipython-input-184-6a0e7508f595>\"\u001b[1;36m, line \u001b[1;32m1\u001b[0m\n\u001b[1;33m    Most of the applicant who having income less than 20000 will get loan approval\u001b[0m\n\u001b[1;37m         ^\u001b[0m\n\u001b[1;31mSyntaxError\u001b[0m\u001b[1;31m:\u001b[0m invalid syntax\n"
     ]
    }
   ],
   "source": [
    "Most of the applicant who having income less than 20000 will get loan approval"
   ]
  },
  {
   "cell_type": "code",
   "execution_count": 185,
   "id": "94ac3af0",
   "metadata": {},
   "outputs": [
    {
     "data": {
      "image/png": "[encoded data removed]",
      "text/plain": [
       "<Figure size 720x432 with 1 Axes>"
      ]
     },
     "metadata": {
      "needs_background": "light"
     },
     "output_type": "display_data"
    }
   ],
   "source": [
    "fig=plt.figure(figsize=(10,6))\n",
    "ax=sns.kdeplot(x=df_mod[\"CoapplicantIncome\"],hue=df_mod[\"Loan_Status\"],fill=True)\n",
    "ax.set_facecolor('#f5f6f6')\n",
    "for loc in ['left', 'right', 'top', 'bottom']:\n",
    "    ax.spines[loc].set_visible(False)"
   ]
  },
  {
   "cell_type": "markdown",
   "id": "69c6445b",
   "metadata": {},
   "source": [
    "co applicant having below 10,000 income will get loan approval"
   ]
  },
  {
   "cell_type": "code",
   "execution_count": 186,
   "id": "725f2a6c",
   "metadata": {},
   "outputs": [
    {
     "data": {
      "image/png": "[encoded data removed]",
      "text/plain": [
       "<Figure size 720x432 with 1 Axes>"
      ]
     },
     "metadata": {
      "needs_background": "light"
     },
     "output_type": "display_data"
    }
   ],
   "source": [
    "fig=plt.figure(figsize=(10,6))\n",
    "ax=sns.kdeplot(x=df_mod[\"LoanAmount\"],hue=df_mod[\"Loan_Status\"],fill=True)\n",
    "ax.set_facecolor('#f5f6f6')\n",
    "for loc in ['left', 'right', 'top', 'bottom']:\n",
    "    ax.spines[loc].set_visible(False)"
   ]
  },
  {
   "cell_type": "markdown",
   "id": "22e2cd33",
   "metadata": {},
   "source": [
    "most of the loan applicants get 0 to 400"
   ]
  },
  {
   "cell_type": "markdown",
   "id": "02bb1f8a",
   "metadata": {},
   "source": [
    "__EDA Conclusion"
   ]
  },
  {
   "cell_type": "markdown",
   "id": "40fd2626",
   "metadata": {},
   "source": [
    "Loan got approved for applicants who falls in below category\n",
    "male,married who have no dependents\n",
    "\n",
    "graduate,self employed who have credit History 1 and from semi urban place\n",
    "\n",
    "Applicant should have income less than or equal to 20,000 because the  loan amount is small\n",
    "\n",
    "co Applicant should have income less than or equal to 10,000\n",
    " "
   ]
  },
  {
   "cell_type": "code",
   "execution_count": 187,
   "id": "f8ea2c79",
   "metadata": {},
   "outputs": [],
   "source": [
    "cols=['ApplicantIncome','CoapplicantIncome','LoanAmount',\n",
    "       'Loan_Amount_Term']"
   ]
  },
  {
   "cell_type": "code",
   "execution_count": 188,
   "id": "1c976442",
   "metadata": {},
   "outputs": [
    {
     "data": {
      "image/png": "[encoded data removed]",
      "text/plain": [
       "<Figure size 2160x2160 with 4 Axes>"
      ]
     },
     "metadata": {
      "needs_background": "light"
     },
     "output_type": "display_data"
    }
   ],
   "source": [
    "ncol=5\n",
    "nrows=5\n",
    "plt.figure(figsize=(30,30))\n",
    "for i in range(0,4):\n",
    "    plt.subplot(nrows,ncol,i+1)\n",
    "    sns.boxplot(x=cols[i],data=df_mod)"
   ]
  },
  {
   "cell_type": "code",
   "execution_count": 189,
   "id": "5dcce601",
   "metadata": {},
   "outputs": [
    {
     "name": "stdout",
     "output_type": "stream",
     "text": [
      "(array([ 14,  68,  94, 133, 242, 262, 313, 495, 497, 546, 575, 585],\n",
      "      dtype=int64),)\n"
     ]
    }
   ],
   "source": [
    "df_clean=df_mod\n",
    "for i in cols:\n",
    "    z = np.abs(zscore(df_mod[i]))\n",
    "print(np.where(z > 3))"
   ]
  },
  {
   "cell_type": "code",
   "execution_count": 190,
   "id": "c04a82f3",
   "metadata": {},
   "outputs": [],
   "source": [
    "df_clean = df_mod[(z<3)]"
   ]
  },
  {
   "cell_type": "code",
   "execution_count": 191,
   "id": "9c37d670",
   "metadata": {},
   "outputs": [
    {
     "data": {
      "text/plain": [
       "(602, 13)"
      ]
     },
     "execution_count": 191,
     "metadata": {},
     "output_type": "execute_result"
    }
   ],
   "source": [
    "df_clean.shape"
   ]
  },
  {
   "cell_type": "code",
   "execution_count": 192,
   "id": "cf045d39",
   "metadata": {},
   "outputs": [
    {
     "data": {
      "text/plain": [
       "1.9543973941368076"
      ]
     },
     "execution_count": 192,
     "metadata": {},
     "output_type": "execute_result"
    }
   ],
   "source": [
    "((614-602)/614)*100"
   ]
  },
  {
   "cell_type": "markdown",
   "id": "1c26a1c4",
   "metadata": {},
   "source": [
    "2% data are loss so its acceptable"
   ]
  },
  {
   "cell_type": "code",
   "execution_count": 193,
   "id": "096e2882",
   "metadata": {},
   "outputs": [
    {
     "data": {
      "text/plain": [
       "Loan_ID              0\n",
       "Gender               0\n",
       "Married              0\n",
       "Dependents           0\n",
       "Education            0\n",
       "Self_Employed        0\n",
       "ApplicantIncome      0\n",
       "CoapplicantIncome    0\n",
       "LoanAmount           0\n",
       "Loan_Amount_Term     0\n",
       "Credit_History       0\n",
       "Property_Area        0\n",
       "Loan_Status          0\n",
       "dtype: int64"
      ]
     },
     "execution_count": 193,
     "metadata": {},
     "output_type": "execute_result"
    }
   ],
   "source": [
    "df_clean.isnull().sum()"
   ]
  },
  {
   "cell_type": "code",
   "execution_count": 194,
   "id": "8fbaeab2",
   "metadata": {},
   "outputs": [],
   "source": [
    "data_clean1=df_clean\n",
    "col_encod=['Gender', 'Married','Education', 'Dependents','Self_Employed','Property_Area','Loan_Status']"
   ]
  },
  {
   "cell_type": "code",
   "execution_count": 195,
   "id": "09206ea3",
   "metadata": {},
   "outputs": [],
   "source": [
    "from sklearn import preprocessing \n",
    "for col in col_encod:\n",
    "    label = preprocessing.LabelEncoder()\n",
    "    data_clean1[col]= label.fit_transform(df_clean[col])"
   ]
  },
  {
   "cell_type": "code",
   "execution_count": 196,
   "id": "3b00af09",
   "metadata": {},
   "outputs": [
    {
     "data": {
      "text/html": [
       "<div>\n",
       "<style scoped>\n",
       "    .dataframe tbody tr th:only-of-type {\n",
       "        vertical-align: middle;\n",
       "    }\n",
       "\n",
       "    .dataframe tbody tr th {\n",
       "        vertical-align: top;\n",
       "    }\n",
       "\n",
       "    .dataframe thead th {\n",
       "        text-align: right;\n",
       "    }\n",
       "</style>\n",
       "<table border=\"1\" class=\"dataframe\">\n",
       "  <thead>\n",
       "    <tr style=\"text-align: right;\">\n",
       "      <th></th>\n",
       "      <th>Loan_ID</th>\n",
       "      <th>Gender</th>\n",
       "      <th>Married</th>\n",
       "      <th>Dependents</th>\n",
       "      <th>Education</th>\n",
       "      <th>Self_Employed</th>\n",
       "      <th>ApplicantIncome</th>\n",
       "      <th>CoapplicantIncome</th>\n",
       "      <th>LoanAmount</th>\n",
       "      <th>Loan_Amount_Term</th>\n",
       "      <th>Credit_History</th>\n",
       "      <th>Property_Area</th>\n",
       "      <th>Loan_Status</th>\n",
       "    </tr>\n",
       "  </thead>\n",
       "  <tbody>\n",
       "    <tr>\n",
       "      <th>0</th>\n",
       "      <td>LP001002</td>\n",
       "      <td>1</td>\n",
       "      <td>0</td>\n",
       "      <td>0</td>\n",
       "      <td>0</td>\n",
       "      <td>0</td>\n",
       "      <td>5849</td>\n",
       "      <td>0.0</td>\n",
       "      <td>146.412162</td>\n",
       "      <td>360.0</td>\n",
       "      <td>1.0</td>\n",
       "      <td>2</td>\n",
       "      <td>1</td>\n",
       "    </tr>\n",
       "    <tr>\n",
       "      <th>1</th>\n",
       "      <td>LP001003</td>\n",
       "      <td>1</td>\n",
       "      <td>1</td>\n",
       "      <td>1</td>\n",
       "      <td>0</td>\n",
       "      <td>0</td>\n",
       "      <td>4583</td>\n",
       "      <td>1508.0</td>\n",
       "      <td>128.000000</td>\n",
       "      <td>360.0</td>\n",
       "      <td>1.0</td>\n",
       "      <td>0</td>\n",
       "      <td>0</td>\n",
       "    </tr>\n",
       "    <tr>\n",
       "      <th>2</th>\n",
       "      <td>LP001005</td>\n",
       "      <td>1</td>\n",
       "      <td>1</td>\n",
       "      <td>0</td>\n",
       "      <td>0</td>\n",
       "      <td>1</td>\n",
       "      <td>3000</td>\n",
       "      <td>0.0</td>\n",
       "      <td>66.000000</td>\n",
       "      <td>360.0</td>\n",
       "      <td>1.0</td>\n",
       "      <td>2</td>\n",
       "      <td>1</td>\n",
       "    </tr>\n",
       "    <tr>\n",
       "      <th>3</th>\n",
       "      <td>LP001006</td>\n",
       "      <td>1</td>\n",
       "      <td>1</td>\n",
       "      <td>0</td>\n",
       "      <td>1</td>\n",
       "      <td>0</td>\n",
       "      <td>2583</td>\n",
       "      <td>2358.0</td>\n",
       "      <td>120.000000</td>\n",
       "      <td>360.0</td>\n",
       "      <td>1.0</td>\n",
       "      <td>2</td>\n",
       "      <td>1</td>\n",
       "    </tr>\n",
       "    <tr>\n",
       "      <th>4</th>\n",
       "      <td>LP001008</td>\n",
       "      <td>1</td>\n",
       "      <td>0</td>\n",
       "      <td>0</td>\n",
       "      <td>0</td>\n",
       "      <td>0</td>\n",
       "      <td>6000</td>\n",
       "      <td>0.0</td>\n",
       "      <td>141.000000</td>\n",
       "      <td>360.0</td>\n",
       "      <td>1.0</td>\n",
       "      <td>2</td>\n",
       "      <td>1</td>\n",
       "    </tr>\n",
       "  </tbody>\n",
       "</table>\n",
       "</div>"
      ],
      "text/plain": [
       "    Loan_ID  Gender  Married  Dependents  Education  Self_Employed  \\\n",
       "0  LP001002       1        0           0          0              0   \n",
       "1  LP001003       1        1           1          0              0   \n",
       "2  LP001005       1        1           0          0              1   \n",
       "3  LP001006       1        1           0          1              0   \n",
       "4  LP001008       1        0           0          0              0   \n",
       "\n",
       "   ApplicantIncome  CoapplicantIncome  LoanAmount  Loan_Amount_Term  \\\n",
       "0             5849                0.0  146.412162             360.0   \n",
       "1             4583             1508.0  128.000000             360.0   \n",
       "2             3000                0.0   66.000000             360.0   \n",
       "3             2583             2358.0  120.000000             360.0   \n",
       "4             6000                0.0  141.000000             360.0   \n",
       "\n",
       "   Credit_History  Property_Area  Loan_Status  \n",
       "0             1.0              2            1  \n",
       "1             1.0              0            0  \n",
       "2             1.0              2            1  \n",
       "3             1.0              2            1  \n",
       "4             1.0              2            1  "
      ]
     },
     "execution_count": 196,
     "metadata": {},
     "output_type": "execute_result"
    }
   ],
   "source": [
    "data_clean1.head()"
   ]
  },
  {
   "cell_type": "code",
   "execution_count": 197,
   "id": "884c3432",
   "metadata": {},
   "outputs": [
    {
     "data": {
      "text/plain": [
       "<AxesSubplot:>"
      ]
     },
     "execution_count": 197,
     "metadata": {},
     "output_type": "execute_result"
    },
    {
     "data": {
      "image/png": "[encoded data removed]",
      "text/plain": [
       "<Figure size 1440x1440 with 2 Axes>"
      ]
     },
     "metadata": {
      "needs_background": "light"
     },
     "output_type": "display_data"
    }
   ],
   "source": [
    "correlation=data_clean1.corr(method='pearson')\n",
    "plt.figure(figsize=(20,20))\n",
    "sns.heatmap(correlation,annot=True)"
   ]
  },
  {
   "cell_type": "markdown",
   "id": "6ebc2f66",
   "metadata": {},
   "source": [
    "loan_status is higly corelated with credit history"
   ]
  },
  {
   "cell_type": "markdown",
   "id": "3e5314b1",
   "metadata": {},
   "source": [
    "CLASS IMBALANCE PROBLEM"
   ]
  },
  {
   "cell_type": "code",
   "execution_count": 198,
   "id": "5afe0528",
   "metadata": {},
   "outputs": [
    {
     "data": {
      "image/png": "[encoded data removed]",
      "text/plain": [
       "<Figure size 360x360 with 1 Axes>"
      ]
     },
     "metadata": {
      "needs_background": "light"
     },
     "output_type": "display_data"
    }
   ],
   "source": [
    "plt.figure(figsize=(5,5))\n",
    "sns.countplot(x=df['Loan_Status'],data=df,palette=\"Set1\")\n",
    "plt.xticks(rotation=90)\n",
    "plt.grid=True\n",
    "plt.show()"
   ]
  },
  {
   "cell_type": "code",
   "execution_count": 199,
   "id": "bb05841a",
   "metadata": {},
   "outputs": [],
   "source": [
    "#Over Sampling the data using SMOTE\n",
    "from imblearn.over_sampling import SMOTE\n",
    "os=SMOTE()"
   ]
  },
  {
   "cell_type": "code",
   "execution_count": 200,
   "id": "2a7c777b",
   "metadata": {},
   "outputs": [],
   "source": [
    "colu=['Loan_Status','Loan_ID']\n",
    "x1=data_clean1.drop(colu,axis=1)\n",
    "y1=data_clean1['Loan_Status']"
   ]
  },
  {
   "cell_type": "code",
   "execution_count": 201,
   "id": "ccee6179",
   "metadata": {},
   "outputs": [
    {
     "data": {
      "text/plain": [
       "Gender               0\n",
       "Married              0\n",
       "Dependents           0\n",
       "Education            0\n",
       "Self_Employed        0\n",
       "ApplicantIncome      0\n",
       "CoapplicantIncome    0\n",
       "LoanAmount           0\n",
       "Loan_Amount_Term     0\n",
       "Credit_History       0\n",
       "Property_Area        0\n",
       "dtype: int64"
      ]
     },
     "execution_count": 201,
     "metadata": {},
     "output_type": "execute_result"
    }
   ],
   "source": [
    "x1.isnull().sum()"
   ]
  },
  {
   "cell_type": "code",
   "execution_count": 202,
   "id": "0c523eaf",
   "metadata": {},
   "outputs": [],
   "source": [
    "x1,y1=os.fit_resample(x1,y1)"
   ]
  },
  {
   "cell_type": "code",
   "execution_count": 203,
   "id": "41853295",
   "metadata": {},
   "outputs": [
    {
     "data": {
      "image/png": "[encoded data removed]",
      "text/plain": [
       "<Figure size 360x360 with 1 Axes>"
      ]
     },
     "metadata": {
      "needs_background": "light"
     },
     "output_type": "display_data"
    }
   ],
   "source": [
    "plt.figure(figsize=(5,5))\n",
    "sns.countplot(x=y1)\n",
    "plt.xticks(rotation=90)\n",
    "plt.show()"
   ]
  },
  {
   "cell_type": "markdown",
   "id": "b82322f1",
   "metadata": {},
   "source": [
    "target column class is balanced"
   ]
  },
  {
   "cell_type": "markdown",
   "id": "d2aeb422",
   "metadata": {},
   "source": [
    "SCALING"
   ]
  },
  {
   "cell_type": "code",
   "execution_count": 204,
   "id": "44074aee",
   "metadata": {},
   "outputs": [],
   "source": [
    "from sklearn.preprocessing import MinMaxScaler\n",
    "scaler=MinMaxScaler()\n",
    "scaled = scaler.fit_transform(x1)"
   ]
  },
  {
   "cell_type": "code",
   "execution_count": 205,
   "id": "5d38423c",
   "metadata": {},
   "outputs": [],
   "source": [
    "from sklearn.metrics import classification_report, confusion_matrix, accuracy_score\n",
    "from sklearn.linear_model import LogisticRegression\n",
    "from sklearn .ensemble import RandomForestClassifier\n",
    "from sklearn.ensemble import BaggingClassifier\n",
    "from sklearn.model_selection import train_test_split\n",
    "from sklearn.neighbors import KNeighborsClassifier\n",
    "from sklearn.metrics import roc_curve\n",
    "from sklearn.metrics import roc_auc_score\n",
    "from sklearn.model_selection import cross_val_score\n",
    "from matplotlib import pyplot\n",
    "from sklearn.svm import SVC\n",
    "from sklearn.ensemble import GradientBoostingClassifier\n",
    "from sklearn.tree import DecisionTreeClassifier\n",
    "x=scaled\n",
    "y=y1"
   ]
  },
  {
   "cell_type": "code",
   "execution_count": 206,
   "id": "a35c6d06",
   "metadata": {},
   "outputs": [],
   "source": [
    "xtrain,xtest,ytrain,ytest=train_test_split(x,y,test_size=0.25,random_state=1)\n",
    "\n",
    "models=[LogisticRegression(),RandomForestClassifier(),BaggingClassifier(),KNeighborsClassifier(),GradientBoostingClassifier(),DecisionTreeClassifier()]\n",
    "scorelist=[]\n",
    "acclist=[]"
   ]
  },
  {
   "cell_type": "code",
   "execution_count": 207,
   "id": "c71c886d",
   "metadata": {},
   "outputs": [
    {
     "name": "stdout",
     "output_type": "stream",
     "text": [
      "LogisticRegression() \n",
      "\n",
      "Accuracy score: 0.821256038647343 \n",
      "\n",
      "\"Confusion Matrix:\n",
      "\" [[81 32]\n",
      " [ 5 89]]\n",
      "classification_report\n",
      "               precision    recall  f1-score   support\n",
      "\n",
      "           0       0.94      0.72      0.81       113\n",
      "           1       0.74      0.95      0.83        94\n",
      "\n",
      "    accuracy                           0.82       207\n",
      "   macro avg       0.84      0.83      0.82       207\n",
      "weighted avg       0.85      0.82      0.82       207\n",
      "\n",
      "Average accuracy_score 0.821256038647343\n",
      "---------------------------------------------------------------------------------------------------------\n",
      "RandomForestClassifier() \n",
      "\n",
      "Accuracy score: 0.8454106280193237 \n",
      "\n",
      "\"Confusion Matrix:\n",
      "\" [[92 21]\n",
      " [11 83]]\n",
      "classification_report\n",
      "               precision    recall  f1-score   support\n",
      "\n",
      "           0       0.89      0.81      0.85       113\n",
      "           1       0.80      0.88      0.84        94\n",
      "\n",
      "    accuracy                           0.85       207\n",
      "   macro avg       0.85      0.85      0.85       207\n",
      "weighted avg       0.85      0.85      0.85       207\n",
      "\n",
      "Average accuracy_score 0.8454106280193237\n",
      "---------------------------------------------------------------------------------------------------------\n",
      "BaggingClassifier() \n",
      "\n",
      "Accuracy score: 0.8164251207729468 \n",
      "\n",
      "\"Confusion Matrix:\n",
      "\" [[93 20]\n",
      " [18 76]]\n",
      "classification_report\n",
      "               precision    recall  f1-score   support\n",
      "\n",
      "           0       0.84      0.82      0.83       113\n",
      "           1       0.79      0.81      0.80        94\n",
      "\n",
      "    accuracy                           0.82       207\n",
      "   macro avg       0.81      0.82      0.82       207\n",
      "weighted avg       0.82      0.82      0.82       207\n",
      "\n",
      "Average accuracy_score 0.8164251207729468\n",
      "---------------------------------------------------------------------------------------------------------\n",
      "KNeighborsClassifier() \n",
      "\n",
      "Accuracy score: 0.7874396135265701 \n",
      "\n",
      "\"Confusion Matrix:\n",
      "\" [[81 32]\n",
      " [12 82]]\n",
      "classification_report\n",
      "               precision    recall  f1-score   support\n",
      "\n",
      "           0       0.87      0.72      0.79       113\n",
      "           1       0.72      0.87      0.79        94\n",
      "\n",
      "    accuracy                           0.79       207\n",
      "   macro avg       0.80      0.79      0.79       207\n",
      "weighted avg       0.80      0.79      0.79       207\n",
      "\n",
      "Average accuracy_score 0.7874396135265701\n",
      "---------------------------------------------------------------------------------------------------------\n",
      "GradientBoostingClassifier() \n",
      "\n",
      "Accuracy score: 0.8454106280193237 \n",
      "\n",
      "\"Confusion Matrix:\n",
      "\" [[91 22]\n",
      " [10 84]]\n",
      "classification_report\n",
      "               precision    recall  f1-score   support\n",
      "\n",
      "           0       0.90      0.81      0.85       113\n",
      "           1       0.79      0.89      0.84        94\n",
      "\n",
      "    accuracy                           0.85       207\n",
      "   macro avg       0.85      0.85      0.85       207\n",
      "weighted avg       0.85      0.85      0.85       207\n",
      "\n",
      "Average accuracy_score 0.8454106280193237\n",
      "---------------------------------------------------------------------------------------------------------\n",
      "DecisionTreeClassifier() \n",
      "\n",
      "Accuracy score: 0.7874396135265701 \n",
      "\n",
      "\"Confusion Matrix:\n",
      "\" [[96 17]\n",
      " [27 67]]\n",
      "classification_report\n",
      "               precision    recall  f1-score   support\n",
      "\n",
      "           0       0.78      0.85      0.81       113\n",
      "           1       0.80      0.71      0.75        94\n",
      "\n",
      "    accuracy                           0.79       207\n",
      "   macro avg       0.79      0.78      0.78       207\n",
      "weighted avg       0.79      0.79      0.79       207\n",
      "\n",
      "Average accuracy_score 0.7874396135265701\n",
      "---------------------------------------------------------------------------------------------------------\n",
      "Maximun accuracy Score is shown by RandomForestClassifier() 0.8454106280193237\n"
     ]
    }
   ],
   "source": [
    "def create_model(model):\n",
    "    m=model\n",
    "    m.fit(xtrain,ytrain)\n",
    "    p=m.predict(xtest)\n",
    "    score=m.score(xtest,ytest)\n",
    "    result = confusion_matrix(ytest,p)\n",
    "    result1 = classification_report(ytest,p)\n",
    "    result2 = accuracy_score(ytest,p)\n",
    "    scorelist.append(score)\n",
    "    acclist.append(result2)\n",
    "    \n",
    "    \n",
    "    print(m,\"\\n\")\n",
    "    \n",
    "    print('Accuracy score:',score,\"\\n\")\n",
    "    print('\"Confusion Matrix:\\n\"',result)\n",
    "    print('classification_report\\n',result1)\n",
    "    print('Average accuracy_score',result2)\n",
    "    print('---------------------------------------------------------------------------------------------------------')\n",
    "for i in models:\n",
    "    create_model(i)\n",
    "\n",
    "print('Maximun accuracy Score is shown by',models[acclist.index(max(acclist))],max(acclist))"
   ]
  },
  {
   "cell_type": "markdown",
   "id": "a87662c4",
   "metadata": {},
   "source": [
    "___CROSS VALIDATION"
   ]
  },
  {
   "cell_type": "code",
   "execution_count": 208,
   "id": "98724a7a",
   "metadata": {},
   "outputs": [],
   "source": [
    "x=scaled\n",
    "y=y1\n",
    "scorel=[]"
   ]
  },
  {
   "cell_type": "code",
   "execution_count": 209,
   "id": "c4ccbac6",
   "metadata": {},
   "outputs": [
    {
     "data": {
      "text/plain": [
       "array([0.68072289, 0.72121212, 0.79393939, 0.87878788, 0.83636364])"
      ]
     },
     "execution_count": 209,
     "metadata": {},
     "output_type": "execute_result"
    }
   ],
   "source": [
    "lr=LogisticRegression()\n",
    "scores=cross_val_score(lr,x,y,cv=5)\n",
    "scorel.append(scores)\n",
    "scores"
   ]
  },
  {
   "cell_type": "code",
   "execution_count": 210,
   "id": "ce0c2d92",
   "metadata": {},
   "outputs": [
    {
     "data": {
      "text/plain": [
       "array([0.72289157, 0.78181818, 0.84848485, 0.88484848, 0.91515152])"
      ]
     },
     "execution_count": 210,
     "metadata": {},
     "output_type": "execute_result"
    }
   ],
   "source": [
    "rf=RandomForestClassifier()\n",
    "scores=cross_val_score(rf,x,y,cv=5)\n",
    "scorel.append(scores)\n",
    "scores"
   ]
  },
  {
   "cell_type": "code",
   "execution_count": 211,
   "id": "27caf0bd",
   "metadata": {},
   "outputs": [
    {
     "data": {
      "text/plain": [
       "array([0.72891566, 0.71515152, 0.8       , 0.83636364, 0.84848485])"
      ]
     },
     "execution_count": 211,
     "metadata": {},
     "output_type": "execute_result"
    }
   ],
   "source": [
    "bg=BaggingClassifier()\n",
    "scores=cross_val_score(bg,x,y,cv=5)\n",
    "scorel.append(scores)\n",
    "scores"
   ]
  },
  {
   "cell_type": "code",
   "execution_count": 212,
   "id": "ed6b7593",
   "metadata": {},
   "outputs": [
    {
     "data": {
      "text/plain": [
       "array([0.71084337, 0.73333333, 0.75757576, 0.78787879, 0.78181818])"
      ]
     },
     "execution_count": 212,
     "metadata": {},
     "output_type": "execute_result"
    }
   ],
   "source": [
    "kn=KNeighborsClassifier()\n",
    "scores=cross_val_score(kn,x,y,cv=5)\n",
    "scorel.append(scores)\n",
    "scores"
   ]
  },
  {
   "cell_type": "code",
   "execution_count": 213,
   "id": "5740c94e",
   "metadata": {},
   "outputs": [
    {
     "data": {
      "text/plain": [
       "array([0.68674699, 0.7030303 , 0.84242424, 0.83030303, 0.86060606])"
      ]
     },
     "execution_count": 213,
     "metadata": {},
     "output_type": "execute_result"
    }
   ],
   "source": [
    "gb=GradientBoostingClassifier()\n",
    "scores=cross_val_score(gb,x,y,cv=5)\n",
    "scorel.append(scores)\n",
    "scores"
   ]
  },
  {
   "cell_type": "code",
   "execution_count": 214,
   "id": "e6cd7d08",
   "metadata": {},
   "outputs": [
    {
     "data": {
      "text/plain": [
       "array([0.68674699, 0.73939394, 0.79393939, 0.81212121, 0.80606061])"
      ]
     },
     "execution_count": 214,
     "metadata": {},
     "output_type": "execute_result"
    }
   ],
   "source": [
    "dt=DecisionTreeClassifier()\n",
    "scores=cross_val_score(dt,x,y,cv=5)\n",
    "scorel.append(scores)\n",
    "scores"
   ]
  },
  {
   "cell_type": "markdown",
   "id": "1c9ab8ca",
   "metadata": {},
   "source": [
    "DIFFERENCE"
   ]
  },
  {
   "cell_type": "code",
   "execution_count": 215,
   "id": "780565b2",
   "metadata": {},
   "outputs": [
    {
     "name": "stdout",
     "output_type": "stream",
     "text": [
      "LogisticRegression() difference is [-0.14053315 -0.10004392 -0.02731664  0.05753184  0.0151076 ]\n",
      "RandomForestClassifier() difference is [-0.12251906 -0.06359245  0.00307422  0.03943786  0.06974089]\n",
      "BaggingClassifier() difference is [-0.08750946 -0.10127361 -0.01642512  0.01993852  0.03205973]\n",
      "KNeighborsClassifier() difference is [-0.07659624 -0.05410628 -0.02986386  0.00043917 -0.00562143]\n",
      "GradientBoostingClassifier() difference is [-0.15866364 -0.14238032 -0.00298639 -0.0151076   0.01519543]\n",
      "DecisionTreeClassifier() difference is [-0.10069263 -0.04804567  0.00649978  0.0246816   0.01862099]\n"
     ]
    }
   ],
   "source": [
    "models=[LogisticRegression(),RandomForestClassifier(),BaggingClassifier(),KNeighborsClassifier(),GradientBoostingClassifier(),DecisionTreeClassifier()]\n",
    "for i in range(0,6):\n",
    "    print(models[i],\"difference is\",scorel[i]-acclist[i])"
   ]
  },
  {
   "cell_type": "markdown",
   "id": "e1975279",
   "metadata": {},
   "source": [
    "KNeighborsClassifier() has least difference"
   ]
  },
  {
   "cell_type": "markdown",
   "id": "f87a69b4",
   "metadata": {},
   "source": [
    "___Finding best parameter using hyper tuning"
   ]
  },
  {
   "cell_type": "code",
   "execution_count": 217,
   "id": "2184e778",
   "metadata": {},
   "outputs": [
    {
     "name": "stdout",
     "output_type": "stream",
     "text": [
      "Best param: {'leaf_size': 1, 'metric': 'minkowski', 'n_neighbors': 5, 'p': 1, 'weights': 'uniform'}\n"
     ]
    }
   ],
   "source": [
    "from sklearn.model_selection import GridSearchCV,KFold\n",
    "param_grid = {'n_neighbors' : [5,7,9,11,13,15],\n",
    "               'weights' : ['uniform','distance'],\n",
    "               'metric' : ['minkowski','euclidean','manhattan'],\n",
    "                'p':[1,2],'leaf_size':list(range(1,20))}\n",
    "\n",
    "clf = GridSearchCV(KNeighborsClassifier(),param_grid, scoring =accuracy_score)\n",
    "clf.fit(xtrain, ytrain)\n",
    "print('Best param:', clf.best_params_)"
   ]
  },
  {
   "cell_type": "markdown",
   "id": "588225b9",
   "metadata": {},
   "source": [
    "___Modelling using best parameters"
   ]
  },
  {
   "cell_type": "code",
   "execution_count": 218,
   "id": "19db3edc",
   "metadata": {},
   "outputs": [],
   "source": [
    "x=scaled\n",
    "y=y1"
   ]
  },
  {
   "cell_type": "code",
   "execution_count": 219,
   "id": "1217f466",
   "metadata": {},
   "outputs": [],
   "source": [
    "x_train, x_test, y_train, y_test = train_test_split(x, y,test_size=.25,random_state=1)"
   ]
  },
  {
   "cell_type": "code",
   "execution_count": 220,
   "id": "1d7d3ea8",
   "metadata": {},
   "outputs": [
    {
     "data": {
      "text/plain": [
       "0.8019323671497585"
      ]
     },
     "execution_count": 220,
     "metadata": {},
     "output_type": "execute_result"
    }
   ],
   "source": [
    "model =KNeighborsClassifier(metric='minkowski', n_neighbors=5,weights='uniform',p=1,leaf_size=1)\n",
    "model.fit(x_train,y_train)\n",
    "model.score(x_test,y_test)"
   ]
  },
  {
   "cell_type": "code",
   "execution_count": 221,
   "id": "a68f8ed4",
   "metadata": {},
   "outputs": [],
   "source": [
    "y_pred_1 = model.predict(x_test)"
   ]
  },
  {
   "cell_type": "code",
   "execution_count": 223,
   "id": "d977e291",
   "metadata": {},
   "outputs": [
    {
     "name": "stdout",
     "output_type": "stream",
     "text": [
      "Confusion Matrix:\n",
      "[[81 32]\n",
      " [ 9 85]]\n",
      "Classification Report:\n",
      "              precision    recall  f1-score   support\n",
      "\n",
      "           0       0.90      0.72      0.80       113\n",
      "           1       0.73      0.90      0.81        94\n",
      "\n",
      "    accuracy                           0.80       207\n",
      "   macro avg       0.81      0.81      0.80       207\n",
      "weighted avg       0.82      0.80      0.80       207\n",
      "\n",
      "Accuracy: 0.8019323671497585\n"
     ]
    }
   ],
   "source": [
    "result = confusion_matrix(y_test, y_pred_1)\n",
    "print(\"Confusion Matrix:\")\n",
    "print(result)\n",
    "result1 = classification_report(y_test, y_pred_1)\n",
    "print(\"Classification Report:\",)\n",
    "print (result1)\n",
    "result2 = accuracy_score(y_test,y_pred_1)\n",
    "print(\"Accuracy:\",result2)"
   ]
  },
  {
   "cell_type": "markdown",
   "id": "f1ec7df4",
   "metadata": {},
   "source": [
    "ROC AUC curve"
   ]
  },
  {
   "cell_type": "code",
   "execution_count": 226,
   "id": "653aee46",
   "metadata": {},
   "outputs": [
    {
     "name": "stdout",
     "output_type": "stream",
     "text": [
      "No Skill: ROC AUC=0.500\n",
      "model: ROC AUC=0.798\n"
     ]
    },
    {
     "data": {
      "image/png": "[encoded data removed]",
      "text/plain": [
       "<Figure size 432x288 with 1 Axes>"
      ]
     },
     "metadata": {
      "needs_background": "light"
     },
     "output_type": "display_data"
    }
   ],
   "source": [
    "xtrain,xtest,ytrain,ytest=train_test_split(x,y,test_size=0.26,random_state=1)\n",
    "m=KNeighborsClassifier(metric='minkowski', n_neighbors=5,weights='distance',p=1,leaf_size=1)\n",
    "m.fit(xtrain,ytrain)\n",
    "p=m.predict(xtest)\n",
    "ns_probs = [0 for _ in range(len(ytest))]\n",
    "m_probs = p\n",
    "ns_auc = roc_auc_score(ytest, ns_probs)\n",
    "m_auc = roc_auc_score(ytest, m_probs)\n",
    "print('No Skill: ROC AUC=%.3f' % (ns_auc))\n",
    "print('model: ROC AUC=%.3f' % (m_auc))\n",
    "ns_fpr, ns_tpr,_= roc_curve(ytest, ns_probs)\n",
    "m_fpr, m_tpr,_=roc_curve(ytest, m_probs)\n",
    "pyplot.plot(ns_fpr, ns_tpr, linestyle='--', label='No Skill')\n",
    "pyplot.plot(m_fpr, m_tpr, marker='.', label='Randomforest')\n",
    "pyplot.xlabel('False Positive Rate')\n",
    "pyplot.ylabel('True Positive Rate')\n",
    "pyplot.legend()\n",
    "pyplot.show()"
   ]
  },
  {
   "cell_type": "code",
   "execution_count": 227,
   "id": "7c674e1f",
   "metadata": {},
   "outputs": [
    {
     "data": {
      "text/plain": [
       "['loan.joblib']"
      ]
     },
     "execution_count": 227,
     "metadata": {},
     "output_type": "execute_result"
    }
   ],
   "source": [
    "from joblib import dump\n",
    "dump(model, 'loan.joblib')"
   ]
  },
  {
   "cell_type": "code",
   "execution_count": 228,
   "id": "897bb3a6",
   "metadata": {},
   "outputs": [],
   "source": [
    "from joblib import load\n",
    "loaded = load('loan.joblib')"
   ]
  },
  {
   "cell_type": "markdown",
   "id": "9cb39077",
   "metadata": {},
   "source": [
    "before hyper tuning the accuracy is 78.2\n",
    "after hyper tuing the accuracy is 80.1"
   ]
  },
  {
   "cell_type": "code",
   "execution_count": null,
   "id": "a02d0318",
   "metadata": {},
   "outputs": [],
   "source": []
  }
 ],
 "metadata": {
  "kernelspec": {
   "display_name": "Python 3",
   "language": "python",
   "name": "python3"
  },
  "language_info": {
   "codemirror_mode": {
    "name": "ipython",
    "version": 3
   },
   "file_extension": ".py",
   "mimetype": "text/x-python",
   "name": "python",
   "nbconvert_exporter": "python",
   "pygments_lexer": "ipython3",
   "version": "3.8.8"
  }
 },
 "nbformat": 4,
 "nbformat_minor": 5
}
