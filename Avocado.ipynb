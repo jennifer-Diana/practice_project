{
 "cells": [
  {
   "cell_type": "code",
   "execution_count": 53,
   "id": "2cbf296d",
   "metadata": {},
   "outputs": [],
   "source": [
    "import pandas as pd\n",
    "import numpy as np\n",
    "import seaborn as sns\n",
    "from scipy import stats\n",
    "import warnings \n",
    "warnings.filterwarnings('ignore')\n",
    "from matplotlib import pyplot as plt\n",
    "from scipy.stats import zscore\n",
    "from scipy.stats import boxcox"
   ]
  },
  {
   "cell_type": "code",
   "execution_count": 54,
   "id": "a7ec2368",
   "metadata": {},
   "outputs": [
    {
     "data": {
      "text/html": [
       "<div>\n",
       "<style scoped>\n",
       "    .dataframe tbody tr th:only-of-type {\n",
       "        vertical-align: middle;\n",
       "    }\n",
       "\n",
       "    .dataframe tbody tr th {\n",
       "        vertical-align: top;\n",
       "    }\n",
       "\n",
       "    .dataframe thead th {\n",
       "        text-align: right;\n",
       "    }\n",
       "</style>\n",
       "<table border=\"1\" class=\"dataframe\">\n",
       "  <thead>\n",
       "    <tr style=\"text-align: right;\">\n",
       "      <th></th>\n",
       "      <th>Unnamed: 0</th>\n",
       "      <th>Date</th>\n",
       "      <th>AveragePrice</th>\n",
       "      <th>Total Volume</th>\n",
       "      <th>4046</th>\n",
       "      <th>4225</th>\n",
       "      <th>4770</th>\n",
       "      <th>Total Bags</th>\n",
       "      <th>Small Bags</th>\n",
       "      <th>Large Bags</th>\n",
       "      <th>XLarge Bags</th>\n",
       "      <th>type</th>\n",
       "      <th>year</th>\n",
       "      <th>region</th>\n",
       "    </tr>\n",
       "  </thead>\n",
       "  <tbody>\n",
       "    <tr>\n",
       "      <th>0</th>\n",
       "      <td>0</td>\n",
       "      <td>2015-12-27</td>\n",
       "      <td>1.33</td>\n",
       "      <td>64236.62</td>\n",
       "      <td>1036.74</td>\n",
       "      <td>54454.85</td>\n",
       "      <td>48.16</td>\n",
       "      <td>8696.87</td>\n",
       "      <td>8603.62</td>\n",
       "      <td>93.25</td>\n",
       "      <td>0.0</td>\n",
       "      <td>conventional</td>\n",
       "      <td>2015</td>\n",
       "      <td>Albany</td>\n",
       "    </tr>\n",
       "    <tr>\n",
       "      <th>1</th>\n",
       "      <td>1</td>\n",
       "      <td>2015-12-20</td>\n",
       "      <td>1.35</td>\n",
       "      <td>54876.98</td>\n",
       "      <td>674.28</td>\n",
       "      <td>44638.81</td>\n",
       "      <td>58.33</td>\n",
       "      <td>9505.56</td>\n",
       "      <td>9408.07</td>\n",
       "      <td>97.49</td>\n",
       "      <td>0.0</td>\n",
       "      <td>conventional</td>\n",
       "      <td>2015</td>\n",
       "      <td>Albany</td>\n",
       "    </tr>\n",
       "    <tr>\n",
       "      <th>2</th>\n",
       "      <td>2</td>\n",
       "      <td>2015-12-13</td>\n",
       "      <td>0.93</td>\n",
       "      <td>118220.22</td>\n",
       "      <td>794.70</td>\n",
       "      <td>109149.67</td>\n",
       "      <td>130.50</td>\n",
       "      <td>8145.35</td>\n",
       "      <td>8042.21</td>\n",
       "      <td>103.14</td>\n",
       "      <td>0.0</td>\n",
       "      <td>conventional</td>\n",
       "      <td>2015</td>\n",
       "      <td>Albany</td>\n",
       "    </tr>\n",
       "    <tr>\n",
       "      <th>3</th>\n",
       "      <td>3</td>\n",
       "      <td>2015-12-06</td>\n",
       "      <td>1.08</td>\n",
       "      <td>78992.15</td>\n",
       "      <td>1132.00</td>\n",
       "      <td>71976.41</td>\n",
       "      <td>72.58</td>\n",
       "      <td>5811.16</td>\n",
       "      <td>5677.40</td>\n",
       "      <td>133.76</td>\n",
       "      <td>0.0</td>\n",
       "      <td>conventional</td>\n",
       "      <td>2015</td>\n",
       "      <td>Albany</td>\n",
       "    </tr>\n",
       "    <tr>\n",
       "      <th>4</th>\n",
       "      <td>4</td>\n",
       "      <td>2015-11-29</td>\n",
       "      <td>1.28</td>\n",
       "      <td>51039.60</td>\n",
       "      <td>941.48</td>\n",
       "      <td>43838.39</td>\n",
       "      <td>75.78</td>\n",
       "      <td>6183.95</td>\n",
       "      <td>5986.26</td>\n",
       "      <td>197.69</td>\n",
       "      <td>0.0</td>\n",
       "      <td>conventional</td>\n",
       "      <td>2015</td>\n",
       "      <td>Albany</td>\n",
       "    </tr>\n",
       "  </tbody>\n",
       "</table>\n",
       "</div>"
      ],
      "text/plain": [
       "   Unnamed: 0        Date  AveragePrice  Total Volume     4046       4225  \\\n",
       "0           0  2015-12-27          1.33      64236.62  1036.74   54454.85   \n",
       "1           1  2015-12-20          1.35      54876.98   674.28   44638.81   \n",
       "2           2  2015-12-13          0.93     118220.22   794.70  109149.67   \n",
       "3           3  2015-12-06          1.08      78992.15  1132.00   71976.41   \n",
       "4           4  2015-11-29          1.28      51039.60   941.48   43838.39   \n",
       "\n",
       "     4770  Total Bags  Small Bags  Large Bags  XLarge Bags          type  \\\n",
       "0   48.16     8696.87     8603.62       93.25          0.0  conventional   \n",
       "1   58.33     9505.56     9408.07       97.49          0.0  conventional   \n",
       "2  130.50     8145.35     8042.21      103.14          0.0  conventional   \n",
       "3   72.58     5811.16     5677.40      133.76          0.0  conventional   \n",
       "4   75.78     6183.95     5986.26      197.69          0.0  conventional   \n",
       "\n",
       "   year  region  \n",
       "0  2015  Albany  \n",
       "1  2015  Albany  \n",
       "2  2015  Albany  \n",
       "3  2015  Albany  \n",
       "4  2015  Albany  "
      ]
     },
     "execution_count": 54,
     "metadata": {},
     "output_type": "execute_result"
    }
   ],
   "source": [
    "df=pd.read_csv(\"E:\\\\avocado.csv\")\n",
    "df.head(5)"
   ]
  },
  {
   "cell_type": "markdown",
   "id": "560f5ade",
   "metadata": {},
   "source": [
    "data set is loaded\n",
    "\n",
    "___Given Information\n",
    "\n",
    "Date - The date of the observation\n",
    "\n",
    "AveragePrice - the average price of a single avocado\n",
    "\n",
    "type - conventional or organic\n",
    "\n",
    "year - the year\n",
    "\n",
    "Region - the city or region of the observation\n",
    "\n",
    "Total Volume - Total number of avocados sold\n",
    "\n",
    "4046 - Total number of avocados with PLU( Product Lookup codes ) 4046 sold\n",
    "\n",
    "4225 - Total number of avocados with PLU( Product Lookup codes ) 4225 sold\n",
    "\n",
    "4770 - Total number of avocados with PLU( Product Lookup codes ) 4770 sold"
   ]
  },
  {
   "cell_type": "code",
   "execution_count": 28,
   "id": "996e9a4d",
   "metadata": {},
   "outputs": [
    {
     "data": {
      "text/plain": [
       "Unnamed: 0        int64\n",
       "Date             object\n",
       "AveragePrice    float64\n",
       "Total Volume    float64\n",
       "4046            float64\n",
       "4225            float64\n",
       "4770            float64\n",
       "Total Bags      float64\n",
       "Small Bags      float64\n",
       "Large Bags      float64\n",
       "XLarge Bags     float64\n",
       "type             object\n",
       "year              int64\n",
       "region           object\n",
       "dtype: object"
      ]
     },
     "execution_count": 28,
     "metadata": {},
     "output_type": "execute_result"
    }
   ],
   "source": [
    "df.dtypes"
   ]
  },
  {
   "cell_type": "markdown",
   "id": "04ce8a8f",
   "metadata": {},
   "source": [
    "date,region,type are object datatype. year is integer datatype but it is categorical data.Remaining all are float data type"
   ]
  },
  {
   "cell_type": "code",
   "execution_count": 29,
   "id": "1948209d",
   "metadata": {},
   "outputs": [
    {
     "data": {
      "text/plain": [
       "(18249, 14)"
      ]
     },
     "execution_count": 29,
     "metadata": {},
     "output_type": "execute_result"
    }
   ],
   "source": [
    "df.shape"
   ]
  },
  {
   "cell_type": "markdown",
   "id": "46c1b6e5",
   "metadata": {},
   "source": [
    "this data set has 18249 rows and 14 columns"
   ]
  },
  {
   "cell_type": "code",
   "execution_count": 30,
   "id": "4e977140",
   "metadata": {},
   "outputs": [
    {
     "data": {
      "text/plain": [
       "Unnamed: 0      0\n",
       "Date            0\n",
       "AveragePrice    0\n",
       "Total Volume    0\n",
       "4046            0\n",
       "4225            0\n",
       "4770            0\n",
       "Total Bags      0\n",
       "Small Bags      0\n",
       "Large Bags      0\n",
       "XLarge Bags     0\n",
       "type            0\n",
       "year            0\n",
       "region          0\n",
       "dtype: int64"
      ]
     },
     "execution_count": 30,
     "metadata": {},
     "output_type": "execute_result"
    }
   ],
   "source": [
    "df.isnull().sum()"
   ]
  },
  {
   "cell_type": "code",
   "execution_count": 31,
   "id": "46bb0092",
   "metadata": {},
   "outputs": [
    {
     "name": "stdout",
     "output_type": "stream",
     "text": [
      "Empty DataFrame\n",
      "Columns: [Unnamed: 0, Date, AveragePrice, Total Volume, 4046, 4225, 4770, Total Bags, Small Bags, Large Bags, XLarge Bags, type, year, region]\n",
      "Index: []\n",
      "Empty DataFrame\n",
      "Columns: [Unnamed: 0, Date, AveragePrice, Total Volume, 4046, 4225, 4770, Total Bags, Small Bags, Large Bags, XLarge Bags, type, year, region]\n",
      "Index: []\n",
      "Empty DataFrame\n",
      "Columns: [Unnamed: 0, Date, AveragePrice, Total Volume, 4046, 4225, 4770, Total Bags, Small Bags, Large Bags, XLarge Bags, type, year, region]\n",
      "Index: []\n",
      "Empty DataFrame\n",
      "Columns: [Unnamed: 0, Date, AveragePrice, Total Volume, 4046, 4225, 4770, Total Bags, Small Bags, Large Bags, XLarge Bags, type, year, region]\n",
      "Index: []\n",
      "Empty DataFrame\n",
      "Columns: [Unnamed: 0, Date, AveragePrice, Total Volume, 4046, 4225, 4770, Total Bags, Small Bags, Large Bags, XLarge Bags, type, year, region]\n",
      "Index: []\n",
      "Empty DataFrame\n",
      "Columns: [Unnamed: 0, Date, AveragePrice, Total Volume, 4046, 4225, 4770, Total Bags, Small Bags, Large Bags, XLarge Bags, type, year, region]\n",
      "Index: []\n",
      "Empty DataFrame\n",
      "Columns: [Unnamed: 0, Date, AveragePrice, Total Volume, 4046, 4225, 4770, Total Bags, Small Bags, Large Bags, XLarge Bags, type, year, region]\n",
      "Index: []\n",
      "Empty DataFrame\n",
      "Columns: [Unnamed: 0, Date, AveragePrice, Total Volume, 4046, 4225, 4770, Total Bags, Small Bags, Large Bags, XLarge Bags, type, year, region]\n",
      "Index: []\n",
      "Empty DataFrame\n",
      "Columns: [Unnamed: 0, Date, AveragePrice, Total Volume, 4046, 4225, 4770, Total Bags, Small Bags, Large Bags, XLarge Bags, type, year, region]\n",
      "Index: []\n",
      "Empty DataFrame\n",
      "Columns: [Unnamed: 0, Date, AveragePrice, Total Volume, 4046, 4225, 4770, Total Bags, Small Bags, Large Bags, XLarge Bags, type, year, region]\n",
      "Index: []\n",
      "Empty DataFrame\n",
      "Columns: [Unnamed: 0, Date, AveragePrice, Total Volume, 4046, 4225, 4770, Total Bags, Small Bags, Large Bags, XLarge Bags, type, year, region]\n",
      "Index: []\n",
      "Empty DataFrame\n",
      "Columns: [Unnamed: 0, Date, AveragePrice, Total Volume, 4046, 4225, 4770, Total Bags, Small Bags, Large Bags, XLarge Bags, type, year, region]\n",
      "Index: []\n",
      "Empty DataFrame\n",
      "Columns: [Unnamed: 0, Date, AveragePrice, Total Volume, 4046, 4225, 4770, Total Bags, Small Bags, Large Bags, XLarge Bags, type, year, region]\n",
      "Index: []\n"
     ]
    }
   ],
   "source": [
    "col=['Date','AveragePrice','Total Volume','4046','4225','4770','Total Bags','Small Bags','Large Bags','XLarge Bags','type','year','region']\n",
    "for i in col:\n",
    "    print(df.loc[df[i]==\"\"])"
   ]
  },
  {
   "cell_type": "markdown",
   "id": "8b7e90ae",
   "metadata": {},
   "source": [
    "This dataset has no empty space"
   ]
  },
  {
   "cell_type": "markdown",
   "id": "17d57657",
   "metadata": {},
   "source": [
    "Removing unwanted coloumn"
   ]
  },
  {
   "cell_type": "code",
   "execution_count": 56,
   "id": "599a925c",
   "metadata": {},
   "outputs": [],
   "source": [
    "df_new=df.drop('Unnamed: 0',axis=1)"
   ]
  },
  {
   "cell_type": "markdown",
   "id": "09d5515c",
   "metadata": {},
   "source": [
    "unnamed 0 feature having index value which is already available in dataframe so I'm removing it"
   ]
  },
  {
   "cell_type": "code",
   "execution_count": 33,
   "id": "74d887a3",
   "metadata": {},
   "outputs": [
    {
     "data": {
      "text/html": [
       "<div>\n",
       "<style scoped>\n",
       "    .dataframe tbody tr th:only-of-type {\n",
       "        vertical-align: middle;\n",
       "    }\n",
       "\n",
       "    .dataframe tbody tr th {\n",
       "        vertical-align: top;\n",
       "    }\n",
       "\n",
       "    .dataframe thead th {\n",
       "        text-align: right;\n",
       "    }\n",
       "</style>\n",
       "<table border=\"1\" class=\"dataframe\">\n",
       "  <thead>\n",
       "    <tr style=\"text-align: right;\">\n",
       "      <th></th>\n",
       "      <th>Date</th>\n",
       "      <th>AveragePrice</th>\n",
       "      <th>Total Volume</th>\n",
       "      <th>4046</th>\n",
       "      <th>4225</th>\n",
       "      <th>4770</th>\n",
       "      <th>Total Bags</th>\n",
       "      <th>Small Bags</th>\n",
       "      <th>Large Bags</th>\n",
       "      <th>XLarge Bags</th>\n",
       "      <th>type</th>\n",
       "      <th>year</th>\n",
       "      <th>region</th>\n",
       "    </tr>\n",
       "  </thead>\n",
       "  <tbody>\n",
       "    <tr>\n",
       "      <th>0</th>\n",
       "      <td>2015-12-27</td>\n",
       "      <td>1.33</td>\n",
       "      <td>64236.62</td>\n",
       "      <td>1036.74</td>\n",
       "      <td>54454.85</td>\n",
       "      <td>48.16</td>\n",
       "      <td>8696.87</td>\n",
       "      <td>8603.62</td>\n",
       "      <td>93.25</td>\n",
       "      <td>0.0</td>\n",
       "      <td>conventional</td>\n",
       "      <td>2015</td>\n",
       "      <td>Albany</td>\n",
       "    </tr>\n",
       "    <tr>\n",
       "      <th>1</th>\n",
       "      <td>2015-12-20</td>\n",
       "      <td>1.35</td>\n",
       "      <td>54876.98</td>\n",
       "      <td>674.28</td>\n",
       "      <td>44638.81</td>\n",
       "      <td>58.33</td>\n",
       "      <td>9505.56</td>\n",
       "      <td>9408.07</td>\n",
       "      <td>97.49</td>\n",
       "      <td>0.0</td>\n",
       "      <td>conventional</td>\n",
       "      <td>2015</td>\n",
       "      <td>Albany</td>\n",
       "    </tr>\n",
       "    <tr>\n",
       "      <th>2</th>\n",
       "      <td>2015-12-13</td>\n",
       "      <td>0.93</td>\n",
       "      <td>118220.22</td>\n",
       "      <td>794.70</td>\n",
       "      <td>109149.67</td>\n",
       "      <td>130.50</td>\n",
       "      <td>8145.35</td>\n",
       "      <td>8042.21</td>\n",
       "      <td>103.14</td>\n",
       "      <td>0.0</td>\n",
       "      <td>conventional</td>\n",
       "      <td>2015</td>\n",
       "      <td>Albany</td>\n",
       "    </tr>\n",
       "    <tr>\n",
       "      <th>3</th>\n",
       "      <td>2015-12-06</td>\n",
       "      <td>1.08</td>\n",
       "      <td>78992.15</td>\n",
       "      <td>1132.00</td>\n",
       "      <td>71976.41</td>\n",
       "      <td>72.58</td>\n",
       "      <td>5811.16</td>\n",
       "      <td>5677.40</td>\n",
       "      <td>133.76</td>\n",
       "      <td>0.0</td>\n",
       "      <td>conventional</td>\n",
       "      <td>2015</td>\n",
       "      <td>Albany</td>\n",
       "    </tr>\n",
       "    <tr>\n",
       "      <th>4</th>\n",
       "      <td>2015-11-29</td>\n",
       "      <td>1.28</td>\n",
       "      <td>51039.60</td>\n",
       "      <td>941.48</td>\n",
       "      <td>43838.39</td>\n",
       "      <td>75.78</td>\n",
       "      <td>6183.95</td>\n",
       "      <td>5986.26</td>\n",
       "      <td>197.69</td>\n",
       "      <td>0.0</td>\n",
       "      <td>conventional</td>\n",
       "      <td>2015</td>\n",
       "      <td>Albany</td>\n",
       "    </tr>\n",
       "  </tbody>\n",
       "</table>\n",
       "</div>"
      ],
      "text/plain": [
       "         Date  AveragePrice  Total Volume     4046       4225    4770  \\\n",
       "0  2015-12-27          1.33      64236.62  1036.74   54454.85   48.16   \n",
       "1  2015-12-20          1.35      54876.98   674.28   44638.81   58.33   \n",
       "2  2015-12-13          0.93     118220.22   794.70  109149.67  130.50   \n",
       "3  2015-12-06          1.08      78992.15  1132.00   71976.41   72.58   \n",
       "4  2015-11-29          1.28      51039.60   941.48   43838.39   75.78   \n",
       "\n",
       "   Total Bags  Small Bags  Large Bags  XLarge Bags          type  year  region  \n",
       "0     8696.87     8603.62       93.25          0.0  conventional  2015  Albany  \n",
       "1     9505.56     9408.07       97.49          0.0  conventional  2015  Albany  \n",
       "2     8145.35     8042.21      103.14          0.0  conventional  2015  Albany  \n",
       "3     5811.16     5677.40      133.76          0.0  conventional  2015  Albany  \n",
       "4     6183.95     5986.26      197.69          0.0  conventional  2015  Albany  "
      ]
     },
     "execution_count": 33,
     "metadata": {},
     "output_type": "execute_result"
    }
   ],
   "source": [
    "df_new.head(5)"
   ]
  },
  {
   "cell_type": "markdown",
   "id": "6077ba5f",
   "metadata": {},
   "source": [
    "Changing coloumns name for easy access "
   ]
  },
  {
   "cell_type": "code",
   "execution_count": 57,
   "id": "16d4cada",
   "metadata": {},
   "outputs": [],
   "source": [
    "df_new.columns = ['Date','AveragePrice','Total_Volume','A4046','A4225','A4770','Total_Bags','S_Bags','L_Bags','XL_Bags','type','year','region']"
   ]
  },
  {
   "cell_type": "code",
   "execution_count": 58,
   "id": "01367282",
   "metadata": {},
   "outputs": [
    {
     "data": {
      "text/html": [
       "<div>\n",
       "<style scoped>\n",
       "    .dataframe tbody tr th:only-of-type {\n",
       "        vertical-align: middle;\n",
       "    }\n",
       "\n",
       "    .dataframe tbody tr th {\n",
       "        vertical-align: top;\n",
       "    }\n",
       "\n",
       "    .dataframe thead th {\n",
       "        text-align: right;\n",
       "    }\n",
       "</style>\n",
       "<table border=\"1\" class=\"dataframe\">\n",
       "  <thead>\n",
       "    <tr style=\"text-align: right;\">\n",
       "      <th></th>\n",
       "      <th>Date</th>\n",
       "      <th>AveragePrice</th>\n",
       "      <th>Total_Volume</th>\n",
       "      <th>A4046</th>\n",
       "      <th>A4225</th>\n",
       "      <th>A4770</th>\n",
       "      <th>Total_Bags</th>\n",
       "      <th>S_Bags</th>\n",
       "      <th>L_Bags</th>\n",
       "      <th>XL_Bags</th>\n",
       "      <th>type</th>\n",
       "      <th>year</th>\n",
       "      <th>region</th>\n",
       "    </tr>\n",
       "  </thead>\n",
       "  <tbody>\n",
       "    <tr>\n",
       "      <th>0</th>\n",
       "      <td>2015-12-27</td>\n",
       "      <td>1.33</td>\n",
       "      <td>64236.62</td>\n",
       "      <td>1036.74</td>\n",
       "      <td>54454.85</td>\n",
       "      <td>48.16</td>\n",
       "      <td>8696.87</td>\n",
       "      <td>8603.62</td>\n",
       "      <td>93.25</td>\n",
       "      <td>0.0</td>\n",
       "      <td>conventional</td>\n",
       "      <td>2015</td>\n",
       "      <td>Albany</td>\n",
       "    </tr>\n",
       "    <tr>\n",
       "      <th>1</th>\n",
       "      <td>2015-12-20</td>\n",
       "      <td>1.35</td>\n",
       "      <td>54876.98</td>\n",
       "      <td>674.28</td>\n",
       "      <td>44638.81</td>\n",
       "      <td>58.33</td>\n",
       "      <td>9505.56</td>\n",
       "      <td>9408.07</td>\n",
       "      <td>97.49</td>\n",
       "      <td>0.0</td>\n",
       "      <td>conventional</td>\n",
       "      <td>2015</td>\n",
       "      <td>Albany</td>\n",
       "    </tr>\n",
       "    <tr>\n",
       "      <th>2</th>\n",
       "      <td>2015-12-13</td>\n",
       "      <td>0.93</td>\n",
       "      <td>118220.22</td>\n",
       "      <td>794.70</td>\n",
       "      <td>109149.67</td>\n",
       "      <td>130.50</td>\n",
       "      <td>8145.35</td>\n",
       "      <td>8042.21</td>\n",
       "      <td>103.14</td>\n",
       "      <td>0.0</td>\n",
       "      <td>conventional</td>\n",
       "      <td>2015</td>\n",
       "      <td>Albany</td>\n",
       "    </tr>\n",
       "    <tr>\n",
       "      <th>3</th>\n",
       "      <td>2015-12-06</td>\n",
       "      <td>1.08</td>\n",
       "      <td>78992.15</td>\n",
       "      <td>1132.00</td>\n",
       "      <td>71976.41</td>\n",
       "      <td>72.58</td>\n",
       "      <td>5811.16</td>\n",
       "      <td>5677.40</td>\n",
       "      <td>133.76</td>\n",
       "      <td>0.0</td>\n",
       "      <td>conventional</td>\n",
       "      <td>2015</td>\n",
       "      <td>Albany</td>\n",
       "    </tr>\n",
       "    <tr>\n",
       "      <th>4</th>\n",
       "      <td>2015-11-29</td>\n",
       "      <td>1.28</td>\n",
       "      <td>51039.60</td>\n",
       "      <td>941.48</td>\n",
       "      <td>43838.39</td>\n",
       "      <td>75.78</td>\n",
       "      <td>6183.95</td>\n",
       "      <td>5986.26</td>\n",
       "      <td>197.69</td>\n",
       "      <td>0.0</td>\n",
       "      <td>conventional</td>\n",
       "      <td>2015</td>\n",
       "      <td>Albany</td>\n",
       "    </tr>\n",
       "  </tbody>\n",
       "</table>\n",
       "</div>"
      ],
      "text/plain": [
       "         Date  AveragePrice  Total_Volume    A4046      A4225   A4770  \\\n",
       "0  2015-12-27          1.33      64236.62  1036.74   54454.85   48.16   \n",
       "1  2015-12-20          1.35      54876.98   674.28   44638.81   58.33   \n",
       "2  2015-12-13          0.93     118220.22   794.70  109149.67  130.50   \n",
       "3  2015-12-06          1.08      78992.15  1132.00   71976.41   72.58   \n",
       "4  2015-11-29          1.28      51039.60   941.48   43838.39   75.78   \n",
       "\n",
       "   Total_Bags   S_Bags  L_Bags  XL_Bags          type  year  region  \n",
       "0     8696.87  8603.62   93.25      0.0  conventional  2015  Albany  \n",
       "1     9505.56  9408.07   97.49      0.0  conventional  2015  Albany  \n",
       "2     8145.35  8042.21  103.14      0.0  conventional  2015  Albany  \n",
       "3     5811.16  5677.40  133.76      0.0  conventional  2015  Albany  \n",
       "4     6183.95  5986.26  197.69      0.0  conventional  2015  Albany  "
      ]
     },
     "execution_count": 58,
     "metadata": {},
     "output_type": "execute_result"
    }
   ],
   "source": [
    "df_new.head(5)"
   ]
  },
  {
   "cell_type": "code",
   "execution_count": 11,
   "id": "e80be404",
   "metadata": {},
   "outputs": [
    {
     "data": {
      "text/plain": [
       "<AxesSubplot:xlabel='AveragePrice', ylabel='Density'>"
      ]
     },
     "execution_count": 11,
     "metadata": {},
     "output_type": "execute_result"
    },
    {
     "data": {
      "image/png": "[encoded data removed]",
      "text/plain": [
       "<Figure size 1080x1080 with 2 Axes>"
      ]
     },
     "metadata": {
      "needs_background": "light"
     },
     "output_type": "display_data"
    }
   ],
   "source": [
    "plt.figure(figsize=(15,15))\n",
    "rows = 3\n",
    "cols = 5\n",
    "i=0\n",
    "i += 1\n",
    "plt.subplot(rows,cols,i)\n",
    "sns.boxplot(df['AveragePrice'],color='green')\n",
    "\n",
    "i += 1\n",
    "plt.subplot(rows,cols,i)\n",
    "sns.distplot(df_new['AveragePrice'],color='blue')"
   ]
  },
  {
   "cell_type": "markdown",
   "id": "017810b1",
   "metadata": {},
   "source": [
    "average price feature has outliers.The data distribution of this feature is normal"
   ]
  },
  {
   "cell_type": "code",
   "execution_count": 12,
   "id": "dd516e20",
   "metadata": {},
   "outputs": [
    {
     "data": {
      "text/plain": [
       "<AxesSubplot:xlabel='Total_Volume', ylabel='Density'>"
      ]
     },
     "execution_count": 12,
     "metadata": {},
     "output_type": "execute_result"
    },
    {
     "data": {
      "image/png": "[encoded data removed]",
      "text/plain": [
       "<Figure size 1440x1440 with 2 Axes>"
      ]
     },
     "metadata": {
      "needs_background": "light"
     },
     "output_type": "display_data"
    }
   ],
   "source": [
    "plt.figure(figsize=(20,20))\n",
    "rows = 3\n",
    "cols = 1\n",
    "i=0\n",
    "i += 1\n",
    "plt.subplot(rows,cols,i)\n",
    "sns.boxplot(df_new['Total_Volume'],color='green')\n",
    "\n",
    "i += 1\n",
    "plt.subplot(rows,cols,i)\n",
    "sns.distplot(df_new['Total_Volume'],color='blue')"
   ]
  },
  {
   "cell_type": "markdown",
   "id": "2b0e30ab",
   "metadata": {},
   "source": [
    "The total volume feature has outliers.The data distribution of this feature is positively skewed"
   ]
  },
  {
   "cell_type": "code",
   "execution_count": 1045,
   "id": "25f3c462",
   "metadata": {},
   "outputs": [
    {
     "data": {
      "text/plain": [
       "<AxesSubplot:xlabel='A4046', ylabel='Density'>"
      ]
     },
     "execution_count": 1045,
     "metadata": {},
     "output_type": "execute_result"
    },
    {
     "data": {
      "image/png": "[encoded data removed]",
      "text/plain": [
       "<Figure size 1440x1440 with 2 Axes>"
      ]
     },
     "metadata": {
      "needs_background": "light"
     },
     "output_type": "display_data"
    }
   ],
   "source": [
    "plt.figure(figsize=(20,20))\n",
    "rows = 3\n",
    "cols = 1\n",
    "i=0\n",
    "i += 1\n",
    "plt.subplot(rows,cols,i)\n",
    "sns.boxplot(df_new['A4046'],color='green')\n",
    "\n",
    "i += 1\n",
    "plt.subplot(rows,cols,i)\n",
    "sns.distplot(df_new['A4046'],color='blue')"
   ]
  },
  {
   "cell_type": "markdown",
   "id": "5447de69",
   "metadata": {},
   "source": [
    "The 4046 feature has outliers.The data distribution of this feature is positively skewed"
   ]
  },
  {
   "cell_type": "code",
   "execution_count": 1046,
   "id": "39684b09",
   "metadata": {},
   "outputs": [
    {
     "data": {
      "text/plain": [
       "<AxesSubplot:xlabel='A4225', ylabel='Density'>"
      ]
     },
     "execution_count": 1046,
     "metadata": {},
     "output_type": "execute_result"
    },
    {
     "data": {
      "image/png": "[encoded data removed]",
      "text/plain": [
       "<Figure size 1440x1440 with 2 Axes>"
      ]
     },
     "metadata": {
      "needs_background": "light"
     },
     "output_type": "display_data"
    }
   ],
   "source": [
    "plt.figure(figsize=(20,20))\n",
    "rows = 3\n",
    "cols = 1\n",
    "i=0\n",
    "i += 1\n",
    "plt.subplot(rows,cols,i)\n",
    "sns.boxplot(df_new['A4225'],color='green')\n",
    "\n",
    "i += 1\n",
    "plt.subplot(rows,cols,i)\n",
    "sns.distplot(df_new['A4225'],color='blue')"
   ]
  },
  {
   "cell_type": "markdown",
   "id": "97814cf8",
   "metadata": {},
   "source": [
    "The 4225 feature has outliers.The data distribution of this feature is positively skewed"
   ]
  },
  {
   "cell_type": "code",
   "execution_count": 1047,
   "id": "1607a7d3",
   "metadata": {},
   "outputs": [
    {
     "data": {
      "text/plain": [
       "<AxesSubplot:xlabel='A4770', ylabel='Density'>"
      ]
     },
     "execution_count": 1047,
     "metadata": {},
     "output_type": "execute_result"
    },
    {
     "data": {
      "image/png": "[encoded data removed]",
      "text/plain": [
       "<Figure size 1440x1440 with 2 Axes>"
      ]
     },
     "metadata": {
      "needs_background": "light"
     },
     "output_type": "display_data"
    }
   ],
   "source": [
    "plt.figure(figsize=(20,20))\n",
    "rows = 3\n",
    "cols = 1\n",
    "i=0\n",
    "i += 1\n",
    "plt.subplot(rows,cols,i)\n",
    "sns.boxplot(df_new['A4770'],color='green')\n",
    "\n",
    "i += 1\n",
    "plt.subplot(rows,cols,i)\n",
    "sns.distplot(df_new['A4770'],color='blue')"
   ]
  },
  {
   "cell_type": "markdown",
   "id": "e36d4c51",
   "metadata": {},
   "source": [
    "The 4046 feature has outliers.The data distribution of this feature is positively skewed"
   ]
  },
  {
   "cell_type": "code",
   "execution_count": 1048,
   "id": "2b824e52",
   "metadata": {},
   "outputs": [
    {
     "data": {
      "text/plain": [
       "<AxesSubplot:xlabel='S_Bags', ylabel='Density'>"
      ]
     },
     "execution_count": 1048,
     "metadata": {},
     "output_type": "execute_result"
    },
    {
     "data": {
      "image/png": "[encoded data removed]",
      "text/plain": [
       "<Figure size 1080x1080 with 2 Axes>"
      ]
     },
     "metadata": {
      "needs_background": "light"
     },
     "output_type": "display_data"
    }
   ],
   "source": [
    "plt.figure(figsize=(15,15))\n",
    "rows = 3\n",
    "cols = 1\n",
    "i=0\n",
    "i += 1\n",
    "plt.subplot(rows,cols,i)\n",
    "sns.boxplot(df_new['S_Bags'],color='green')\n",
    "\n",
    "i += 1\n",
    "plt.subplot(rows,cols,i)\n",
    "sns.distplot(df_new['S_Bags'],color='blue')"
   ]
  },
  {
   "cell_type": "markdown",
   "id": "77ac29ec",
   "metadata": {},
   "source": [
    "The s_bags feature has outliers.The data distribution of this feature is positively skewed"
   ]
  },
  {
   "cell_type": "code",
   "execution_count": 1049,
   "id": "0449a800",
   "metadata": {},
   "outputs": [
    {
     "data": {
      "text/plain": [
       "<AxesSubplot:xlabel='L_Bags', ylabel='Density'>"
      ]
     },
     "execution_count": 1049,
     "metadata": {},
     "output_type": "execute_result"
    },
    {
     "data": {
      "image/png": "[encoded data removed]",
      "text/plain": [
       "<Figure size 1080x1080 with 2 Axes>"
      ]
     },
     "metadata": {
      "needs_background": "light"
     },
     "output_type": "display_data"
    }
   ],
   "source": [
    "plt.figure(figsize=(15,15))\n",
    "rows = 3\n",
    "cols = 1\n",
    "i=0\n",
    "i += 1\n",
    "plt.subplot(rows,cols,i)\n",
    "sns.boxplot(df_new['L_Bags'],color='green')\n",
    "\n",
    "i += 1\n",
    "plt.subplot(rows,cols,i)\n",
    "sns.distplot(df_new['L_Bags'],color='blue')"
   ]
  },
  {
   "cell_type": "markdown",
   "id": "7fab5a5b",
   "metadata": {},
   "source": [
    "The L_bags feature has outliers.The data distribution of this feature is positively skewed"
   ]
  },
  {
   "cell_type": "code",
   "execution_count": 1050,
   "id": "1344750a",
   "metadata": {},
   "outputs": [
    {
     "data": {
      "text/plain": [
       "<AxesSubplot:xlabel='XL_Bags', ylabel='Density'>"
      ]
     },
     "execution_count": 1050,
     "metadata": {},
     "output_type": "execute_result"
    },
    {
     "data": {
      "image/png": "[encoded data removed]",
      "text/plain": [
       "<Figure size 1080x1080 with 2 Axes>"
      ]
     },
     "metadata": {
      "needs_background": "light"
     },
     "output_type": "display_data"
    }
   ],
   "source": [
    "plt.figure(figsize=(15,15))\n",
    "rows = 3\n",
    "cols = 1\n",
    "i=0\n",
    "i += 1\n",
    "plt.subplot(rows,cols,i)\n",
    "sns.boxplot(df_new['XL_Bags'],color='green')\n",
    "\n",
    "i += 1\n",
    "plt.subplot(rows,cols,i)\n",
    "sns.distplot(df_new['XL_Bags'],color='blue')"
   ]
  },
  {
   "cell_type": "markdown",
   "id": "7affb26d",
   "metadata": {},
   "source": [
    "The XL_bags feature has outliers.The data distribution of this feature is positively skewed"
   ]
  },
  {
   "cell_type": "code",
   "execution_count": 1051,
   "id": "6ee0383b",
   "metadata": {
    "scrolled": true
   },
   "outputs": [
    {
     "data": {
      "text/plain": [
       "<AxesSubplot:ylabel='type'>"
      ]
     },
     "execution_count": 1051,
     "metadata": {},
     "output_type": "execute_result"
    },
    {
     "data": {
      "image/png": "[encoded data removed]",
      "text/plain": [
       "<Figure size 1080x1080 with 2 Axes>"
      ]
     },
     "metadata": {
      "needs_background": "light"
     },
     "output_type": "display_data"
    }
   ],
   "source": [
    "plt.figure(figsize=(15,15))\n",
    "rows = 3\n",
    "cols = 5\n",
    "i=0\n",
    "i += 1\n",
    "plt.subplot(rows,cols,i)\n",
    "sns.countplot(df_new.type,palette=\"Set1\")\n",
    "\n",
    "i += 1\n",
    "plt.subplot(rows,cols,i)\n",
    "df_new['type'].value_counts().plot.pie(autopct='%1.1f%%')"
   ]
  },
  {
   "cell_type": "markdown",
   "id": "2ff73b93",
   "metadata": {},
   "source": [
    "the type feature has 50% of conventional data and 50% of organic data"
   ]
  },
  {
   "cell_type": "code",
   "execution_count": 1052,
   "id": "463c2624",
   "metadata": {},
   "outputs": [
    {
     "data": {
      "text/plain": [
       "(array([ 0,  1,  2,  3,  4,  5,  6,  7,  8,  9, 10, 11, 12, 13, 14, 15, 16,\n",
       "        17, 18, 19, 20, 21, 22, 23, 24, 25, 26, 27, 28, 29, 30, 31, 32, 33,\n",
       "        34, 35, 36, 37, 38, 39, 40, 41, 42, 43, 44, 45, 46, 47, 48, 49, 50,\n",
       "        51, 52, 53]),\n",
       " [Text(0, 0, 'Albany'),\n",
       "  Text(1, 0, 'Atlanta'),\n",
       "  Text(2, 0, 'BaltimoreWashington'),\n",
       "  Text(3, 0, 'Boise'),\n",
       "  Text(4, 0, 'Boston'),\n",
       "  Text(5, 0, 'BuffaloRochester'),\n",
       "  Text(6, 0, 'California'),\n",
       "  Text(7, 0, 'Charlotte'),\n",
       "  Text(8, 0, 'Chicago'),\n",
       "  Text(9, 0, 'CincinnatiDayton'),\n",
       "  Text(10, 0, 'Columbus'),\n",
       "  Text(11, 0, 'DallasFtWorth'),\n",
       "  Text(12, 0, 'Denver'),\n",
       "  Text(13, 0, 'Detroit'),\n",
       "  Text(14, 0, 'GrandRapids'),\n",
       "  Text(15, 0, 'GreatLakes'),\n",
       "  Text(16, 0, 'HarrisburgScranton'),\n",
       "  Text(17, 0, 'HartfordSpringfield'),\n",
       "  Text(18, 0, 'Houston'),\n",
       "  Text(19, 0, 'Indianapolis'),\n",
       "  Text(20, 0, 'Jacksonville'),\n",
       "  Text(21, 0, 'LasVegas'),\n",
       "  Text(22, 0, 'LosAngeles'),\n",
       "  Text(23, 0, 'Louisville'),\n",
       "  Text(24, 0, 'MiamiFtLauderdale'),\n",
       "  Text(25, 0, 'Midsouth'),\n",
       "  Text(26, 0, 'Nashville'),\n",
       "  Text(27, 0, 'NewOrleansMobile'),\n",
       "  Text(28, 0, 'NewYork'),\n",
       "  Text(29, 0, 'Northeast'),\n",
       "  Text(30, 0, 'NorthernNewEngland'),\n",
       "  Text(31, 0, 'Orlando'),\n",
       "  Text(32, 0, 'Philadelphia'),\n",
       "  Text(33, 0, 'PhoenixTucson'),\n",
       "  Text(34, 0, 'Pittsburgh'),\n",
       "  Text(35, 0, 'Plains'),\n",
       "  Text(36, 0, 'Portland'),\n",
       "  Text(37, 0, 'RaleighGreensboro'),\n",
       "  Text(38, 0, 'RichmondNorfolk'),\n",
       "  Text(39, 0, 'Roanoke'),\n",
       "  Text(40, 0, 'Sacramento'),\n",
       "  Text(41, 0, 'SanDiego'),\n",
       "  Text(42, 0, 'SanFrancisco'),\n",
       "  Text(43, 0, 'Seattle'),\n",
       "  Text(44, 0, 'SouthCarolina'),\n",
       "  Text(45, 0, 'SouthCentral'),\n",
       "  Text(46, 0, 'Southeast'),\n",
       "  Text(47, 0, 'Spokane'),\n",
       "  Text(48, 0, 'StLouis'),\n",
       "  Text(49, 0, 'Syracuse'),\n",
       "  Text(50, 0, 'Tampa'),\n",
       "  Text(51, 0, 'TotalUS'),\n",
       "  Text(52, 0, 'West'),\n",
       "  Text(53, 0, 'WestTexNewMexico')])"
      ]
     },
     "execution_count": 1052,
     "metadata": {},
     "output_type": "execute_result"
    },
    {
     "data": {
      "image/png": "[encoded data removed]",
      "text/plain": [
       "<Figure size 1080x720 with 1 Axes>"
      ]
     },
     "metadata": {
      "needs_background": "light"
     },
     "output_type": "display_data"
    }
   ],
   "source": [
    "plt.figure(figsize=(15,10))\n",
    "rows=1\n",
    "cols=1\n",
    "i=0\n",
    "i+=1\n",
    "plt.subplot(rows,cols,i)\n",
    "l = list(df_new['region'].unique()) \n",
    "sns.countplot(df_new[\"region\"],palette=\"Set1\")\n",
    "plt.xticks(rotation=90)\n",
    "\n"
   ]
  },
  {
   "cell_type": "markdown",
   "id": "62f2e9b2",
   "metadata": {},
   "source": [
    "Except WestTexNewMexico all region has equal number of sales"
   ]
  },
  {
   "cell_type": "code",
   "execution_count": 1053,
   "id": "5a3b4d4d",
   "metadata": {},
   "outputs": [
    {
     "data": {
      "text/plain": [
       "<AxesSubplot:ylabel='year'>"
      ]
     },
     "execution_count": 1053,
     "metadata": {},
     "output_type": "execute_result"
    },
    {
     "data": {
      "image/png": "[encoded data removed]",
      "text/plain": [
       "<Figure size 720x360 with 2 Axes>"
      ]
     },
     "metadata": {
      "needs_background": "light"
     },
     "output_type": "display_data"
    }
   ],
   "source": [
    "plt.figure(figsize=(10,5))\n",
    "rows=2\n",
    "cols=2\n",
    "i=0\n",
    "i+=1\n",
    "plt.subplot(rows,cols,i)\n",
    "l = list(df_new['year'].unique()) \n",
    "sns.countplot(df_new[\"year\"],palette=\"Set1\")\n",
    "plt.xticks(rotation=90)\n",
    "plt.grid=True\n",
    "\n",
    "i += 1\n",
    "plt.subplot(rows,cols,i)\n",
    "df_new['year'].value_counts().plot.pie(autopct='%1.1f%%')"
   ]
  },
  {
   "cell_type": "markdown",
   "id": "679c86bb",
   "metadata": {},
   "source": [
    "percentage of sales in the year 2015 and 2016 are same .the year 2018 has less sales compare to other years.the year 2017 has high sales"
   ]
  },
  {
   "cell_type": "code",
   "execution_count": 1054,
   "id": "323c883a",
   "metadata": {},
   "outputs": [
    {
     "data": {
      "text/plain": [
       "<AxesSubplot:title={'center':'Average price across different regions'}, xlabel='AveragePrice', ylabel='region'>"
      ]
     },
     "execution_count": 1054,
     "metadata": {},
     "output_type": "execute_result"
    },
    {
     "data": {
      "image/png": "[encoded data removed]",
      "text/plain": [
       "<Figure size 720x1440 with 1 Axes>"
      ]
     },
     "metadata": {
      "needs_background": "light"
     },
     "output_type": "display_data"
    }
   ],
   "source": [
    "region=df_new.groupby(['region']).mean()\n",
    "region_df=pd.DataFrame(data=region)\n",
    "order_reg=region_df.sort_values(by='AveragePrice',ascending=False,axis=0)\n",
    "plt.figure(figsize=(10,20))\n",
    "plt.title('Average price across different regions')\n",
    "sns.barplot(x='AveragePrice',y=order_reg.index,data=order_reg,color=\"purple\")\n"
   ]
  },
  {
   "cell_type": "markdown",
   "id": "3c87da7d",
   "metadata": {},
   "source": [
    "HartfordSpringfield region has highest price and houston has low average price"
   ]
  },
  {
   "cell_type": "markdown",
   "id": "af85f469",
   "metadata": {},
   "source": [
    "MULTIVARIATE ANALYSIS"
   ]
  },
  {
   "cell_type": "code",
   "execution_count": 963,
   "id": "a9510b2a",
   "metadata": {},
   "outputs": [
    {
     "data": {
      "text/plain": [
       "<AxesSubplot:>"
      ]
     },
     "execution_count": 963,
     "metadata": {},
     "output_type": "execute_result"
    },
    {
     "data": {
      "image/png": "[encoded data removed]",
      "text/plain": [
       "<Figure size 720x432 with 2 Axes>"
      ]
     },
     "metadata": {
      "needs_background": "light"
     },
     "output_type": "display_data"
    }
   ],
   "source": [
    "correlation=df_new.corr(method='pearson')\n",
    "plt.figure(figsize=(10,6))\n",
    "sns.heatmap(correlation,annot=True)"
   ]
  },
  {
   "cell_type": "code",
   "execution_count": null,
   "id": "9fe6e942",
   "metadata": {},
   "outputs": [],
   "source": [
    "A4046 fe feature is highly correlated with averageprice.all the features are negatively correlate with average price"
   ]
  },
  {
   "cell_type": "markdown",
   "id": "ac81efb1",
   "metadata": {},
   "source": [
    "Handling outliers"
   ]
  },
  {
   "cell_type": "code",
   "execution_count": 59,
   "id": "2f6275be",
   "metadata": {},
   "outputs": [],
   "source": [
    "df_mod=df_new"
   ]
  },
  {
   "cell_type": "code",
   "execution_count": 60,
   "id": "3ca6aef5",
   "metadata": {},
   "outputs": [
    {
     "name": "stdout",
     "output_type": "stream",
     "text": [
      "(array([ 780,  781,  791,  799, 2340, 2341, 2652, 2653, 2655, 2659, 2663,\n",
      "       2666, 2667, 2671, 3610, 3611, 3612, 3613, 3614, 3615, 3617, 3620,\n",
      "       3621, 3624, 3630, 3634, 3636, 3639, 4131, 4132, 4133, 4339, 4340,\n",
      "       4341, 5173, 5174, 5176, 5177, 5194, 5195, 5196, 5222, 5223, 5224,\n",
      "       5225, 5227, 5228, 5229, 5460, 5461, 5462, 5463, 5468, 5469, 5470,\n",
      "       5471, 5472, 5473, 5474, 5476, 5477, 5478, 5479, 5480, 5481, 5482,\n",
      "       5483, 5484, 5485, 5486, 5487, 5488, 5489, 5490, 5491, 5492, 5493,\n",
      "       5494, 5495, 5496, 5497, 5498, 5499, 5500, 5502, 5503, 5505, 5506,\n",
      "       5507, 5508, 5509, 5511, 5934, 5935, 5936, 5937, 5939, 5940, 5941,\n",
      "       5955, 5957, 5959, 5960, 5961, 5962, 5963, 5965, 5966, 5967, 5968,\n",
      "       5969, 5970, 5971, 5972, 5973, 5974, 5975, 5976, 6430, 6431, 6432,\n",
      "       6434, 6435, 6436, 6437, 6439, 6445, 6448, 6455, 6816, 6817, 6818,\n",
      "       6819, 7178, 8072, 8074, 8075, 8077, 8078, 8079, 8080, 8081, 8082,\n",
      "       8083, 8319, 8320, 8321, 8322, 8323, 8324, 8325, 8326, 8327, 8328,\n",
      "       8331, 8332, 8333, 8334, 8335, 8336, 8337, 8338, 8339, 8340, 8341,\n",
      "       8342, 8343, 8344, 8345, 8346, 8347, 8348, 8349, 8350, 8351, 8352,\n",
      "       8353, 8354, 8355, 8356, 8357, 8358, 8359, 8360, 8361, 8362, 8363,\n",
      "       8364, 8365, 8366, 8367, 8368, 8369, 8370, 8371, 8550, 8551, 8552,\n",
      "       8553, 8554, 8555, 8556, 8557, 8558, 8559, 8560, 8561, 8658, 8659,\n",
      "       8660, 8661, 8662, 8664, 8665, 8667, 8742, 8744, 9018, 9019, 9020,\n",
      "       9021, 9022, 9090, 9091, 9092, 9093, 9094, 9095, 9096, 9097, 9098,\n",
      "       9099, 9100, 9101], dtype=int64),)\n"
     ]
    }
   ],
   "source": [
    "col = ['AveragePrice','Total_Volume','A4046','A4225','A4770','Total_Bags','S_Bags','L_Bags','XL_Bags']\n",
    "for i in col:\n",
    "    z = np.abs(zscore(df_new[i]))\n",
    "print(np.where(z > 3))"
   ]
  },
  {
   "cell_type": "code",
   "execution_count": 61,
   "id": "9fbb85f9",
   "metadata": {},
   "outputs": [],
   "source": [
    "df_mod = df_new[(z<3)]"
   ]
  },
  {
   "cell_type": "code",
   "execution_count": 62,
   "id": "1e5177a4",
   "metadata": {},
   "outputs": [
    {
     "data": {
      "text/plain": [
       "(18015, 13)"
      ]
     },
     "execution_count": 62,
     "metadata": {},
     "output_type": "execute_result"
    }
   ],
   "source": [
    "df_mod.shape"
   ]
  },
  {
   "cell_type": "code",
   "execution_count": 63,
   "id": "da472db3",
   "metadata": {},
   "outputs": [
    {
     "data": {
      "text/plain": [
       "1.28"
      ]
     },
     "execution_count": 63,
     "metadata": {},
     "output_type": "execute_result"
    }
   ],
   "source": [
    "round((((18249-18015)/18249)*100),2)"
   ]
  },
  {
   "cell_type": "markdown",
   "id": "0744b6f2",
   "metadata": {},
   "source": [
    "after removing outliers using zscore the data loss is 1.28%"
   ]
  },
  {
   "cell_type": "code",
   "execution_count": 64,
   "id": "6f3db2ff",
   "metadata": {},
   "outputs": [
    {
     "data": {
      "text/html": [
       "<div>\n",
       "<style scoped>\n",
       "    .dataframe tbody tr th:only-of-type {\n",
       "        vertical-align: middle;\n",
       "    }\n",
       "\n",
       "    .dataframe tbody tr th {\n",
       "        vertical-align: top;\n",
       "    }\n",
       "\n",
       "    .dataframe thead th {\n",
       "        text-align: right;\n",
       "    }\n",
       "</style>\n",
       "<table border=\"1\" class=\"dataframe\">\n",
       "  <thead>\n",
       "    <tr style=\"text-align: right;\">\n",
       "      <th></th>\n",
       "      <th>Date</th>\n",
       "      <th>AveragePrice</th>\n",
       "      <th>Total_Volume</th>\n",
       "      <th>A4046</th>\n",
       "      <th>A4225</th>\n",
       "      <th>A4770</th>\n",
       "      <th>Total_Bags</th>\n",
       "      <th>S_Bags</th>\n",
       "      <th>L_Bags</th>\n",
       "      <th>XL_Bags</th>\n",
       "      <th>type</th>\n",
       "      <th>year</th>\n",
       "      <th>region</th>\n",
       "    </tr>\n",
       "  </thead>\n",
       "  <tbody>\n",
       "    <tr>\n",
       "      <th>0</th>\n",
       "      <td>2015-12-27</td>\n",
       "      <td>1.33</td>\n",
       "      <td>64236.62</td>\n",
       "      <td>1036.74</td>\n",
       "      <td>54454.85</td>\n",
       "      <td>48.16</td>\n",
       "      <td>8696.87</td>\n",
       "      <td>8603.62</td>\n",
       "      <td>93.25</td>\n",
       "      <td>0.0</td>\n",
       "      <td>conventional</td>\n",
       "      <td>2015</td>\n",
       "      <td>Albany</td>\n",
       "    </tr>\n",
       "    <tr>\n",
       "      <th>1</th>\n",
       "      <td>2015-12-20</td>\n",
       "      <td>1.35</td>\n",
       "      <td>54876.98</td>\n",
       "      <td>674.28</td>\n",
       "      <td>44638.81</td>\n",
       "      <td>58.33</td>\n",
       "      <td>9505.56</td>\n",
       "      <td>9408.07</td>\n",
       "      <td>97.49</td>\n",
       "      <td>0.0</td>\n",
       "      <td>conventional</td>\n",
       "      <td>2015</td>\n",
       "      <td>Albany</td>\n",
       "    </tr>\n",
       "    <tr>\n",
       "      <th>2</th>\n",
       "      <td>2015-12-13</td>\n",
       "      <td>0.93</td>\n",
       "      <td>118220.22</td>\n",
       "      <td>794.70</td>\n",
       "      <td>109149.67</td>\n",
       "      <td>130.50</td>\n",
       "      <td>8145.35</td>\n",
       "      <td>8042.21</td>\n",
       "      <td>103.14</td>\n",
       "      <td>0.0</td>\n",
       "      <td>conventional</td>\n",
       "      <td>2015</td>\n",
       "      <td>Albany</td>\n",
       "    </tr>\n",
       "    <tr>\n",
       "      <th>3</th>\n",
       "      <td>2015-12-06</td>\n",
       "      <td>1.08</td>\n",
       "      <td>78992.15</td>\n",
       "      <td>1132.00</td>\n",
       "      <td>71976.41</td>\n",
       "      <td>72.58</td>\n",
       "      <td>5811.16</td>\n",
       "      <td>5677.40</td>\n",
       "      <td>133.76</td>\n",
       "      <td>0.0</td>\n",
       "      <td>conventional</td>\n",
       "      <td>2015</td>\n",
       "      <td>Albany</td>\n",
       "    </tr>\n",
       "    <tr>\n",
       "      <th>4</th>\n",
       "      <td>2015-11-29</td>\n",
       "      <td>1.28</td>\n",
       "      <td>51039.60</td>\n",
       "      <td>941.48</td>\n",
       "      <td>43838.39</td>\n",
       "      <td>75.78</td>\n",
       "      <td>6183.95</td>\n",
       "      <td>5986.26</td>\n",
       "      <td>197.69</td>\n",
       "      <td>0.0</td>\n",
       "      <td>conventional</td>\n",
       "      <td>2015</td>\n",
       "      <td>Albany</td>\n",
       "    </tr>\n",
       "  </tbody>\n",
       "</table>\n",
       "</div>"
      ],
      "text/plain": [
       "         Date  AveragePrice  Total_Volume    A4046      A4225   A4770  \\\n",
       "0  2015-12-27          1.33      64236.62  1036.74   54454.85   48.16   \n",
       "1  2015-12-20          1.35      54876.98   674.28   44638.81   58.33   \n",
       "2  2015-12-13          0.93     118220.22   794.70  109149.67  130.50   \n",
       "3  2015-12-06          1.08      78992.15  1132.00   71976.41   72.58   \n",
       "4  2015-11-29          1.28      51039.60   941.48   43838.39   75.78   \n",
       "\n",
       "   Total_Bags   S_Bags  L_Bags  XL_Bags          type  year  region  \n",
       "0     8696.87  8603.62   93.25      0.0  conventional  2015  Albany  \n",
       "1     9505.56  9408.07   97.49      0.0  conventional  2015  Albany  \n",
       "2     8145.35  8042.21  103.14      0.0  conventional  2015  Albany  \n",
       "3     5811.16  5677.40  133.76      0.0  conventional  2015  Albany  \n",
       "4     6183.95  5986.26  197.69      0.0  conventional  2015  Albany  "
      ]
     },
     "execution_count": 64,
     "metadata": {},
     "output_type": "execute_result"
    }
   ],
   "source": [
    "df_mod.head(5)"
   ]
  },
  {
   "cell_type": "markdown",
   "id": "b0a0184e",
   "metadata": {},
   "source": [
    "IQR Technique"
   ]
  },
  {
   "cell_type": "code",
   "execution_count": 65,
   "id": "798e1156",
   "metadata": {},
   "outputs": [],
   "source": [
    "Q1=df_new.quantile(0.25)\n",
    "Q3=df_new.quantile(0.75)\n",
    "IQR=Q3-Q1\n",
    "data_clean1=df_new[~((df_new<(Q1-1.5*IQR))| (df_new>(Q1+1.5*IQR))).any(axis=1)]"
   ]
  },
  {
   "cell_type": "code",
   "execution_count": 20,
   "id": "f878e5e3",
   "metadata": {},
   "outputs": [
    {
     "data": {
      "text/plain": [
       "(8881, 13)"
      ]
     },
     "execution_count": 20,
     "metadata": {},
     "output_type": "execute_result"
    }
   ],
   "source": [
    "data_clean1.shape"
   ]
  },
  {
   "cell_type": "markdown",
   "id": "e976097f",
   "metadata": {},
   "source": [
    "huge data loss so I'm not using IQR"
   ]
  },
  {
   "cell_type": "markdown",
   "id": "a21203db",
   "metadata": {},
   "source": [
    "___Handling Skewness"
   ]
  },
  {
   "cell_type": "code",
   "execution_count": 66,
   "id": "eda8f22c",
   "metadata": {},
   "outputs": [
    {
     "name": "stdout",
     "output_type": "stream",
     "text": [
      "AveragePrice = 0.5677670765747412\n",
      "Total_Volume = 11.10938791811914\n",
      "A4046 = 11.180590783409828\n",
      "A4225 = 11.700613162642632\n",
      "A4770 = 11.079595758815728\n",
      "Total_Bags = 8.13892584681044\n",
      "S_Bags = 8.418200553236469\n",
      "L_Bags = 8.157017110271338\n",
      "XL_Bags = 5.71266877721623\n"
     ]
    }
   ],
   "source": [
    "cols=['AveragePrice','Total_Volume','A4046','A4225','A4770','Total_Bags','S_Bags','L_Bags','XL_Bags']\n",
    "for i in range(0,9):\n",
    "    print(cols[i],\"=\",df_mod[cols[i]].skew())"
   ]
  },
  {
   "cell_type": "code",
   "execution_count": null,
   "id": "faf2286a",
   "metadata": {},
   "outputs": [],
   "source": [
    "cols=['AveragePrice','Total_Volume','A4046','A4225','A4770','Total_Bags','S_Bags','L_Bags','XL_Bags']\n",
    "ncol=5\n",
    "nrows=5\n",
    "plt.figure(figsize=(30,30))\n",
    "for i in range(0,9):\n",
    "    plt.subplot(nrows,ncol,i+1)\n",
    "    sns.countplot(x=cols[i],data=df_mod,palette=\"spring\")\n",
    "plt.show()"
   ]
  },
  {
   "cell_type": "code",
   "execution_count": 67,
   "id": "af9a6431",
   "metadata": {},
   "outputs": [],
   "source": [
    "data_clean=df_mod"
   ]
  },
  {
   "cell_type": "code",
   "execution_count": 68,
   "id": "651afe87",
   "metadata": {},
   "outputs": [
    {
     "name": "stdout",
     "output_type": "stream",
     "text": [
      "AveragePrice = 0.5677670765747412\n",
      "Total_Volume = 11.10938791811914\n",
      "A4046 = 11.180590783409828\n",
      "A4225 = 11.700613162642632\n",
      "A4770 = 11.079595758815728\n",
      "Total_Bags = 8.13892584681044\n",
      "S_Bags = 8.418200553236469\n",
      "L_Bags = 8.157017110271338\n",
      "XL_Bags = 5.71266877721623\n"
     ]
    }
   ],
   "source": [
    "\n",
    "cols=['AveragePrice','Total_Volume','A4046','A4225','A4770','Total_Bags','S_Bags','L_Bags','XL_Bags']\n",
    "for i in range(0,9):\n",
    "    print(cols[i],\"=\",data_clean[cols[i]].skew())"
   ]
  },
  {
   "cell_type": "code",
   "execution_count": 69,
   "id": "6c05a455",
   "metadata": {},
   "outputs": [],
   "source": [
    "\n",
    "cols=['AveragePrice','Total_Volume','A4046','A4225','A4770','Total_Bags','S_Bags','L_Bags','XL_Bags']\n",
    "for i in range(0,9):\n",
    "    data_clean[cols[i]]=np.cbrt(data_clean[cols[i]])\n",
    "    data_clean[cols[i]]=np.cbrt(data_clean[cols[i]])"
   ]
  },
  {
   "cell_type": "code",
   "execution_count": 70,
   "id": "518f09e8",
   "metadata": {},
   "outputs": [
    {
     "name": "stdout",
     "output_type": "stream",
     "text": [
      "AveragePrice = -0.11301367867399699\n",
      "Total_Volume = 0.4721202740987655\n",
      "A4046 = 0.18926046681286\n",
      "A4225 = 0.11785439821050733\n",
      "A4770 = -0.058208304550016\n",
      "Total_Bags = 0.2716319941330245\n",
      "S_Bags = -0.1588920735173199\n",
      "L_Bags = -0.5869481820794423\n",
      "XL_Bags = 1.008520752107509\n"
     ]
    }
   ],
   "source": [
    "data_clean=df_mod\n",
    "cols=['AveragePrice','Total_Volume','A4046','A4225','A4770','Total_Bags','S_Bags','L_Bags','XL_Bags']\n",
    "for i in range(0,9):\n",
    "    print(cols[i],\"=\",data_clean[cols[i]].skew())"
   ]
  },
  {
   "cell_type": "markdown",
   "id": "6fd56041",
   "metadata": {},
   "source": [
    "Skewness is removed"
   ]
  },
  {
   "cell_type": "code",
   "execution_count": 71,
   "id": "59d7a5e9",
   "metadata": {},
   "outputs": [
    {
     "data": {
      "text/plain": [
       "Date            0\n",
       "AveragePrice    0\n",
       "Total_Volume    0\n",
       "A4046           0\n",
       "A4225           0\n",
       "A4770           0\n",
       "Total_Bags      0\n",
       "S_Bags          0\n",
       "L_Bags          0\n",
       "XL_Bags         0\n",
       "type            0\n",
       "year            0\n",
       "region          0\n",
       "dtype: int64"
      ]
     },
     "execution_count": 71,
     "metadata": {},
     "output_type": "execute_result"
    }
   ],
   "source": [
    "data_clean.isnull().sum()"
   ]
  },
  {
   "cell_type": "code",
   "execution_count": null,
   "id": "93954eba",
   "metadata": {},
   "outputs": [],
   "source": []
  },
  {
   "cell_type": "markdown",
   "id": "a6c6d264",
   "metadata": {},
   "source": [
    "FEATURE ENGINEERING"
   ]
  },
  {
   "cell_type": "markdown",
   "id": "2717dc4f",
   "metadata": {},
   "source": [
    "Encoding all categorical coloumn into numerical column using label encoding technique"
   ]
  },
  {
   "cell_type": "code",
   "execution_count": 72,
   "id": "4dd9d273",
   "metadata": {},
   "outputs": [],
   "source": [
    "data_new=data_clean\n",
    "col_encod=['Date','type','year','region']"
   ]
  },
  {
   "cell_type": "code",
   "execution_count": 73,
   "id": "30b451b3",
   "metadata": {},
   "outputs": [],
   "source": [
    "from sklearn import preprocessing \n",
    "for col in col_encod:\n",
    "    label = preprocessing.LabelEncoder()\n",
    "    data_new[col]= label.fit_transform(df_mod[col])"
   ]
  },
  {
   "cell_type": "code",
   "execution_count": 74,
   "id": "d58ed4ad",
   "metadata": {},
   "outputs": [
    {
     "data": {
      "text/html": [
       "<div>\n",
       "<style scoped>\n",
       "    .dataframe tbody tr th:only-of-type {\n",
       "        vertical-align: middle;\n",
       "    }\n",
       "\n",
       "    .dataframe tbody tr th {\n",
       "        vertical-align: top;\n",
       "    }\n",
       "\n",
       "    .dataframe thead th {\n",
       "        text-align: right;\n",
       "    }\n",
       "</style>\n",
       "<table border=\"1\" class=\"dataframe\">\n",
       "  <thead>\n",
       "    <tr style=\"text-align: right;\">\n",
       "      <th></th>\n",
       "      <th>Date</th>\n",
       "      <th>AveragePrice</th>\n",
       "      <th>Total_Volume</th>\n",
       "      <th>A4046</th>\n",
       "      <th>A4225</th>\n",
       "      <th>A4770</th>\n",
       "      <th>Total_Bags</th>\n",
       "      <th>S_Bags</th>\n",
       "      <th>L_Bags</th>\n",
       "      <th>XL_Bags</th>\n",
       "      <th>type</th>\n",
       "      <th>year</th>\n",
       "      <th>region</th>\n",
       "    </tr>\n",
       "  </thead>\n",
       "  <tbody>\n",
       "    <tr>\n",
       "      <th>0</th>\n",
       "      <td>51</td>\n",
       "      <td>1.032194</td>\n",
       "      <td>3.421355</td>\n",
       "      <td>2.163089</td>\n",
       "      <td>3.359126</td>\n",
       "      <td>1.538031</td>\n",
       "      <td>2.739725</td>\n",
       "      <td>2.736445</td>\n",
       "      <td>1.655198</td>\n",
       "      <td>0.0</td>\n",
       "      <td>0</td>\n",
       "      <td>0</td>\n",
       "      <td>0</td>\n",
       "    </tr>\n",
       "    <tr>\n",
       "      <th>1</th>\n",
       "      <td>50</td>\n",
       "      <td>1.033907</td>\n",
       "      <td>3.362009</td>\n",
       "      <td>2.062128</td>\n",
       "      <td>3.285752</td>\n",
       "      <td>1.571123</td>\n",
       "      <td>2.766926</td>\n",
       "      <td>2.763758</td>\n",
       "      <td>1.663396</td>\n",
       "      <td>0.0</td>\n",
       "      <td>0</td>\n",
       "      <td>0</td>\n",
       "      <td>0</td>\n",
       "    </tr>\n",
       "    <tr>\n",
       "      <th>2</th>\n",
       "      <td>49</td>\n",
       "      <td>0.991969</td>\n",
       "      <td>3.661276</td>\n",
       "      <td>2.100123</td>\n",
       "      <td>3.628944</td>\n",
       "      <td>1.718177</td>\n",
       "      <td>2.719854</td>\n",
       "      <td>2.716005</td>\n",
       "      <td>1.673841</td>\n",
       "      <td>0.0</td>\n",
       "      <td>0</td>\n",
       "      <td>0</td>\n",
       "      <td>0</td>\n",
       "    </tr>\n",
       "    <tr>\n",
       "      <th>3</th>\n",
       "      <td>48</td>\n",
       "      <td>1.008588</td>\n",
       "      <td>3.500870</td>\n",
       "      <td>2.184320</td>\n",
       "      <td>3.464877</td>\n",
       "      <td>1.609746</td>\n",
       "      <td>2.619699</td>\n",
       "      <td>2.612930</td>\n",
       "      <td>1.722894</td>\n",
       "      <td>0.0</td>\n",
       "      <td>0</td>\n",
       "      <td>0</td>\n",
       "      <td>0</td>\n",
       "    </tr>\n",
       "    <tr>\n",
       "      <th>4</th>\n",
       "      <td>47</td>\n",
       "      <td>1.027809</td>\n",
       "      <td>3.335038</td>\n",
       "      <td>2.140048</td>\n",
       "      <td>3.279153</td>\n",
       "      <td>1.617482</td>\n",
       "      <td>2.637860</td>\n",
       "      <td>2.628355</td>\n",
       "      <td>1.799324</td>\n",
       "      <td>0.0</td>\n",
       "      <td>0</td>\n",
       "      <td>0</td>\n",
       "      <td>0</td>\n",
       "    </tr>\n",
       "  </tbody>\n",
       "</table>\n",
       "</div>"
      ],
      "text/plain": [
       "   Date  AveragePrice  Total_Volume     A4046     A4225     A4770  Total_Bags  \\\n",
       "0    51      1.032194      3.421355  2.163089  3.359126  1.538031    2.739725   \n",
       "1    50      1.033907      3.362009  2.062128  3.285752  1.571123    2.766926   \n",
       "2    49      0.991969      3.661276  2.100123  3.628944  1.718177    2.719854   \n",
       "3    48      1.008588      3.500870  2.184320  3.464877  1.609746    2.619699   \n",
       "4    47      1.027809      3.335038  2.140048  3.279153  1.617482    2.637860   \n",
       "\n",
       "     S_Bags    L_Bags  XL_Bags  type  year  region  \n",
       "0  2.736445  1.655198      0.0     0     0       0  \n",
       "1  2.763758  1.663396      0.0     0     0       0  \n",
       "2  2.716005  1.673841      0.0     0     0       0  \n",
       "3  2.612930  1.722894      0.0     0     0       0  \n",
       "4  2.628355  1.799324      0.0     0     0       0  "
      ]
     },
     "execution_count": 74,
     "metadata": {},
     "output_type": "execute_result"
    }
   ],
   "source": [
    "data_new.head(5)"
   ]
  },
  {
   "cell_type": "code",
   "execution_count": 75,
   "id": "ce051dcb",
   "metadata": {},
   "outputs": [],
   "source": [
    "x1=data_new.drop('AveragePrice',axis=1)\n",
    "y1=data_new['AveragePrice']\n"
   ]
  },
  {
   "cell_type": "code",
   "execution_count": 76,
   "id": "e31011a1",
   "metadata": {},
   "outputs": [],
   "source": [
    "from sklearn.preprocessing import MinMaxScaler\n",
    "scaler=MinMaxScaler()\n",
    "scaled = scaler.fit_transform(x1)"
   ]
  },
  {
   "cell_type": "markdown",
   "id": "6cef2582",
   "metadata": {},
   "source": [
    "__feature scaling transforming un scaled data into scaled data using min max scalining technique"
   ]
  },
  {
   "cell_type": "code",
   "execution_count": 77,
   "id": "5d1229da",
   "metadata": {},
   "outputs": [],
   "source": [
    "from sklearn.neighbors import KNeighborsRegressor\n",
    "from sklearn.svm import SVR\n",
    "from sklearn.tree import DecisionTreeRegressor\n",
    "from sklearn.linear_model import LinearRegression\n",
    "from sklearn.linear_model import Lasso\n",
    "from sklearn.ensemble import RandomForestRegressor\n",
    "from sklearn.ensemble import GradientBoostingRegressor\n",
    "from sklearn.model_selection import train_test_split"
   ]
  },
  {
   "cell_type": "code",
   "execution_count": 78,
   "id": "6548b618",
   "metadata": {},
   "outputs": [],
   "source": [
    "x=scaled\n",
    "y=y1"
   ]
  },
  {
   "cell_type": "code",
   "execution_count": 79,
   "id": "8edb35d4",
   "metadata": {},
   "outputs": [],
   "source": [
    "xtrain,xtest,ytrain,ytest=train_test_split(x,y,test_size=0.25,random_state=7)\n",
    "from sklearn.metrics import mean_absolute_error,mean_squared_error,r2_score\n",
    "models=[KNeighborsRegressor(),SVR(),DecisionTreeRegressor(),LinearRegression(),Lasso(),\n",
    "        RandomForestRegressor(),GradientBoostingRegressor()]\n",
    "maelist=[]\n",
    "mselist=[]\n",
    "rmselist=[]\n",
    "r2list=[]"
   ]
  },
  {
   "cell_type": "code",
   "execution_count": 80,
   "id": "0bc9f19d",
   "metadata": {},
   "outputs": [
    {
     "name": "stdout",
     "output_type": "stream",
     "text": [
      "KNeighborsRegressor()\n",
      "Mean absolute error 0.0092527405133622\n",
      "Mean squared error 0.00016898070955252063\n",
      "Root Mean squared error 0.012999258038538993\n",
      "R2 Score 0.8441090636850966\n",
      "---------------------------------------------------------------------------------------------------------\n",
      "SVR()\n",
      "Mean absolute error 0.02643905372094536\n",
      "Mean squared error 0.0010493707252081004\n",
      "Root Mean squared error 0.03239399211594799\n",
      "R2 Score 0.031916806792105734\n",
      "---------------------------------------------------------------------------------------------------------\n",
      "DecisionTreeRegressor()\n",
      "Mean absolute error 0.009808566559559175\n",
      "Mean squared error 0.0002178946628844019\n",
      "Root Mean squared error 0.014761255464370295\n",
      "R2 Score 0.7989841378639013\n",
      "---------------------------------------------------------------------------------------------------------\n",
      "LinearRegression()\n",
      "Mean absolute error 0.01715147766856406\n",
      "Mean squared error 0.0004775122198566198\n",
      "Root Mean squared error 0.021852052989516108\n",
      "R2 Score 0.5594773672546338\n",
      "---------------------------------------------------------------------------------------------------------\n",
      "Lasso()\n",
      "Mean absolute error 0.02688575690323453\n",
      "Mean squared error 0.0010843079999976165\n",
      "Root Mean squared error 0.032928832350959794\n",
      "R2 Score -0.00031411763501631995\n",
      "---------------------------------------------------------------------------------------------------------\n",
      "RandomForestRegressor()\n",
      "Mean absolute error 0.007105816357857744\n",
      "Mean squared error 9.866121477880682e-05\n",
      "Root Mean squared error 0.009932835183310293\n",
      "R2 Score 0.9089813908903394\n",
      "---------------------------------------------------------------------------------------------------------\n",
      "GradientBoostingRegressor()\n",
      "Mean absolute error 0.01195777007632371\n",
      "Mean squared error 0.00024042584712227907\n",
      "Root Mean squared error 0.015505671450223595\n",
      "R2 Score 0.7781982894885009\n",
      "---------------------------------------------------------------------------------------------------------\n",
      "Minimum Mean Absolute error is shown by  RandomForestRegressor() 0.007105816357857744\n",
      "Minimum Mean squared error is shown by  RandomForestRegressor() 9.866121477880682e-05\n",
      "Minimum Root Mean squared error is shown by  RandomForestRegressor() 0.009932835183310293\n",
      "Maximun R2 Score is shown by  RandomForestRegressor() 0.9089813908903394\n"
     ]
    }
   ],
   "source": [
    "def create_model(model):\n",
    "    m=model\n",
    "    m.fit(xtrain,ytrain)\n",
    "    p=m.predict(xtest)\n",
    "    \n",
    "    mae=mean_absolute_error(p,ytest)\n",
    "    mse=mean_squared_error(p,ytest)\n",
    "    rmse=np.sqrt(mean_squared_error(p,ytest))\n",
    "    r2=r2_score(ytest,p)\n",
    "    \n",
    "    maelist.append(mae)\n",
    "    mselist.append(mse)\n",
    "    rmselist.append(rmse)\n",
    "    r2list.append(r2)\n",
    "    \n",
    "    print(m)\n",
    "    \n",
    "    print('Mean absolute error',mae)\n",
    "    print('Mean squared error',mse)\n",
    "    print('Root Mean squared error',rmse)\n",
    "    print('R2 Score',r2)\n",
    "    print('---------------------------------------------------------------------------------------------------------')\n",
    "for i in models:\n",
    "    create_model(i)\n",
    "print('Minimum Mean Absolute error is shown by ',models[maelist.index(min(maelist))],min(maelist))\n",
    "print('Minimum Mean squared error is shown by ',models[mselist.index(min(mselist))],min(mselist))\n",
    "print('Minimum Root Mean squared error is shown by ',models[rmselist.index(min(rmselist))],min(rmselist))\n",
    "print('Maximun R2 Score is shown by ',models[r2list.index(max(r2list))],max(r2list))"
   ]
  },
  {
   "cell_type": "markdown",
   "id": "0b93f501",
   "metadata": {},
   "source": [
    "Cross Validation"
   ]
  },
  {
   "cell_type": "code",
   "execution_count": 81,
   "id": "ec59921c",
   "metadata": {},
   "outputs": [],
   "source": [
    "scorel=[]"
   ]
  },
  {
   "cell_type": "code",
   "execution_count": 82,
   "id": "7c7466ae",
   "metadata": {},
   "outputs": [],
   "source": [
    "from sklearn.utils import shuffle\n",
    "x=scaled\n",
    "y=y1\n",
    "x, y = shuffle(x, y, random_state = 7)"
   ]
  },
  {
   "cell_type": "markdown",
   "id": "195befcc",
   "metadata": {},
   "source": [
    "suffling data to avoid overfitting"
   ]
  },
  {
   "cell_type": "code",
   "execution_count": 83,
   "id": "fcafb8cb",
   "metadata": {},
   "outputs": [
    {
     "data": {
      "text/plain": [
       "array([0.84976852, 0.86397464, 0.86381051, 0.857298  , 0.86235577])"
      ]
     },
     "execution_count": 83,
     "metadata": {},
     "output_type": "execute_result"
    }
   ],
   "source": [
    "from sklearn.model_selection import cross_val_score\n",
    "k=KNeighborsRegressor()\n",
    "scores=cross_val_score(k,x,y,scoring='r2',cv=5)\n",
    "scorel.append(scores)\n",
    "scores"
   ]
  },
  {
   "cell_type": "code",
   "execution_count": 84,
   "id": "566e9776",
   "metadata": {},
   "outputs": [
    {
     "data": {
      "text/plain": [
       "array([0.03502975, 0.04929363, 0.09635043, 0.04481365, 0.04018464])"
      ]
     },
     "execution_count": 84,
     "metadata": {},
     "output_type": "execute_result"
    }
   ],
   "source": [
    "from sklearn.model_selection import cross_val_score\n",
    "svr=SVR()\n",
    "scores=cross_val_score(svr,x,y,scoring='r2',cv=5)\n",
    "scorel.append(scores)\n",
    "scores"
   ]
  },
  {
   "cell_type": "code",
   "execution_count": 85,
   "id": "2eed7164",
   "metadata": {},
   "outputs": [
    {
     "data": {
      "text/plain": [
       "array([0.80849734, 0.81373719, 0.81292299, 0.80235085, 0.80151117])"
      ]
     },
     "execution_count": 85,
     "metadata": {},
     "output_type": "execute_result"
    }
   ],
   "source": [
    "from sklearn.model_selection import cross_val_score\n",
    "dt=DecisionTreeRegressor()\n",
    "scores=cross_val_score(dt,x,y,scoring='r2',cv=5)\n",
    "scorel.append(scores)\n",
    "scores"
   ]
  },
  {
   "cell_type": "code",
   "execution_count": 86,
   "id": "5301bc0f",
   "metadata": {},
   "outputs": [
    {
     "data": {
      "text/plain": [
       "array([0.55781274, 0.58184633, 0.56928075, 0.55013112, 0.56432022])"
      ]
     },
     "execution_count": 86,
     "metadata": {},
     "output_type": "execute_result"
    }
   ],
   "source": [
    "from sklearn.model_selection import cross_val_score\n",
    "lr=LinearRegression()\n",
    "scores=cross_val_score(lr,x,y,scoring='r2',cv=5)\n",
    "scorel.append(scores)\n",
    "scores"
   ]
  },
  {
   "cell_type": "code",
   "execution_count": 87,
   "id": "57932d77",
   "metadata": {},
   "outputs": [
    {
     "data": {
      "text/plain": [
       "array([-4.44103609e-05, -1.00276187e-03, -4.70550491e-04, -7.67704343e-05,\n",
       "       -5.54887176e-05])"
      ]
     },
     "execution_count": 87,
     "metadata": {},
     "output_type": "execute_result"
    }
   ],
   "source": [
    "from sklearn.model_selection import cross_val_score\n",
    "l=Lasso()\n",
    "scores=cross_val_score(l,x,y,scoring='r2',cv=5)\n",
    "scorel.append(scores)\n",
    "scores"
   ]
  },
  {
   "cell_type": "code",
   "execution_count": 88,
   "id": "576e6b09",
   "metadata": {},
   "outputs": [
    {
     "data": {
      "text/plain": [
       "array([0.91216918, 0.91310146, 0.91456488, 0.91187339, 0.91015817])"
      ]
     },
     "execution_count": 88,
     "metadata": {},
     "output_type": "execute_result"
    }
   ],
   "source": [
    "from sklearn.model_selection import cross_val_score\n",
    "rf=RandomForestRegressor()\n",
    "scores=cross_val_score(rf,x,y,scoring='r2',cv=5)\n",
    "scorel.append(scores)\n",
    "scores"
   ]
  },
  {
   "cell_type": "code",
   "execution_count": 89,
   "id": "1e283c17",
   "metadata": {},
   "outputs": [
    {
     "data": {
      "text/plain": [
       "array([0.77406575, 0.78805993, 0.78266708, 0.78104054, 0.78583162])"
      ]
     },
     "execution_count": 89,
     "metadata": {},
     "output_type": "execute_result"
    }
   ],
   "source": [
    "from sklearn.model_selection import cross_val_score\n",
    "gb=GradientBoostingRegressor()\n",
    "scores=cross_val_score(gb,x,y,scoring='r2',cv=5)\n",
    "scorel.append(scores)\n",
    "scores"
   ]
  },
  {
   "cell_type": "markdown",
   "id": "b6810814",
   "metadata": {},
   "source": [
    "Difference of predicted model and crossvalidation score"
   ]
  },
  {
   "cell_type": "code",
   "execution_count": 91,
   "id": "4b4c851d",
   "metadata": {},
   "outputs": [
    {
     "name": "stdout",
     "output_type": "stream",
     "text": [
      "KNeighborsRegressor() difference is [0.00565945 0.01986558 0.01970145 0.01318894 0.0182467 ]\n",
      "SVR() difference is [0.00311294 0.01737682 0.06443363 0.01289685 0.00826783]\n",
      "DecisionTreeRegressor() difference is [0.00951321 0.01475305 0.01393885 0.00336671 0.00252703]\n",
      "LinearRegression() difference is [-0.00166463  0.02236896  0.00980338 -0.00934625  0.00484285]\n",
      "Lasso() difference is [ 0.00026971 -0.00068864 -0.00015643  0.00023735  0.00025863]\n",
      "RandomForestRegressor() difference is [0.00318779 0.00412007 0.00558349 0.002892   0.00117678]\n",
      "GradientBoostingRegressor() difference is [-0.00413254  0.00986164  0.00446879  0.00284225  0.00763333]\n"
     ]
    }
   ],
   "source": [
    "models=[KNeighborsRegressor(),SVR(),DecisionTreeRegressor(),LinearRegression(),Lasso(),\n",
    "        RandomForestRegressor(),GradientBoostingRegressor()]\n",
    "for i in range(0,7):\n",
    "    print(models[i],\"difference is\",scorel[i]-r2list[i])"
   ]
  },
  {
   "cell_type": "markdown",
   "id": "ad1c7dc5",
   "metadata": {},
   "source": [
    "RandomForestRegressor() difference is 0.00117678"
   ]
  },
  {
   "cell_type": "markdown",
   "id": "16493948",
   "metadata": {},
   "source": [
    "Randomforest regressor has least difference"
   ]
  },
  {
   "cell_type": "markdown",
   "id": "060dca67",
   "metadata": {},
   "source": [
    "__Hyper tuning"
   ]
  },
  {
   "cell_type": "code",
   "execution_count": 96,
   "id": "a6527063",
   "metadata": {},
   "outputs": [],
   "source": [
    "from sklearn.model_selection import GridSearchCV\n",
    "parameters = {\n",
    "    'max_features': ['auto', 'sqrt','log2'],\n",
    "    'n_estimators': [10, 100, 200, 500],\n",
    "    'bootstrap':[True],'criterion':['mse','mae']\n",
    "}\n",
    "grid = GridSearchCV(RandomForestRegressor(), param_grid = parameters, cv = 5, scoring = \"r2\")\n",
    "\n"
   ]
  },
  {
   "cell_type": "code",
   "execution_count": null,
   "id": "18ccce0c",
   "metadata": {},
   "outputs": [],
   "source": [
    "xtrain,xtest,ytrain,ytest=train_test_split(x,y,test_size=0.25,random_state=7)\n",
    "grid.fit(xtrain,ytrain)\n",
    "\n",
    "print(\"Best_parameters\",grid.best_params_)"
   ]
  },
  {
   "cell_type": "markdown",
   "id": "b9df4fdb",
   "metadata": {},
   "source": [
    "Best_parameters best_params{'n_estimators':500','max_features:'log2','bootstrap':True,'criterion':'mse'}"
   ]
  },
  {
   "cell_type": "code",
   "execution_count": null,
   "id": "8c58da45",
   "metadata": {},
   "outputs": [],
   "source": [
    "MODELING USING BEST PARAMETERS"
   ]
  },
  {
   "cell_type": "code",
   "execution_count": 98,
   "id": "2dae2332",
   "metadata": {},
   "outputs": [],
   "source": [
    "x=scaled\n",
    "y=y1"
   ]
  },
  {
   "cell_type": "code",
   "execution_count": 115,
   "id": "98df94ce",
   "metadata": {},
   "outputs": [
    {
     "name": "stdout",
     "output_type": "stream",
     "text": [
      "Accuracy 91.0\n",
      "Mean absolute error 0.007308596715276069\n",
      "Mean squared error 0.00010112609464671488\n",
      "Root Mean squared error 0.010056147107451983\n",
      "r2 score 91.0\n"
     ]
    }
   ],
   "source": [
    "xtrain,xtest,ytrain,ytest=train_test_split(x,y,test_size=0.25,random_state=7)\n",
    "from sklearn.metrics import mean_absolute_error,mean_squared_error,r2_score,accuracy_score\n",
    "model=RandomForestRegressor(n_estimators=500,max_features='log2',bootstrap=True,criterion='mse')\n",
    "model.fit(xtrain,ytrain)\n",
    "p=model.predict(xtest)\n",
    "acc=model.score(xtest,ytest)\n",
    "mae=mean_absolute_error(p,ytest)\n",
    "mse=mean_squared_error(p,ytest)\n",
    "rmse=np.sqrt(mean_squared_error(p,ytest))\n",
    "r2=r2_score(ytest,p)\n",
    "print('Accuracy',(round(acc,2))*100)\n",
    "print('Mean absolute error',mae)\n",
    "print('Mean squared error',mse)\n",
    "print('Root Mean squared error',rmse)\n",
    "print('r2 score',(round(r2,2))*100)\n",
    "     "
   ]
  },
  {
   "cell_type": "markdown",
   "id": "1e9d2c48",
   "metadata": {},
   "source": [
    "After hyper tuning\n",
    "Accuracy 91.0\n",
    "Mean absolute error 0.007308596715276069\n",
    "Mean squared error 0.00010112609464671488\n",
    "Root Mean squared error 0.010056147107451983\n",
    "__r2 score 91%"
   ]
  },
  {
   "cell_type": "code",
   "execution_count": 113,
   "id": "2b98c46a",
   "metadata": {},
   "outputs": [
    {
     "data": {
      "text/plain": [
       "['model_avocado.joblib']"
      ]
     },
     "execution_count": 113,
     "metadata": {},
     "output_type": "execute_result"
    }
   ],
   "source": [
    "from joblib import dump\n",
    "dump(model, 'model_avocado.joblib')"
   ]
  },
  {
   "cell_type": "code",
   "execution_count": 114,
   "id": "73342409",
   "metadata": {},
   "outputs": [],
   "source": [
    "from joblib import load\n",
    "loaded = load('model_avocado.joblib')"
   ]
  },
  {
   "cell_type": "code",
   "execution_count": null,
   "id": "7068ff95",
   "metadata": {},
   "outputs": [],
   "source": []
  }
 ],
 "metadata": {
  "kernelspec": {
   "display_name": "Python 3",
   "language": "python",
   "name": "python3"
  },
  "language_info": {
   "codemirror_mode": {
    "name": "ipython",
    "version": 3
   },
   "file_extension": ".py",
   "mimetype": "text/x-python",
   "name": "python",
   "nbconvert_exporter": "python",
   "pygments_lexer": "ipython3",
   "version": "3.8.8"
  }
 },
 "nbformat": 4,
 "nbformat_minor": 5
}
